{
 "cells": [
  {
   "cell_type": "markdown",
   "source": [
    "# Code optemization\n",
    "\n",
    "There are multiple ways to improve the effecientry of your code. in this topic we will go over some of the most commen ways.\n",
    "\n",
    "## Using build in functions\n",
    "\n",
    "Build in functins have been testet and optemized to work as effeciently as possible. Making use of them whenever possible, instead og writing your own functions. To measure the performance of code we can use the `time()` midule.\n"
   ],
   "metadata": {
    "collapsed": false
   }
  },
  {
   "cell_type": "code",
   "execution_count": 15,
   "metadata": {
    "collapsed": true
   },
   "outputs": [
    {
     "name": "stdout",
     "output_type": "stream",
     "text": [
      "0.6322887000001174\n",
      "0.25198410000007243\n"
     ]
    }
   ],
   "source": [
    "import time\n",
    "\n",
    "numbers = list(range(1, 10000000))\n",
    "\n",
    "\n",
    "def total_number(number_list):\n",
    "    total = 0\n",
    "    for number in number_list:\n",
    "        total += number\n",
    "    return total\n",
    "\n",
    "\n",
    "# Calculate the sum a self made function\n",
    "start_time = time.perf_counter()\n",
    "total_list = total_number(numbers)\n",
    "end_time = time.perf_counter()\n",
    "print(end_time - start_time)\n",
    "\n",
    "# Calculate the sum using built-in functions\n",
    "start_time = time.perf_counter()\n",
    "total_with_sum = sum(numbers)\n",
    "end_time = time.perf_counter()\n",
    "print(end_time - start_time)"
   ]
  },
  {
   "cell_type": "markdown",
   "source": [
    "## List comprehension\n",
    "\n",
    "An other way to improve the efficentie of your code is to use list comprehension instead of loops.\n",
    "\n"
   ],
   "metadata": {
    "collapsed": false
   }
  },
  {
   "cell_type": "code",
   "execution_count": 16,
   "outputs": [
    {
     "name": "stdout",
     "output_type": "stream",
     "text": [
      "0.12582110000016655\n",
      "0.08660119999990457\n"
     ]
    }
   ],
   "source": [
    "import time\n",
    "\n",
    "# default approach\n",
    "start = time.perf_counter()\n",
    "new_list = []\n",
    "for i in range(1, 1000000):\n",
    "    if i % 3 == 0:\n",
    "        new_list.append(i)\n",
    "end = time.perf_counter()\n",
    "print(end - start)\n",
    "\n",
    "# list comprehension\n",
    "start = time.perf_counter()\n",
    "new_list = [i for i in range(1, 1000000) if i % 3 == 0]\n",
    "end = time.perf_counter()\n",
    "print(end - start)"
   ],
   "metadata": {
    "collapsed": false
   }
  },
  {
   "cell_type": "markdown",
   "source": [
    "## Generators\n",
    "\n",
    "Regular list sive all the elements in memory, which when not in use is not very effective. Generators only store data temoraroly. In this way you only get the data you need when you call the generator. There are also several funtions that generators use by default."
   ],
   "metadata": {
    "collapsed": false
   }
  },
  {
   "cell_type": "code",
   "execution_count": 17,
   "outputs": [
    {
     "name": "stdout",
     "output_type": "stream",
     "text": [
      "4.4800000068789814e-05\n"
     ]
    }
   ],
   "source": [
    "import time\n",
    "\n",
    "def get_odds(n):\n",
    "    for i in range(n):\n",
    "        if i % 2 != 0:\n",
    "            yield i\n",
    "\n",
    "# Creating generator objects\n",
    "start_time = time.perf_counter()\n",
    "odd_generator = get_odds(10000000)\n",
    "end_time = time.perf_counter()\n",
    "print(end_time - start_time)\n",
    "\n",
    "# You can iterate over a generator by using a for loop\n",
    "for _ in range(100):\n",
    "    (next(odd_generator))"
   ],
   "metadata": {
    "collapsed": false
   }
  },
  {
   "cell_type": "markdown",
   "source": [
    "## Proper string concation\n",
    "\n",
    "combining a larg set of strings is much more effecient when done with the `join` function then with the `+` operator."
   ],
   "metadata": {
    "collapsed": false
   }
  },
  {
   "cell_type": "code",
   "execution_count": 18,
   "outputs": [
    {
     "name": "stdout",
     "output_type": "stream",
     "text": [
      "I currently have 4 windows open up... And I don't know why.\n",
      "0.0006384999999227148\n",
      "I currently have 4 windows open up... And I don't know why.\n",
      "9.870000008049828e-05\n"
     ]
    }
   ],
   "source": [
    "import time\n",
    "\n",
    "start = time.perf_counter()\n",
    "sentence = (\n",
    "        \"I \" + \"currently \" + \"have \" + \"4 \" + \"windows \" + \"open \" + \"up... \"\n",
    "        + \"And \" + \"I \" + \"don't \" + \"know \" + \"why.\")\n",
    "print(sentence)\n",
    "end = time.perf_counter()\n",
    "print(end - start)\n",
    "\n",
    "start = time.perf_counter()\n",
    "sentence = \" \".join([\n",
    "    \"I\", \"currently\", \"have\", \"4\", \"windows\", \"open\", \"up...\", \"And\",\n",
    "    \"I\" , \"don't\", \"know\", \"why.\"])\n",
    "print(sentence)\n",
    "end = time.perf_counter()\n",
    "print(end - start)"
   ],
   "metadata": {
    "collapsed": false
   }
  },
  {
   "cell_type": "markdown",
   "source": [
    "## Other improvments\n",
    "\n",
    "There are libraies ore modules written in more performant langues than Python. Numpy and pandas libraries can be a great speed up when available."
   ],
   "metadata": {
    "collapsed": false
   }
  },
  {
   "cell_type": "code",
   "execution_count": 19,
   "outputs": [
    {
     "name": "stdout",
     "output_type": "stream",
     "text": [
      "4.0399999988949276e-05\n"
     ]
    }
   ],
   "source": [
    "# With the dot notation\n",
    "import time\n",
    "import collections\n",
    "\n",
    "start_time = time.perf_counter()\n",
    "counter_dict = collections.defaultdict()\n",
    "end_time = time.perf_counter()\n",
    "print(end_time - start_time)"
   ],
   "metadata": {
    "collapsed": false
   }
  },
  {
   "cell_type": "markdown",
   "source": [
    "# Explicit notation\n",
    "import time\n",
    "from collections import defaultdict\n",
    "\n",
    "start_time = time.time()\n",
    "counter = defaultdict()\n",
    "end_time = time.time()\n",
    "print(end_time - start_time)#%% md\n",
    "# Code optemization\n",
    "\n",
    "There are multiple ways to improve the effecientry of your code. in this topic we will go over some of the most commen ways.\n",
    "\n",
    "## Using build in functions\n",
    "\n",
    "Build in functins have been testet and optemized to work as effeciently as possible. Making use of them whenever possible, instead og writing your own functions. To measure the performance of code we can use the `time()` midule.\n"
   ],
   "metadata": {
    "collapsed": false
   }
  },
  {
   "cell_type": "code",
   "execution_count": 20,
   "outputs": [
    {
     "name": "stdout",
     "output_type": "stream",
     "text": [
      "0.5863823000001958\n",
      "0.26223800000002484\n"
     ]
    }
   ],
   "source": [
    "import time\n",
    "\n",
    "numbers = list(range(1, 10000000))\n",
    "\n",
    "\n",
    "def total_number(number_list):\n",
    "    total = 0\n",
    "    for number in number_list:\n",
    "        total += number\n",
    "    return total\n",
    "\n",
    "\n",
    "# Calculate the sum a self made function\n",
    "start_time = time.perf_counter()\n",
    "total_list = total_number(numbers)\n",
    "end_time = time.perf_counter()\n",
    "print(end_time - start_time)\n",
    "\n",
    "# Calculate the sum using built-in functions\n",
    "start_time = time.perf_counter()\n",
    "total_with_sum = sum(numbers)\n",
    "end_time = time.perf_counter()\n",
    "print(end_time - start_time)"
   ],
   "metadata": {
    "collapsed": false
   }
  },
  {
   "cell_type": "markdown",
   "source": [
    "## List comprehension\n",
    "\n",
    "An other way to improve the efficentie of your code is to use list comprehension instead of loops.\n",
    "\n"
   ],
   "metadata": {
    "collapsed": false
   }
  },
  {
   "cell_type": "code",
   "execution_count": 21,
   "outputs": [
    {
     "name": "stdout",
     "output_type": "stream",
     "text": [
      "0.14578280000000632\n",
      "0.09275789999992412\n"
     ]
    }
   ],
   "source": [
    "import time\n",
    "\n",
    "# default approach\n",
    "start = time.perf_counter()\n",
    "new_list = []\n",
    "for i in range(1, 1000000):\n",
    "    if i % 3 == 0:\n",
    "        new_list.append(i)\n",
    "end = time.perf_counter()\n",
    "print(end - start)\n",
    "\n",
    "# list comprehension\n",
    "start = time.perf_counter()\n",
    "new_list = [i for i in range(1, 1000000) if i % 3 == 0]\n",
    "end = time.perf_counter()\n",
    "print(end - start)"
   ],
   "metadata": {
    "collapsed": false
   }
  },
  {
   "cell_type": "markdown",
   "source": [
    "## Generators\n",
    "\n",
    "Regular list sive all the elements in memory, which when not in use is not very effective. Generators only store data temoraroly. In this way you only get the data you need when you call the generator. There are also several funtions that generators use by default."
   ],
   "metadata": {
    "collapsed": false
   }
  },
  {
   "cell_type": "code",
   "execution_count": 22,
   "outputs": [
    {
     "name": "stdout",
     "output_type": "stream",
     "text": [
      "4.7100000074351556e-05\n"
     ]
    }
   ],
   "source": [
    "import time\n",
    "\n",
    "def get_odds(n):\n",
    "    for i in range(n):\n",
    "        if i % 2 != 0:\n",
    "            yield i\n",
    "\n",
    "# Creating generator objects\n",
    "start_time = time.perf_counter()\n",
    "odd_generator = get_odds(10000000)\n",
    "end_time = time.perf_counter()\n",
    "print(end_time - start_time)\n",
    "\n",
    "# You can iterate over a generator by using a for loop\n",
    "for _ in range(100):\n",
    "    (next(odd_generator))"
   ],
   "metadata": {
    "collapsed": false
   }
  },
  {
   "cell_type": "markdown",
   "source": [
    "## Proper string concation\n",
    "\n",
    "combining a larg set of strings is much more effecient when done with the `join` function then with the `+` operator."
   ],
   "metadata": {
    "collapsed": false
   }
  },
  {
   "cell_type": "code",
   "execution_count": 23,
   "outputs": [
    {
     "name": "stdout",
     "output_type": "stream",
     "text": [
      "I currently have 4 windows open up... And I don't know why.\n",
      "0.00017339999999421707\n",
      "I currently have 4 windows open up... And I don't know why.\n",
      "8.35999999253545e-05\n"
     ]
    }
   ],
   "source": [
    "import time\n",
    "\n",
    "start = time.perf_counter()\n",
    "sentence = (\n",
    "        \"I \" + \"currently \" + \"have \" + \"4 \" + \"windows \" + \"open \" + \"up... \"\n",
    "        + \"And \" + \"I \" + \"don't \" + \"know \" + \"why.\")\n",
    "print(sentence)\n",
    "end = time.perf_counter()\n",
    "print(end - start)\n",
    "\n",
    "start = time.perf_counter()\n",
    "sentence = \" \".join([\n",
    "    \"I\", \"currently\", \"have\", \"4\", \"windows\", \"open\", \"up...\", \"And\",\n",
    "    \"I\" , \"don't\", \"know\", \"why.\"])\n",
    "print(sentence)\n",
    "end = time.perf_counter()\n",
    "print(end - start)"
   ],
   "metadata": {
    "collapsed": false
   }
  },
  {
   "cell_type": "markdown",
   "source": [
    "## Other improvments\n",
    "\n",
    "There are libraies ore modules written in more performant langues than Python. Numpy and pandas libraries can be a great speed up when available."
   ],
   "metadata": {
    "collapsed": false
   }
  },
  {
   "cell_type": "code",
   "execution_count": 24,
   "outputs": [
    {
     "name": "stdout",
     "output_type": "stream",
     "text": [
      "4.590000003190653e-05\n"
     ]
    }
   ],
   "source": [
    "# With the dot notation\n",
    "import time\n",
    "import collections\n",
    "\n",
    "start_time = time.perf_counter()\n",
    "counter_dict = collections.defaultdict()\n",
    "end_time = time.perf_counter()\n",
    "print(end_time - start_time)"
   ],
   "metadata": {
    "collapsed": false
   }
  },
  {
   "cell_type": "code",
   "execution_count": 25,
   "outputs": [
    {
     "name": "stdout",
     "output_type": "stream",
     "text": [
      "7.430000005115289e-05\n"
     ]
    }
   ],
   "source": [
    "# Explicit notation\n",
    "import time\n",
    "from collections import defaultdict\n",
    "\n",
    "start_time = time.perf_counter()\n",
    "counter = defaultdict()\n",
    "end_time = time.perf_counter()\n",
    "print(end_time - start_time)"
   ],
   "metadata": {
    "collapsed": false
   }
  },
  {
   "cell_type": "markdown",
   "source": [
    "## Test"
   ],
   "metadata": {
    "collapsed": false
   }
  },
  {
   "cell_type": "code",
   "execution_count": null,
   "outputs": [],
   "source": [
    "def get_square_root():\n",
    "    for num in range(1, 100):\n",
    "        if num % 5 == 0:\n",
    "            sqrt_num = num ** 0.5\n",
    "            yield sqrt_num"
   ],
   "metadata": {
    "collapsed": false
   }
  },
  {
   "cell_type": "code",
   "execution_count": null,
   "outputs": [],
   "source": [
    "words = input().split()\n",
    "\n",
    "longest = [i for i in words if len(i) > 5]\n",
    "\n",
    "print(longest)"
   ],
   "metadata": {
    "collapsed": false
   }
  }
 ],
 "metadata": {
  "kernelspec": {
   "display_name": "Python 3",
   "language": "python",
   "name": "python3"
  },
  "language_info": {
   "codemirror_mode": {
    "name": "ipython",
    "version": 2
   },
   "file_extension": ".py",
   "mimetype": "text/x-python",
   "name": "python",
   "nbconvert_exporter": "python",
   "pygments_lexer": "ipython2",
   "version": "2.7.6"
  }
 },
 "nbformat": 4,
 "nbformat_minor": 0
}
