{
 "cells": [
  {
   "cell_type": "markdown",
   "source": [
    "# Code to remember\n",
    "\n",
    "## Start main function"
   ],
   "metadata": {
    "collapsed": false
   }
  },
  {
   "cell_type": "code",
   "execution_count": null,
   "outputs": [],
   "source": [
    "def main():\n",
    "    print(\"Hello World!\")\n",
    "\n",
    "if __name__ == \"__main__\":\n",
    "    main()"
   ],
   "metadata": {
    "collapsed": false
   }
  },
  {
   "cell_type": "markdown",
   "source": [
    "## In line any all to array\n",
    "\n",
    "[] -> create list from all resulting elements\n",
    "\n",
    "Give all I's in between the range IF all calculations in range return True (I % n is not 0 )"
   ],
   "metadata": {
    "collapsed": false
   }
  },
  {
   "cell_type": "code",
   "execution_count": null,
   "outputs": [],
   "source": [
    "prime_numbers = [i for i in range(2, 1000) if all(i % n != 0 for n in range(2, i))]"
   ],
   "metadata": {
    "collapsed": false
   }
  },
  {
   "cell_type": "markdown",
   "source": [
    "## Input checking"
   ],
   "metadata": {
    "collapsed": false
   }
  },
  {
   "cell_type": "code",
   "execution_count": null,
   "metadata": {
    "collapsed": true
   },
   "outputs": [],
   "source": [
    "def check_input():\n",
    "    while True:\n",
    "        try:\n",
    "            your_int = int(input(\"Enter an integer number between 25 and 50 (inclusively): \"))\n",
    "            if 25 <= your_int <= 50:  # border values are now included\n",
    "                print(your_int, \"is the right number!\")\n",
    "                break\n",
    "            else:\n",
    "                print(your_int, \"is the wrong number! Try again!\")\n",
    "        except ValueError:\n",
    "            print(\"Your input is not an integer! Try again!\")"
   ]
  },
  {
   "cell_type": "code",
   "execution_count": null,
   "outputs": [],
   "source": [
    "def check_name(x):\n",
    "    if x.isalpha() and x[0].isupper() and x[1:].islower():\n",
    "        print(\"The name is\", x)\n",
    "    else:\n",
    "        print(x, \"is not a name!\")\n",
    "\n",
    "\n",
    "name = input(\"Enter a name: \")\n",
    "check_name(name)"
   ],
   "metadata": {
    "collapsed": false
   }
  },
  {
   "cell_type": "markdown",
   "source": [
    "## Complex numbers"
   ],
   "metadata": {
    "collapsed": false
   }
  },
  {
   "cell_type": "code",
   "execution_count": null,
   "outputs": [],
   "source": [
    "def __truediv__(self, other):\n",
    "    # multiplication divided by divisor. or divide other by visor then multiply\n",
    "    divisor = (other.real_part ** 2 + other.im_part ** 2)\n",
    "\n",
    "    other.real_part = other.real_part / divisor\n",
    "    other.im_part = - other.im_part / divisor\n",
    "    return self.__mul__(other)"
   ],
   "metadata": {
    "collapsed": false
   }
  },
  {
   "cell_type": "markdown",
   "source": [
    "## Decorator functions"
   ],
   "metadata": {
    "collapsed": false
   }
  },
  {
   "cell_type": "code",
   "execution_count": null,
   "outputs": [],
   "source": [
    "def print_info(func):\n",
    "    def wrapper(arg1, arg2):\n",
    "        print(\"The arguments of the function are:\", arg1, arg2)\n",
    "        return func(arg1, arg2)\n",
    "\n",
    "    return wrapper\n",
    "\n",
    "@print_info\n",
    "def addition(arg1, arg2):\n",
    "    return arg1 + arg2"
   ],
   "metadata": {
    "collapsed": false
   }
  },
  {
   "cell_type": "code",
   "execution_count": null,
   "outputs": [],
   "source": [
    "def tagged(func):\n",
    "    def wrapper(string):\n",
    "        return f\"<title>{func(string)}</title>\"\n",
    "    return wrapper\n",
    "\n",
    "@tagged\n",
    "def my_func(string):\n",
    "    return string.upper()"
   ],
   "metadata": {
    "collapsed": false
   }
  },
  {
   "cell_type": "markdown",
   "source": [
    "## Match Case"
   ],
   "metadata": {
    "collapsed": false
   }
  },
  {
   "cell_type": "code",
   "execution_count": 1,
   "outputs": [
    {
     "name": "stdout",
     "output_type": "stream",
     "text": [
      "Not implemented!\n",
      "\n"
     ]
    }
   ],
   "source": [
    "match user_input := input('Enter an option:\\n'):\n",
    "    case '0':\n",
    "        pass\n",
    "    case '1':\n",
    "        print('Not implemented!\\n')\n",
    "    case '2':\n",
    "        print('Not implemented!\\n')\n",
    "    case '3':\n",
    "        print('Not implemented!\\n')\n",
    "    case _:\n",
    "        print('Invalid option!\\n')"
   ],
   "metadata": {
    "collapsed": false
   }
  },
  {
   "cell_type": "markdown",
   "source": [
    "\n",
    "## For each with itterator"
   ],
   "metadata": {
    "collapsed": false
   }
  },
  {
   "cell_type": "code",
   "execution_count": null,
   "outputs": [],
   "source": [
    "for index , value in enumerate(courses):"
   ],
   "metadata": {
    "collapsed": false
   }
  },
  {
   "cell_type": "markdown",
   "source": [],
   "metadata": {
    "collapsed": false
   }
  },
  {
   "cell_type": "markdown",
   "source": [
    "## Enum"
   ],
   "metadata": {
    "collapsed": false
   }
  },
  {
   "cell_type": "code",
   "execution_count": null,
   "outputs": [],
   "source": [
    "from enum import Enum\n",
    "\n",
    "\n",
    "class Env(Enum):\n",
    "    DEV = 1\n",
    "    FT = 2\n",
    "    INT = 3\n",
    "    UA = 4\n",
    "    QUERY = 5\n",
    "\n",
    "Env.DEV"
   ],
   "metadata": {
    "collapsed": false
   }
  }
 ],
 "metadata": {
  "kernelspec": {
   "display_name": "Python 3",
   "language": "python",
   "name": "python3"
  },
  "language_info": {
   "codemirror_mode": {
    "name": "ipython",
    "version": 2
   },
   "file_extension": ".py",
   "mimetype": "text/x-python",
   "name": "python",
   "nbconvert_exporter": "python",
   "pygments_lexer": "ipython2",
   "version": "2.7.6"
  }
 },
 "nbformat": 4,
 "nbformat_minor": 0
}
