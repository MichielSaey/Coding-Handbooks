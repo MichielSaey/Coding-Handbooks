{
 "cells": [
  {
   "cell_type": "markdown",
   "source": [
    "# Timeit\n",
    "\n",
    " The `Timeit` moduele is an alternative to the `time` moduele when it commes to checking the effeicenty of a piece of code."
   ],
   "metadata": {
    "collapsed": false
   }
  },
  {
   "cell_type": "code",
   "execution_count": null,
   "metadata": {
    "collapsed": true
   },
   "outputs": [],
   "source": [
    "from timeit import timeit\n",
    "\n",
    "timeit.timeit(stmt='pass', setup='pass', timer=<default timer>, number=1000000, globals=None)"
   ]
  },
  {
   "cell_type": "markdown",
   "source": [
    "Let take a look at what the previous segments do.\n",
    "1. **`stmt`** - means statement. The code you want to test. !Note that it must be in string!\n",
    "2. "
   ],
   "metadata": {
    "collapsed": false
   }
  }
 ],
 "metadata": {
  "kernelspec": {
   "display_name": "Python 3",
   "language": "python",
   "name": "python3"
  },
  "language_info": {
   "codemirror_mode": {
    "name": "ipython",
    "version": 2
   },
   "file_extension": ".py",
   "mimetype": "text/x-python",
   "name": "python",
   "nbconvert_exporter": "python",
   "pygments_lexer": "ipython2",
   "version": "2.7.6"
  }
 },
 "nbformat": 4,
 "nbformat_minor": 0
}
