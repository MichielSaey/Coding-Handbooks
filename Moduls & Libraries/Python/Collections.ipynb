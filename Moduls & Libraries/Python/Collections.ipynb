{
 "cells": [
  {
   "cell_type": "markdown",
   "source": [
    "# Collections module\n",
    "\n",
    "The collections module provides data types similair to those build in python, but adding advanced features. In this notebook we will take about `OrderDict`, `namedtuple`, and `ChainMap`\n",
    "\n",
    "## collections.OrderedDict\n",
    "\n",
    "An `orderdDict` is a dictionary like object that remembers the orders of the keys given to it. It never changes them. Starting from version 3.7, a build in python dictionary preserves the order, making the `orderdDict` less important. There nevertheless are still usefull features that make a big diffrence. We will here only focus on the functions that are unique to the `orderdDict`.\n",
    "\n",
    "1. `popitem()`\n",
    "2. `move_to_end()`\n",
    "3. Compare Dicts"
   ],
   "metadata": {
    "collapsed": false
   }
  },
  {
   "cell_type": "code",
   "execution_count": 24,
   "metadata": {
    "collapsed": true
   },
   "outputs": [
    {
     "data": {
      "text/plain": "OrderedDict([('Smith', 9.5), ('Brown', 8.1), ('Moore', 7.4)])"
     },
     "execution_count": 24,
     "metadata": {},
     "output_type": "execute_result"
    }
   ],
   "source": [
    "from collections import OrderedDict\n",
    "\n",
    "marks = OrderedDict()\n",
    "marks['Smith'] = 9.5\n",
    "marks['Brown'] = 8.1\n",
    "marks['Moore'] = 7.4\n",
    "marks"
   ]
  },
  {
   "cell_type": "code",
   "execution_count": 25,
   "outputs": [
    {
     "data": {
      "text/plain": "('Moore', 7.4)"
     },
     "execution_count": 25,
     "metadata": {},
     "output_type": "execute_result"
    }
   ],
   "source": [
    "marks.popitem(last=True)"
   ],
   "metadata": {
    "collapsed": false
   }
  },
  {
   "cell_type": "code",
   "execution_count": 26,
   "outputs": [
    {
     "data": {
      "text/plain": "OrderedDict([('Smith', 9.5), ('Brown', 8.1)])"
     },
     "execution_count": 26,
     "metadata": {},
     "output_type": "execute_result"
    }
   ],
   "source": [
    "marks"
   ],
   "metadata": {
    "collapsed": false
   }
  },
  {
   "cell_type": "code",
   "execution_count": 27,
   "outputs": [
    {
     "data": {
      "text/plain": "('Smith', 9.5)"
     },
     "execution_count": 27,
     "metadata": {},
     "output_type": "execute_result"
    }
   ],
   "source": [
    "marks.popitem(last=False)"
   ],
   "metadata": {
    "collapsed": false
   }
  },
  {
   "cell_type": "code",
   "execution_count": 28,
   "outputs": [
    {
     "data": {
      "text/plain": "OrderedDict([('Brown', 8.1), ('Smith', 9.5), ('Moore', 7.4)])"
     },
     "execution_count": 28,
     "metadata": {},
     "output_type": "execute_result"
    }
   ],
   "source": [
    "marks['Smith'] = 9.5\n",
    "marks['Moore'] = 7.4\n",
    "\n",
    "marks"
   ],
   "metadata": {
    "collapsed": false
   }
  },
  {
   "cell_type": "code",
   "execution_count": 29,
   "outputs": [
    {
     "data": {
      "text/plain": "OrderedDict([('Moore', 7.4), ('Brown', 8.1), ('Smith', 9.5)])"
     },
     "execution_count": 29,
     "metadata": {},
     "output_type": "execute_result"
    }
   ],
   "source": [
    "marks.move_to_end('Moore', last=False)\n",
    "marks"
   ],
   "metadata": {
    "collapsed": false
   }
  },
  {
   "cell_type": "code",
   "execution_count": 30,
   "outputs": [
    {
     "data": {
      "text/plain": "OrderedDict([('Moore', 7.4), ('Smith', 9.5), ('Brown', 8.1)])"
     },
     "execution_count": 30,
     "metadata": {},
     "output_type": "execute_result"
    }
   ],
   "source": [
    "marks.move_to_end('Brown', last=True)\n",
    "marks"
   ],
   "metadata": {
    "collapsed": false
   }
  },
  {
   "cell_type": "code",
   "execution_count": 31,
   "outputs": [
    {
     "name": "stdout",
     "output_type": "stream",
     "text": [
      "True\n",
      "False\n"
     ]
    }
   ],
   "source": [
    "regular_dict_1 = {'Smith': 9.5, 'Brown': 8.1, 'Moore': 7.4}\n",
    "regular_dict_2 = {'Brown': 8.1, 'Moore': 7.4, 'Smith': 9.5}\n",
    "ordered_dict_1 = OrderedDict(regular_dict_1)\n",
    "ordered_dict_2 = OrderedDict(regular_dict_2)\n",
    "\n",
    "# Checks if order is the same of two dicts\n",
    "\n",
    "print(regular_dict_1 == regular_dict_2)\n",
    "print(ordered_dict_1 == ordered_dict_2)"
   ],
   "metadata": {
    "collapsed": false
   }
  },
  {
   "cell_type": "markdown",
   "source": [
    "## collections.namedtuple\n",
    "\n",
    "The data type 'namedtuple' is a factory that makes subtypes of tuples with named elements."
   ],
   "metadata": {
    "collapsed": false
   }
  },
  {
   "cell_type": "code",
   "execution_count": 32,
   "outputs": [],
   "source": [
    "from collections import namedtuple\n",
    "\n",
    "person_template = namedtuple('Person', ['name', 'age', 'occupation'])"
   ],
   "metadata": {
    "collapsed": false
   }
  },
  {
   "cell_type": "markdown",
   "source": [
    "In the example above we create the subclass `Person`. its atrobutes are listed in one list but they can also be listed as strings seperated as commas or spaces `person_template = namedtuple('Person', 'name, age, occupation')` or `person_template = namedtuple('Person', 'name age occupation')`."
   ],
   "metadata": {
    "collapsed": false
   }
  },
  {
   "cell_type": "code",
   "execution_count": 33,
   "outputs": [
    {
     "name": "stdout",
     "output_type": "stream",
     "text": [
      "Mary\n",
      "Person(name='David', age='33', occupation='lawyer')\n",
      "lawyer\n"
     ]
    }
   ],
   "source": [
    "mary = person_template('Mary', '25', 'doctor')\n",
    "david = person_template(name='David', age='33', occupation='lawyer')\n",
    "print(mary.name)\n",
    "print(david)\n",
    "print(david[2])"
   ],
   "metadata": {
    "collapsed": false
   }
  },
  {
   "cell_type": "code",
   "execution_count": 34,
   "outputs": [
    {
     "name": "stdout",
     "output_type": "stream",
     "text": [
      "('name', 'age', 'occupation')\n"
     ]
    }
   ],
   "source": [
    "mary = mary._replace(age='29')\n",
    "print(mary._fields)"
   ],
   "metadata": {
    "collapsed": false
   }
  },
  {
   "cell_type": "markdown",
   "source": [
    "It is also possible the get an `orderdDict` from a `namedtuple`"
   ],
   "metadata": {
    "collapsed": false
   }
  },
  {
   "cell_type": "code",
   "execution_count": 35,
   "outputs": [
    {
     "name": "stdout",
     "output_type": "stream",
     "text": [
      "{'name': 'Mary', 'age': '29', 'occupation': 'doctor'}\n"
     ]
    }
   ],
   "source": [
    "mary_info = mary._asdict()\n",
    "print(mary_info)"
   ],
   "metadata": {
    "collapsed": false
   }
  },
  {
   "cell_type": "markdown",
   "source": [
    "## collections.ChainMap\n",
    "\n",
    "A `ChainMap` can be used to link multiple dictionaries, giving you the capabilities to update elements simultaneausly."
   ],
   "metadata": {
    "collapsed": false
   }
  },
  {
   "cell_type": "code",
   "execution_count": 36,
   "outputs": [
    {
     "data": {
      "text/plain": "ChainMap({'Lenovo': 600, 'Dell': 2000, 'Asus': 354}, {'Windows': 2500, 'Linux': 400, 'MacOS': 54})"
     },
     "execution_count": 36,
     "metadata": {},
     "output_type": "execute_result"
    }
   ],
   "source": [
    "from collections import ChainMap\n",
    "\n",
    "laptop_labels = {'Lenovo': 600, 'Dell': 2000, 'Asus': 354}\n",
    "operating_system = {'Windows': 2500, 'Linux': 400, 'MacOS': 54}\n",
    "\n",
    "chain = ChainMap(laptop_labels, operating_system)\n",
    "chain"
   ],
   "metadata": {
    "collapsed": false
   }
  },
  {
   "cell_type": "code",
   "execution_count": 37,
   "outputs": [
    {
     "data": {
      "text/plain": "450"
     },
     "execution_count": 37,
     "metadata": {},
     "output_type": "execute_result"
    }
   ],
   "source": [
    "operating_system['Linux'] = 450\n",
    "chain['Linux']"
   ],
   "metadata": {
    "collapsed": false
   }
  },
  {
   "cell_type": "code",
   "execution_count": 38,
   "outputs": [
    {
     "data": {
      "text/plain": "ChainMap({'Celeron': 600, 'Pentium': 2000, 'Ryzen 5': 354}, {'Lenovo': 600, 'Dell': 2000, 'Asus': 354}, {'Windows': 2500, 'Linux': 450, 'MacOS': 54})"
     },
     "execution_count": 38,
     "metadata": {},
     "output_type": "execute_result"
    }
   ],
   "source": [
    "processor = {'Celeron': 600, 'Pentium': 2000, 'Ryzen 5': 354}\n",
    "new_chain = chain.new_child(processor)\n",
    "\n",
    "new_chain"
   ],
   "metadata": {
    "collapsed": false
   }
  },
  {
   "cell_type": "code",
   "execution_count": 39,
   "outputs": [
    {
     "data": {
      "text/plain": "{'Lenovo': 600, 'Dell': 2000, 'Asus': 354}"
     },
     "execution_count": 39,
     "metadata": {},
     "output_type": "execute_result"
    }
   ],
   "source": [
    "new_chain.maps[1]"
   ],
   "metadata": {
    "collapsed": false
   }
  },
  {
   "cell_type": "code",
   "execution_count": 40,
   "outputs": [
    {
     "data": {
      "text/plain": "ChainMap({'Lenovo': 600, 'Dell': 2000, 'Asus': 354}, {'Windows': 2500, 'Linux': 450, 'MacOS': 54})"
     },
     "execution_count": 40,
     "metadata": {},
     "output_type": "execute_result"
    }
   ],
   "source": [
    "new_chain.parents"
   ],
   "metadata": {
    "collapsed": false
   }
  },
  {
   "cell_type": "markdown",
   "source": [],
   "metadata": {
    "collapsed": false
   }
  }
 ],
 "metadata": {
  "kernelspec": {
   "display_name": "Python 3",
   "language": "python",
   "name": "python3"
  },
  "language_info": {
   "codemirror_mode": {
    "name": "ipython",
    "version": 2
   },
   "file_extension": ".py",
   "mimetype": "text/x-python",
   "name": "python",
   "nbconvert_exporter": "python",
   "pygments_lexer": "ipython2",
   "version": "2.7.6"
  }
 },
 "nbformat": 4,
 "nbformat_minor": 0
}
