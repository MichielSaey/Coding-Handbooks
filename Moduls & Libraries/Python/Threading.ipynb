{
 "cells": [
  {
   "cell_type": "markdown",
   "metadata": {},
   "source": [
    "# Threading\n",
    "\n",
    "alternative to multithreading using the threading module. World should come before dont know why"
   ]
  },
  {
   "cell_type": "code",
   "execution_count": 2,
   "metadata": {},
   "outputs": [
    {
     "name": "stdout",
     "output_type": "stream",
     "text": [
      "Hello, \n",
      "world!\n"
     ]
    }
   ],
   "source": [
    "import time\n",
    "from threading import Thread\n",
    "\n",
    "\n",
    "def greet():\n",
    "    time.sleep(3)\n",
    "    print('Hello, ')\n",
    "\n",
    "\n",
    "t = Thread(target=greet())\n",
    "t.start()\n",
    "\n",
    "print('world!')"
   ]
  },
  {
   "cell_type": "markdown",
   "metadata": {},
   "source": [
    "An example with multipke threads:"
   ]
  },
  {
   "cell_type": "code",
   "execution_count": 3,
   "metadata": {},
   "outputs": [
    {
     "name": "stdout",
     "output_type": "stream",
     "text": [
      "t1 ---> Area of a cube with an edge length of 2 is: \t24\n",
      "t2 ---> Area of a circle with a radius length of 3 is: \t28.26\n",
      "t3 ---> Area of a cube with an edge length of 4 is: \t96\n",
      "t4 ---> Area of a circle with a radius length of 6 is: \t113.04\n",
      "t5 ---> Area of a cube with an edge length of 9 is: \t486\n",
      "t6 ---> Area of a circle with a radius length of 8 is: \t200.96\n"
     ]
    }
   ],
   "source": [
    "import time\n",
    "from threading import Thread\n",
    "\n",
    "\n",
    "def cube_area(thread, length, delay=0):\n",
    "    time.sleep(delay)\n",
    "    print(f\"{thread} ---> Area of a cube with an edge length of {length} is: \\t{6 * (length ** 2)}\")\n",
    "\n",
    "\n",
    "def circle_area(thread, length, delay=0):\n",
    "    time.sleep(delay)\n",
    "    print(f\"{thread} ---> Area of a circle with a radius length of {length} is: \\t{3.14 * (length ** 2)}\")\n",
    "\n",
    "# instantiate multiple threads with functions as targets and thread name, length as arguments\n",
    "\n",
    "t1 = Thread(target=cube_area, args=(\"t1\", 2))\n",
    "t2 = Thread(target=circle_area, args=(\"t2\", 3))\n",
    "\n",
    "t3 = Thread(target=cube_area, args=(\"t3\", 4))\n",
    "t4 = Thread(target=circle_area, args=(\"t4\", 6))\n",
    "\n",
    "t5 = Thread(target=cube_area, args=(\"t5\", 9))\n",
    "t6 = Thread(target=circle_area, args=(\"t6\", 8))\n",
    "\n",
    "t1.start()\n",
    "t2.start()\n",
    "t3.start()\n",
    "t4.start()\n",
    "t5.start()\n",
    "t6.start()"
   ]
  },
  {
   "cell_type": "code",
   "execution_count": 5,
   "metadata": {},
   "outputs": [],
   "source": [
    "import time\n",
    "from threading import Thread\n",
    "\n",
    "\n",
    "def cube_area(thread, length, delay=0):\n",
    "    time.sleep(delay)\n",
    "    print(f\"{thread} ---> Area of a cube with an edge length of {length} is: \\t{6 * (length ** 2)}\")\n",
    "\n",
    "\n",
    "def circle_area(thread, length, delay=0):\n",
    "    time.sleep(delay)\n",
    "    print(f\"{thread} ---> Area of a circle with a radius length of {length} is: \\t{3.14 * (length ** 2)}\")\n",
    "\n",
    "# instantiate multiple threads with functions as targets and thread name, length as arguments\n",
    "t1 = Thread(target=cube_area, args=(\"t1\", 2, 3))\n",
    "t2 = Thread(target=circle_area, args=(\"t2\", 2, 2))\n",
    "\n",
    "t3 = Thread(target=cube_area, args=(\"t3\", 4, 1))\n",
    "t4 = Thread(target=circle_area, args=(\"t4\", 6, 2))\n",
    "\n",
    "t5 = Thread(target=cube_area, args=(\"t5\", 9, 4))\n",
    "t6 = Thread(target=circle_area, args=(\"t6\", 8, 3))\n",
    "\n",
    "t1.start()\n",
    "t2.start()\n",
    "t3.start()\n",
    "t4.start()\n",
    "t5.start()\n",
    "t6.start()"
   ]
  },
  {
   "cell_type": "markdown",
   "metadata": {},
   "source": [
    "## Race condition\n",
    "\n",
    "Lets first see an example of why we need race condition. in the below application, each dread print the items name and price. The output shows us which thread was running. Each time we are running the application, the result depends on which thread is running first."
   ]
  },
  {
   "cell_type": "code",
   "execution_count": 6,
   "metadata": {},
   "outputs": [
    {
     "name": "stdout",
     "output_type": "stream",
     "text": [
      "Item:  Shirt\n",
      "Item:  Jeans\n",
      "Price:  5\n",
      "Item:  Shirt\n",
      "Price:  10\n",
      "Item:  Jeans\n",
      "Price:  10\n",
      "Item:  Jeans\n",
      "Price:  5\n",
      "Item:  Shirt\n",
      "Price:  5\n",
      "Price:  10\n"
     ]
    }
   ],
   "source": [
    "import time\n",
    "from threading import Thread\n",
    "\n",
    "total = 0\n",
    "\n",
    "\n",
    "def calc_price(name, item_price):\n",
    "    for i in range(3):\n",
    "        print(\"Item: \", name)\n",
    "        time.sleep(2)\n",
    "        total = item_price\n",
    "        print(\"Price: \", total)\n",
    "\n",
    "\n",
    "t1 = Thread(target=calc_price, args=(\"Shirt\", 5))\n",
    "t2 = Thread(target=calc_price, args=(\"Jeans\", 10))\n",
    "\n",
    "t1.start()\n",
    "t2.start()"
   ]
  },
  {
   "cell_type": "markdown",
   "metadata": {},
   "source": [
    "To solve this problem we need to sync the threads. To do this we will use lock, locking access to a cerstain function. In a Lock object, only one thread at a time is allowed to execute, but occasionally, we need to execute a particular number of threads simultaneously."
   ]
  },
  {
   "cell_type": "code",
   "execution_count": 7,
   "outputs": [
    {
     "name": "stdout",
     "output_type": "stream",
     "text": [
      "Item: Shirt\n"
     ]
    }
   ],
   "source": [
    "from threading import Thread, Lock\n",
    "import time\n",
    "\n",
    "l = Lock()\n",
    "total = 0\n",
    "\n",
    "\n",
    "def calc_price(name, item_price):\n",
    "    for i in range(3):\n",
    "        l.acquire()\n",
    "        print(\"Item:\", name)\n",
    "        time.sleep(2)\n",
    "        total = item_price\n",
    "        print(\"Price:\", total)\n",
    "        l.release()\n",
    "\n",
    "\n",
    "t1 = Thread(target=calc_price, args=(\"Shirt\", 5))\n",
    "t2 = Thread(target=calc_price, args=(\"Jeans\", 10))\n",
    "\n",
    "t1.start()\n",
    "t2.start()"
   ],
   "metadata": {
    "collapsed": false
   }
  },
  {
   "cell_type": "markdown",
   "source": [
    "We can wait for a thread to finish the execution by calling the join() function. This method allows the current thread to be blocked until the target thread it has joined is finished."
   ],
   "metadata": {
    "collapsed": false
   }
  },
  {
   "cell_type": "code",
   "execution_count": null,
   "outputs": [],
   "source": [
    "t1.start()\n",
    "t1.join()\n",
    "\n",
    "t2.start()\n",
    "t2.join()"
   ],
   "metadata": {
    "collapsed": false
   }
  },
  {
   "cell_type": "markdown",
   "source": [
    "Let's modify this example and add five items and prices, each represented with its thread. Also, let's change it, so three threads can simultaneously access the total price. In this case, we cannot use Lock anymore. We should go further and use the concept of the semaphore."
   ],
   "metadata": {
    "collapsed": false
   }
  },
  {
   "cell_type": "markdown",
   "source": [
    "The semaphore concept is one of the oldest synchronization primitives in the history of computer science, invented by the early Dutch computer scientist Edsger W. Dijkstra. He used the names `P()` and `V()` instead of `acquire()` and `release()`.\n",
    "\n",
    "Semaphores can be of two types:\n",
    "1. Binary Semaphore — this semaphore can have only two values – 0 or 1. Its value is initialized to 1.\n",
    "2. Counting Semaphore — its value can be 0, 1, or other integer values. It is used to control access to a resource that has multiple instances.\n"
   ],
   "metadata": {
    "collapsed": false
   }
  },
  {
   "cell_type": "code",
   "execution_count": 9,
   "outputs": [
    {
     "name": "stdout",
     "output_type": "stream",
     "text": [
      "Item: Shirt\n",
      "Item: Jeans\n",
      "Item: Dress\n"
     ]
    }
   ],
   "source": [
    "from threading import Thread, Semaphore\n",
    "import time\n",
    "\n",
    "# creating Semaphore, where count = 3\n",
    "sem = Semaphore(3)\n",
    "total = 0\n",
    "\n",
    "\n",
    "def calc_price(name, item_price):\n",
    "    sem.acquire()\n",
    "    for i in range(2):\n",
    "        print(\"Item:\", name)\n",
    "        time.sleep(10)\n",
    "        total = item_price\n",
    "        print(\"Price:\", total)\n",
    "        sem.release()\n",
    "\n",
    "\n",
    "# creating multiple threads\n",
    "t1 = Thread(target=calc_price, args=(\"Shirt\", 5))\n",
    "t2 = Thread(target=calc_price, args=(\"Jeans\", 10))\n",
    "t3 = Thread(target=calc_price, args=(\"Dress\", 12))\n",
    "t4 = Thread(target=calc_price, args=(\"Belt\", 3))\n",
    "t5 = Thread(target=calc_price, args=(\"Bag\", 20))\n",
    "\n",
    "# calling the threads\n",
    "t1.start()\n",
    "t2.start()\n",
    "t3.start()\n",
    "t4.start()\n",
    "t5.start()"
   ],
   "metadata": {
    "collapsed": false
   }
  },
  {
   "cell_type": "markdown",
   "source": [
    "As with files, you can also use the with context manager with a semaphore. It will allow you to omit the explicit calling of acquire() and release(), since it will be automatically managed by the manager. calc_price() may also look this way:"
   ],
   "metadata": {
    "collapsed": false
   }
  },
  {
   "cell_type": "code",
   "execution_count": null,
   "outputs": [],
   "source": [
    "def calc_price(name, item_price):\n",
    "    with sem:\n",
    "        for i in range(2):\n",
    "            print(\"Item:\", name)\n",
    "            time.sleep(10)\n",
    "            total = item_price\n",
    "            print(\"Price:\", total)"
   ],
   "metadata": {
    "collapsed": false
   }
  },
  {
   "cell_type": "markdown",
   "source": [
    "In this example, we've created an instance of the `Semaphore` class, called `sem` where the value of `count` is 3. This means that three threads can access sem at a time.\n",
    "\n",
    "Whenever we call the `start()` method, three threads are allowed to access the semaphore, and hence three threads are allowed to execute `calc_price()` method at a time."
   ],
   "metadata": {
    "collapsed": false
   }
  }
 ],
 "metadata": {
  "kernelspec": {
   "display_name": "Python 3 (ipykernel)",
   "language": "python",
   "name": "python3"
  },
  "language_info": {
   "codemirror_mode": {
    "name": "ipython",
    "version": 3
   },
   "file_extension": ".py",
   "mimetype": "text/x-python",
   "name": "python",
   "nbconvert_exporter": "python",
   "pygments_lexer": "ipython3",
   "version": "3.9.13"
  }
 },
 "nbformat": 4,
 "nbformat_minor": 1
}
