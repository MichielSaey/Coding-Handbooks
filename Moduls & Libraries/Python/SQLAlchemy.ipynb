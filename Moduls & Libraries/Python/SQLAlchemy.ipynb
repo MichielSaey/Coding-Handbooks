{
 "cells": [
  {
   "cell_type": "markdown",
   "source": [
    "# SQLAlchemy\n",
    "\n",
    "The SQLAlchemy models allows for the translation between OO languages like python and relational languages like SQL. It transforms python objects into database information, and the other way around. PSQLAlcheny can connect to many differnt types of sql databases, but all of them follow this standard. The standard specifies the functions that help you connect to a database, send queries, and get results. All the specifications are regulated by PEP 249."
   ],
   "metadata": {
    "collapsed": false
   }
  },
  {
   "cell_type": "code",
   "execution_count": 3,
   "metadata": {
    "collapsed": true
   },
   "outputs": [
    {
     "name": "stdout",
     "output_type": "stream",
     "text": [
      "Requirement already satisfied: sqlalchemy in c:\\users\\michi\\anaconda3\\lib\\site-packages (2.0.9)\n",
      "Requirement already satisfied: typing-extensions>=4.2.0 in c:\\users\\michi\\anaconda3\\lib\\site-packages (from sqlalchemy) (4.3.0)\n",
      "Requirement already satisfied: greenlet!=0.4.17 in c:\\users\\michi\\anaconda3\\lib\\site-packages (from sqlalchemy) (1.1.1)\n"
     ]
    }
   ],
   "source": [
    "!pip install sqlalchemy"
   ]
  },
  {
   "cell_type": "markdown",
   "source": [
    "For this topic we will practic on the `Buildings_Database.sqlite`. using the folowing code we can connect to the databse."
   ],
   "metadata": {
    "collapsed": false
   }
  },
  {
   "cell_type": "code",
   "execution_count": 4,
   "outputs": [
    {
     "name": "stdout",
     "output_type": "stream",
     "text": [
      "<sqlalchemy.engine.base.Connection object at 0x000001BB6B8077F0> Engine(sqlite:///Buildings_Database.sqlite)\n"
     ]
    }
   ],
   "source": [
    "from sqlalchemy import create_engine\n",
    "\n",
    "engine = create_engine('sqlite:///Buildings_Database.sqlite', echo=True)\n",
    "connection = engine.connect()\n",
    "print(connection, engine)"
   ],
   "metadata": {
    "collapsed": false
   }
  },
  {
   "cell_type": "code",
   "execution_count": 5,
   "outputs": [
    {
     "name": "stdout",
     "output_type": "stream",
     "text": [
      "2023-04-27 21:05:48,793 INFO sqlalchemy.engine.Engine BEGIN (implicit)\n",
      "2023-04-27 21:05:48,794 INFO sqlalchemy.engine.Engine SELECT name FROM sqlite_master WHERE type='table' AND name NOT LIKE 'sqlite~_%' ESCAPE '~' ORDER BY name\n",
      "2023-04-27 21:05:48,795 INFO sqlalchemy.engine.Engine [raw sql] ()\n",
      "2023-04-27 21:05:48,798 INFO sqlalchemy.engine.Engine ROLLBACK\n"
     ]
    },
    {
     "data": {
      "text/plain": "[]"
     },
     "execution_count": 5,
     "metadata": {},
     "output_type": "execute_result"
    }
   ],
   "source": [
    "from sqlalchemy import inspect\n",
    "inspector = inspect(engine)\n",
    "inspector.get_table_names()"
   ],
   "metadata": {
    "collapsed": false
   }
  },
  {
   "cell_type": "markdown",
   "source": [
    "!! other code in topic https://hyperskill.org/learn/step/12935 that i did not get working"
   ],
   "metadata": {
    "collapsed": false
   }
  },
  {
   "cell_type": "markdown",
   "source": [
    "## Data mapping\n",
    "\n",
    "Mapping transforms SQL objects into Python ones. There are two main mapping types in SQLAlchemy. One is **classical** mapping, the other is **declarative** mapping. We will discuss these types below.\n",
    "\n",
    "### Classical\n",
    "\n",
    "Classical mapping refers to the configuration of **a mapped class** that was created with the `mapper()` function. We need to define a database table and the corresponding Python class separately to link them with `mapper()`. After that, all changes to the table and class made via SQLAlchemy are saved in your database. Classical mapping is a **base mapping system** provided by the ORM. Take a look at the snippet below:"
   ],
   "metadata": {
    "collapsed": false
   }
  },
  {
   "cell_type": "markdown",
   "source": [
    "````python\n",
    "from sqlalchemy import Table, MetaData, Column, Integer, String\n",
    "from sqlalchemy.orm import mapper\n",
    "\n",
    "metadata = MetaData()\n",
    "\n",
    "animals = Table('animals', metadata,\n",
    "                Column('id', Integer, primary_key=True),\n",
    "                Column('petname', String(30)),\n",
    "                Column('age', Integer),\n",
    "                Column('weight', Integer))\n",
    "\n",
    "\n",
    "class Animals(object):\n",
    "    def __init__(self, petname, age, weight):\n",
    "        self.petname = petname\n",
    "        self.age = age\n",
    "        self.weight = weight\n",
    "\n",
    "\n",
    "mapper(Animals, animals)\n",
    "````"
   ],
   "metadata": {
    "collapsed": false
   }
  },
  {
   "cell_type": "markdown",
   "source": [
    "It however does not seem to work with SQLAlchemy 2.0. Must look up right topic"
   ],
   "metadata": {
    "collapsed": false
   }
  },
  {
   "cell_type": "markdown",
   "source": [
    "### Declarative\n",
    "\n",
    "Declarative mapping is a concise version of classical mapping. We don't need to specify a class and a table separately, we can do it all in one class. Let's try to write a concise form of the previous snippet:\n",
    "\n",
    "!! Had to be changed to match with **SQLAlchemy 2.0**: `from sqlalchemy.orm import declarative_base`"
   ],
   "metadata": {
    "collapsed": false
   }
  },
  {
   "cell_type": "code",
   "execution_count": 6,
   "outputs": [],
   "source": [
    "from sqlalchemy.orm import declarative_base\n",
    "from sqlalchemy import Column, Integer, String\n",
    "\n",
    "Base = declarative_base()\n",
    "\n",
    "\n",
    "class Animals(Base):\n",
    "    __tablename__ = 'animals'\n",
    "\n",
    "    id = Column(Integer, primary_key=True)\n",
    "    petname = Column(String(30))\n",
    "    age = Column(Integer)\n",
    "    weight = Column(Integer)"
   ],
   "metadata": {
    "collapsed": false
   }
  },
  {
   "cell_type": "code",
   "execution_count": 7,
   "outputs": [
    {
     "name": "stdout",
     "output_type": "stream",
     "text": [
      "2023-04-27 21:05:48,836 INFO sqlalchemy.engine.Engine BEGIN (implicit)\n",
      "2023-04-27 21:05:48,837 INFO sqlalchemy.engine.Engine PRAGMA main.table_info(\"animals\")\n",
      "2023-04-27 21:05:48,838 INFO sqlalchemy.engine.Engine [raw sql] ()\n",
      "2023-04-27 21:05:48,839 INFO sqlalchemy.engine.Engine PRAGMA temp.table_info(\"animals\")\n",
      "2023-04-27 21:05:48,840 INFO sqlalchemy.engine.Engine [raw sql] ()\n",
      "2023-04-27 21:05:48,842 INFO sqlalchemy.engine.Engine \n",
      "CREATE TABLE animals (\n",
      "\tid INTEGER NOT NULL, \n",
      "\tpetname VARCHAR(30), \n",
      "\tage INTEGER, \n",
      "\tweight INTEGER, \n",
      "\tPRIMARY KEY (id)\n",
      ")\n",
      "\n",
      "\n",
      "2023-04-27 21:05:48,843 INFO sqlalchemy.engine.Engine [no key 0.00104s] ()\n",
      "2023-04-27 21:05:48,854 INFO sqlalchemy.engine.Engine COMMIT\n"
     ]
    }
   ],
   "source": [
    "Base.metadata.create_all(engine)"
   ],
   "metadata": {
    "collapsed": false
   }
  },
  {
   "cell_type": "markdown",
   "source": [
    "### Session\n",
    "The `mapper()` function and declarative extensions are primary interfaces for ORM. Once our mappings are configured, we can proceed to the primary interface. It is also known as a session. It helps us to communicate with our database and ensures that all operations run smoothly. You can modify your database and save the changes during the session. To start one, you can use the following statement:"
   ],
   "metadata": {
    "collapsed": false
   }
  },
  {
   "cell_type": "code",
   "execution_count": 8,
   "outputs": [
    {
     "data": {
      "text/plain": "<sqlalchemy.orm.session.Session at 0x1bb6d4914f0>"
     },
     "execution_count": 8,
     "metadata": {},
     "output_type": "execute_result"
    }
   ],
   "source": [
    "from sqlalchemy.orm import sessionmaker\n",
    "\n",
    "Session = sessionmaker(bind=engine)\n",
    "session = Session()\n",
    "session"
   ],
   "metadata": {
    "collapsed": false
   }
  },
  {
   "cell_type": "code",
   "execution_count": 9,
   "outputs": [
    {
     "name": "stdout",
     "output_type": "stream",
     "text": [
      "2023-04-27 21:05:48,889 INFO sqlalchemy.engine.Engine BEGIN (implicit)\n",
      "2023-04-27 21:05:48,891 INFO sqlalchemy.engine.Engine INSERT INTO animals (petname, age, weight) VALUES (?, ?, ?), (?, ?, ?), (?, ?, ?) RETURNING id\n",
      "2023-04-27 21:05:48,893 INFO sqlalchemy.engine.Engine [generated in 0.00015s (insertmanyvalues)] ('Timmy', 2, 12, 'Tommy', 3, 10, 'Kitty', 4, 14)\n",
      "2023-04-27 21:05:48,897 INFO sqlalchemy.engine.Engine COMMIT\n"
     ]
    }
   ],
   "source": [
    "animal_1 = Animals(petname='Timmy', age=2, weight=12)\n",
    "animal_2 = Animals(petname='Tommy', age=3, weight=10)\n",
    "animal_3 = Animals(petname='Kitty', age=4, weight=14)\n",
    "session.add(animal_1)\n",
    "session.add(animal_2)\n",
    "session.add(animal_3)\n",
    "session.commit()"
   ],
   "metadata": {
    "collapsed": false
   }
  },
  {
   "cell_type": "markdown",
   "source": [
    "## querying and filtering\n",
    "\n",
    " A Query object will generate a SELECT statement for columns of our table and rename each column to a variable name as per PEP convention. Here's what it may look like. Once passed, it will create the animals_petname variable for the table called Animals with the petname column. After this, you'll be able to access the values in the corresponding column via this variable."
   ],
   "metadata": {
    "collapsed": false
   }
  },
  {
   "cell_type": "code",
   "execution_count": 10,
   "outputs": [
    {
     "data": {
      "text/plain": "<sqlalchemy.orm.query.Query at 0x1bb6d4ebd60>"
     },
     "execution_count": 10,
     "metadata": {},
     "output_type": "execute_result"
    }
   ],
   "source": [
    "from sqlalchemy.orm import Query\n",
    "query = Query(Animals)\n",
    "query"
   ],
   "metadata": {
    "collapsed": false
   }
  },
  {
   "cell_type": "code",
   "execution_count": 11,
   "outputs": [
    {
     "name": "stdout",
     "output_type": "stream",
     "text": [
      "SELECT animals.id AS animals_id, animals.petname AS animals_petname, animals.age AS animals_age, animals.weight AS animals_weight \n",
      "FROM animals\n"
     ]
    }
   ],
   "source": [
    "print(query)"
   ],
   "metadata": {
    "collapsed": false
   }
  },
  {
   "cell_type": "code",
   "execution_count": 12,
   "outputs": [
    {
     "name": "stdout",
     "output_type": "stream",
     "text": [
      "2023-04-27 21:05:48,948 INFO sqlalchemy.engine.Engine BEGIN (implicit)\n",
      "2023-04-27 21:05:48,949 INFO sqlalchemy.engine.Engine PRAGMA main.table_info(\"animals\")\n",
      "2023-04-27 21:05:48,950 INFO sqlalchemy.engine.Engine [raw sql] ()\n",
      "2023-04-27 21:05:48,952 INFO sqlalchemy.engine.Engine PRAGMA temp.table_info(\"animals\")\n",
      "2023-04-27 21:05:48,952 INFO sqlalchemy.engine.Engine [raw sql] ()\n",
      "2023-04-27 21:05:48,953 INFO sqlalchemy.engine.Engine \n",
      "CREATE TABLE animals (\n",
      "\tid INTEGER NOT NULL, \n",
      "\tpetname VARCHAR(30), \n",
      "\tage INTEGER, \n",
      "\tweight INTEGER, \n",
      "\tPRIMARY KEY (id)\n",
      ")\n",
      "\n",
      "\n",
      "2023-04-27 21:05:48,955 INFO sqlalchemy.engine.Engine [no key 0.00111s] ()\n",
      "2023-04-27 21:05:48,956 INFO sqlalchemy.engine.Engine COMMIT\n"
     ]
    }
   ],
   "source": [
    "from sqlalchemy.orm import Query, sessionmaker\n",
    "from sqlalchemy import create_engine\n",
    "\n",
    "engine = create_engine(\"sqlite:///:memory:\", echo=True)\n",
    "Base.metadata.create_all(engine)\n",
    "\n",
    "Session = sessionmaker(bind=engine)\n",
    "session = Session()"
   ],
   "metadata": {
    "collapsed": false
   }
  },
  {
   "cell_type": "code",
   "execution_count": 13,
   "outputs": [
    {
     "name": "stdout",
     "output_type": "stream",
     "text": [
      "SELECT animals.id AS animals_id, animals.petname AS animals_petname, animals.age AS animals_age, animals.weight AS animals_weight \n",
      "FROM animals\n"
     ]
    }
   ],
   "source": [
    "query = session.query(Animals)\n",
    "print(query)"
   ],
   "metadata": {
    "collapsed": false
   }
  },
  {
   "cell_type": "code",
   "execution_count": 14,
   "outputs": [
    {
     "name": "stdout",
     "output_type": "stream",
     "text": [
      "2023-04-27 21:05:48,991 INFO sqlalchemy.engine.Engine BEGIN (implicit)\n",
      "2023-04-27 21:05:48,993 INFO sqlalchemy.engine.Engine INSERT INTO animals (petname, age, weight) VALUES (?, ?, ?), (?, ?, ?) RETURNING id\n",
      "2023-04-27 21:05:48,994 INFO sqlalchemy.engine.Engine [generated in 0.00013s (insertmanyvalues)] ('Billy', 1, 8, 'Susan', 4, 12)\n",
      "2023-04-27 21:05:48,996 INFO sqlalchemy.engine.Engine COMMIT\n"
     ]
    }
   ],
   "source": [
    "session.add(Animals(petname=\"Billy\", age=1, weight=8))\n",
    "session.add(Animals(petname=\"Susan\", age=4, weight=12))\n",
    "\n",
    "session.commit()"
   ],
   "metadata": {
    "collapsed": false
   }
  },
  {
   "cell_type": "code",
   "execution_count": 15,
   "outputs": [
    {
     "name": "stdout",
     "output_type": "stream",
     "text": [
      "2023-04-27 21:05:49,005 INFO sqlalchemy.engine.Engine BEGIN (implicit)\n",
      "2023-04-27 21:05:49,009 INFO sqlalchemy.engine.Engine SELECT animals.id AS animals_id, animals.petname AS animals_petname, animals.age AS animals_age, animals.weight AS animals_weight \n",
      "FROM animals\n",
      "2023-04-27 21:05:49,010 INFO sqlalchemy.engine.Engine [generated in 0.00087s] ()\n"
     ]
    }
   ],
   "source": [
    "all_rows = query.all()"
   ],
   "metadata": {
    "collapsed": false
   }
  },
  {
   "cell_type": "code",
   "execution_count": 16,
   "outputs": [
    {
     "name": "stdout",
     "output_type": "stream",
     "text": [
      "<class '__main__.Animals'>\n",
      "<class '__main__.Animals'>\n"
     ]
    }
   ],
   "source": [
    "for row in all_rows:\n",
    "    print(type(row))  # <class '__main__.Animals'>"
   ],
   "metadata": {
    "collapsed": false
   }
  },
  {
   "cell_type": "code",
   "execution_count": 17,
   "outputs": [
    {
     "name": "stdout",
     "output_type": "stream",
     "text": [
      "Pet name: Billy, age: 1, weight: 8\n",
      "Pet name: Susan, age: 4, weight: 12\n"
     ]
    }
   ],
   "source": [
    "for row in all_rows:\n",
    "    print(f\"Pet name: {row.petname}, age: {row.age}, weight: {row.weight}\")"
   ],
   "metadata": {
    "collapsed": false
   }
  },
  {
   "cell_type": "code",
   "execution_count": 18,
   "outputs": [
    {
     "name": "stdout",
     "output_type": "stream",
     "text": [
      "SELECT animals.petname AS animals_petname \n",
      "FROM animals\n"
     ]
    }
   ],
   "source": [
    "query = session.query(Animals.petname)\n",
    "print(query)"
   ],
   "metadata": {
    "collapsed": false
   }
  },
  {
   "cell_type": "code",
   "execution_count": 19,
   "outputs": [
    {
     "name": "stdout",
     "output_type": "stream",
     "text": [
      "2023-04-27 21:05:49,068 INFO sqlalchemy.engine.Engine SELECT animals.petname AS animals_petname, animals.age AS animals_age \n",
      "FROM animals\n",
      "2023-04-27 21:05:49,069 INFO sqlalchemy.engine.Engine [generated in 0.00087s] ()\n",
      "Billy 1\n",
      "Susan 4\n"
     ]
    }
   ],
   "source": [
    "query = session.query(Animals.petname, Animals.age)\n",
    "for petname, age in query:\n",
    "    print(petname, age)"
   ],
   "metadata": {
    "collapsed": false
   }
  },
  {
   "cell_type": "code",
   "execution_count": 20,
   "outputs": [
    {
     "name": "stdout",
     "output_type": "stream",
     "text": [
      "2023-04-27 21:05:49,085 INFO sqlalchemy.engine.Engine SELECT count(*) AS count_1 \n",
      "FROM (SELECT animals.id AS animals_id, animals.petname AS animals_petname, animals.age AS animals_age, animals.weight AS animals_weight \n",
      "FROM animals) AS anon_1\n",
      "2023-04-27 21:05:49,086 INFO sqlalchemy.engine.Engine [generated in 0.00093s] ()\n"
     ]
    },
    {
     "data": {
      "text/plain": "2"
     },
     "execution_count": 20,
     "metadata": {},
     "output_type": "execute_result"
    }
   ],
   "source": [
    "query = session.query(Animals)\n",
    "query.count()"
   ],
   "metadata": {
    "collapsed": false
   }
  },
  {
   "cell_type": "code",
   "execution_count": 21,
   "outputs": [
    {
     "name": "stdout",
     "output_type": "stream",
     "text": [
      "2023-04-27 21:05:49,102 INFO sqlalchemy.engine.Engine SELECT animals.id AS animals_id, animals.petname AS animals_petname, animals.age AS animals_age, animals.weight AS animals_weight \n",
      "FROM animals \n",
      "WHERE animals.petname = ?\n",
      "2023-04-27 21:05:49,103 INFO sqlalchemy.engine.Engine [generated in 0.00107s] ('Billy',)\n",
      "Billy 1 8\n"
     ]
    }
   ],
   "source": [
    "query = session.query(Animals)\n",
    "for row in query.filter(Animals.petname == \"Billy\"):\n",
    "    print(row.petname, row.age, row.weight) # Billy 1 8"
   ],
   "metadata": {
    "collapsed": false
   }
  },
  {
   "cell_type": "code",
   "execution_count": 22,
   "outputs": [
    {
     "name": "stdout",
     "output_type": "stream",
     "text": [
      "2023-04-27 21:05:49,119 INFO sqlalchemy.engine.Engine SELECT animals.age AS animals_age, animals.weight AS animals_weight \n",
      "FROM animals \n",
      "WHERE animals.age > ? AND animals.weight >= ?\n",
      "2023-04-27 21:05:49,120 INFO sqlalchemy.engine.Engine [generated in 0.00124s] (2, 8)\n",
      "Pet age: 4, Pet weight: 12\n"
     ]
    }
   ],
   "source": [
    "query = session.query(Animals.age, Animals.weight)\n",
    "\n",
    "age_gr_than = Animals.age > 2\n",
    "weight_eq_gr_than = Animals.weight >= 8\n",
    "\n",
    "for age, weight in query.filter(age_gr_than, weight_eq_gr_than):\n",
    "    print(f\"Pet age: {age}, Pet weight: {weight}\")"
   ],
   "metadata": {
    "collapsed": false
   }
  },
  {
   "cell_type": "markdown",
   "source": [
    "## Updating and deleting\n",
    "\n",
    "### imports and table creation"
   ],
   "metadata": {
    "collapsed": false
   }
  },
  {
   "cell_type": "code",
   "execution_count": 23,
   "outputs": [],
   "source": [
    "from sqlalchemy import Column, Integer, String\n",
    "from sqlalchemy.orm import DeclarativeBase, sessionmaker\n",
    "\n",
    "Base = declarative_base()"
   ],
   "metadata": {
    "collapsed": false
   }
  },
  {
   "cell_type": "code",
   "execution_count": 24,
   "outputs": [],
   "source": [
    "class Employee(Base):\n",
    "    __tablename__ = \"employee\"\n",
    "\n",
    "    id = Column(Integer, primary_key=True)\n",
    "    name = Column(String(30))\n",
    "    position = Column(String(30))\n",
    "    salary = Column(Integer)"
   ],
   "metadata": {
    "collapsed": false
   }
  },
  {
   "cell_type": "markdown",
   "source": [
    "### Create DB and session"
   ],
   "metadata": {
    "collapsed": false
   }
  },
  {
   "cell_type": "code",
   "execution_count": 25,
   "outputs": [
    {
     "name": "stdout",
     "output_type": "stream",
     "text": [
      "2023-04-27 21:05:49,161 INFO sqlalchemy.engine.Engine BEGIN (implicit)\n",
      "2023-04-27 21:05:49,162 INFO sqlalchemy.engine.Engine PRAGMA main.table_info(\"employee\")\n",
      "2023-04-27 21:05:49,163 INFO sqlalchemy.engine.Engine [raw sql] ()\n",
      "2023-04-27 21:05:49,165 INFO sqlalchemy.engine.Engine PRAGMA temp.table_info(\"employee\")\n",
      "2023-04-27 21:05:49,165 INFO sqlalchemy.engine.Engine [raw sql] ()\n",
      "2023-04-27 21:05:49,166 INFO sqlalchemy.engine.Engine \n",
      "CREATE TABLE employee (\n",
      "\tid INTEGER NOT NULL, \n",
      "\tname VARCHAR(30), \n",
      "\tposition VARCHAR(30), \n",
      "\tsalary INTEGER, \n",
      "\tPRIMARY KEY (id)\n",
      ")\n",
      "\n",
      "\n",
      "2023-04-27 21:05:49,167 INFO sqlalchemy.engine.Engine [no key 0.00068s] ()\n",
      "2023-04-27 21:05:49,179 INFO sqlalchemy.engine.Engine COMMIT\n"
     ]
    }
   ],
   "source": [
    "engine = create_engine(\"sqlite:///alchemy.db\", echo=True)\n",
    "Base.metadata.create_all(engine)\n",
    "\n",
    "Session = sessionmaker(bind=engine)\n",
    "session = Session()"
   ],
   "metadata": {
    "collapsed": false
   }
  },
  {
   "cell_type": "markdown",
   "source": [
    "### Fill the session"
   ],
   "metadata": {
    "collapsed": false
   }
  },
  {
   "cell_type": "code",
   "execution_count": 27,
   "outputs": [
    {
     "name": "stdout",
     "output_type": "stream",
     "text": [
      "2023-04-27 21:07:15,114 INFO sqlalchemy.engine.Engine BEGIN (implicit)\n",
      "2023-04-27 21:07:15,127 INFO sqlalchemy.engine.Engine INSERT INTO employee (name, position, salary) VALUES (?, ?, ?), (?, ?, ?), (?, ?, ?), (?, ?, ?) RETURNING id\n",
      "2023-04-27 21:07:15,127 INFO sqlalchemy.engine.Engine [generated in 0.00015s (insertmanyvalues)] ('William', 'Data Scientist', '12,000', 'Susan', 'Product Manager', '14,000', 'Andrew', 'Senior Software Engineer', '17,000', 'Nancy', 'Account Executive', '13,000')\n",
      "2023-04-27 21:07:15,127 INFO sqlalchemy.engine.Engine COMMIT\n"
     ]
    }
   ],
   "source": [
    "session.add(Employee(name=\"William\", position=\"Data Scientist\", salary=\"12,000\"))\n",
    "session.add(Employee(name=\"Susan\", position=\"Product Manager\", salary=\"14,000\"))\n",
    "session.add(Employee(name=\"Andrew\", position=\"Senior Software Engineer\", salary=\"17,000\"))\n",
    "session.add(Employee(name=\"Nancy\", position=\"Account Executive\", salary=\"13,000\"))\n",
    "\n",
    "session.commit()"
   ],
   "metadata": {
    "collapsed": false
   }
  },
  {
   "cell_type": "markdown",
   "source": [
    "### Update methode"
   ],
   "metadata": {
    "collapsed": false
   }
  },
  {
   "cell_type": "code",
   "execution_count": 28,
   "outputs": [
    {
     "name": "stdout",
     "output_type": "stream",
     "text": [
      "2023-04-27 21:16:22,697 INFO sqlalchemy.engine.Engine BEGIN (implicit)\n",
      "2023-04-27 21:16:22,700 INFO sqlalchemy.engine.Engine UPDATE employee SET salary=(employee.salary + ?)\n",
      "2023-04-27 21:16:22,701 INFO sqlalchemy.engine.Engine [generated in 0.00119s] (1000,)\n",
      "2023-04-27 21:16:22,704 INFO sqlalchemy.engine.Engine COMMIT\n"
     ]
    }
   ],
   "source": [
    "query = session.query(Employee)\n",
    "\n",
    "query.update({\n",
    "    \"salary\": Employee.salary + 1000\n",
    "})\n",
    "\n",
    "session.commit()"
   ],
   "metadata": {
    "collapsed": false
   }
  },
  {
   "cell_type": "code",
   "execution_count": 30,
   "outputs": [
    {
     "name": "stdout",
     "output_type": "stream",
     "text": [
      "2023-04-27 21:20:42,456 INFO sqlalchemy.engine.Engine BEGIN (implicit)\n",
      "2023-04-27 21:20:42,456 INFO sqlalchemy.engine.Engine UPDATE employee SET salary=(employee.salary + ?) WHERE employee.name = ?\n",
      "2023-04-27 21:20:42,456 INFO sqlalchemy.engine.Engine [generated in 0.00081s] (1000, 'William')\n",
      "2023-04-27 21:20:42,456 INFO sqlalchemy.engine.Engine COMMIT\n"
     ]
    }
   ],
   "source": [
    "empl_filter = query.filter(Employee.name == \"William\")\n",
    "empl_filter.update({\"salary\": Employee.salary + 1000})\n",
    "session.commit()"
   ],
   "metadata": {
    "collapsed": false
   }
  },
  {
   "cell_type": "code",
   "execution_count": 31,
   "outputs": [
    {
     "name": "stdout",
     "output_type": "stream",
     "text": [
      "2023-04-27 21:22:09,979 INFO sqlalchemy.engine.Engine BEGIN (implicit)\n",
      "2023-04-27 21:22:09,979 INFO sqlalchemy.engine.Engine UPDATE employee SET position=?, salary=(employee.salary - ?) WHERE employee.position = ?\n",
      "2023-04-27 21:22:09,979 INFO sqlalchemy.engine.Engine [generated in 0.00085s] ('Middle Software Engineer', 1500, 'Senior Software Engineer')\n",
      "2023-04-27 21:22:09,979 INFO sqlalchemy.engine.Engine COMMIT\n"
     ]
    }
   ],
   "source": [
    "empl_filter = query.filter(Employee.position == \"Senior Software Engineer\")\n",
    "empl_filter.update({\n",
    "    \"salary\": Employee.salary - 1500,\n",
    "    \"position\": \"Middle Software Engineer\"\n",
    "})\n",
    "session.commit()"
   ],
   "metadata": {
    "collapsed": false
   }
  },
  {
   "cell_type": "markdown",
   "source": [
    "### Deleting data"
   ],
   "metadata": {
    "collapsed": false
   }
  },
  {
   "cell_type": "code",
   "execution_count": 32,
   "outputs": [
    {
     "name": "stdout",
     "output_type": "stream",
     "text": [
      "2023-04-27 21:23:18,123 INFO sqlalchemy.engine.Engine BEGIN (implicit)\n",
      "2023-04-27 21:23:18,123 INFO sqlalchemy.engine.Engine DELETE FROM employee WHERE employee.name = ?\n",
      "2023-04-27 21:23:18,123 INFO sqlalchemy.engine.Engine [generated in 0.00102s] ('Nancy',)\n",
      "2023-04-27 21:23:18,123 INFO sqlalchemy.engine.Engine COMMIT\n"
     ]
    }
   ],
   "source": [
    "query.filter(Employee.name == \"Nancy\").delete()\n",
    "session.commit()"
   ],
   "metadata": {
    "collapsed": false
   }
  }
 ],
 "metadata": {
  "kernelspec": {
   "display_name": "Python 3",
   "language": "python",
   "name": "python3"
  },
  "language_info": {
   "codemirror_mode": {
    "name": "ipython",
    "version": 2
   },
   "file_extension": ".py",
   "mimetype": "text/x-python",
   "name": "python",
   "nbconvert_exporter": "python",
   "pygments_lexer": "ipython2",
   "version": "2.7.6"
  }
 },
 "nbformat": 4,
 "nbformat_minor": 0
}
