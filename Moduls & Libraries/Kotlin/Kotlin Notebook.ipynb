{
 "cells": [
  {
   "cell_type": "markdown",
   "source": [
    "# Kotlin Notebook\n",
    "\n",
    "Some shot experimentation with a Kotlin interpreter for Jupyter."
   ],
   "metadata": {
    "collapsed": false
   }
  },
  {
   "cell_type": "code",
   "execution_count": 21,
   "metadata": {
    "collapsed": true,
    "ExecuteTime": {
     "end_time": "2023-08-21T15:44:07.290614976Z",
     "start_time": "2023-08-21T15:44:07.248613363Z"
    }
   },
   "outputs": [
    {
     "data": {
      "text/plain": "16"
     },
     "execution_count": 21,
     "metadata": {},
     "output_type": "execute_result"
    }
   ],
   "source": [
    "val result = 2 * 8\n",
    "\n",
    "result"
   ]
  },
  {
   "cell_type": "code",
   "execution_count": 22,
   "outputs": [
    {
     "data": {
      "text/plain": "32"
     },
     "execution_count": 22,
     "metadata": {},
     "output_type": "execute_result"
    }
   ],
   "source": [
    "val new_reslult = (Out[4] as Int) * 2\n",
    "\n",
    "new_reslult"
   ],
   "metadata": {
    "collapsed": false,
    "ExecuteTime": {
     "end_time": "2023-08-21T15:44:07.402311043Z",
     "start_time": "2023-08-21T15:44:07.275016862Z"
    }
   }
  },
  {
   "cell_type": "code",
   "execution_count": 23,
   "outputs": [],
   "source": [
    "%use lib-ext(0.11.0-398)"
   ],
   "metadata": {
    "collapsed": false,
    "ExecuteTime": {
     "end_time": "2023-08-21T15:44:08.779988169Z",
     "start_time": "2023-08-21T15:44:07.314378609Z"
    }
   }
  },
  {
   "cell_type": "code",
   "execution_count": 24,
   "outputs": [
    {
     "data": {
      "text/html": "<img src=\"https://kotlinlang.org/docs/images/kotlin-logo.png\" width=\"300\"/>"
     },
     "execution_count": 24,
     "metadata": {},
     "output_type": "execute_result"
    }
   ],
   "source": [
    "val kotlin_logo = Image(\"https://kotlinlang.org/docs/images/kotlin-logo.png\", embed = false).withWidth(300)\n",
    "kotlin_logo"
   ],
   "metadata": {
    "collapsed": false,
    "ExecuteTime": {
     "end_time": "2023-08-21T15:44:08.809705388Z",
     "start_time": "2023-08-21T15:44:08.776125356Z"
    }
   }
  },
  {
   "cell_type": "code",
   "execution_count": 25,
   "outputs": [
    {
     "data": {
      "text/html": "<h2>Wow pretty neatho</h2>"
     },
     "metadata": {},
     "output_type": "display_data"
    },
    {
     "data": {
      "text/html": "<img src=\"https://kotlinlang.org/docs/images/kotlin-logo.png\" width=\"300\"/>"
     },
     "metadata": {},
     "output_type": "display_data"
    }
   ],
   "source": [
    "DISPLAY(HTML(\"<h2>Wow pretty neatho</h2>\"))\n",
    "DISPLAY(kotlin_logo)"
   ],
   "metadata": {
    "collapsed": false,
    "ExecuteTime": {
     "end_time": "2023-08-21T15:44:08.833750250Z",
     "start_time": "2023-08-21T15:44:08.809641428Z"
    }
   }
  },
  {
   "cell_type": "code",
   "execution_count": 26,
   "outputs": [
    {
     "data": {
      "text/html": "<img src=\"data:image/svg+xml;base64,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\"/>"
     },
     "execution_count": 26,
     "metadata": {},
     "output_type": "execute_result"
    }
   ],
   "source": [
    "LATEX(\"c^2 = a^2 + b^2 - 2 a b \\\\cos\\\\alpha\")"
   ],
   "metadata": {
    "collapsed": false,
    "ExecuteTime": {
     "end_time": "2023-08-21T15:44:08.859312908Z",
     "start_time": "2023-08-21T15:44:08.833509041Z"
    }
   }
  },
  {
   "cell_type": "markdown",
   "source": [
    "Damn... You can even insert download links into notebooks, from images generated inside the notebook itself?"
   ],
   "metadata": {
    "collapsed": false
   }
  },
  {
   "cell_type": "code",
   "execution_count": 28,
   "outputs": [
    {
     "data": {
      "image/png": "[encoded data removed]",
      "text/plain": "class java.awt.image.BufferedImage: 300x300 px"
     },
     "execution_count": 28,
     "metadata": {},
     "output_type": "execute_result"
    }
   ],
   "source": [
    "import java.awt.Color\n",
    "import java.awt.image.BufferedImage\n",
    "\n",
    "val width = 300\n",
    "val height = width\n",
    "\n",
    "val image = BufferedImage(width, height, BufferedImage.TYPE_INT_ARGB)\n",
    "\n",
    "val graphics = image.createGraphics()\n",
    "graphics.background = Color.BLACK\n",
    "graphics.clearRect(0, 0, width, height)\n",
    "graphics.setRenderingHint(\n",
    "    java.awt.RenderingHints.KEY_ANTIALIASING,\n",
    "    java.awt.RenderingHints.VALUE_ANTIALIAS_ON\n",
    ")\n",
    "graphics.color = Color.WHITE\n",
    "graphics.fillRect(width / 10, height * 8 / 10, width * 10 / 20, height / 10)\n",
    "graphics.dispose()\n",
    "\n",
    "image"
   ],
   "metadata": {
    "collapsed": false,
    "ExecuteTime": {
     "end_time": "2023-08-21T15:48:54.412562533Z",
     "start_time": "2023-08-21T15:48:54.269130253Z"
    }
   }
  },
  {
   "cell_type": "code",
   "execution_count": 29,
   "outputs": [
    {
     "data": {
      "text/plain": "Kotlin Jupyter kernel.\nKernel version: 0.11.0.381\nKotlin version: 1.8.20\nJVM version: 11\n\nCommands:\n    :help - display help\n    :classpath - show current classpath\n    :vars - get visible variables values\n\nMagics:\n    %use - injects code for supported libraries: artifact resolution, default imports, initialization code, type renderers\n        Usage: %use klaxon(5.5), lets-plot\n    %trackClasspath - logs any changes of current classpath. Useful for debugging artifact resolution failures\n        Usage: %trackClasspath [on|off]\n    %trackExecution - logs pieces of code that are going to be executed. Useful for debugging of libraries support\n        Usage: %trackExecution [all|generated|off]\n    %useLatestDescriptors - use latest versions of library descriptors available. By default, bundled descriptors are used. Note that default behavior is preferred: latest descriptors versions might be not supported by current version of kernel. So if you care about stability of the notebook, avoid using this line magic\n        Usage: %useLatestDescriptors [on|off]\n    %output - output capturing settings\n        Usage: %output --max-cell-size=1000 --no-stdout --max-time=100 --max-buffer=400\n    %logLevel - set logging level\n        Usage: %logLevel [off|error|warn|info|debug]\n\nSupported libraries:\n    kravis (https://github.com/holgerbrandl/kravis) - Kotlin grammar for data visualization\n    plotly (https://github.com/mipt-npm/plotly.kt) - [beta] Plotly.kt jupyter integration for static plots.\n    exposed (https://github.com/JetBrains/Exposed) - Kotlin SQL framework\n    lets-plot-gt (https://github.com/JetBrains/lets-plot-kotlin) - Lets-Plot visualisation for GeoTools toolkit\n    deeplearning4j (https://github.com/eclipse/deeplearning4j) - Deep learning library for the JVM\n    kraphviz (https://github.com/nidi3/graphviz-java) - Graphviz wrapper for JVM\n    serialization (https://github.com/Kotlin/kotlinx.serialization) - Kotlin multi-format reflection-less serialization\n    krangl (https://github.com/holgerbrandl/krangl) - Kotlin DSL for data wrangling\n    roboquant (https://roboquant.org) - Algorithmic trading platform written in Kotlin\n    kmath (https://github.com/mipt-npm/kmath) - Experimental Kotlin algebra-based mathematical library\n    gral (https://github.com/eseifert/gral) - Java library for displaying plots\n    webtau (https://github.com/testingisdocumenting/webtau) - WebTau end-to-end testing across layers\n    deeplearning4j-cuda (https://github.com/eclipse/deeplearning4j) - Deep learning library for the JVM (CUDA support)\n    gradle-enterprise-api-kotlin (https://github.com/gabrielfeo/gradle-enterprise-api-kotlin) - A library to use the Gradle Enterprise API in Kotlin scripts or projects\n    coroutines (https://github.com/Kotlin/kotlinx.coroutines) - Asynchronous programming and reactive streams support\n    mysql (https://github.com/mysql/mysql-connector-j) - MySql JDBC Connector\n    lets-plot-dataframe (https://github.com/JetBrains/lets-plot-kotlin) - A bridge between Lets-Plot and dataframe libraries\n    multik (https://github.com/Kotlin/multik) - Multidimensional array library for Kotlin\n    reflection (https://kotlinlang.org/docs/reflection.html) - Imports for Kotlin Reflection\n    smile (https://github.com/haifengl/smile) - Statistical Machine Intelligence and Learning Engine\n    kandy-echarts (https://github.com/Kotlin/kandy) - Kotlin plotting DSL for Apache ECharts\n    spark-streaming (https://github.com/JetBrains/kotlin-spark-api) - Kotlin API for Apache Spark Streaming: scalable, high-throughput, fault-tolerant stream processing of live data streams\n    rdkit (https://www.rdkit.org/) - Open-Source Cheminformatics Software\n    combinatoricskt (https://github.com/shiguruikai/combinatoricskt) - A combinatorics library for Kotlin\n    lib-ext (https://github.com/Kotlin/kotlin-jupyter) - Extended functionality for Jupyter kernel\n    khttp (https://github.com/jkcclemens/khttp) - HTTP networking library\n    plotly-server (https://github.com/mipt-npm/plotly.kt) - [beta] Plotly.kt jupyter integration for dynamic plots.\n    londogard-nlp-toolkit (https://github.com/londogard/londogard-nlp-toolkit) - A Natural Language Processing (NLP) toolkit for Kotlin on the JVM\n    lets-plot (https://github.com/JetBrains/lets-plot-kotlin) - ggplot-like interactive visualization for Kotlin\n    openai (https://openai.com/blog/chatgpt) - OpenAI API for Jupyter Notebooks\n    fuel (https://github.com/kittinunf/fuel) - HTTP networking library\n    kalasim (https://www.kalasim.org) - Discrete event simulator\n    kaliningraph (https://github.com/breandan/kaliningraph) - Graph library with a DSL for constructing graphs and visualizing the behavior of graph algorithms\n    kandy (https://github.com/Kotlin/kandy) - Kotlin plotting DSL for Lets-Plot\n    kotlin-dl (https://github.com/Kotlin/kotlindl) - KotlinDL library which provides Keras-like API for deep learning\n    kotlin-statistics (https://github.com/thomasnield/kotlin-statistics) - Idiomatic statistical operators for Kotlin\n    jdsp (https://github.com/psambit9791/jDSP) - Java library for signal processing\n    default - Default imports: dataframe and Lets-Plot libraries\n    dataframe (https://github.com/Kotlin/dataframe) - Kotlin framework for structured data processing\n    biokotlin (https://bitbucket.org/bucklerlab/biokotlin) - BioKotlin aims to be a high-performance bioinformatics library that brings the power and speed of compiled programming languages to scripting and big data environments.\n    klaxon (https://github.com/cbeust/klaxon) - JSON parser for Kotlin\n    datetime (https://github.com/Kotlin/kotlinx-datetime) - Kotlin date/time library\n    spark (https://github.com/JetBrains/kotlin-spark-api) - Kotlin API for Apache Spark: unified analytics engine for large-scale data processing"
     },
     "execution_count": 29,
     "metadata": {},
     "output_type": "execute_result"
    }
   ],
   "source": [
    ":help"
   ],
   "metadata": {
    "collapsed": false,
    "ExecuteTime": {
     "end_time": "2023-08-21T15:49:24.411294175Z",
     "start_time": "2023-08-21T15:49:24.390792252Z"
    }
   }
  },
  {
   "cell_type": "markdown",
   "source": [
    "## How to add dependencies?"
   ],
   "metadata": {
    "collapsed": false
   }
  },
  {
   "cell_type": "code",
   "execution_count": 30,
   "outputs": [
    {
     "data": {
      "text/plain": ""
     },
     "metadata": {},
     "output_type": "display_data"
    },
    {
     "data": {
      "text/html": "            <div id=\"kotlin_out_0\"/>\n            <script type=\"text/javascript\">\n                            if(!window.kotlinQueues) {\n                window.kotlinQueues = {};\n            }\n            if(!window.kotlinQueues[\"kandyLetsPlot\"]) {\n                var resQueue = [];\n                window.kotlinQueues[\"kandyLetsPlot\"] = resQueue;\n                window[\"call_kandyLetsPlot\"] = function(f) {\n                    resQueue.push(f);\n                }\n            }\n            (function (){\n                var modifiers = [(function(script) {\n    script.src = \"https://cdn.jsdelivr.net/gh/JetBrains/lets-plot@v3.1.0/js-package/distr/lets-plot.min.js\"\n    script.type = \"text/javascript\";\n})];\n                var e = document.getElementById(\"kotlin_out_0\");\n                modifiers.forEach(function (gen) {\n                    var script = document.createElement(\"script\");\n                    gen(script)\n                    script.addEventListener(\"load\", function() {\n                        window[\"call_kandyLetsPlot\"] = function(f) {f();};\n                        window.kotlinQueues[\"kandyLetsPlot\"].forEach(function(f) {f();});\n                        window.kotlinQueues[\"kandyLetsPlot\"] = [];\n                    }, false);\n                    script.addEventListener(\"error\", function() {\n                        window[\"call_kandyLetsPlot\"] = function(f) {};\n                        window.kotlinQueues[\"kandyLetsPlot\"] = [];\n                        var div = document.createElement(\"div\");\n                        div.style.color = 'darkred';\n                        div.textContent = 'Error loading resource kandyLetsPlot';\n                        document.getElementById(\"kotlin_out_0\").appendChild(div);\n                    }, false);\n                    \n                    e.appendChild(script);\n                });\n            })();\n            </script>"
     },
     "metadata": {},
     "output_type": "display_data"
    }
   ],
   "source": [
    "USE {\n",
    "    repositories {\n",
    "        // Any additional repositories. Maven central is already included\n",
    "        // maven(\"<url>\")\n",
    "    }\n",
    "    dependencies {\n",
    "        // Here we add kandy plotting library\n",
    "        implementation(\"org.jetbrains.kotlinx:kandy-lets-plot:0.4.3\")\n",
    "    }\n",
    "\n",
    "    // Sometimes library integration are loaded transitively and you don't want them to do it.\n",
    "    discardIntegrationTypeNameIf {\n",
    "        it.startsWith(\"org.jetbrains.kotlinx.dataframe.\")\n",
    "    }\n",
    "}"
   ],
   "metadata": {
    "collapsed": false,
    "ExecuteTime": {
     "end_time": "2023-08-21T15:51:04.904639017Z",
     "start_time": "2023-08-21T15:50:11.182953594Z"
    }
   }
  },
  {
   "cell_type": "code",
   "execution_count": 31,
   "outputs": [
    {
     "data": {
      "text/html": "            <script type=\"text/javascript\" data-lets-plot-script=\"library\" src=\"https://cdn.jsdelivr.net/gh/JetBrains/lets-plot@v3.1.0/js-package/distr/lets-plot.min.js\"></script>    \n               <div id=\"kelwNK\"></div>\n   <script type=\"text/javascript\" data-lets-plot-script=\"plot\">\n       var plotSpec={\n\"mapping\":{\n},\n\"data\":{\n\"x\":[120.0,124.0,127.0,128.0,129.0,130.0,131.0,132.0,133.0,134.0,135.0,136.0,137.0,138.0,139.0,140.0,141.0,142.0,143.0,144.0,145.0,146.0,147.0,148.0,149.0,150.0,151.0,152.0,153.0,154.0,155.0,156.0,157.0,158.0,159.0,160.0,161.0,162.0,163.0,164.0,165.0,166.0,167.0,168.0,169.0,170.0,171.0,172.0,173.0,174.0,175.0,176.0,177.0,178.0,179.0,180.0,181.0,182.0,183.0,184.0,185.0,186.0,187.0,188.0,189.0,190.0,191.0,192.0,193.0,194.0,195.0,196.0,197.0,198.0,199.0,200.0,201.0,202.0,203.0,204.0,205.0,206.0,207.0,208.0,209.0,210.0,211.0,212.0,213.0,214.0,215.0,216.0,217.0,218.0,219.0,220.0,221.0,222.0],\n\"y\":[1.0,1.0,1.0,1.0,2.0,1.0,4.0,3.0,9.0,11.0,12.0,25.0,15.0,29.0,33.0,57.0,62.0,76.0,110.0,98.0,149.0,173.0,214.0,256.0,351.0,409.0,441.0,542.0,607.0,752.0,817.0,900.0,1057.0,1243.0,1382.0,1526.0,1658.0,1821.0,2032.0,2171.0,2426.0,2406.0,2606.0,2881.0,2892.0,3021.0,3160.0,3200.0,3363.0,3299.0,3326.0,3312.0,3304.0,3188.0,3096.0,3029.0,2999.0,2730.0,2733.0,2476.0,2320.0,2110.0,2032.0,1859.0,1693.0,1506.0,1372.0,1178.0,1125.0,971.0,789.0,713.0,682.0,517.0,455.0,368.0,361.0,271.0,237.0,164.0,162.0,144.0,124.0,95.0,60.0,63.0,38.0,24.0,19.0,13.0,11.0,9.0,6.0,3.0,2.0,2.0,1.0,2.0]\n},\n\"kind\":\"plot\",\n\"scales\":[{\n\"aesthetic\":\"x\",\n\"limits\":[null,null]\n},{\n\"aesthetic\":\"y\",\n\"limits\":[null,null]\n}],\n\"layers\":[{\n\"mapping\":{\n\"x\":\"x\",\n\"y\":\"y\"\n},\n\"stat\":\"identity\",\n\"sampling\":\"none\",\n\"position\":\"dodge\",\n\"geom\":\"bar\",\n\"data\":{\n}\n}]\n};\n       var plotContainer = document.getElementById(\"kelwNK\");\n       LetsPlot.buildPlotFromProcessedSpecs(plotSpec, -1, -1, plotContainer);\n   </script>            \n        <svg id=f3fe36be-74a9-4a1b-911f-d9fc8065d22c xmlns=\"http://www.w3.org/2000/svg\" xmlns:xlink=\"http://www.w3.org/1999/xlink\" class=\"plt-container\" width=\"600.0\" height=\"400.0\">\n  <style type=\"text/css\">\n  .plt-container {\n   font-family: Lucida Grande, sans-serif;\n   user-select: none;\n   -webkit-user-select: none;\n   -moz-user-select: none;\n   -ms-user-select: none;\n}\ntext {\n   text-rendering: optimizeLegibility;\n}\n#piJxJyv .plot-title {\n   fill: #474747;\n   font-family: Lucida Grande, sans-serif;\n   font-size: 16.0px;\n   font-weight: normal;\n   font-style: normal;   \n}\n#piJxJyv .plot-subtitle {\n   fill: #474747;\n   font-family: Lucida Grande, sans-serif;\n   font-size: 15.0px;\n   font-weight: normal;\n   font-style: normal;   \n}\n#piJxJyv .plot-caption {\n   fill: #474747;\n   font-family: Lucida Grande, sans-serif;\n   font-size: 13.0px;\n   font-weight: normal;\n   font-style: normal;   \n}\n#piJxJyv .legend-title {\n   fill: #474747;\n   font-family: Lucida Grande, sans-serif;\n   font-size: 15.0px;\n   font-weight: normal;\n   font-style: normal;   \n}\n#piJxJyv .legend-item {\n   fill: #474747;\n   font-family: Lucida Grande, sans-serif;\n   font-size: 13.0px;\n   font-weight: normal;\n   font-style: normal;   \n}\n#piJxJyv .axis-title-x {\n   fill: #474747;\n   font-family: Lucida Grande, sans-serif;\n   font-size: 15.0px;\n   font-weight: normal;\n   font-style: normal;   \n}\n#piJxJyv .axis-text-x {\n   fill: #474747;\n   font-family: Lucida Grande, sans-serif;\n   font-size: 13.0px;\n   font-weight: normal;\n   font-style: normal;   \n}\n#dAQ2cm9 .axis-tooltip-text-x {\n   fill: #ffffff;\n   font-family: Lucida Grande, sans-serif;\n   font-size: 13.0px;\n   font-weight: normal;\n   font-style: normal;   \n}\n#piJxJyv .axis-title-y {\n   fill: #474747;\n   font-family: Lucida Grande, sans-serif;\n   font-size: 15.0px;\n   font-weight: normal;\n   font-style: normal;   \n}\n#piJxJyv .axis-text-y {\n   fill: #474747;\n   font-family: Lucida Grande, sans-serif;\n   font-size: 13.0px;\n   font-weight: normal;\n   font-style: normal;   \n}\n#dAQ2cm9 .axis-tooltip-text-y {\n   fill: #ffffff;\n   font-family: Lucida Grande, sans-serif;\n   font-size: 13.0px;\n   font-weight: normal;\n   font-style: normal;   \n}\n#piJxJyv .facet-strip-text-x {\n   fill: #474747;\n   font-family: Lucida Grande, sans-serif;\n   font-size: 13.0px;\n   font-weight: normal;\n   font-style: normal;   \n}\n#piJxJyv .facet-strip-text-y {\n   fill: #474747;\n   font-family: Lucida Grande, sans-serif;\n   font-size: 13.0px;\n   font-weight: normal;\n   font-style: normal;   \n}\n#dAQ2cm9 .tooltip-text {\n   fill: #474747;\n   font-family: Lucida Grande, sans-serif;\n   font-size: 13.0px;\n   font-weight: normal;\n   font-style: normal;   \n}\n#dAQ2cm9 .tooltip-title {\n   fill: #474747;\n   font-family: Lucida Grande, sans-serif;\n   font-size: 13.0px;\n   font-weight: bold;\n   font-style: normal;   \n}\n#dAQ2cm9 .tooltip-label {\n   fill: #474747;\n   font-family: Lucida Grande, sans-serif;\n   font-size: 13.0px;\n   font-weight: bold;\n   font-style: normal;   \n}\n\n  </style>\n  <g id=\"piJxJyv\">\n    <rect x=\"0.0\" y=\"0.0\" height=\"400.0\" width=\"600.0\" stroke=\"rgb(71,71,71)\" stroke-opacity=\"1.0\" stroke-width=\"0.0\" fill=\"rgb(255,255,255)\" fill-opacity=\"1.0\">\n    </rect>\n    <g transform=\"translate(23.0 10.0 ) \">\n      <g transform=\"translate(42.99591213121782 344.0 ) \">\n        <line x1=\"25.901606781746068\" y1=\"-0.0\" x2=\"25.901606781746068\" y2=\"-344.0\" stroke=\"rgb(233,233,233)\" stroke-opacity=\"1.0\" stroke-width=\"1.0\">\n        </line>\n        <line x1=\"118.49001350827359\" y1=\"-0.0\" x2=\"118.49001350827359\" y2=\"-344.0\" stroke=\"rgb(233,233,233)\" stroke-opacity=\"1.0\" stroke-width=\"1.0\">\n        </line>\n        <line x1=\"211.078420234801\" y1=\"-0.0\" x2=\"211.078420234801\" y2=\"-344.0\" stroke=\"rgb(233,233,233)\" stroke-opacity=\"1.0\" stroke-width=\"1.0\">\n        </line>\n        <line x1=\"303.6668269613285\" y1=\"-0.0\" x2=\"303.6668269613285\" y2=\"-344.0\" stroke=\"rgb(233,233,233)\" stroke-opacity=\"1.0\" stroke-width=\"1.0\">\n        </line>\n        <line x1=\"396.25523368785593\" y1=\"-0.0\" x2=\"396.25523368785593\" y2=\"-344.0\" stroke=\"rgb(233,233,233)\" stroke-opacity=\"1.0\" stroke-width=\"1.0\">\n        </line>\n        <line x1=\"488.84364041438346\" y1=\"-0.0\" x2=\"488.84364041438346\" y2=\"-344.0\" stroke=\"rgb(233,233,233)\" stroke-opacity=\"1.0\" stroke-width=\"1.0\">\n        </line>\n        <g transform=\"translate(25.901606781746068 0.0 ) \">\n          <line stroke-width=\"1.0\" stroke=\"rgb(71,71,71)\" stroke-opacity=\"1.0\" x2=\"0.0\" y2=\"4.0\">\n          </line>\n          <g transform=\"translate(0.0 7.0 ) \">\n            <text class=\"axis-text-x\" text-anchor=\"middle\" dy=\"0.7em\">\n            120\n            </text>\n          </g>\n        </g>\n        <g transform=\"translate(118.49001350827359 0.0 ) \">\n          <line stroke-width=\"1.0\" stroke=\"rgb(71,71,71)\" stroke-opacity=\"1.0\" x2=\"0.0\" y2=\"4.0\">\n          </line>\n          <g transform=\"translate(0.0 7.0 ) \">\n            <text class=\"axis-text-x\" text-anchor=\"middle\" dy=\"0.7em\">\n            140\n            </text>\n          </g>\n        </g>\n        <g transform=\"translate(211.078420234801 0.0 ) \">\n          <line stroke-width=\"1.0\" stroke=\"rgb(71,71,71)\" stroke-opacity=\"1.0\" x2=\"0.0\" y2=\"4.0\">\n          </line>\n          <g transform=\"translate(0.0 7.0 ) \">\n            <text class=\"axis-text-x\" text-anchor=\"middle\" dy=\"0.7em\">\n            160\n            </text>\n          </g>\n        </g>\n        <g transform=\"translate(303.6668269613285 0.0 ) \">\n          <line stroke-width=\"1.0\" stroke=\"rgb(71,71,71)\" stroke-opacity=\"1.0\" x2=\"0.0\" y2=\"4.0\">\n          </line>\n          <g transform=\"translate(0.0 7.0 ) \">\n            <text class=\"axis-text-x\" text-anchor=\"middle\" dy=\"0.7em\">\n            180\n            </text>\n          </g>\n        </g>\n        <g transform=\"translate(396.25523368785593 0.0 ) \">\n          <line stroke-width=\"1.0\" stroke=\"rgb(71,71,71)\" stroke-opacity=\"1.0\" x2=\"0.0\" y2=\"4.0\">\n          </line>\n          <g transform=\"translate(0.0 7.0 ) \">\n            <text class=\"axis-text-x\" text-anchor=\"middle\" dy=\"0.7em\">\n            200\n            </text>\n          </g>\n        </g>\n        <g transform=\"translate(488.84364041438346 0.0 ) \">\n          <line stroke-width=\"1.0\" stroke=\"rgb(71,71,71)\" stroke-opacity=\"1.0\" x2=\"0.0\" y2=\"4.0\">\n          </line>\n          <g transform=\"translate(0.0 7.0 ) \">\n            <text class=\"axis-text-x\" text-anchor=\"middle\" dy=\"0.7em\">\n            220\n            </text>\n          </g>\n        </g>\n        <line x1=\"0.0\" y1=\"0.0\" x2=\"524.0040878687822\" y2=\"0.0\" stroke-width=\"1.0\" stroke=\"rgb(71,71,71)\" stroke-opacity=\"1.0\">\n        </line>\n      </g>\n      <g transform=\"translate(42.99591213121782 0.0 ) \">\n        <line x1=\"0.0\" y1=\"295.2906560185775\" x2=\"524.0040878687822\" y2=\"295.2906560185775\" stroke=\"rgb(233,233,233)\" stroke-opacity=\"1.0\" stroke-width=\"1.0\">\n        </line>\n        <line x1=\"0.0\" y1=\"246.58131203715504\" x2=\"524.0040878687822\" y2=\"246.58131203715504\" stroke=\"rgb(233,233,233)\" stroke-opacity=\"1.0\" stroke-width=\"1.0\">\n        </line>\n        <line x1=\"0.0\" y1=\"197.87196805573257\" x2=\"524.0040878687822\" y2=\"197.87196805573257\" stroke=\"rgb(233,233,233)\" stroke-opacity=\"1.0\" stroke-width=\"1.0\">\n        </line>\n        <line x1=\"0.0\" y1=\"149.1626240743101\" x2=\"524.0040878687822\" y2=\"149.1626240743101\" stroke=\"rgb(233,233,233)\" stroke-opacity=\"1.0\" stroke-width=\"1.0\">\n        </line>\n        <line x1=\"0.0\" y1=\"100.45328009288761\" x2=\"524.0040878687822\" y2=\"100.45328009288761\" stroke=\"rgb(233,233,233)\" stroke-opacity=\"1.0\" stroke-width=\"1.0\">\n        </line>\n        <line x1=\"0.0\" y1=\"51.74393611146513\" x2=\"524.0040878687822\" y2=\"51.74393611146513\" stroke=\"rgb(233,233,233)\" stroke-opacity=\"1.0\" stroke-width=\"1.0\">\n        </line>\n        <g transform=\"translate(0.0 344.0 ) \">\n          <g transform=\"translate(-3.0 0.0 ) \">\n            <text class=\"axis-text-y\" text-anchor=\"end\" dy=\"0.35em\">\n            0\n            </text>\n          </g>\n        </g>\n        <g transform=\"translate(0.0 295.2906560185775 ) \">\n          <g transform=\"translate(-3.0 0.0 ) \">\n            <text class=\"axis-text-y\" text-anchor=\"end\" dy=\"0.35em\">\n            500\n            </text>\n          </g>\n        </g>\n        <g transform=\"translate(0.0 246.58131203715504 ) \">\n          <g transform=\"translate(-3.0 0.0 ) \">\n            <text class=\"axis-text-y\" text-anchor=\"end\" dy=\"0.35em\">\n            1,000\n            </text>\n          </g>\n        </g>\n        <g transform=\"translate(0.0 197.87196805573257 ) \">\n          <g transform=\"translate(-3.0 0.0 ) \">\n            <text class=\"axis-text-y\" text-anchor=\"end\" dy=\"0.35em\">\n            1,500\n            </text>\n          </g>\n        </g>\n        <g transform=\"translate(0.0 149.1626240743101 ) \">\n          <g transform=\"translate(-3.0 0.0 ) \">\n            <text class=\"axis-text-y\" text-anchor=\"end\" dy=\"0.35em\">\n            2,000\n            </text>\n          </g>\n        </g>\n        <g transform=\"translate(0.0 100.45328009288761 ) \">\n          <g transform=\"translate(-3.0 0.0 ) \">\n            <text class=\"axis-text-y\" text-anchor=\"end\" dy=\"0.35em\">\n            2,500\n            </text>\n          </g>\n        </g>\n        <g transform=\"translate(0.0 51.74393611146513 ) \">\n          <g transform=\"translate(-3.0 0.0 ) \">\n            <text class=\"axis-text-y\" text-anchor=\"end\" dy=\"0.35em\">\n            3,000\n            </text>\n          </g>\n        </g>\n        <g transform=\"translate(0.0 3.034592130042654 ) \">\n          <g transform=\"translate(-3.0 0.0 ) \">\n            <text class=\"axis-text-y\" text-anchor=\"end\" dy=\"0.35em\">\n            3,500\n            </text>\n          </g>\n        </g>\n      </g>\n      <g transform=\"translate(42.99591213121782 0.0 ) \" clip-path=\"url(#cloadkC)\" clip-bounds-jfx=\"[rect (0.0, 0.0), (524.0040878687822, 344.0)]\">\n        <defs>\n          <clipPath id=\"cloadkC\">\n            <rect x=\"0.0\" y=\"0.0\" width=\"524.0040878687822\" height=\"344.0\">\n            </rect>\n          </clipPath>\n        </defs>\n        <rect x=\"496.01924193568937\" y=\"343.8051626240743\" height=\"0.19483737592571515\" width=\"4.166478302693804\" stroke=\"rgb(0,0,0)\" stroke-opacity=\"0.0\" fill=\"rgb(17,142,216)\" fill-opacity=\"1.0\" stroke-width=\"1.0\">\n        </rect>\n        <rect x=\"491.389821599363\" y=\"343.90258131203717\" height=\"0.09741868796282915\" width=\"4.166478302693804\" stroke=\"rgb(0,0,0)\" stroke-opacity=\"0.0\" fill=\"rgb(17,142,216)\" fill-opacity=\"1.0\" stroke-width=\"1.0\">\n        </rect>\n        <rect x=\"486.76040126303667\" y=\"343.8051626240743\" height=\"0.19483737592571515\" width=\"4.16647830269369\" stroke=\"rgb(0,0,0)\" stroke-opacity=\"0.0\" fill=\"rgb(17,142,216)\" fill-opacity=\"1.0\" stroke-width=\"1.0\">\n        </rect>\n        <rect x=\"482.1309809267102\" y=\"343.8051626240743\" height=\"0.19483737592571515\" width=\"4.166478302693804\" stroke=\"rgb(0,0,0)\" stroke-opacity=\"0.0\" fill=\"rgb(17,142,216)\" fill-opacity=\"1.0\" stroke-width=\"1.0\">\n        </rect>\n        <rect x=\"477.50156059038386\" y=\"343.70774393611146\" height=\"0.2922560638885443\" width=\"4.166478302693804\" stroke=\"rgb(0,0,0)\" stroke-opacity=\"0.0\" fill=\"rgb(17,142,216)\" fill-opacity=\"1.0\" stroke-width=\"1.0\">\n        </rect>\n        <rect x=\"472.8721402540575\" y=\"343.4154878722229\" height=\"0.5845121277770886\" width=\"4.166478302693804\" stroke=\"rgb(0,0,0)\" stroke-opacity=\"0.0\" fill=\"rgb(17,142,216)\" fill-opacity=\"1.0\" stroke-width=\"1.0\">\n        </rect>\n        <rect x=\"468.24271991773116\" y=\"343.12323180833437\" height=\"0.8767681916656329\" width=\"4.16647830269369\" stroke=\"rgb(0,0,0)\" stroke-opacity=\"0.0\" fill=\"rgb(17,142,216)\" fill-opacity=\"1.0\" stroke-width=\"1.0\">\n        </rect>\n        <rect x=\"463.6132995814047\" y=\"342.9283944324087\" height=\"1.0716055675912912\" width=\"4.166478302693804\" stroke=\"rgb(0,0,0)\" stroke-opacity=\"0.0\" fill=\"rgb(17,142,216)\" fill-opacity=\"1.0\" stroke-width=\"1.0\">\n        </rect>\n        <rect x=\"458.98387924507836\" y=\"342.733557056483\" height=\"1.2664429435170064\" width=\"4.166478302693804\" stroke=\"rgb(0,0,0)\" stroke-opacity=\"0.0\" fill=\"rgb(17,142,216)\" fill-opacity=\"1.0\" stroke-width=\"1.0\">\n        </rect>\n        <rect x=\"454.354458908752\" y=\"342.14904492870596\" height=\"1.8509550712940381\" width=\"4.166478302693804\" stroke=\"rgb(0,0,0)\" stroke-opacity=\"0.0\" fill=\"rgb(17,142,216)\" fill-opacity=\"1.0\" stroke-width=\"1.0\">\n        </rect>\n        <rect x=\"449.72503857242566\" y=\"341.6619514888917\" height=\"2.3380485111082976\" width=\"4.16647830269369\" stroke=\"rgb(0,0,0)\" stroke-opacity=\"0.0\" fill=\"rgb(17,142,216)\" fill-opacity=\"1.0\" stroke-width=\"1.0\">\n        </rect>\n        <rect x=\"445.0956182360993\" y=\"340.29808985741187\" height=\"3.701910142588133\" width=\"4.16647830269369\" stroke=\"rgb(0,0,0)\" stroke-opacity=\"0.0\" fill=\"rgb(17,142,216)\" fill-opacity=\"1.0\" stroke-width=\"1.0\">\n        </rect>\n        <rect x=\"440.46619789977285\" y=\"337.86262265834074\" height=\"6.13737734165926\" width=\"4.166478302693804\" stroke=\"rgb(0,0,0)\" stroke-opacity=\"0.0\" fill=\"rgb(17,142,216)\" fill-opacity=\"1.0\" stroke-width=\"1.0\">\n        </rect>\n        <rect x=\"435.8367775634465\" y=\"338.1548787222293\" height=\"5.8451212777707156\" width=\"4.166478302693804\" stroke=\"rgb(0,0,0)\" stroke-opacity=\"0.0\" fill=\"rgb(17,142,216)\" fill-opacity=\"1.0\" stroke-width=\"1.0\">\n        </rect>\n        <rect x=\"431.20735722712016\" y=\"334.74522464352975\" height=\"9.254775356470248\" width=\"4.166478302693804\" stroke=\"rgb(0,0,0)\" stroke-opacity=\"0.0\" fill=\"rgb(17,142,216)\" fill-opacity=\"1.0\" stroke-width=\"1.0\">\n        </rect>\n        <rect x=\"426.5779368907938\" y=\"331.92008269260725\" height=\"12.079917307392748\" width=\"4.16647830269369\" stroke=\"rgb(0,0,0)\" stroke-opacity=\"0.0\" fill=\"rgb(17,142,216)\" fill-opacity=\"1.0\" stroke-width=\"1.0\">\n        </rect>\n        <rect x=\"421.94851655446735\" y=\"329.9717089333503\" height=\"14.028291066649672\" width=\"4.166478302693804\" stroke=\"rgb(0,0,0)\" stroke-opacity=\"0.0\" fill=\"rgb(17,142,216)\" fill-opacity=\"1.0\" stroke-width=\"1.0\">\n        </rect>\n        <rect x=\"417.319096218141\" y=\"328.2181725500191\" height=\"15.78182744998088\" width=\"4.166478302693804\" stroke=\"rgb(0,0,0)\" stroke-opacity=\"0.0\" fill=\"rgb(17,142,216)\" fill-opacity=\"1.0\" stroke-width=\"1.0\">\n        </rect>\n        <rect x=\"412.68967588181465\" y=\"328.0233351740934\" height=\"15.976664825906596\" width=\"4.166478302693804\" stroke=\"rgb(0,0,0)\" stroke-opacity=\"0.0\" fill=\"rgb(17,142,216)\" fill-opacity=\"1.0\" stroke-width=\"1.0\">\n        </rect>\n        <rect x=\"408.0602555454883\" y=\"320.91177095280574\" height=\"23.08822904719426\" width=\"4.16647830269369\" stroke=\"rgb(0,0,0)\" stroke-opacity=\"0.0\" fill=\"rgb(17,142,216)\" fill-opacity=\"1.0\" stroke-width=\"1.0\">\n        </rect>\n        <rect x=\"403.43083520916196\" y=\"317.59953556206904\" height=\"26.400464437930964\" width=\"4.16647830269369\" stroke=\"rgb(0,0,0)\" stroke-opacity=\"0.0\" fill=\"rgb(17,142,216)\" fill-opacity=\"1.0\" stroke-width=\"1.0\">\n        </rect>\n        <rect x=\"398.8014148728355\" y=\"308.831853645413\" height=\"35.16814635458701\" width=\"4.166478302693804\" stroke=\"rgb(0,0,0)\" stroke-opacity=\"0.0\" fill=\"rgb(17,142,216)\" fill-opacity=\"1.0\" stroke-width=\"1.0\">\n        </rect>\n        <rect x=\"394.17199453650915\" y=\"308.1499228296731\" height=\"35.85007717032693\" width=\"4.166478302693804\" stroke=\"rgb(0,0,0)\" stroke-opacity=\"0.0\" fill=\"rgb(17,142,216)\" fill-opacity=\"1.0\" stroke-width=\"1.0\">\n        </rect>\n        <rect x=\"389.5425742001828\" y=\"299.6744969769055\" height=\"44.325503023094484\" width=\"4.16647830269369\" stroke=\"rgb(0,0,0)\" stroke-opacity=\"0.0\" fill=\"rgb(17,142,216)\" fill-opacity=\"1.0\" stroke-width=\"1.0\">\n        </rect>\n        <rect x=\"384.91315386385645\" y=\"293.63453832320914\" height=\"50.36546167679086\" width=\"4.16647830269369\" stroke=\"rgb(0,0,0)\" stroke-opacity=\"0.0\" fill=\"rgb(17,142,216)\" fill-opacity=\"1.0\" stroke-width=\"1.0\">\n        </rect>\n        <rect x=\"380.28373352753\" y=\"277.5604548093397\" height=\"66.43954519066028\" width=\"4.166478302693804\" stroke=\"rgb(0,0,0)\" stroke-opacity=\"0.0\" fill=\"rgb(17,142,216)\" fill-opacity=\"1.0\" stroke-width=\"1.0\">\n        </rect>\n        <rect x=\"375.65431319120364\" y=\"274.54047548249156\" height=\"69.45952451750844\" width=\"4.166478302693804\" stroke=\"rgb(0,0,0)\" stroke-opacity=\"0.0\" fill=\"rgb(17,142,216)\" fill-opacity=\"1.0\" stroke-width=\"1.0\">\n        </rect>\n        <rect x=\"371.0248928548773\" y=\"267.13665519731535\" height=\"76.86334480268465\" width=\"4.166478302693804\" stroke=\"rgb(0,0,0)\" stroke-opacity=\"0.0\" fill=\"rgb(17,142,216)\" fill-opacity=\"1.0\" stroke-width=\"1.0\">\n        </rect>\n        <rect x=\"366.39547251855095\" y=\"249.40645398807754\" height=\"94.59354601192246\" width=\"4.16647830269369\" stroke=\"rgb(0,0,0)\" stroke-opacity=\"0.0\" fill=\"rgb(17,142,216)\" fill-opacity=\"1.0\" stroke-width=\"1.0\">\n        </rect>\n        <rect x=\"361.7660521822245\" y=\"234.4039760417994\" height=\"109.59602395820059\" width=\"4.166478302693804\" stroke=\"rgb(0,0,0)\" stroke-opacity=\"0.0\" fill=\"rgb(17,142,216)\" fill-opacity=\"1.0\" stroke-width=\"1.0\">\n        </rect>\n        <rect x=\"357.13663184589814\" y=\"229.24078557976864\" height=\"114.75921442023136\" width=\"4.166478302693804\" stroke=\"rgb(0,0,0)\" stroke-opacity=\"0.0\" fill=\"rgb(17,142,216)\" fill-opacity=\"1.0\" stroke-width=\"1.0\">\n        </rect>\n        <rect x=\"352.5072115095718\" y=\"210.34156011497672\" height=\"133.65843988502328\" width=\"4.166478302693804\" stroke=\"rgb(0,0,0)\" stroke-opacity=\"0.0\" fill=\"rgb(17,142,216)\" fill-opacity=\"1.0\" stroke-width=\"1.0\">\n        </rect>\n        <rect x=\"347.87779117324544\" y=\"197.28745592795548\" height=\"146.71254407204452\" width=\"4.16647830269369\" stroke=\"rgb(0,0,0)\" stroke-opacity=\"0.0\" fill=\"rgb(17,142,216)\" fill-opacity=\"1.0\" stroke-width=\"1.0\">\n        </rect>\n        <rect x=\"343.2483708369191\" y=\"179.07016127890347\" height=\"164.92983872109653\" width=\"4.16647830269369\" stroke=\"rgb(0,0,0)\" stroke-opacity=\"0.0\" fill=\"rgb(17,142,216)\" fill-opacity=\"1.0\" stroke-width=\"1.0\">\n        </rect>\n        <rect x=\"338.61895050059263\" y=\"162.89865907707122\" height=\"181.10134092292878\" width=\"4.166478302693804\" stroke=\"rgb(0,0,0)\" stroke-opacity=\"0.0\" fill=\"rgb(17,142,216)\" fill-opacity=\"1.0\" stroke-width=\"1.0\">\n        </rect>\n        <rect x=\"333.9895301642663\" y=\"146.04522605949904\" height=\"197.95477394050096\" width=\"4.166478302693804\" stroke=\"rgb(0,0,0)\" stroke-opacity=\"0.0\" fill=\"rgb(17,142,216)\" fill-opacity=\"1.0\" stroke-width=\"1.0\">\n        </rect>\n        <rect x=\"329.36010982793994\" y=\"138.44656839839715\" height=\"205.55343160160285\" width=\"4.166478302693804\" stroke=\"rgb(0,0,0)\" stroke-opacity=\"0.0\" fill=\"rgb(17,142,216)\" fill-opacity=\"1.0\" stroke-width=\"1.0\">\n        </rect>\n        <rect x=\"324.7306894916136\" y=\"117.9886439261997\" height=\"226.0113560738003\" width=\"4.16647830269369\" stroke=\"rgb(0,0,0)\" stroke-opacity=\"0.0\" fill=\"rgb(17,142,216)\" fill-opacity=\"1.0\" stroke-width=\"1.0\">\n        </rect>\n        <rect x=\"320.1012691552871\" y=\"102.79132860399588\" height=\"241.20867139600412\" width=\"4.166478302693804\" stroke=\"rgb(0,0,0)\" stroke-opacity=\"0.0\" fill=\"rgb(17,142,216)\" fill-opacity=\"1.0\" stroke-width=\"1.0\">\n        </rect>\n        <rect x=\"315.4718488189608\" y=\"77.75472579754472\" height=\"266.2452742024553\" width=\"4.166478302693804\" stroke=\"rgb(0,0,0)\" stroke-opacity=\"0.0\" fill=\"rgb(17,142,216)\" fill-opacity=\"1.0\" stroke-width=\"1.0\">\n        </rect>\n        <rect x=\"310.84242848263443\" y=\"78.04698186143327\" height=\"265.95301813856673\" width=\"4.166478302693804\" stroke=\"rgb(0,0,0)\" stroke-opacity=\"0.0\" fill=\"rgb(17,142,216)\" fill-opacity=\"1.0\" stroke-width=\"1.0\">\n        </rect>\n        <rect x=\"306.2130081463081\" y=\"51.84135479942796\" height=\"292.15864520057204\" width=\"4.16647830269369\" stroke=\"rgb(0,0,0)\" stroke-opacity=\"0.0\" fill=\"rgb(17,142,216)\" fill-opacity=\"1.0\" stroke-width=\"1.0\">\n        </rect>\n        <rect x=\"301.58358780998174\" y=\"48.91879416054263\" height=\"295.08120583945737\" width=\"4.16647830269369\" stroke=\"rgb(0,0,0)\" stroke-opacity=\"0.0\" fill=\"rgb(17,142,216)\" fill-opacity=\"1.0\" stroke-width=\"1.0\">\n        </rect>\n        <rect x=\"296.9541674736553\" y=\"42.391742067032\" height=\"301.608257932968\" width=\"4.166478302693804\" stroke=\"rgb(0,0,0)\" stroke-opacity=\"0.0\" fill=\"rgb(17,142,216)\" fill-opacity=\"1.0\" stroke-width=\"1.0\">\n        </rect>\n        <rect x=\"292.3247471373289\" y=\"33.42922277445024\" height=\"310.57077722554976\" width=\"4.166478302693804\" stroke=\"rgb(0,0,0)\" stroke-opacity=\"0.0\" fill=\"rgb(17,142,216)\" fill-opacity=\"1.0\" stroke-width=\"1.0\">\n        </rect>\n        <rect x=\"287.6953268010026\" y=\"22.128654970760238\" height=\"321.87134502923976\" width=\"4.16647830269369\" stroke=\"rgb(0,0,0)\" stroke-opacity=\"0.0\" fill=\"rgb(17,142,216)\" fill-opacity=\"1.0\" stroke-width=\"1.0\">\n        </rect>\n        <rect x=\"283.06590646467623\" y=\"21.34930546705749\" height=\"322.6506945329425\" width=\"4.16647830269369\" stroke=\"rgb(0,0,0)\" stroke-opacity=\"0.0\" fill=\"rgb(17,142,216)\" fill-opacity=\"1.0\" stroke-width=\"1.0\">\n        </rect>\n        <rect x=\"278.43648612834977\" y=\"19.985443835577655\" height=\"324.01455616442234\" width=\"4.166478302693804\" stroke=\"rgb(0,0,0)\" stroke-opacity=\"0.0\" fill=\"rgb(17,142,216)\" fill-opacity=\"1.0\" stroke-width=\"1.0\">\n        </rect>\n        <rect x=\"273.8070657920234\" y=\"22.615748410574497\" height=\"321.3842515894255\" width=\"4.166478302693804\" stroke=\"rgb(0,0,0)\" stroke-opacity=\"0.0\" fill=\"rgb(17,142,216)\" fill-opacity=\"1.0\" stroke-width=\"1.0\">\n        </rect>\n        <rect x=\"269.1776454556971\" y=\"16.380952380952408\" height=\"327.6190476190476\" width=\"4.166478302693804\" stroke=\"rgb(0,0,0)\" stroke-opacity=\"0.0\" fill=\"rgb(17,142,216)\" fill-opacity=\"1.0\" stroke-width=\"1.0\">\n        </rect>\n        <rect x=\"264.5482251193707\" y=\"32.26019851889612\" height=\"311.7398014811039\" width=\"4.16647830269369\" stroke=\"rgb(0,0,0)\" stroke-opacity=\"0.0\" fill=\"rgb(17,142,216)\" fill-opacity=\"1.0\" stroke-width=\"1.0\">\n        </rect>\n        <rect x=\"259.9188047830444\" y=\"36.15694603740991\" height=\"307.8430539625901\" width=\"4.16647830269369\" stroke=\"rgb(0,0,0)\" stroke-opacity=\"0.0\" fill=\"rgb(17,142,216)\" fill-opacity=\"1.0\" stroke-width=\"1.0\">\n        </rect>\n        <rect x=\"255.28938444671792\" y=\"49.69814366424538\" height=\"294.3018563357546\" width=\"4.166478302693804\" stroke=\"rgb(0,0,0)\" stroke-opacity=\"0.0\" fill=\"rgb(17,142,216)\" fill-opacity=\"1.0\" stroke-width=\"1.0\">\n        </rect>\n        <rect x=\"250.65996411039157\" y=\"62.265154411452386\" height=\"281.7348455885476\" width=\"4.166478302693804\" stroke=\"rgb(0,0,0)\" stroke-opacity=\"0.0\" fill=\"rgb(17,142,216)\" fill-opacity=\"1.0\" stroke-width=\"1.0\">\n        </rect>\n        <rect x=\"246.03054377406522\" y=\"63.33675997904368\" height=\"280.6632400209563\" width=\"4.16647830269369\" stroke=\"rgb(0,0,0)\" stroke-opacity=\"0.0\" fill=\"rgb(17,142,216)\" fill-opacity=\"1.0\" stroke-width=\"1.0\">\n        </rect>\n        <rect x=\"241.40112343773887\" y=\"90.12689916882604\" height=\"253.87310083117396\" width=\"4.16647830269369\" stroke=\"rgb(0,0,0)\" stroke-opacity=\"0.0\" fill=\"rgb(17,142,216)\" fill-opacity=\"1.0\" stroke-width=\"1.0\">\n        </rect>\n        <rect x=\"236.7717031014124\" y=\"109.61063676139503\" height=\"234.38936323860497\" width=\"4.166478302693804\" stroke=\"rgb(0,0,0)\" stroke-opacity=\"0.0\" fill=\"rgb(17,142,216)\" fill-opacity=\"1.0\" stroke-width=\"1.0\">\n        </rect>\n        <rect x=\"232.14228276508607\" y=\"107.66226300213813\" height=\"236.33773699786187\" width=\"4.166478302693804\" stroke=\"rgb(0,0,0)\" stroke-opacity=\"0.0\" fill=\"rgb(17,142,216)\" fill-opacity=\"1.0\" stroke-width=\"1.0\">\n        </rect>\n        <rect x=\"227.51286242875972\" y=\"132.5040284326636\" height=\"211.4959715673364\" width=\"4.166478302693804\" stroke=\"rgb(0,0,0)\" stroke-opacity=\"0.0\" fill=\"rgb(17,142,216)\" fill-opacity=\"1.0\" stroke-width=\"1.0\">\n        </rect>\n        <rect x=\"222.88344209243337\" y=\"146.04522605949904\" height=\"197.95477394050096\" width=\"4.16647830269369\" stroke=\"rgb(0,0,0)\" stroke-opacity=\"0.0\" fill=\"rgb(17,142,216)\" fill-opacity=\"1.0\" stroke-width=\"1.0\">\n        </rect>\n        <rect x=\"218.2540217561069\" y=\"166.60056921965932\" height=\"177.39943078034068\" width=\"4.166478302693804\" stroke=\"rgb(0,0,0)\" stroke-opacity=\"0.0\" fill=\"rgb(17,142,216)\" fill-opacity=\"1.0\" stroke-width=\"1.0\">\n        </rect>\n        <rect x=\"213.62460141978056\" y=\"182.47981535760306\" height=\"161.52018464239694\" width=\"4.166478302693804\" stroke=\"rgb(0,0,0)\" stroke-opacity=\"0.0\" fill=\"rgb(17,142,216)\" fill-opacity=\"1.0\" stroke-width=\"1.0\">\n        </rect>\n        <rect x=\"208.9951810834542\" y=\"195.33908216869858\" height=\"148.66091783130142\" width=\"4.166478302693804\" stroke=\"rgb(0,0,0)\" stroke-opacity=\"0.0\" fill=\"rgb(17,142,216)\" fill-opacity=\"1.0\" stroke-width=\"1.0\">\n        </rect>\n        <rect x=\"204.36576074712787\" y=\"209.36737323534825\" height=\"134.63262676465175\" width=\"4.16647830269369\" stroke=\"rgb(0,0,0)\" stroke-opacity=\"0.0\" fill=\"rgb(17,142,216)\" fill-opacity=\"1.0\" stroke-width=\"1.0\">\n        </rect>\n        <rect x=\"199.73634041080152\" y=\"222.9085708621837\" height=\"121.0914291378163\" width=\"4.16647830269369\" stroke=\"rgb(0,0,0)\" stroke-opacity=\"0.0\" fill=\"rgb(17,142,216)\" fill-opacity=\"1.0\" stroke-width=\"1.0\">\n        </rect>\n        <rect x=\"195.10692007447506\" y=\"241.02844682327287\" height=\"102.97155317672713\" width=\"4.166478302693804\" stroke=\"rgb(0,0,0)\" stroke-opacity=\"0.0\" fill=\"rgb(17,142,216)\" fill-opacity=\"1.0\" stroke-width=\"1.0\">\n        </rect>\n        <rect x=\"190.4774997381487\" y=\"256.32318083343955\" height=\"87.67681916656045\" width=\"4.166478302693804\" stroke=\"rgb(0,0,0)\" stroke-opacity=\"0.0\" fill=\"rgb(17,142,216)\" fill-opacity=\"1.0\" stroke-width=\"1.0\">\n        </rect>\n        <rect x=\"185.84807940182236\" y=\"264.4089319343557\" height=\"79.59106806564432\" width=\"4.166478302693804\" stroke=\"rgb(0,0,0)\" stroke-opacity=\"0.0\" fill=\"rgb(17,142,216)\" fill-opacity=\"1.0\" stroke-width=\"1.0\">\n        </rect>\n        <rect x=\"181.218659065496\" y=\"270.7411466519406\" height=\"73.2588533480594\" width=\"4.16647830269369\" stroke=\"rgb(0,0,0)\" stroke-opacity=\"0.0\" fill=\"rgb(17,142,216)\" fill-opacity=\"1.0\" stroke-width=\"1.0\">\n        </rect>\n        <rect x=\"176.58923872916955\" y=\"284.8668564065531\" height=\"59.1331435934469\" width=\"4.166478302693804\" stroke=\"rgb(0,0,0)\" stroke-opacity=\"0.0\" fill=\"rgb(17,142,216)\" fill-opacity=\"1.0\" stroke-width=\"1.0\">\n        </rect>\n        <rect x=\"171.9598183928432\" y=\"291.199071124138\" height=\"52.800928875861985\" width=\"4.166478302693804\" stroke=\"rgb(0,0,0)\" stroke-opacity=\"0.0\" fill=\"rgb(17,142,216)\" fill-opacity=\"1.0\" stroke-width=\"1.0\">\n        </rect>\n        <rect x=\"167.33039805651686\" y=\"301.03835860838535\" height=\"42.96164139161465\" width=\"4.166478302693804\" stroke=\"rgb(0,0,0)\" stroke-opacity=\"0.0\" fill=\"rgb(17,142,216)\" fill-opacity=\"1.0\" stroke-width=\"1.0\">\n        </rect>\n        <rect x=\"162.7009777201905\" y=\"304.1557566231964\" height=\"39.844243376803604\" width=\"4.16647830269369\" stroke=\"rgb(0,0,0)\" stroke-opacity=\"0.0\" fill=\"rgb(17,142,216)\" fill-opacity=\"1.0\" stroke-width=\"1.0\">\n        </rect>\n        <rect x=\"158.07155738386416\" y=\"309.8060405250414\" height=\"34.1939594749586\" width=\"4.16647830269369\" stroke=\"rgb(0,0,0)\" stroke-opacity=\"0.0\" fill=\"rgb(17,142,216)\" fill-opacity=\"1.0\" stroke-width=\"1.0\">\n        </rect>\n        <rect x=\"153.4421370475377\" y=\"319.0608158815117\" height=\"24.9391841184883\" width=\"4.166478302693804\" stroke=\"rgb(0,0,0)\" stroke-opacity=\"0.0\" fill=\"rgb(17,142,216)\" fill-opacity=\"1.0\" stroke-width=\"1.0\">\n        </rect>\n        <rect x=\"148.81271671121135\" y=\"323.15240077595115\" height=\"20.84759922404885\" width=\"4.166478302693804\" stroke=\"rgb(0,0,0)\" stroke-opacity=\"0.0\" fill=\"rgb(17,142,216)\" fill-opacity=\"1.0\" stroke-width=\"1.0\">\n        </rect>\n        <rect x=\"144.183296374885\" y=\"327.1465669824278\" height=\"16.853433017572172\" width=\"4.16647830269369\" stroke=\"rgb(0,0,0)\" stroke-opacity=\"0.0\" fill=\"rgb(17,142,216)\" fill-opacity=\"1.0\" stroke-width=\"1.0\">\n        </rect>\n        <rect x=\"139.55387603855866\" y=\"329.4846154935361\" height=\"14.515384506463874\" width=\"4.16647830269369\" stroke=\"rgb(0,0,0)\" stroke-opacity=\"0.0\" fill=\"rgb(17,142,216)\" fill-opacity=\"1.0\" stroke-width=\"1.0\">\n        </rect>\n        <rect x=\"134.9244557022322\" y=\"334.4529685796412\" height=\"9.547031420358792\" width=\"4.166478302693804\" stroke=\"rgb(0,0,0)\" stroke-opacity=\"0.0\" fill=\"rgb(17,142,216)\" fill-opacity=\"1.0\" stroke-width=\"1.0\">\n        </rect>\n        <rect x=\"130.29503536590585\" y=\"333.28394432408703\" height=\"10.716055675912969\" width=\"4.166478302693804\" stroke=\"rgb(0,0,0)\" stroke-opacity=\"0.0\" fill=\"rgb(17,142,216)\" fill-opacity=\"1.0\" stroke-width=\"1.0\">\n        </rect>\n        <rect x=\"125.6656150295795\" y=\"336.5961797148238\" height=\"7.403820285176209\" width=\"4.166478302693804\" stroke=\"rgb(0,0,0)\" stroke-opacity=\"0.0\" fill=\"rgb(17,142,216)\" fill-opacity=\"1.0\" stroke-width=\"1.0\">\n        </rect>\n        <rect x=\"121.03619469325315\" y=\"337.9600413463036\" height=\"6.039958653696374\" width=\"4.16647830269369\" stroke=\"rgb(0,0,0)\" stroke-opacity=\"0.0\" fill=\"rgb(17,142,216)\" fill-opacity=\"1.0\" stroke-width=\"1.0\">\n        </rect>\n        <rect x=\"116.40677435692669\" y=\"338.44713478611783\" height=\"5.552865213882171\" width=\"4.166478302693804\" stroke=\"rgb(0,0,0)\" stroke-opacity=\"0.0\" fill=\"rgb(17,142,216)\" fill-opacity=\"1.0\" stroke-width=\"1.0\">\n        </rect>\n        <rect x=\"111.77735402060034\" y=\"340.7851832972261\" height=\"3.2148167027738737\" width=\"4.166478302693804\" stroke=\"rgb(0,0,0)\" stroke-opacity=\"0.0\" fill=\"rgb(17,142,216)\" fill-opacity=\"1.0\" stroke-width=\"1.0\">\n        </rect>\n        <rect x=\"107.147933684274\" y=\"341.1748580490775\" height=\"2.8251419509225\" width=\"4.166478302693804\" stroke=\"rgb(0,0,0)\" stroke-opacity=\"0.0\" fill=\"rgb(17,142,216)\" fill-opacity=\"1.0\" stroke-width=\"1.0\">\n        </rect>\n        <rect x=\"102.51851334794765\" y=\"342.53871968055734\" height=\"1.4612803194426647\" width=\"4.16647830269369\" stroke=\"rgb(0,0,0)\" stroke-opacity=\"0.0\" fill=\"rgb(17,142,216)\" fill-opacity=\"1.0\" stroke-width=\"1.0\">\n        </rect>\n        <rect x=\"97.8890930116213\" y=\"341.5645328009289\" height=\"2.4354671990711267\" width=\"4.16647830269369\" stroke=\"rgb(0,0,0)\" stroke-opacity=\"0.0\" fill=\"rgb(17,142,216)\" fill-opacity=\"1.0\" stroke-width=\"1.0\">\n        </rect>\n        <rect x=\"93.25967267529484\" y=\"342.8309757444459\" height=\"1.1690242555541204\" width=\"4.166478302693804\" stroke=\"rgb(0,0,0)\" stroke-opacity=\"0.0\" fill=\"rgb(17,142,216)\" fill-opacity=\"1.0\" stroke-width=\"1.0\">\n        </rect>\n        <rect x=\"88.63025233896849\" y=\"342.9283944324087\" height=\"1.0716055675912912\" width=\"4.166478302693804\" stroke=\"rgb(0,0,0)\" stroke-opacity=\"0.0\" fill=\"rgb(17,142,216)\" fill-opacity=\"1.0\" stroke-width=\"1.0\">\n        </rect>\n        <rect x=\"84.00083200264214\" y=\"343.12323180833437\" height=\"0.8767681916656329\" width=\"4.166478302693804\" stroke=\"rgb(0,0,0)\" stroke-opacity=\"0.0\" fill=\"rgb(17,142,216)\" fill-opacity=\"1.0\" stroke-width=\"1.0\">\n        </rect>\n        <rect x=\"79.3714116663158\" y=\"343.70774393611146\" height=\"0.2922560638885443\" width=\"4.16647830269369\" stroke=\"rgb(0,0,0)\" stroke-opacity=\"0.0\" fill=\"rgb(17,142,216)\" fill-opacity=\"1.0\" stroke-width=\"1.0\">\n        </rect>\n        <rect x=\"74.74199132998933\" y=\"343.6103252481486\" height=\"0.38967475185137346\" width=\"4.166478302693804\" stroke=\"rgb(0,0,0)\" stroke-opacity=\"0.0\" fill=\"rgb(17,142,216)\" fill-opacity=\"1.0\" stroke-width=\"1.0\">\n        </rect>\n        <rect x=\"70.11257099366298\" y=\"343.90258131203717\" height=\"0.09741868796282915\" width=\"4.166478302693804\" stroke=\"rgb(0,0,0)\" stroke-opacity=\"0.0\" fill=\"rgb(17,142,216)\" fill-opacity=\"1.0\" stroke-width=\"1.0\">\n        </rect>\n        <rect x=\"65.48315065733664\" y=\"343.8051626240743\" height=\"0.19483737592571515\" width=\"4.166478302693804\" stroke=\"rgb(0,0,0)\" stroke-opacity=\"0.0\" fill=\"rgb(17,142,216)\" fill-opacity=\"1.0\" stroke-width=\"1.0\">\n        </rect>\n        <rect x=\"60.853730321010175\" y=\"343.90258131203717\" height=\"0.09741868796282915\" width=\"4.16647830269369\" stroke=\"rgb(0,0,0)\" stroke-opacity=\"0.0\" fill=\"rgb(17,142,216)\" fill-opacity=\"1.0\" stroke-width=\"1.0\">\n        </rect>\n        <rect x=\"56.22430998468383\" y=\"343.90258131203717\" height=\"0.09741868796282915\" width=\"4.166478302693804\" stroke=\"rgb(0,0,0)\" stroke-opacity=\"0.0\" fill=\"rgb(17,142,216)\" fill-opacity=\"1.0\" stroke-width=\"1.0\">\n        </rect>\n        <rect x=\"42.33604897570467\" y=\"343.90258131203717\" height=\"0.09741868796282915\" width=\"4.166478302693804\" stroke=\"rgb(0,0,0)\" stroke-opacity=\"0.0\" fill=\"rgb(17,142,216)\" fill-opacity=\"1.0\" stroke-width=\"1.0\">\n        </rect>\n        <rect x=\"23.818367630399166\" y=\"343.90258131203717\" height=\"0.09741868796282915\" width=\"4.166478302693804\" stroke=\"rgb(0,0,0)\" stroke-opacity=\"0.0\" fill=\"rgb(17,142,216)\" fill-opacity=\"1.0\" stroke-width=\"1.0\">\n        </rect>\n      </g>\n    </g>\n    <g transform=\"translate(14.5 182.0 ) rotate(-90.0 ) \">\n      <text class=\"axis-title-y\" y=\"0.0\" text-anchor=\"middle\">\n      y\n      </text>\n    </g>\n    <g transform=\"translate(327.99795606560895 391.5 ) \">\n      <text class=\"axis-title-x\" y=\"0.0\" text-anchor=\"middle\">\n      x\n      </text>\n    </g>\n  </g>\n  <g id=\"dAQ2cm9\">\n  </g>\n</svg>\n        <script>document.getElementById(\"f3fe36be-74a9-4a1b-911f-d9fc8065d22c\").style.display = \"none\";</script>",
      "application/plot+json": {
       "output_type": "lets_plot_spec",
       "output": {
        "mapping": {},
        "data": {
         "x": [
          120.0,
          124.0,
          127.0,
          128.0,
          129.0,
          130.0,
          131.0,
          132.0,
          133.0,
          134.0,
          135.0,
          136.0,
          137.0,
          138.0,
          139.0,
          140.0,
          141.0,
          142.0,
          143.0,
          144.0,
          145.0,
          146.0,
          147.0,
          148.0,
          149.0,
          150.0,
          151.0,
          152.0,
          153.0,
          154.0,
          155.0,
          156.0,
          157.0,
          158.0,
          159.0,
          160.0,
          161.0,
          162.0,
          163.0,
          164.0,
          165.0,
          166.0,
          167.0,
          168.0,
          169.0,
          170.0,
          171.0,
          172.0,
          173.0,
          174.0,
          175.0,
          176.0,
          177.0,
          178.0,
          179.0,
          180.0,
          181.0,
          182.0,
          183.0,
          184.0,
          185.0,
          186.0,
          187.0,
          188.0,
          189.0,
          190.0,
          191.0,
          192.0,
          193.0,
          194.0,
          195.0,
          196.0,
          197.0,
          198.0,
          199.0,
          200.0,
          201.0,
          202.0,
          203.0,
          204.0,
          205.0,
          206.0,
          207.0,
          208.0,
          209.0,
          210.0,
          211.0,
          212.0,
          213.0,
          214.0,
          215.0,
          216.0,
          217.0,
          218.0,
          219.0,
          220.0,
          221.0,
          222.0
         ],
         "y": [
          1.0,
          1.0,
          1.0,
          1.0,
          2.0,
          1.0,
          4.0,
          3.0,
          9.0,
          11.0,
          12.0,
          25.0,
          15.0,
          29.0,
          33.0,
          57.0,
          62.0,
          76.0,
          110.0,
          98.0,
          149.0,
          173.0,
          214.0,
          256.0,
          351.0,
          409.0,
          441.0,
          542.0,
          607.0,
          752.0,
          817.0,
          900.0,
          1057.0,
          1243.0,
          1382.0,
          1526.0,
          1658.0,
          1821.0,
          2032.0,
          2171.0,
          2426.0,
          2406.0,
          2606.0,
          2881.0,
          2892.0,
          3021.0,
          3160.0,
          3200.0,
          3363.0,
          3299.0,
          3326.0,
          3312.0,
          3304.0,
          3188.0,
          3096.0,
          3029.0,
          2999.0,
          2730.0,
          2733.0,
          2476.0,
          2320.0,
          2110.0,
          2032.0,
          1859.0,
          1693.0,
          1506.0,
          1372.0,
          1178.0,
          1125.0,
          971.0,
          789.0,
          713.0,
          682.0,
          517.0,
          455.0,
          368.0,
          361.0,
          271.0,
          237.0,
          164.0,
          162.0,
          144.0,
          124.0,
          95.0,
          60.0,
          63.0,
          38.0,
          24.0,
          19.0,
          13.0,
          11.0,
          9.0,
          6.0,
          3.0,
          2.0,
          2.0,
          1.0,
          2.0
         ]
        },
        "kind": "plot",
        "scales": [
         {
          "aesthetic": "x",
          "limits": [
           null,
           null
          ]
         },
         {
          "aesthetic": "y",
          "limits": [
           null,
           null
          ]
         }
        ],
        "layers": [
         {
          "mapping": {
           "x": "x",
           "y": "y"
          },
          "stat": "identity",
          "sampling": "none",
          "position": "dodge",
          "geom": "bar"
         }
        ]
       },
       "apply_color_scheme": true,
       "swing_enabled": true
      }
     },
     "execution_count": 31,
     "metadata": {},
     "output_type": "execute_result"
    }
   ],
   "source": [
    "import kotlin.random.Random\n",
    "\n",
    "fun diceNTimesSum(n: Int): Int {\n",
    "    return (1..n).sumOf { Random.nextInt(1, 7) }\n",
    "}\n",
    "\n",
    "val experimentData = (1..100000).map { diceNTimesSum(50) }.groupBy { it }.mapValues { it.value.size }.entries.sortedBy { it.key }\n",
    "val experimentX = experimentData.map { it.key }\n",
    "val experimentY = experimentData.map { it.value }\n",
    "\n",
    "val gaussPlot = plot {\n",
    "    bars {\n",
    "        x(experimentX)\n",
    "        y(experimentY)\n",
    "    }\n",
    "}\n",
    "gaussPlot"
   ],
   "metadata": {
    "collapsed": false,
    "ExecuteTime": {
     "end_time": "2023-08-21T15:51:09.952129380Z",
     "start_time": "2023-08-21T15:51:09.450347187Z"
    }
   }
  },
  {
   "cell_type": "markdown",
   "source": [
    "## Kotlin Dataframe"
   ],
   "metadata": {
    "collapsed": false
   }
  },
  {
   "cell_type": "code",
   "execution_count": 33,
   "outputs": [
    {
     "data": {
      "text/plain": "     value\n 0 Michiel\n 1    Fred\n 2     Tom\n"
     },
     "execution_count": 33,
     "metadata": {},
     "output_type": "execute_result"
    }
   ],
   "source": [
    "import org.jetbrains.kotlinx.dataframe.api.toDataFrame\n",
    "\n",
    "val users = listOf(\"Michiel\", \"Fred\", \"Tom\").toDataFrame()\n",
    "\n",
    "users"
   ],
   "metadata": {
    "collapsed": false,
    "ExecuteTime": {
     "end_time": "2023-08-21T15:56:01.825546954Z",
     "start_time": "2023-08-21T15:56:01.781282336Z"
    }
   }
  }
 ],
 "metadata": {
  "kernelspec": {
   "display_name": "Kotlin",
   "language": "kotlin",
   "name": "kotlin"
  },
  "language_info": {
   "name": "kotlin",
   "version": "1.8.20",
   "mimetype": "text/x-kotlin",
   "file_extension": ".kt",
   "pygments_lexer": "kotlin",
   "codemirror_mode": "text/x-kotlin",
   "nbconvert_exporter": ""
  },
  "ktnbPluginMetadata": {
   "projectDependencies": true
  }
 },
 "nbformat": 4,
 "nbformat_minor": 0
}
