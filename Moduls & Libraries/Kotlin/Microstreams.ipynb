{
 "cells": [
  {
   "cell_type": "markdown",
   "source": [
    "# Microsteams speed comparison"
   ],
   "metadata": {
    "collapsed": false
   }
  },
  {
   "cell_type": "markdown",
   "source": [
    "The following code is a speed comparison between Microstreams blob data hosted on dynamoDB and JPA data sotored on mysql.\n",
    "\n",
    "In the first section we will create that data and store it on to both databases."
   ],
   "metadata": {
    "collapsed": false
   }
  },
  {
   "cell_type": "code",
   "execution_count": 1,
   "outputs": [],
   "source": [
    "// Import JPA and MicroStream dependencies\n",
    "@file:DependsOn(\"org.springframework.data:spring-data-jpa:2.4.9\")\n",
    "@file:DependsOn(\"mysql:mysql-connector-java:8.0.18\")\n",
    "@file:DependsOn(\"one.microstream:microstream-storage-embedded:08.01.01-MS-GA\")"
   ],
   "metadata": {
    "collapsed": false,
    "ExecuteTime": {
     "end_time": "2023-09-09T20:32:33.354009547Z",
     "start_time": "2023-09-09T20:32:21.899679233Z"
    }
   }
  },
  {
   "cell_type": "code",
   "execution_count": 2,
   "outputs": [],
   "source": [
    "import org.springframework.data.jpa.repository.JpaRepository\n",
    "import javax.persistence.*\n",
    "import org.springframework.stereotype.Service"
   ],
   "metadata": {
    "collapsed": false,
    "ExecuteTime": {
     "end_time": "2023-09-09T20:32:40.232160807Z",
     "start_time": "2023-09-09T20:32:40.171184615Z"
    }
   }
  },
  {
   "cell_type": "code",
   "execution_count": 3,
   "outputs": [],
   "source": [
    "@Entity\n",
    "data class TopStarter(\n",
    "    @Id\n",
    "    @GeneratedValue(strategy = GenerationType.AUTO)\n",
    "    val id: Long = 0,\n",
    "    val name: String = \"\",\n",
    "    val age: Int = 0,\n",
    "    val project: String = \"\"\n",
    ")"
   ],
   "metadata": {
    "collapsed": false,
    "ExecuteTime": {
     "end_time": "2023-09-09T20:32:42.027058223Z",
     "start_time": "2023-09-09T20:32:41.874033054Z"
    }
   }
  },
  {
   "cell_type": "markdown",
   "source": [
    "## Mysql JPA"
   ],
   "metadata": {
    "collapsed": false
   }
  },
  {
   "cell_type": "code",
   "execution_count": null,
   "outputs": [],
   "source": [
    "interface ProductRepository : JpaRepository<TopStarter, Long> {}"
   ],
   "metadata": {
    "collapsed": false,
    "is_executing": true,
    "ExecuteTime": {
     "start_time": "2023-09-09T20:32:48.105358050Z"
    }
   }
  },
  {
   "cell_type": "code",
   "execution_count": 5,
   "outputs": [
    {
     "name": "stderr",
     "output_type": "stream",
     "text": [
      "Line_10.jupyter.kts (3:30 - 37) Unresolved reference: Product\n",
      "Line_10.jupyter.kts (3:40 - 47) Unresolved reference: Product\n",
      "Line_10.jupyter.kts (7:31 - 38) Unresolved reference: Product\n",
      "Line_10.jupyter.kts (8:34 - 48) Unresolved reference: findByIdOrNull"
     ]
    }
   ],
   "source": [
    "@Service\n",
    "class ProductService(private val productRepository: ProductRepository) {\n",
    "    fun saveProduct(product: Product): Product {\n",
    "        return productRepository.save(product)\n",
    "    }\n",
    "\n",
    "    fun getProduct(id: Long): Product? {\n",
    "        return productRepository.findByIdOrNull(id)\n",
    "    }\n",
    "}"
   ],
   "metadata": {
    "collapsed": false,
    "ExecuteTime": {
     "end_time": "2023-09-09T20:30:29.872766592Z",
     "start_time": "2023-09-09T20:30:29.798289511Z"
    }
   }
  },
  {
   "cell_type": "markdown",
   "source": [],
   "metadata": {
    "collapsed": false
   }
  }
 ],
 "metadata": {
  "kernelspec": {
   "display_name": "Kotlin",
   "language": "kotlin",
   "name": "kotlin"
  },
  "language_info": {
   "name": "kotlin",
   "version": "1.8.20",
   "mimetype": "text/x-kotlin",
   "file_extension": ".kt",
   "pygments_lexer": "kotlin",
   "codemirror_mode": "text/x-kotlin",
   "nbconvert_exporter": ""
  },
  "ktnbPluginMetadata": {
   "projectDependencies": true
  }
 },
 "nbformat": 4,
 "nbformat_minor": 0
}
