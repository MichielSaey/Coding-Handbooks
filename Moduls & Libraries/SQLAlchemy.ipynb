{
 "cells": [
  {
   "cell_type": "markdown",
   "source": [
    "# SQLAlchemy\n",
    "\n",
    "The SQLAlchemy models allows for the translation between OO languages like python and relational languages like SQL. It transforms python objects into database information, and the other way around. PSQLAlcheny can connect to many differnt types of sql databases, but all of them follow this standard. The standard specifies the functions that help you connect to a database, send queries, and get results. All the specifications are regulated by PEP 249."
   ],
   "metadata": {
    "collapsed": false
   }
  },
  {
   "cell_type": "code",
   "execution_count": 4,
   "metadata": {
    "collapsed": true
   },
   "outputs": [
    {
     "name": "stdout",
     "output_type": "stream",
     "text": [
      "/bin/sh: 1: pip: not found\r\n"
     ]
    }
   ],
   "source": [
    "!pip install sqlalchemy"
   ]
  },
  {
   "cell_type": "markdown",
   "source": [
    "For this topic we will practic on the `Buildings_Database.sqlite`. using the folowing code we can connect to the databse."
   ],
   "metadata": {
    "collapsed": false
   }
  },
  {
   "cell_type": "code",
   "execution_count": 9,
   "outputs": [
    {
     "name": "stdout",
     "output_type": "stream",
     "text": [
      "<sqlalchemy.engine.base.Connection object at 0x7f07ca3e6200> Engine(sqlite:///Buildings_Database.sqlite)\n"
     ]
    }
   ],
   "source": [
    "from sqlalchemy import create_engine\n",
    "\n",
    "engine = create_engine('sqlite:///Buildings_Database.sqlite', echo=True)\n",
    "connection = engine.connect()\n",
    "print(connection, engine)"
   ],
   "metadata": {
    "collapsed": false
   }
  },
  {
   "cell_type": "code",
   "execution_count": 10,
   "outputs": [
    {
     "name": "stdout",
     "output_type": "stream",
     "text": [
      "2023-04-19 21:49:17,045 INFO sqlalchemy.engine.Engine BEGIN (implicit)\n",
      "2023-04-19 21:49:17,046 INFO sqlalchemy.engine.Engine SELECT name FROM sqlite_master WHERE type='table' AND name NOT LIKE 'sqlite~_%' ESCAPE '~' ORDER BY name\n",
      "2023-04-19 21:49:17,046 INFO sqlalchemy.engine.Engine [raw sql] ()\n",
      "2023-04-19 21:49:17,051 INFO sqlalchemy.engine.Engine ROLLBACK\n"
     ]
    },
    {
     "data": {
      "text/plain": "['Buildings']"
     },
     "execution_count": 10,
     "metadata": {},
     "output_type": "execute_result"
    }
   ],
   "source": [
    "from sqlalchemy import inspect\n",
    "inspector = inspect(engine)\n",
    "inspector.get_table_names()"
   ],
   "metadata": {
    "collapsed": false
   }
  },
  {
   "cell_type": "markdown",
   "source": [
    "!! other code in topic https://hyperskill.org/learn/step/12935 that i did not get working"
   ],
   "metadata": {
    "collapsed": false
   }
  },
  {
   "cell_type": "markdown",
   "source": [
    "## Data mapping\n",
    "\n",
    "Mapping transforms SQL objects into Python ones. There are two main mapping types in SQLAlchemy. One is **classical** mapping, the other is **declarative** mapping. We will discuss these types below.\n",
    "\n",
    "### Classical\n",
    "\n",
    "Classical mapping refers to the configuration of **a mapped class** that was created with the `mapper()` function. We need to define a database table and the corresponding Python class separately to link them with `mapper()`. After that, all changes to the table and class made via SQLAlchemy are saved in your database. Classical mapping is a **base mapping system** provided by the ORM. Take a look at the snippet below:"
   ],
   "metadata": {
    "collapsed": false
   }
  },
  {
   "cell_type": "markdown",
   "source": [
    "````python\n",
    "from sqlalchemy import Table, MetaData, Column, Integer, String\n",
    "from sqlalchemy.orm import mapper\n",
    "\n",
    "metadata = MetaData()\n",
    "\n",
    "animals = Table('animals', metadata,\n",
    "                Column('id', Integer, primary_key=True),\n",
    "                Column('petname', String(30)),\n",
    "                Column('age', Integer),\n",
    "                Column('weight', Integer))\n",
    "\n",
    "\n",
    "class Animals(object):\n",
    "    def __init__(self, petname, age, weight):\n",
    "        self.petname = petname\n",
    "        self.age = age\n",
    "        self.weight = weight\n",
    "\n",
    "\n",
    "mapper(Animals, animals)\n",
    "````"
   ],
   "metadata": {
    "collapsed": false
   }
  },
  {
   "cell_type": "markdown",
   "source": [
    "It however does not seem to work with SQLAlchemy 2.0. Must look up right topic"
   ],
   "metadata": {
    "collapsed": false
   }
  },
  {
   "cell_type": "markdown",
   "source": [
    "### Declarative\n",
    "\n",
    "Declarative mapping is a concise version of classical mapping. We don't need to specify a class and a table separately, we can do it all in one class. Let's try to write a concise form of the previous snippet:\n",
    "\n",
    "!! Had to be changed to match with **SQLAlchemy 2.0**: `from sqlalchemy.orm import declarative_base`"
   ],
   "metadata": {
    "collapsed": false
   }
  },
  {
   "cell_type": "code",
   "execution_count": 19,
   "outputs": [],
   "source": [
    "from sqlalchemy.orm import declarative_base\n",
    "from sqlalchemy import Column, Integer, String\n",
    "\n",
    "Base = declarative_base()\n",
    "\n",
    "\n",
    "class Animals(Base):\n",
    "    __tablename__ = 'animals'\n",
    "\n",
    "    id = Column(Integer, primary_key=True)\n",
    "    petname = Column(String(30))\n",
    "    age = Column(Integer)\n",
    "    weight = Column(Integer)"
   ],
   "metadata": {
    "collapsed": false
   }
  },
  {
   "cell_type": "code",
   "execution_count": 20,
   "outputs": [
    {
     "name": "stdout",
     "output_type": "stream",
     "text": [
      "2023-04-19 22:03:05,653 INFO sqlalchemy.engine.Engine BEGIN (implicit)\n",
      "2023-04-19 22:03:05,654 INFO sqlalchemy.engine.Engine PRAGMA main.table_info(\"animals\")\n",
      "2023-04-19 22:03:05,655 INFO sqlalchemy.engine.Engine [raw sql] ()\n",
      "2023-04-19 22:03:05,658 INFO sqlalchemy.engine.Engine PRAGMA temp.table_info(\"animals\")\n",
      "2023-04-19 22:03:05,659 INFO sqlalchemy.engine.Engine [raw sql] ()\n",
      "2023-04-19 22:03:05,660 INFO sqlalchemy.engine.Engine \n",
      "CREATE TABLE animals (\n",
      "\tid INTEGER NOT NULL, \n",
      "\tpetname VARCHAR(30), \n",
      "\tage INTEGER, \n",
      "\tweight INTEGER, \n",
      "\tPRIMARY KEY (id)\n",
      ")\n",
      "\n",
      "\n",
      "2023-04-19 22:03:05,660 INFO sqlalchemy.engine.Engine [no key 0.00036s] ()\n",
      "2023-04-19 22:03:05,672 INFO sqlalchemy.engine.Engine COMMIT\n"
     ]
    }
   ],
   "source": [
    "Base.metadata.create_all(engine)"
   ],
   "metadata": {
    "collapsed": false
   }
  },
  {
   "cell_type": "markdown",
   "source": [
    "### Session\n",
    "The `mapper()` function and declarative extensions are primary interfaces for ORM. Once our mappings are configured, we can proceed to the primary interface. It is also known as a session. It helps us to communicate with our database and ensures that all operations run smoothly. You can modify your database and save the changes during the session. To start one, you can use the following statement:"
   ],
   "metadata": {
    "collapsed": false
   }
  },
  {
   "cell_type": "code",
   "execution_count": 22,
   "outputs": [
    {
     "data": {
      "text/plain": "<sqlalchemy.orm.session.Session at 0x7f07c91d2080>"
     },
     "execution_count": 22,
     "metadata": {},
     "output_type": "execute_result"
    }
   ],
   "source": [
    "from sqlalchemy.orm import sessionmaker\n",
    "\n",
    "Session = sessionmaker(bind=engine)\n",
    "session = Session()\n",
    "session"
   ],
   "metadata": {
    "collapsed": false
   }
  },
  {
   "cell_type": "code",
   "execution_count": 23,
   "outputs": [
    {
     "name": "stdout",
     "output_type": "stream",
     "text": [
      "2023-04-19 22:05:13,709 INFO sqlalchemy.engine.Engine BEGIN (implicit)\n",
      "2023-04-19 22:05:13,711 INFO sqlalchemy.engine.Engine INSERT INTO animals (petname, age, weight) VALUES (?, ?, ?), (?, ?, ?), (?, ?, ?) RETURNING id\n",
      "2023-04-19 22:05:13,712 INFO sqlalchemy.engine.Engine [generated in 0.00006s (insertmanyvalues)] ('Timmy', 2, 12, 'Tommy', 3, 10, 'Kitty', 4, 14)\n",
      "2023-04-19 22:05:13,717 INFO sqlalchemy.engine.Engine COMMIT\n"
     ]
    }
   ],
   "source": [
    "animal_1 = Animals(petname='Timmy', age=2, weight=12)\n",
    "animal_2 = Animals(petname='Tommy', age=3, weight=10)\n",
    "animal_3 = Animals(petname='Kitty', age=4, weight=14)\n",
    "session.add(animal_1)\n",
    "session.add(animal_2)\n",
    "session.add(animal_3)\n",
    "session.commit()"
   ],
   "metadata": {
    "collapsed": false
   }
  },
  {
   "cell_type": "markdown",
   "source": [
    "## querying and filtering\n",
    "\n",
    " A Query object will generate a SELECT statement for columns of our table and rename each column to a variable name as per PEP convention. Here's what it may look like. Once passed, it will create the animals_petname variable for the table called Animals with the petname column. After this, you'll be able to access the values in the corresponding column via this variable."
   ],
   "metadata": {
    "collapsed": false
   }
  },
  {
   "cell_type": "code",
   "execution_count": 26,
   "outputs": [
    {
     "data": {
      "text/plain": "<sqlalchemy.orm.query.Query at 0x7f07e0770b80>"
     },
     "execution_count": 26,
     "metadata": {},
     "output_type": "execute_result"
    }
   ],
   "source": [
    "from sqlalchemy.orm import Query\n",
    "query = Query(Animals)\n",
    "query"
   ],
   "metadata": {
    "collapsed": false
   }
  },
  {
   "cell_type": "code",
   "execution_count": 27,
   "outputs": [
    {
     "name": "stdout",
     "output_type": "stream",
     "text": [
      "SELECT animals.id AS animals_id, animals.petname AS animals_petname, animals.age AS animals_age, animals.weight AS animals_weight \n",
      "FROM animals\n"
     ]
    }
   ],
   "source": [
    "print(query)"
   ],
   "metadata": {
    "collapsed": false
   }
  },
  {
   "cell_type": "code",
   "execution_count": 28,
   "outputs": [
    {
     "name": "stdout",
     "output_type": "stream",
     "text": [
      "2023-04-19 22:10:48,612 INFO sqlalchemy.engine.Engine BEGIN (implicit)\n",
      "2023-04-19 22:10:48,613 INFO sqlalchemy.engine.Engine PRAGMA main.table_info(\"animals\")\n",
      "2023-04-19 22:10:48,614 INFO sqlalchemy.engine.Engine [raw sql] ()\n",
      "2023-04-19 22:10:48,614 INFO sqlalchemy.engine.Engine PRAGMA temp.table_info(\"animals\")\n",
      "2023-04-19 22:10:48,615 INFO sqlalchemy.engine.Engine [raw sql] ()\n",
      "2023-04-19 22:10:48,615 INFO sqlalchemy.engine.Engine \n",
      "CREATE TABLE animals (\n",
      "\tid INTEGER NOT NULL, \n",
      "\tpetname VARCHAR(30), \n",
      "\tage INTEGER, \n",
      "\tweight INTEGER, \n",
      "\tPRIMARY KEY (id)\n",
      ")\n",
      "\n",
      "\n",
      "2023-04-19 22:10:48,615 INFO sqlalchemy.engine.Engine [no key 0.00026s] ()\n",
      "2023-04-19 22:10:48,616 INFO sqlalchemy.engine.Engine COMMIT\n"
     ]
    }
   ],
   "source": [
    "from sqlalchemy.orm import Query, sessionmaker\n",
    "from sqlalchemy import create_engine\n",
    "\n",
    "engine = create_engine(\"sqlite:///:memory:\", echo=True)\n",
    "Base.metadata.create_all(engine)\n",
    "\n",
    "Session = sessionmaker(bind=engine)\n",
    "session = Session()"
   ],
   "metadata": {
    "collapsed": false
   }
  },
  {
   "cell_type": "code",
   "execution_count": 32,
   "outputs": [
    {
     "name": "stdout",
     "output_type": "stream",
     "text": [
      "SELECT animals.id AS animals_id, animals.petname AS animals_petname, animals.age AS animals_age, animals.weight AS animals_weight \n",
      "FROM animals\n"
     ]
    }
   ],
   "source": [
    "query = session.query(Animals)\n",
    "print(query)"
   ],
   "metadata": {
    "collapsed": false
   }
  },
  {
   "cell_type": "code",
   "execution_count": 33,
   "outputs": [
    {
     "name": "stdout",
     "output_type": "stream",
     "text": [
      "2023-04-19 22:12:25,115 INFO sqlalchemy.engine.Engine BEGIN (implicit)\n",
      "2023-04-19 22:12:25,117 INFO sqlalchemy.engine.Engine INSERT INTO animals (petname, age, weight) VALUES (?, ?, ?), (?, ?, ?) RETURNING id\n",
      "2023-04-19 22:12:25,118 INFO sqlalchemy.engine.Engine [generated in 0.00006s (insertmanyvalues)] ('Billy', 1, 8, 'Susan', 4, 12)\n",
      "2023-04-19 22:12:25,118 INFO sqlalchemy.engine.Engine COMMIT\n"
     ]
    }
   ],
   "source": [
    "session.add(Animals(petname=\"Billy\", age=1, weight=8))\n",
    "session.add(Animals(petname=\"Susan\", age=4, weight=12))\n",
    "\n",
    "session.commit()"
   ],
   "metadata": {
    "collapsed": false
   }
  },
  {
   "cell_type": "code",
   "execution_count": 34,
   "outputs": [
    {
     "name": "stdout",
     "output_type": "stream",
     "text": [
      "2023-04-19 22:12:35,887 INFO sqlalchemy.engine.Engine BEGIN (implicit)\n",
      "2023-04-19 22:12:35,889 INFO sqlalchemy.engine.Engine SELECT animals.id AS animals_id, animals.petname AS animals_petname, animals.age AS animals_age, animals.weight AS animals_weight \n",
      "FROM animals\n",
      "2023-04-19 22:12:35,889 INFO sqlalchemy.engine.Engine [generated in 0.00041s] ()\n"
     ]
    }
   ],
   "source": [
    "all_rows = query.all()"
   ],
   "metadata": {
    "collapsed": false
   }
  },
  {
   "cell_type": "code",
   "execution_count": 35,
   "outputs": [
    {
     "name": "stdout",
     "output_type": "stream",
     "text": [
      "<class '__main__.Animals'>\n",
      "<class '__main__.Animals'>\n"
     ]
    }
   ],
   "source": [
    "for row in all_rows:\n",
    "    print(type(row))  # <class '__main__.Animals'>"
   ],
   "metadata": {
    "collapsed": false
   }
  },
  {
   "cell_type": "code",
   "execution_count": 36,
   "outputs": [
    {
     "name": "stdout",
     "output_type": "stream",
     "text": [
      "Pet name: Billy, age: 1, weight: 8\n",
      "Pet name: Susan, age: 4, weight: 12\n"
     ]
    }
   ],
   "source": [
    "for row in all_rows:\n",
    "    print(f\"Pet name: {row.petname}, age: {row.age}, weight: {row.weight}\")"
   ],
   "metadata": {
    "collapsed": false
   }
  },
  {
   "cell_type": "code",
   "execution_count": 37,
   "outputs": [
    {
     "name": "stdout",
     "output_type": "stream",
     "text": [
      "SELECT animals.petname AS animals_petname \n",
      "FROM animals\n"
     ]
    }
   ],
   "source": [
    "query = session.query(Animals.petname)\n",
    "print(query)"
   ],
   "metadata": {
    "collapsed": false
   }
  },
  {
   "cell_type": "code",
   "execution_count": 38,
   "outputs": [
    {
     "name": "stdout",
     "output_type": "stream",
     "text": [
      "2023-04-19 22:13:16,940 INFO sqlalchemy.engine.Engine SELECT animals.petname AS animals_petname, animals.age AS animals_age \n",
      "FROM animals\n",
      "2023-04-19 22:13:16,941 INFO sqlalchemy.engine.Engine [generated in 0.00088s] ()\n",
      "Billy 1\n",
      "Susan 4\n"
     ]
    }
   ],
   "source": [
    "query = session.query(Animals.petname, Animals.age)\n",
    "for petname, age in query:\n",
    "    print(petname, age)"
   ],
   "metadata": {
    "collapsed": false
   }
  },
  {
   "cell_type": "code",
   "execution_count": 39,
   "outputs": [
    {
     "name": "stdout",
     "output_type": "stream",
     "text": [
      "2023-04-19 22:13:39,335 INFO sqlalchemy.engine.Engine SELECT count(*) AS count_1 \n",
      "FROM (SELECT animals.id AS animals_id, animals.petname AS animals_petname, animals.age AS animals_age, animals.weight AS animals_weight \n",
      "FROM animals) AS anon_1\n",
      "2023-04-19 22:13:39,336 INFO sqlalchemy.engine.Engine [generated in 0.00083s] ()\n"
     ]
    },
    {
     "data": {
      "text/plain": "2"
     },
     "execution_count": 39,
     "metadata": {},
     "output_type": "execute_result"
    }
   ],
   "source": [
    "query = session.query(Animals)\n",
    "query.count()"
   ],
   "metadata": {
    "collapsed": false
   }
  },
  {
   "cell_type": "code",
   "execution_count": 40,
   "outputs": [
    {
     "name": "stdout",
     "output_type": "stream",
     "text": [
      "2023-04-19 22:13:53,456 INFO sqlalchemy.engine.Engine SELECT animals.id AS animals_id, animals.petname AS animals_petname, animals.age AS animals_age, animals.weight AS animals_weight \n",
      "FROM animals \n",
      "WHERE animals.petname = ?\n",
      "2023-04-19 22:13:53,457 INFO sqlalchemy.engine.Engine [generated in 0.00146s] ('Billy',)\n",
      "Billy 1 8\n"
     ]
    }
   ],
   "source": [
    "query = session.query(Animals)\n",
    "for row in query.filter(Animals.petname == \"Billy\"):\n",
    "    print(row.petname, row.age, row.weight) # Billy 1 8"
   ],
   "metadata": {
    "collapsed": false
   }
  },
  {
   "cell_type": "code",
   "execution_count": 42,
   "outputs": [
    {
     "name": "stdout",
     "output_type": "stream",
     "text": [
      "2023-04-19 22:14:30,344 INFO sqlalchemy.engine.Engine SELECT animals.age AS animals_age, animals.weight AS animals_weight \n",
      "FROM animals \n",
      "WHERE animals.age > ? AND animals.weight >= ?\n",
      "2023-04-19 22:14:30,345 INFO sqlalchemy.engine.Engine [generated in 0.00108s] (2, 8)\n",
      "Pet age: 4, Pet weight: 12\n"
     ]
    }
   ],
   "source": [
    "query = session.query(Animals.age, Animals.weight)\n",
    "\n",
    "age_gr_than = Animals.age > 2\n",
    "weight_eq_gr_than = Animals.weight >= 8\n",
    "\n",
    "for age, weight in query.filter(age_gr_than, weight_eq_gr_than):\n",
    "    print(f\"Pet age: {age}, Pet weight: {weight}\")"
   ],
   "metadata": {
    "collapsed": false
   }
  }
 ],
 "metadata": {
  "kernelspec": {
   "display_name": "Python 3",
   "language": "python",
   "name": "python3"
  },
  "language_info": {
   "codemirror_mode": {
    "name": "ipython",
    "version": 2
   },
   "file_extension": ".py",
   "mimetype": "text/x-python",
   "name": "python",
   "nbconvert_exporter": "python",
   "pygments_lexer": "ipython2",
   "version": "2.7.6"
  }
 },
 "nbformat": 4,
 "nbformat_minor": 0
}
