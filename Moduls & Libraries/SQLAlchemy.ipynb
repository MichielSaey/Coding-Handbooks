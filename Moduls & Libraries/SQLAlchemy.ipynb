{
 "cells": [
  {
   "cell_type": "markdown",
   "source": [
    "# SQLAlchemy\n",
    "\n",
    "The SQLAlchemy models allows for the translation between OO languages like python and relational languages like SQL. It transforms python objects into database information, and the other way around. PSQLAlcheny can connect to many differnt types of sql databases, but all of them follow this standard. The standard specifies the functions that help you connect to a database, send queries, and get results. All the specifications are regulated by PEP 249."
   ],
   "metadata": {
    "collapsed": false
   }
  },
  {
   "cell_type": "code",
   "execution_count": 1,
   "metadata": {
    "collapsed": true
   },
   "outputs": [
    {
     "name": "stdout",
     "output_type": "stream",
     "text": [
      "Requirement already satisfied: sqlalchemy in c:\\users\\michiel\\anaconda3\\lib\\site-packages (1.4.39)\n",
      "Requirement already satisfied: greenlet!=0.4.17 in c:\\users\\michiel\\anaconda3\\lib\\site-packages (from sqlalchemy) (1.1.1)\n"
     ]
    }
   ],
   "source": [
    "!pip install sqlalchemy"
   ]
  },
  {
   "cell_type": "markdown",
   "source": [
    "For this topic we will practic on the `Buildings_Database.sqlite`. using the folowing code we can connect to the databse."
   ],
   "metadata": {
    "collapsed": false
   }
  },
  {
   "cell_type": "code",
   "execution_count": 2,
   "outputs": [
    {
     "name": "stdout",
     "output_type": "stream",
     "text": [
      "<sqlalchemy.engine.base.Connection object at 0x0000015990A94460> Engine(sqlite:///Buildings_Database.sqlite)\n"
     ]
    }
   ],
   "source": [
    "from sqlalchemy import create_engine\n",
    "\n",
    "engine = create_engine('sqlite:///Buildings_Database.sqlite', echo=True)\n",
    "connection = engine.connect()\n",
    "print(connection, engine)"
   ],
   "metadata": {
    "collapsed": false
   }
  },
  {
   "cell_type": "code",
   "execution_count": 3,
   "outputs": [
    {
     "name": "stdout",
     "output_type": "stream",
     "text": [
      "2023-05-11 18:12:34,243 INFO sqlalchemy.engine.Engine SELECT name FROM sqlite_master WHERE type='table' ORDER BY name\n",
      "2023-05-11 18:12:34,244 INFO sqlalchemy.engine.Engine [raw sql] ()\n"
     ]
    },
    {
     "data": {
      "text/plain": "[]"
     },
     "execution_count": 3,
     "metadata": {},
     "output_type": "execute_result"
    }
   ],
   "source": [
    "from sqlalchemy import inspect\n",
    "inspector = inspect(engine)\n",
    "inspector.get_table_names()"
   ],
   "metadata": {
    "collapsed": false
   }
  },
  {
   "cell_type": "markdown",
   "source": [
    "!! other code in topic https://hyperskill.org/learn/step/12935 that i did not get working"
   ],
   "metadata": {
    "collapsed": false
   }
  },
  {
   "cell_type": "markdown",
   "source": [
    "## Data mapping\n",
    "\n",
    "Mapping transforms SQL objects into Python ones. There are two main mapping types in SQLAlchemy. One is **classical** mapping, the other is **declarative** mapping. We will discuss these types below.\n",
    "\n",
    "### Classical\n",
    "\n",
    "Classical mapping refers to the configuration of **a mapped class** that was created with the `mapper()` function. We need to define a database table and the corresponding Python class separately to link them with `mapper()`. After that, all changes to the table and class made via SQLAlchemy are saved in your database. Classical mapping is a **base mapping system** provided by the ORM. Take a look at the snippet below:"
   ],
   "metadata": {
    "collapsed": false
   }
  },
  {
   "cell_type": "markdown",
   "source": [
    "````python\n",
    "from sqlalchemy import Table, MetaData, Column, Integer, String\n",
    "from sqlalchemy.orm import mapper\n",
    "\n",
    "metadata = MetaData()\n",
    "\n",
    "animals = Table('animals', metadata,\n",
    "                Column('id', Integer, primary_key=True),\n",
    "                Column('petname', String(30)),\n",
    "                Column('age', Integer),\n",
    "                Column('weight', Integer))\n",
    "\n",
    "\n",
    "class Animals(object):\n",
    "    def __init__(self, petname, age, weight):\n",
    "        self.petname = petname\n",
    "        self.age = age\n",
    "        self.weight = weight\n",
    "\n",
    "\n",
    "mapper(Animals, animals)\n",
    "````"
   ],
   "metadata": {
    "collapsed": false
   }
  },
  {
   "cell_type": "markdown",
   "source": [
    "It however does not seem to work with SQLAlchemy 2.0. Must look up right topic"
   ],
   "metadata": {
    "collapsed": false
   }
  },
  {
   "cell_type": "markdown",
   "source": [
    "### Declarative\n",
    "\n",
    "Declarative mapping is a concise version of classical mapping. We don't need to specify a class and a table separately, we can do it all in one class. Let's try to write a concise form of the previous snippet:\n",
    "\n",
    "!! Had to be changed to match with **SQLAlchemy 2.0**: `from sqlalchemy.orm import declarative_base`"
   ],
   "metadata": {
    "collapsed": false
   }
  },
  {
   "cell_type": "code",
   "execution_count": 4,
   "outputs": [],
   "source": [
    "from sqlalchemy.orm import declarative_base\n",
    "from sqlalchemy import Column, Integer, String\n",
    "\n",
    "Base = declarative_base()\n",
    "\n",
    "\n",
    "class Animals(Base):\n",
    "    __tablename__ = 'animals'\n",
    "\n",
    "    id = Column(Integer, primary_key=True)\n",
    "    petname = Column(String(30))\n",
    "    age = Column(Integer)\n",
    "    weight = Column(Integer)"
   ],
   "metadata": {
    "collapsed": false
   }
  },
  {
   "cell_type": "code",
   "execution_count": 5,
   "outputs": [
    {
     "name": "stdout",
     "output_type": "stream",
     "text": [
      "2023-05-11 18:12:34,308 INFO sqlalchemy.engine.Engine BEGIN (implicit)\n",
      "2023-05-11 18:12:34,308 INFO sqlalchemy.engine.Engine PRAGMA main.table_info(\"animals\")\n",
      "2023-05-11 18:12:34,309 INFO sqlalchemy.engine.Engine [raw sql] ()\n",
      "2023-05-11 18:12:34,310 INFO sqlalchemy.engine.Engine PRAGMA temp.table_info(\"animals\")\n",
      "2023-05-11 18:12:34,310 INFO sqlalchemy.engine.Engine [raw sql] ()\n",
      "2023-05-11 18:12:34,311 INFO sqlalchemy.engine.Engine \n",
      "CREATE TABLE animals (\n",
      "\tid INTEGER NOT NULL, \n",
      "\tpetname VARCHAR(30), \n",
      "\tage INTEGER, \n",
      "\tweight INTEGER, \n",
      "\tPRIMARY KEY (id)\n",
      ")\n",
      "\n",
      "\n",
      "2023-05-11 18:12:34,311 INFO sqlalchemy.engine.Engine [no key 0.00026s] ()\n",
      "2023-05-11 18:12:34,314 INFO sqlalchemy.engine.Engine COMMIT\n"
     ]
    }
   ],
   "source": [
    "Base.metadata.create_all(engine)"
   ],
   "metadata": {
    "collapsed": false
   }
  },
  {
   "cell_type": "markdown",
   "source": [
    "### Session\n",
    "The `mapper()` function and declarative extensions are primary interfaces for ORM. Once our mappings are configured, we can proceed to the primary interface. It is also known as a session. It helps us to communicate with our database and ensures that all operations run smoothly. You can modify your database and save the changes during the session. To start one, you can use the following statement:"
   ],
   "metadata": {
    "collapsed": false
   }
  },
  {
   "cell_type": "code",
   "execution_count": 6,
   "outputs": [
    {
     "data": {
      "text/plain": "<sqlalchemy.orm.session.Session at 0x15992005d00>"
     },
     "execution_count": 6,
     "metadata": {},
     "output_type": "execute_result"
    }
   ],
   "source": [
    "from sqlalchemy.orm import sessionmaker\n",
    "\n",
    "Session = sessionmaker(bind=engine)\n",
    "session = Session()\n",
    "session"
   ],
   "metadata": {
    "collapsed": false
   }
  },
  {
   "cell_type": "code",
   "execution_count": 7,
   "outputs": [
    {
     "name": "stdout",
     "output_type": "stream",
     "text": [
      "2023-05-11 18:12:34,338 INFO sqlalchemy.engine.Engine BEGIN (implicit)\n",
      "2023-05-11 18:12:34,339 INFO sqlalchemy.engine.Engine INSERT INTO animals (petname, age, weight) VALUES (?, ?, ?)\n",
      "2023-05-11 18:12:34,340 INFO sqlalchemy.engine.Engine [generated in 0.00066s] ('Timmy', 2, 12)\n",
      "2023-05-11 18:12:34,341 INFO sqlalchemy.engine.Engine INSERT INTO animals (petname, age, weight) VALUES (?, ?, ?)\n",
      "2023-05-11 18:12:34,341 INFO sqlalchemy.engine.Engine [cached since 0.001938s ago] ('Tommy', 3, 10)\n",
      "2023-05-11 18:12:34,342 INFO sqlalchemy.engine.Engine INSERT INTO animals (petname, age, weight) VALUES (?, ?, ?)\n",
      "2023-05-11 18:12:34,342 INFO sqlalchemy.engine.Engine [cached since 0.002663s ago] ('Kitty', 4, 14)\n",
      "2023-05-11 18:12:34,343 INFO sqlalchemy.engine.Engine COMMIT\n"
     ]
    }
   ],
   "source": [
    "animal_1 = Animals(petname='Timmy', age=2, weight=12)\n",
    "animal_2 = Animals(petname='Tommy', age=3, weight=10)\n",
    "animal_3 = Animals(petname='Kitty', age=4, weight=14)\n",
    "session.add(animal_1)\n",
    "session.add(animal_2)\n",
    "session.add(animal_3)\n",
    "session.commit()"
   ],
   "metadata": {
    "collapsed": false
   }
  },
  {
   "cell_type": "markdown",
   "source": [
    "## querying and filtering\n",
    "\n",
    " A Query object will generate a SELECT statement for columns of our table and rename each column to a variable name as per PEP convention. Here's what it may look like. Once passed, it will create the animals_petname variable for the table called Animals with the petname column. After this, you'll be able to access the values in the corresponding column via this variable."
   ],
   "metadata": {
    "collapsed": false
   }
  },
  {
   "cell_type": "code",
   "execution_count": 8,
   "outputs": [
    {
     "data": {
      "text/plain": "<sqlalchemy.orm.query.Query at 0x1599242a0d0>"
     },
     "execution_count": 8,
     "metadata": {},
     "output_type": "execute_result"
    }
   ],
   "source": [
    "from sqlalchemy.orm import Query\n",
    "query = Query(Animals)\n",
    "query"
   ],
   "metadata": {
    "collapsed": false
   }
  },
  {
   "cell_type": "code",
   "execution_count": 9,
   "outputs": [
    {
     "name": "stdout",
     "output_type": "stream",
     "text": [
      "SELECT animals.id AS animals_id, animals.petname AS animals_petname, animals.age AS animals_age, animals.weight AS animals_weight \n",
      "FROM animals\n"
     ]
    }
   ],
   "source": [
    "print(query)"
   ],
   "metadata": {
    "collapsed": false
   }
  },
  {
   "cell_type": "code",
   "execution_count": 10,
   "outputs": [
    {
     "name": "stdout",
     "output_type": "stream",
     "text": [
      "2023-05-11 18:12:34,384 INFO sqlalchemy.engine.Engine BEGIN (implicit)\n",
      "2023-05-11 18:12:34,384 INFO sqlalchemy.engine.Engine PRAGMA main.table_info(\"animals\")\n",
      "2023-05-11 18:12:34,385 INFO sqlalchemy.engine.Engine [raw sql] ()\n",
      "2023-05-11 18:12:34,385 INFO sqlalchemy.engine.Engine PRAGMA temp.table_info(\"animals\")\n",
      "2023-05-11 18:12:34,386 INFO sqlalchemy.engine.Engine [raw sql] ()\n",
      "2023-05-11 18:12:34,387 INFO sqlalchemy.engine.Engine \n",
      "CREATE TABLE animals (\n",
      "\tid INTEGER NOT NULL, \n",
      "\tpetname VARCHAR(30), \n",
      "\tage INTEGER, \n",
      "\tweight INTEGER, \n",
      "\tPRIMARY KEY (id)\n",
      ")\n",
      "\n",
      "\n",
      "2023-05-11 18:12:34,387 INFO sqlalchemy.engine.Engine [no key 0.00048s] ()\n",
      "2023-05-11 18:12:34,388 INFO sqlalchemy.engine.Engine COMMIT\n"
     ]
    }
   ],
   "source": [
    "from sqlalchemy.orm import Query, sessionmaker\n",
    "from sqlalchemy import create_engine\n",
    "\n",
    "engine = create_engine(\"sqlite:///:memory:\", echo=True)\n",
    "Base.metadata.create_all(engine)\n",
    "\n",
    "Session = sessionmaker(bind=engine)\n",
    "session = Session()"
   ],
   "metadata": {
    "collapsed": false
   }
  },
  {
   "cell_type": "code",
   "execution_count": 11,
   "outputs": [
    {
     "name": "stdout",
     "output_type": "stream",
     "text": [
      "SELECT animals.id AS animals_id, animals.petname AS animals_petname, animals.age AS animals_age, animals.weight AS animals_weight \n",
      "FROM animals\n"
     ]
    }
   ],
   "source": [
    "query = session.query(Animals)\n",
    "print(query)"
   ],
   "metadata": {
    "collapsed": false
   }
  },
  {
   "cell_type": "code",
   "execution_count": 12,
   "outputs": [
    {
     "name": "stdout",
     "output_type": "stream",
     "text": [
      "2023-05-11 18:12:34,415 INFO sqlalchemy.engine.Engine BEGIN (implicit)\n",
      "2023-05-11 18:12:34,416 INFO sqlalchemy.engine.Engine INSERT INTO animals (petname, age, weight) VALUES (?, ?, ?)\n",
      "2023-05-11 18:12:34,416 INFO sqlalchemy.engine.Engine [generated in 0.00034s] ('Billy', 1, 8)\n",
      "2023-05-11 18:12:34,417 INFO sqlalchemy.engine.Engine INSERT INTO animals (petname, age, weight) VALUES (?, ?, ?)\n",
      "2023-05-11 18:12:34,418 INFO sqlalchemy.engine.Engine [cached since 0.001548s ago] ('Susan', 4, 12)\n",
      "2023-05-11 18:12:34,418 INFO sqlalchemy.engine.Engine COMMIT\n"
     ]
    }
   ],
   "source": [
    "session.add(Animals(petname=\"Billy\", age=1, weight=8))\n",
    "session.add(Animals(petname=\"Susan\", age=4, weight=12))\n",
    "\n",
    "session.commit()"
   ],
   "metadata": {
    "collapsed": false
   }
  },
  {
   "cell_type": "code",
   "execution_count": 13,
   "outputs": [
    {
     "name": "stdout",
     "output_type": "stream",
     "text": [
      "2023-05-11 18:12:34,431 INFO sqlalchemy.engine.Engine BEGIN (implicit)\n",
      "2023-05-11 18:12:34,432 INFO sqlalchemy.engine.Engine SELECT animals.id AS animals_id, animals.petname AS animals_petname, animals.age AS animals_age, animals.weight AS animals_weight \n",
      "FROM animals\n",
      "2023-05-11 18:12:34,433 INFO sqlalchemy.engine.Engine [generated in 0.00053s] ()\n"
     ]
    }
   ],
   "source": [
    "all_rows = query.all()"
   ],
   "metadata": {
    "collapsed": false
   }
  },
  {
   "cell_type": "code",
   "execution_count": 14,
   "outputs": [
    {
     "name": "stdout",
     "output_type": "stream",
     "text": [
      "<class '__main__.Animals'>\n",
      "<class '__main__.Animals'>\n"
     ]
    }
   ],
   "source": [
    "for row in all_rows:\n",
    "    print(type(row))  # <class '__main__.Animals'>"
   ],
   "metadata": {
    "collapsed": false
   }
  },
  {
   "cell_type": "code",
   "execution_count": 15,
   "outputs": [
    {
     "name": "stdout",
     "output_type": "stream",
     "text": [
      "Pet name: Billy, age: 1, weight: 8\n",
      "Pet name: Susan, age: 4, weight: 12\n"
     ]
    }
   ],
   "source": [
    "for row in all_rows:\n",
    "    print(f\"Pet name: {row.petname}, age: {row.age}, weight: {row.weight}\")"
   ],
   "metadata": {
    "collapsed": false
   }
  },
  {
   "cell_type": "code",
   "execution_count": 16,
   "outputs": [
    {
     "name": "stdout",
     "output_type": "stream",
     "text": [
      "SELECT animals.petname AS animals_petname \n",
      "FROM animals\n"
     ]
    }
   ],
   "source": [
    "query = session.query(Animals.petname)\n",
    "print(query)"
   ],
   "metadata": {
    "collapsed": false
   }
  },
  {
   "cell_type": "code",
   "execution_count": 17,
   "outputs": [
    {
     "name": "stdout",
     "output_type": "stream",
     "text": [
      "2023-05-11 18:12:34,494 INFO sqlalchemy.engine.Engine SELECT animals.petname AS animals_petname, animals.age AS animals_age \n",
      "FROM animals\n",
      "2023-05-11 18:12:34,494 INFO sqlalchemy.engine.Engine [generated in 0.00045s] ()\n",
      "Billy 1\n",
      "Susan 4\n"
     ]
    }
   ],
   "source": [
    "query = session.query(Animals.petname, Animals.age)\n",
    "for petname, age in query:\n",
    "    print(petname, age)"
   ],
   "metadata": {
    "collapsed": false
   }
  },
  {
   "cell_type": "code",
   "execution_count": 18,
   "outputs": [
    {
     "name": "stdout",
     "output_type": "stream",
     "text": [
      "2023-05-11 18:12:34,509 INFO sqlalchemy.engine.Engine SELECT count(*) AS count_1 \n",
      "FROM (SELECT animals.id AS animals_id, animals.petname AS animals_petname, animals.age AS animals_age, animals.weight AS animals_weight \n",
      "FROM animals) AS anon_1\n",
      "2023-05-11 18:12:34,510 INFO sqlalchemy.engine.Engine [generated in 0.00061s] ()\n"
     ]
    },
    {
     "data": {
      "text/plain": "2"
     },
     "execution_count": 18,
     "metadata": {},
     "output_type": "execute_result"
    }
   ],
   "source": [
    "query = session.query(Animals)\n",
    "query.count()"
   ],
   "metadata": {
    "collapsed": false
   }
  },
  {
   "cell_type": "code",
   "execution_count": 19,
   "outputs": [
    {
     "name": "stdout",
     "output_type": "stream",
     "text": [
      "2023-05-11 18:12:34,523 INFO sqlalchemy.engine.Engine SELECT animals.id AS animals_id, animals.petname AS animals_petname, animals.age AS animals_age, animals.weight AS animals_weight \n",
      "FROM animals \n",
      "WHERE animals.petname = ?\n",
      "2023-05-11 18:12:34,524 INFO sqlalchemy.engine.Engine [generated in 0.00059s] ('Billy',)\n",
      "Billy 1 8\n"
     ]
    }
   ],
   "source": [
    "query = session.query(Animals)\n",
    "for row in query.filter(Animals.petname == \"Billy\"):\n",
    "    print(row.petname, row.age, row.weight) # Billy 1 8"
   ],
   "metadata": {
    "collapsed": false
   }
  },
  {
   "cell_type": "code",
   "execution_count": 20,
   "outputs": [
    {
     "name": "stdout",
     "output_type": "stream",
     "text": [
      "2023-05-11 18:12:34,540 INFO sqlalchemy.engine.Engine SELECT animals.age AS animals_age, animals.weight AS animals_weight \n",
      "FROM animals \n",
      "WHERE animals.age > ? AND animals.weight >= ?\n",
      "2023-05-11 18:12:34,540 INFO sqlalchemy.engine.Engine [generated in 0.00057s] (2, 8)\n",
      "Pet age: 4, Pet weight: 12\n"
     ]
    }
   ],
   "source": [
    "query = session.query(Animals.age, Animals.weight)\n",
    "\n",
    "age_gr_than = Animals.age > 2\n",
    "weight_eq_gr_than = Animals.weight >= 8\n",
    "\n",
    "for age, weight in query.filter(age_gr_than, weight_eq_gr_than):\n",
    "    print(f\"Pet age: {age}, Pet weight: {weight}\")"
   ],
   "metadata": {
    "collapsed": false
   }
  },
  {
   "cell_type": "markdown",
   "source": [
    "## Updating and deleting\n",
    "\n",
    "### imports and table creation"
   ],
   "metadata": {
    "collapsed": false
   }
  },
  {
   "cell_type": "code",
   "execution_count": 21,
   "outputs": [
    {
     "ename": "ImportError",
     "evalue": "cannot import name 'DeclarativeBase' from 'sqlalchemy.orm' (C:\\Users\\Michiel\\anaconda3\\lib\\site-packages\\sqlalchemy\\orm\\__init__.py)",
     "output_type": "error",
     "traceback": [
      "\u001B[1;31m---------------------------------------------------------------------------\u001B[0m",
      "\u001B[1;31mImportError\u001B[0m                               Traceback (most recent call last)",
      "\u001B[1;32m~\\AppData\\Local\\Temp\\ipykernel_468\\1362689240.py\u001B[0m in \u001B[0;36m<module>\u001B[1;34m\u001B[0m\n\u001B[0;32m      1\u001B[0m \u001B[1;32mfrom\u001B[0m \u001B[0msqlalchemy\u001B[0m \u001B[1;32mimport\u001B[0m \u001B[0mColumn\u001B[0m\u001B[1;33m,\u001B[0m \u001B[0mInteger\u001B[0m\u001B[1;33m,\u001B[0m \u001B[0mString\u001B[0m\u001B[1;33m\u001B[0m\u001B[1;33m\u001B[0m\u001B[0m\n\u001B[1;32m----> 2\u001B[1;33m \u001B[1;32mfrom\u001B[0m \u001B[0msqlalchemy\u001B[0m\u001B[1;33m.\u001B[0m\u001B[0morm\u001B[0m \u001B[1;32mimport\u001B[0m \u001B[0mDeclarativeBase\u001B[0m\u001B[1;33m,\u001B[0m \u001B[0msessionmaker\u001B[0m\u001B[1;33m\u001B[0m\u001B[1;33m\u001B[0m\u001B[0m\n\u001B[0m\u001B[0;32m      3\u001B[0m \u001B[1;33m\u001B[0m\u001B[0m\n\u001B[0;32m      4\u001B[0m \u001B[0mBase\u001B[0m \u001B[1;33m=\u001B[0m \u001B[0mdeclarative_base\u001B[0m\u001B[1;33m(\u001B[0m\u001B[1;33m)\u001B[0m\u001B[1;33m\u001B[0m\u001B[1;33m\u001B[0m\u001B[0m\n",
      "\u001B[1;31mImportError\u001B[0m: cannot import name 'DeclarativeBase' from 'sqlalchemy.orm' (C:\\Users\\Michiel\\anaconda3\\lib\\site-packages\\sqlalchemy\\orm\\__init__.py)"
     ]
    }
   ],
   "source": [
    "from sqlalchemy import Column, Integer, String\n",
    "from sqlalchemy.orm import declarative_base, sessionmaker\n",
    "\n",
    "Base = declarative_base()"
   ],
   "metadata": {
    "collapsed": false
   }
  },
  {
   "cell_type": "code",
   "execution_count": null,
   "outputs": [],
   "source": [
    "class Employee(Base):\n",
    "    __tablename__ = \"employee\"\n",
    "\n",
    "    id = Column(Integer, primary_key=True)\n",
    "    name = Column(String(30))\n",
    "    position = Column(String(30))\n",
    "    salary = Column(Integer)"
   ],
   "metadata": {
    "collapsed": false
   }
  },
  {
   "cell_type": "markdown",
   "source": [
    "### Create DB and session"
   ],
   "metadata": {
    "collapsed": false
   }
  },
  {
   "cell_type": "code",
   "execution_count": null,
   "outputs": [],
   "source": [
    "engine = create_engine(\"sqlite:///alchemy.db\", echo=True)\n",
    "Base.metadata.create_all(engine)\n",
    "\n",
    "Session = sessionmaker(bind=engine)\n",
    "session = Session()"
   ],
   "metadata": {
    "collapsed": false
   }
  },
  {
   "cell_type": "markdown",
   "source": [
    "### Fill the session"
   ],
   "metadata": {
    "collapsed": false
   }
  },
  {
   "cell_type": "code",
   "execution_count": null,
   "outputs": [],
   "source": [
    "session.add(Employee(name=\"William\", position=\"Data Scientist\", salary=\"12,000\"))\n",
    "session.add(Employee(name=\"Susan\", position=\"Product Manager\", salary=\"14,000\"))\n",
    "session.add(Employee(name=\"Andrew\", position=\"Senior Software Engineer\", salary=\"17,000\"))\n",
    "session.add(Employee(name=\"Nancy\", position=\"Account Executive\", salary=\"13,000\"))\n",
    "\n",
    "session.commit()"
   ],
   "metadata": {
    "collapsed": false
   }
  },
  {
   "cell_type": "markdown",
   "source": [
    "### Update methode"
   ],
   "metadata": {
    "collapsed": false
   }
  },
  {
   "cell_type": "code",
   "execution_count": null,
   "outputs": [],
   "source": [
    "query = session.query(Employee)\n",
    "\n",
    "query.update({\n",
    "    \"salary\": Employee.salary + 1000\n",
    "})\n",
    "\n",
    "session.commit()"
   ],
   "metadata": {
    "collapsed": false
   }
  },
  {
   "cell_type": "code",
   "execution_count": null,
   "outputs": [],
   "source": [
    "empl_filter = query.filter(Employee.name == \"William\")\n",
    "empl_filter.update({\"salary\": Employee.salary + 1000})\n",
    "session.commit()"
   ],
   "metadata": {
    "collapsed": false
   }
  },
  {
   "cell_type": "code",
   "execution_count": null,
   "outputs": [],
   "source": [
    "empl_filter = query.filter(Employee.position == \"Senior Software Engineer\")\n",
    "empl_filter.update({\n",
    "    \"salary\": Employee.salary - 1500,\n",
    "    \"position\": \"Middle Software Engineer\"\n",
    "})\n",
    "session.commit()"
   ],
   "metadata": {
    "collapsed": false
   }
  },
  {
   "cell_type": "markdown",
   "source": [
    "### Deleting data"
   ],
   "metadata": {
    "collapsed": false
   }
  },
  {
   "cell_type": "code",
   "execution_count": null,
   "outputs": [],
   "source": [
    "query.filter(Employee.name == \"Nancy\").delete()\n",
    "session.commit()"
   ],
   "metadata": {
    "collapsed": false
   }
  },
  {
   "cell_type": "markdown",
   "source": [
    "## Migration with Alembic\n",
    "\n",
    "While working with data, quite often you need to change your database structure: to add a column or a constraint, create, delete, or update a table. The process of changing the schema of a database is called migration. Migrations are something like version control for databases. For sure, you can modify databases using SQL queries, for example. But if you have massive data, it's too much work to do it manually. Moreover, if you make a lot of SQL queries, the code gets more difficult to read. Luckily, there are some migration tools, using which you can make this process much faster, easier, and safer.\n",
    "\n",
    "**Alembic** is the migration tool that is used with SQLAlchemy. Alembic provides a simple way to create, delete, and change tables and columns in a database. Foremost, you need to install it. You can do this using pip:\n"
   ],
   "metadata": {
    "collapsed": false
   }
  },
  {
   "cell_type": "code",
   "execution_count": null,
   "outputs": [],
   "source": [
    "!pip install alembic"
   ],
   "metadata": {
    "collapsed": false
   }
  },
  {
   "cell_type": "markdown",
   "source": [
    "After installing it you need to create a migration environment."
   ],
   "metadata": {
    "collapsed": false
   }
  },
  {
   "cell_type": "code",
   "execution_count": null,
   "outputs": [],
   "source": [
    "!alembic init alembic"
   ],
   "metadata": {
    "collapsed": false
   }
  },
  {
   "cell_type": "markdown",
   "source": [
    "This creates a couple of files:\n",
    "\n",
    "* `env.py` is a script that is run every time you invoke the alembic migration tool.\n",
    "* `script.py.maco` is a template file that is used to generate new migration scripts.\n",
    "* In the `versions` folder, migration scripts will appear.\n",
    "* The file `alembic.ini` contains all the basic information that makes it possible to connect to the database and is called every time Alembic is used.\n",
    "\n",
    "Let's create a User model with the columns id, name, surname, and birth in the database users. Pay attention that you also need to configure the database and establish the connection."
   ],
   "metadata": {
    "collapsed": false
   }
  },
  {
   "cell_type": "code",
   "execution_count": null,
   "outputs": [],
   "source": [
    "from sqlalchemy import Column, String, Integer, DateTime\n",
    "from sqlalchemy.orm import declarative_base\n",
    "\n",
    "Base = declarative_base()\n",
    "class User(Base):\n",
    "    __tablename__ = 'user'\n",
    "\n",
    "    id = Column(Integer, primary_key=True)\n",
    "    name = Column(String, nullable=False)\n",
    "    surname = Column(String, nullable=False)\n",
    "    birth = Column(DateTime)\n",
    "\n",
    "engine = create_engine('sqlite:///users.db')\n",
    "Base.metadata.create_all(engine)"
   ],
   "metadata": {
    "collapsed": false
   }
  },
  {
   "cell_type": "markdown",
   "source": [
    "Now lets see them alembic specific commands\".\n",
    "\n",
    "Add in `alembic.ini`: `sqlalchemy.url = sqlite:///users.db`\n",
    "Add in `env.py`:\n",
    "    `from model import Base\n",
    "    target_metadata = [Base.metadata]`\n",
    "\n",
    "Next run the following command:"
   ],
   "metadata": {
    "collapsed": false
   }
  },
  {
   "cell_type": "code",
   "execution_count": null,
   "outputs": [],
   "source": [
    "!alembic revision -m \"users\""
   ],
   "metadata": {
    "collapsed": false
   }
  },
  {
   "cell_type": "markdown",
   "source": [
    "Apply migration by using:"
   ],
   "metadata": {
    "collapsed": false
   }
  },
  {
   "cell_type": "code",
   "execution_count": null,
   "outputs": [],
   "source": [
    "!alembic upgrade head"
   ],
   "metadata": {
    "collapsed": false
   }
  },
  {
   "cell_type": "markdown",
   "source": [
    "By the way, if you want to roll back to the previous revision, you can run the following command:"
   ],
   "metadata": {
    "collapsed": false
   }
  },
  {
   "cell_type": "code",
   "execution_count": null,
   "outputs": [],
   "source": [
    "!alembic downgrade -1"
   ],
   "metadata": {
    "collapsed": false
   }
  },
  {
   "cell_type": "markdown",
   "source": [
    "## Migration with Flask-Migrate\n",
    "\n",
    "One more way to make migrations is using Flask-Migrate. Actually, Flask-Migrate is an extension that handles SQLAlchemy database migrations for Flask applications using Alembic. Everything is handled by Alembic, so there is exactly the same functionality."
   ],
   "metadata": {
    "collapsed": false
   }
  },
  {
   "cell_type": "code",
   "execution_count": null,
   "outputs": [],
   "source": [
    "!pip install Flask-Migrate"
   ],
   "metadata": {
    "collapsed": false
   }
  },
  {
   "cell_type": "markdown",
   "source": [
    "Then, you should create a migration repository with the following command:"
   ],
   "metadata": {
    "collapsed": false
   }
  },
  {
   "cell_type": "code",
   "execution_count": null,
   "outputs": [],
   "source": [
    "!flask db init"
   ],
   "metadata": {
    "collapsed": false
   }
  },
  {
   "cell_type": "markdown",
   "source": [
    "This will create a migrations folder. Let's suppose you have the same model User from the previous section.\n",
    "\n",
    "Next, let's generate a migration:"
   ],
   "metadata": {
    "collapsed": false
   }
  },
  {
   "cell_type": "code",
   "execution_count": null,
   "outputs": [],
   "source": [
    "!flask db migrate"
   ],
   "metadata": {
    "collapsed": false
   }
  },
  {
   "cell_type": "markdown",
   "source": [
    "And finally, let's apply the migration:"
   ],
   "metadata": {
    "collapsed": false
   }
  },
  {
   "cell_type": "code",
   "execution_count": null,
   "outputs": [],
   "source": [
    "!flask db upgrade"
   ],
   "metadata": {
    "collapsed": false
   }
  },
  {
   "cell_type": "markdown",
   "source": [
    "Great! You are done with it! Then every time you need to change the database models, repeat the migrate and upgrade commands.\n",
    "\n",
    "While using Flask-Migrate, you can undo the migration as well. Just use the following command:"
   ],
   "metadata": {
    "collapsed": false
   }
  },
  {
   "cell_type": "code",
   "execution_count": null,
   "outputs": [],
   "source": [
    "!flask db downgrade"
   ],
   "metadata": {
    "collapsed": false
   }
  },
  {
   "cell_type": "markdown",
   "source": [
    "## Relationships\n",
    "\n",
    "Relationship is a connection between tables, one of which has a foreign key that references to the primary key of another table. This allows a database to split and store data in different tables, and at the same time link them together. This is a fundamental feature of relational databases.\n",
    "\n",
    "There are four basic types of relationships in SQLAlchemy:\n",
    "* one-to-one, one-to-many\n",
    "* many-to-one\n",
    "* many-to-many.\n",
    "\n",
    "### One-to-one\n",
    "\n",
    "Suppose, that we have two tables in our database: citizen with columns id, name, and a table passport with columns id, passport_id. For linking them, we will need the relationship() function."
   ],
   "metadata": {
    "collapsed": false
   }
  },
  {
   "cell_type": "code",
   "execution_count": 21,
   "outputs": [],
   "source": [
    "from sqlalchemy import Column, ForeignKey, Integer, Table\n",
    "from sqlalchemy.orm import declarative_base, relationship\n",
    "\n",
    "Base = declarative_base()\n",
    "\n",
    "class Citizen(Base):\n",
    "\n",
    "    __tablename__ = \"citizen\"\n",
    "\n",
    "    id = Column(Integer, primary_key=True)\n",
    "    name = Column(String(255), unique=True, nullable=False)\n",
    "\n",
    "    # Relationships\n",
    "    passport = relationship(\"Passport\")\n",
    "\n",
    "class Passport(Base):\n",
    "\n",
    "    __tablename__ = \"passport\"\n",
    "\n",
    "    id = Column(Integer, primary_key=True)\n",
    "    citizen_id = Column(Integer, ForeignKey(\"citizen.id\"))\n",
    "    passport_id = Column(String(25), unique=True, nullable=False)\n",
    "\n",
    "    # Relationships\n",
    "    citizen = relationship(\"Citizen\")"
   ],
   "metadata": {
    "collapsed": false
   }
  },
  {
   "cell_type": "markdown",
   "source": [
    "We have linked data between our citizen and passport tables so that fetching one will allow us to get information about the other.\n",
    "\n",
    "Here, the relationships complement the foreign keys and tell our application (not our database) that we are building a connection between two models. In the example below, the value of the foreign key is `citizen.id`, which is the table name for our `citizen` table. And also we pass the value `Citizen` to our relationship, which is the class name of the data model (not the table name).\n",
    "\n",
    "### One-to-many\n",
    "\n",
    "One-to-many relationship connects an object of the first (parent) table with one or more objects of the second (child) table, but not vice versa. Any object of the second table can be associated with only one object of the first table. For example, class-student (in one class, there can be many students, but each student belongs to only one group) or customer-order (a customer can have several orders, but each order can have only one customer). One-to-many relationships are the most common types of database relationships."
   ],
   "metadata": {
    "collapsed": false
   }
  },
  {
   "cell_type": "code",
   "execution_count": null,
   "outputs": [],
   "source": [
    "from sqlalchemy.orm import relationship\n",
    "\n",
    "\n",
    "class User(Base):\n",
    "\n",
    "    __tablename__ = \"user\"\n",
    "\n",
    "    id = Column(Integer, primary_key=True, autoincrement=\"auto\")\n",
    "    username = Column(String(255), unique=True, nullable=False)\n",
    "    first_name = Column(String(255))\n",
    "    last_name = Column(String(255))\n",
    "    bio = Column(Text)\n",
    "\n",
    "\n",
    "\n",
    "class Post(Base):\n",
    "\n",
    "\n",
    "    __tablename__ = \"post\"\n",
    "\n",
    "    id = Column(Integer, primary_key=True, index=True)\n",
    "    user_id = Column(Integer, ForeignKey(\"user.id\"))\n",
    "    title = Column(String(255), nullable=False)\n",
    "    body = Column(Text)\n",
    "    created_at = Column(DateTime, server_default=func.now())\n",
    "    updated_at = Column(DateTime, server_default=func.now())\n",
    "\n",
    "    # Relationships\n",
    "    user = relationship(\"User\")\n"
   ],
   "metadata": {
    "collapsed": false,
    "pycharm": {
     "is_executing": true
    }
   }
  },
  {
   "cell_type": "markdown",
   "source": [
    "We have made a connection between user and post tables. For this, we needed to assign a value user.id, which is the name of the user table, and pass the value User to our relationship, the class name of the data model (not the table name).\n",
    "\n",
    "### Many-to-one\n",
    "Many-to-many relationship means that any object of the first table can be associated with one or more objects of another table and vice versa. For example, student-discipline (each student can study many disciplines, and each discipline can be taken by many students).\n",
    "\n",
    "Many-to-many relationships are defined like the one-to-many relationships, but you also need to define an association table and add it to the secondary argument in relationship() in the following way:"
   ],
   "metadata": {
    "collapsed": false
   }
  },
  {
   "cell_type": "code",
   "execution_count": 21,
   "outputs": [],
   "source": [
    "from sqlalchemy.ext.declarative import declarative_base\n",
    "\n",
    "Base = declarative_base()\n",
    "\n",
    "\n",
    "association_table = Table(\n",
    "    \"StudentDicsipline\",\n",
    "    Base.metadata,\n",
    "    Column(\"discipline_id\", Integer, ForeignKey(\"discipline.id\")),\n",
    "    Column(\"student_id\", Integer, ForeignKey(\"student.id\")),\n",
    ")\n",
    "\n",
    "\n",
    "class Discipline(Base):\n",
    "\n",
    "\n",
    "    __tablename__ = \"discipline\"\n",
    "    id = Column(Integer, primary_key=True)\n",
    "    name = Column(String)\n",
    "\n",
    "\n",
    "class Student(Base):\n",
    "\n",
    "\n",
    "    __tablename__ = \"student\"\n",
    "    id = Column(Integer, primary_key=True)\n",
    "    name = Column(String)\n",
    "    disciplines = relationship(\"Discipline\", secondary=\"StudentDiscipline\")"
   ],
   "metadata": {
    "collapsed": false
   }
  },
  {
   "cell_type": "markdown",
   "source": [
    "In the association table, the names of the columns are defined in the format tablename_columnname. Each column must have a foreign key defined in the format tablename.columnname."
   ],
   "metadata": {
    "collapsed": false
   }
  }
 ],
 "metadata": {
  "kernelspec": {
   "display_name": "Python 3",
   "language": "python",
   "name": "python3"
  },
  "language_info": {
   "codemirror_mode": {
    "name": "ipython",
    "version": 2
   },
   "file_extension": ".py",
   "mimetype": "text/x-python",
   "name": "python",
   "nbconvert_exporter": "python",
   "pygments_lexer": "ipython2",
   "version": "2.7.6"
  }
 },
 "nbformat": 4,
 "nbformat_minor": 0
}
