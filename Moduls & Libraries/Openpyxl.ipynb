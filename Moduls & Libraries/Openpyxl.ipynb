{
 "cells": [
  {
   "cell_type": "markdown",
   "source": [
    "# Openpyxl\n",
    "\n",
    "`Openpyxl` is a module that allows you to creaty and modify excel files."
   ],
   "metadata": {
    "collapsed": false
   }
  },
  {
   "cell_type": "code",
   "execution_count": 1,
   "outputs": [
    {
     "name": "stdout",
     "output_type": "stream",
     "text": [
      "Requirement already satisfied: openpyxl in c:\\users\\michiel\\anaconda3\\lib\\site-packages (3.0.10)\n",
      "Requirement already satisfied: et_xmlfile in c:\\users\\michiel\\anaconda3\\lib\\site-packages (from openpyxl) (1.1.0)\n"
     ]
    }
   ],
   "source": [
    "!pip install openpyxl"
   ],
   "metadata": {
    "collapsed": false
   }
  },
  {
   "cell_type": "markdown",
   "source": [
    "## Creating files"
   ],
   "metadata": {
    "collapsed": false
   }
  },
  {
   "cell_type": "code",
   "execution_count": 2,
   "outputs": [],
   "source": [
    "from openpyxl import Workbook\n",
    "\n",
    "book = Workbook()\n",
    "new_sheet = book.active"
   ],
   "metadata": {
    "collapsed": false
   }
  },
  {
   "cell_type": "code",
   "execution_count": 3,
   "outputs": [
    {
     "data": {
      "text/plain": "openpyxl.worksheet.worksheet.Worksheet"
     },
     "execution_count": 3,
     "metadata": {},
     "output_type": "execute_result"
    }
   ],
   "source": [
    "type(new_sheet)"
   ],
   "metadata": {
    "collapsed": false
   }
  },
  {
   "cell_type": "code",
   "execution_count": 5,
   "outputs": [],
   "source": [
    "new_sheet['A1'] = 'Cat'\n",
    "new_sheet['A2'] = 'Dog'\n",
    "new_sheet['A3'] = 'Tigger'\n",
    "new_sheet['A4'] = 'Hamster'\n",
    "\n",
    "book.save('pets.xlsx')"
   ],
   "metadata": {
    "collapsed": false
   }
  },
  {
   "cell_type": "code",
   "execution_count": 6,
   "outputs": [],
   "source": [
    "new_sheet.cell(row=1, column=1).value = 'Cat'"
   ],
   "metadata": {
    "collapsed": false
   }
  },
  {
   "cell_type": "markdown",
   "source": [
    "## Reading filles"
   ],
   "metadata": {
    "collapsed": false
   }
  },
  {
   "cell_type": "code",
   "execution_count": null,
   "outputs": [],
   "source": [
    "import openpyxl\n",
    "\n",
    "\n",
    "workbook = openpyxl.load_workbook('Flights.xlsx')\n",
    "sheet = workbook['Summer holidays']"
   ],
   "metadata": {
    "collapsed": false
   }
  },
  {
   "cell_type": "code",
   "execution_count": null,
   "outputs": [],
   "source": [
    "all_sheets_names = workbook.sheetnames\n",
    "sheet = workbook[all_sheets_names[0]]"
   ],
   "metadata": {
    "collapsed": false
   }
  },
  {
   "cell_type": "code",
   "execution_count": null,
   "outputs": [],
   "source": [
    "print(sheet['A1'].value)  # Tom\n",
    "print(sheet['B1'].value)  # Black\n",
    "print(sheet['C1'].value)  # London"
   ],
   "metadata": {
    "collapsed": false
   }
  },
  {
   "cell_type": "code",
   "execution_count": null,
   "outputs": [],
   "source": [
    "sheet = workbook['Winter holidays']\n",
    "\n",
    "print(sheet['A3'].value)  # Alex\n",
    "print(sheet['B3'].value)  # Brown\n",
    "print(sheet['C3'].value)  # Warsaw"
   ],
   "metadata": {
    "collapsed": false
   }
  },
  {
   "cell_type": "code",
   "execution_count": null,
   "outputs": [],
   "source": [
    "all_sheets_names = workbook.sheetnames\n",
    "sheet = workbook[all_sheets_names[1]]"
   ],
   "metadata": {
    "collapsed": false
   }
  },
  {
   "cell_type": "markdown",
   "source": [
    "## Writing a file"
   ],
   "metadata": {
    "collapsed": false
   }
  },
  {
   "cell_type": "code",
   "execution_count": null,
   "outputs": [],
   "source": [
    "workbook.create_sheet(title='Spring holidays')\n",
    "write_sheet = workbook['Spring holidays']\n",
    "\n",
    "write_sheet['A1'] = 'Tom'\n",
    "write_sheet['B1'] = 'Black'\n",
    "write_sheet['C1'] = 'The Hague'\n",
    "write_sheet['D1'] = 'We will discuss later'\n",
    "write_sheet['E1'] = 5\n",
    "\n",
    "workbook.save(\"Flights.xlsx\")"
   ],
   "metadata": {
    "collapsed": false
   }
  },
  {
   "cell_type": "code",
   "execution_count": null,
   "outputs": [],
   "source": [
    "workbook = openpyxl.load_workbook('sample-xls-file-for-testing.xlsx')\n",
    "\n",
    "sheet = workbook['Sheet1']\n",
    "\n",
    "rows = sheet.max_row\n",
    "cols = sheet.max_column\n",
    "print(rows)  # 701\n",
    "print(cols)  # 16"
   ],
   "metadata": {
    "collapsed": false
   }
  },
  {
   "cell_type": "code",
   "execution_count": null,
   "outputs": [],
   "source": [
    "for row in range(1, rows + 1):\n",
    "    string = ''\n",
    "    for column in range(1, cols + 1):\n",
    "        value = sheet.cell(row=row, column=column).value\n",
    "        string = string + str(value) + ', '\n",
    "    string = string[:-2]  # we remove the last appended comma and space\n",
    "    print(string)\n",
    "\n",
    "# Segment, Country, Product, Discount Band, Units Sold ...\n",
    "# Government, Canada, Carretera, None, 1618.5 ...\n",
    "# Government, Germany, Carretera, None, 1321 ...\n",
    "# ..."
   ],
   "metadata": {
    "collapsed": false
   }
  },
  {
   "cell_type": "code",
   "execution_count": null,
   "outputs": [],
   "source": [
    "for row in range(1, rows + 1):\n",
    "    string = ''\n",
    "    for column in range(1, cols + 1):\n",
    "        value = sheet.cell(row=row, column=column).value\n",
    "        string = string + str(value) + ', '\n",
    "    string = string[:-2]\n",
    "    check = sheet.cell(row=row, column=2)\n",
    "    check = str(check.value)\n",
    "    if check == 'Germany':\n",
    "        print(string)\n",
    "\n",
    "# Government, Germany, Carretera, None, 1321 ...\n",
    "# Midmarket, Germany, Carretera, None, 888 ...\n",
    "# Government, Germany, Carretera, None, 1513 ...\n",
    "# ..."
   ],
   "metadata": {
    "collapsed": false
   }
  }
 ],
 "metadata": {
  "kernelspec": {
   "display_name": "Python 3",
   "language": "python",
   "name": "python3"
  },
  "language_info": {
   "codemirror_mode": {
    "name": "ipython",
    "version": 2
   },
   "file_extension": ".py",
   "mimetype": "text/x-python",
   "name": "python",
   "nbconvert_exporter": "python",
   "pygments_lexer": "ipython2",
   "version": "2.7.6"
  }
 },
 "nbformat": 4,
 "nbformat_minor": 0
}
