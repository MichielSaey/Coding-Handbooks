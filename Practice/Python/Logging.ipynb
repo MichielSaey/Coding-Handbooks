{
 "cells": [
  {
   "cell_type": "markdown",
   "source": [
    "# Logging\n",
    "\n",
    "The logging module defenis functions and classes that implement a flexible logging system."
   ],
   "metadata": {
    "collapsed": false
   }
  },
  {
   "cell_type": "code",
   "execution_count": 1,
   "outputs": [
    {
     "name": "stderr",
     "output_type": "stream",
     "text": [
      "WARNING:root:Your script was executed successfully, but the output is wrong!\n"
     ]
    }
   ],
   "source": [
    "import logging\n",
    "\n",
    "logging.warning(\"Your %s was executed successfully, but the %s is wrong!\", \"script\", \"output\")"
   ],
   "metadata": {
    "collapsed": false
   }
  },
  {
   "cell_type": "markdown",
   "source": [
    "By default, the output has the following format: `{LEVEL}:{LOGGER}:{MESSAGE}`. to change this you can use the `format` attribute when configuring the logger. To do this we need to call the `basisConfig()` method:"
   ],
   "metadata": {
    "collapsed": false
   }
  },
  {
   "cell_type": "code",
   "execution_count": 5,
   "metadata": {
    "collapsed": true
   },
   "outputs": [],
   "source": [
    "logging.basicConfig(format='%(levelname)s:%(message)s')\n",
    "logging.info(\"Your program is running excellent\")"
   ]
  },
  {
   "cell_type": "code",
   "execution_count": 3,
   "outputs": [
    {
     "name": "stderr",
     "output_type": "stream",
     "text": [
      "WARNING:root:Your script was executed successfully, but the output is wrong!\n"
     ]
    }
   ],
   "source": [
    "logging.warning(\"Your %s was executed successfully, but the %s is wrong!\", \"script\", \"output\")"
   ],
   "metadata": {
    "collapsed": false
   }
  },
  {
   "cell_type": "markdown",
   "source": [
    "The logging priority scale in Python consists folowing levels:\n",
    "\n",
    "1. **`DEBUG: 10`** - Details during development dont has to be ramoved when you are done debuggunf\n",
    "2. **`INFO: 20`** - Info, checkpoints in program\n",
    "3. **`WARNING: 30`** - Program still working, but not working as expected\n",
    "4. **`ERROR: 40`** - Fault in program wich will\n",
    "5. **`CRITICAL: 50`** -  Program may be unable to continue"
   ],
   "metadata": {
    "collapsed": false
   }
  },
  {
   "cell_type": "code",
   "execution_count": 6,
   "outputs": [
    {
     "name": "stderr",
     "output_type": "stream",
     "text": [
      "CRITICAL:root:It is critical to understand logs!\n",
      "ERROR:root:Running this line will result in an error message!\n",
      "WARNING:root:You must catch that bug! It is a warning!\n"
     ]
    }
   ],
   "source": [
    "import logging\n",
    "logging.basicConfig(format=\"%(message)s\")\n",
    "\n",
    "logging.critical(\"It is critical to understand logs!\")\n",
    "logging.error(\"Running this line will result in an error message!\")\n",
    "logging.warning(\"You must catch that bug! It is a warning!\")\n",
    "logging.info(\"My info is that you are here!\")\n",
    "logging.debug(\"I'm debugging!\")"
   ],
   "metadata": {
    "collapsed": false
   }
  },
  {
   "cell_type": "markdown",
   "source": [
    "As you see currently the logging level is set to `WARNING`. We can change this"
   ],
   "metadata": {
    "collapsed": false
   }
  },
  {
   "cell_type": "code",
   "execution_count": 8,
   "outputs": [
    {
     "name": "stderr",
     "output_type": "stream",
     "text": [
      "CRITICAL:root:It is critical to understand logs!\n",
      "ERROR:root:Running this line will result in an error message!\n",
      "WARNING:root:You must catch that bug! It is a warning!\n"
     ]
    }
   ],
   "source": [
    "logging.basicConfig(format='%(message)s', level='logging.basicConfig(filename='log_file.txt',\n",
    "filemode='a',\n",
    "format='%(message)s',\n",
    "level='DEBUG')')\n",
    "\n",
    "logging.critical(\"It is critical to understand logs!\")\n",
    "logging.error(\"Running this line will result in an error message!\")\n",
    "logging.warning(\"You must catch that bug! It is a warning!\")\n",
    "logging.info(\"My info is that you are here!\")\n",
    "logging.debug(\"I'm debugging!\")"
   ],
   "metadata": {
    "collapsed": false
   }
  },
  {
   "cell_type": "markdown",
   "source": [
    "You can also add `filename` and `filemode` to export all the log to a `.txt`"
   ],
   "metadata": {
    "collapsed": false
   }
  },
  {
   "cell_type": "code",
   "execution_count": null,
   "outputs": [],
   "source": [
    "logging.basicConfig(filename='log_file.txt',\n",
    "                    filemode='a',\n",
    "                    format='%(message)s',\n",
    "                    level='DEBUG')"
   ],
   "metadata": {
    "collapsed": false
   }
  },
  {
   "cell_type": "markdown",
   "source": [
    "## Profesional Logger"
   ],
   "metadata": {
    "collapsed": false
   }
  },
  {
   "cell_type": "code",
   "execution_count": 9,
   "outputs": [
    {
     "name": "stderr",
     "output_type": "stream",
     "text": [
      "DEBUG:root:Here you have some information for debugging.\n",
      "2023-04-02 17:30:26,181 | DEBUG: Here you have some information for debugging.\n",
      "INFO:root:Everything is OK. Keep going!\n",
      "2023-04-02 17:30:26,188 | INFO: Everything is OK. Keep going!\n",
      "WARNING:root:Something strange has happened, but it's not critical.\n",
      "2023-04-02 17:30:26,190 | WARNING: Something strange has happened, but it's not critical.\n",
      "ERROR:root:Something unexpected and critical has happened.\n",
      "2023-04-02 17:30:26,192 | ERROR: Something unexpected and critical has happened.\n",
      "CRITICAL:root:A critical error! The code cannot run!\n",
      "2023-04-02 17:30:26,196 | CRITICAL: A critical error! The code cannot run!\n"
     ]
    }
   ],
   "source": [
    "import logging\n",
    "\n",
    "# STEP 1\n",
    "# create a logger object instance\n",
    "logger = logging.getLogger()\n",
    "\n",
    "# STEP 2\n",
    "# specify the lowest boundary for logging\n",
    "logger.setLevel(logging.DEBUG)\n",
    "\n",
    "# STEP 3\n",
    "# set a destination for your logs or a handler\n",
    "# here, we choose to print on console (a console handler)\n",
    "console_handler = logging.StreamHandler()\n",
    "\n",
    "# STEP 4\n",
    "# set the logging format for your handler\n",
    "log_format = '%(asctime)s | %(levelname)s: %(message)s'\n",
    "console_handler.setFormatter(logging.Formatter(log_format))\n",
    "\n",
    "# finally, add the handler to the logger\n",
    "logger.addHandler(console_handler)\n",
    "\n",
    "# start the logging and show the messages\n",
    "logger.debug('Here you have some information for debugging.')\n",
    "logger.info('Everything is OK. Keep going!')\n",
    "logger.warning(\"Something strange has happened, but it's not critical.\")\n",
    "logger.error('Something unexpected and critical has happened.')\n",
    "logger.critical('A critical error! The code cannot run!')"
   ],
   "metadata": {
    "collapsed": false
   }
  },
  {
   "cell_type": "markdown",
   "source": [],
   "metadata": {
    "collapsed": false
   }
  }
 ],
 "metadata": {
  "kernelspec": {
   "display_name": "Python 3",
   "language": "python",
   "name": "python3"
  },
  "language_info": {
   "codemirror_mode": {
    "name": "ipython",
    "version": 2
   },
   "file_extension": ".py",
   "mimetype": "text/x-python",
   "name": "python",
   "nbconvert_exporter": "python",
   "pygments_lexer": "ipython2",
   "version": "2.7.6"
  }
 },
 "nbformat": 4,
 "nbformat_minor": 0
}
