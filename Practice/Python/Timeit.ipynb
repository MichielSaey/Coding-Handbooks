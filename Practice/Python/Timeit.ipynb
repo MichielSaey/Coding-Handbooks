{
 "cells": [
  {
   "cell_type": "markdown",
   "source": [
    "# Timeit\n",
    "\n",
    " The `Timeit` moduele is an alternative to the `time` moduele when it commes to checking the effeicenty of a piece of code."
   ],
   "metadata": {
    "collapsed": false
   }
  },
  {
   "cell_type": "code",
   "execution_count": 9,
   "outputs": [],
   "source": [
    "import timeit"
   ],
   "metadata": {
    "collapsed": false
   }
  },
  {
   "cell_type": "code",
   "execution_count": 3,
   "metadata": {
    "collapsed": true
   },
   "outputs": [
    {
     "ename": "SyntaxError",
     "evalue": "invalid syntax (2437902236.py, line 3)",
     "output_type": "error",
     "traceback": [
      "\u001B[1;36m  File \u001B[1;32m\"C:\\Users\\michi\\AppData\\Local\\Temp\\ipykernel_16704\\2437902236.py\"\u001B[1;36m, line \u001B[1;32m3\u001B[0m\n\u001B[1;33m    timeit.timeit(stmt='pass', setup='pass', timer=<default timer>, number=1000000, globals=None)\u001B[0m\n\u001B[1;37m                                                   ^\u001B[0m\n\u001B[1;31mSyntaxError\u001B[0m\u001B[1;31m:\u001B[0m invalid syntax\n"
     ]
    }
   ],
   "source": [
    "timeit.timeit(stmt='pass', setup='pass', timer=<default timer>, number=1000000, globals=None)"
   ]
  },
  {
   "cell_type": "markdown",
   "source": [
    "Let take a look at what the previous segments do.\n",
    "1. **`stmt`** - means statement. The code you want to test. !Note that it must be in string!\n",
    "2. **`setup`** - is code that you dont want to repeat in the loop, for example import statmants.\n",
    "3. **`timer`** - this is the function that measures the time.\n",
    "4. **`number`** - this is the amount of times you want statment to execute\n",
    "5. **`globals`** - allows you to specify the namespace to run the code\n",
    "\n",
    "The function returns a `float` indicating the seconds."
   ],
   "metadata": {
    "collapsed": false
   }
  },
  {
   "cell_type": "code",
   "execution_count": 10,
   "outputs": [
    {
     "data": {
      "text/plain": "0.060944800000001464"
     },
     "execution_count": 10,
     "metadata": {},
     "output_type": "execute_result"
    }
   ],
   "source": [
    "snippet = \"a=5;b=7;result=a+b\"\n",
    "timeit.timeit(stmt=snippet)"
   ],
   "metadata": {
    "collapsed": false
   }
  },
  {
   "cell_type": "code",
   "execution_count": 11,
   "outputs": [
    {
     "data": {
      "text/plain": "[0.06303490000000522, 0.06139019999999107, 0.05980460000000676]"
     },
     "execution_count": 11,
     "metadata": {},
     "output_type": "execute_result"
    }
   ],
   "source": [
    "snippet = \"a=5;b=7;result=a+b\"\n",
    "timeit.repeat(stmt=snippet, repeat=3)"
   ],
   "metadata": {
    "collapsed": false
   }
  },
  {
   "cell_type": "code",
   "execution_count": 12,
   "outputs": [
    {
     "data": {
      "text/plain": "0.2178670999999781"
     },
     "execution_count": 12,
     "metadata": {},
     "output_type": "execute_result"
    }
   ],
   "source": [
    "import math\n",
    "timeit.timeit(stmt='math.sqrt(4)', globals=globals())"
   ],
   "metadata": {
    "collapsed": false
   }
  },
  {
   "cell_type": "code",
   "execution_count": 13,
   "outputs": [
    {
     "data": {
      "text/plain": "(50000, 0.24330370000001267)"
     },
     "execution_count": 13,
     "metadata": {},
     "output_type": "execute_result"
    }
   ],
   "source": [
    "snippet = '[x for x in range(1, 100)]'\n",
    "t = timeit.Timer(stmt=snippet)\n",
    "t.autorange()"
   ],
   "metadata": {
    "collapsed": false
   }
  },
  {
   "cell_type": "markdown",
   "source": [
    "The module can also be used in the terminal"
   ],
   "metadata": {
    "collapsed": false
   }
  },
  {
   "cell_type": "code",
   "execution_count": null,
   "outputs": [],
   "source": [
    "C:\\Users\\Asus>python -m timeit \"'pineapples and bananas'.split()\"\n",
    "2000000 loops, best of 5: 149 nsec per loop"
   ],
   "metadata": {
    "collapsed": false
   }
  }
 ],
 "metadata": {
  "kernelspec": {
   "display_name": "Python 3",
   "language": "python",
   "name": "python3"
  },
  "language_info": {
   "codemirror_mode": {
    "name": "ipython",
    "version": 2
   },
   "file_extension": ".py",
   "mimetype": "text/x-python",
   "name": "python",
   "nbconvert_exporter": "python",
   "pygments_lexer": "ipython2",
   "version": "2.7.6"
  }
 },
 "nbformat": 4,
 "nbformat_minor": 0
}
