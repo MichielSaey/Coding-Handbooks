{
 "cells": [
  {
   "cell_type": "markdown",
   "source": [
    " # CSV\n",
    "\n",
    "CSV stands for comma-separated values. A CSV file allows you to store your data in a tabular format. In fact, it is a simple text file with numerous lines. Each line of the file is a data entry. Each line contains elements separated by commas. The CSV data can be easily exported to other spreadsheets or databases.\n",
    "\n",
    "We can read a CSV file like any other text file in Python. Take a look at the code below. We are about to open the City_crimes.csv file from the previous section.\n",
    "\n",
    "````python\n",
    "crimes = open('City_crimes.csv', 'r')\n",
    "for line in crimes:\n",
    "    print(line, end='')\n",
    "# Crime,Time,District\n",
    "# Murder,10:03,1\n",
    "# Shop-lifting,21:24,2\n",
    "# Murder,13:15,2\n",
    "# Shop-lifting,16:17,3\n",
    "# Arson,15:59,5\n",
    "# Pickpocketing,22:22,4\n",
    "# Murder,23:43,5\n",
    "````\n",
    "\n",
    "As you can guess, the idea of writing to a CSV file doesn't differ from the idea of writing something to any text file. Imagine your colleague brought you a new report in which you saw a crime that isn't stored in your CSV file. So, you decided to append it to the end of the file. What do you do? You create a list in which you write down all the necessary information about the crime, then you join the elements of the list with a comma, write the data into the file. Finally, you need to close the file.\n",
    "\n",
    "````python\n",
    "crimes = open(\"City_crimes.csv\", \"a\")\n",
    "add_data = ['Hijacking', '17:49', '5']\n",
    "crimes.write(','.join(add_data) + '\\n')\n",
    "crimes.close()\n",
    "````"
   ],
   "metadata": {
    "collapsed": false
   }
  },
  {
   "cell_type": "markdown",
   "source": [
    "## CSV library\n",
    "\n",
    "The CSV library is the main tool for working with CSV files. It is built-in, so you can just import it.\n",
    "\n",
    "````python\n",
    "import csv\n",
    "````\n",
    "\n",
    "````python\n",
    "with open(\"City_crimes.csv\", newline='') as crime:\n",
    "    file_reader = csv.reader(crime, delimiter=\",\")  # Create a reader object\n",
    "    for line in file_reader:                        # Read each line\n",
    "        print(line)\n",
    "# ['Crime', 'Time', 'District']\n",
    "# ['Murder', '10:03', '1']\n",
    "# ['Shop-lifting', '21:24', '2']\n",
    "# ['Murder', '13:15', '2']\n",
    "# ['Shop-lifting', '16:17', '3']\n",
    "# ['Arson', '15:59', '5']\n",
    "# ['Pickpocketing', '22:22', '4']\n",
    "# ['Murder', '23:43', '5']\n",
    "````\n",
    "\n",
    "````python\n",
    "with open(\"criminals.csv\", \"w\", encoding='utf-8') as w_file:\n",
    "    file_writer = csv.writer(w_file, delimiter=\",\", lineterminator=\"\\n\")\n",
    "    file_writer.writerow([\"Name\", \"Age\", \"Height\"])\n",
    "    file_writer.writerow([\"Alex\", \"23\", \"184\"])\n",
    "    file_writer.writerow([\"Karla\", \"35\", \"170\"])\n",
    "    file_writer.writerow([\"Tim\", \"21\", \"178\"])\n",
    "````\n",
    "\n",
    "````python\n",
    "with open(\"City_crimes.csv\") as crime:\n",
    "    file_reader = csv.DictReader(crime, delimiter=\",\")\n",
    "    for line in file_reader:\n",
    "        print(line['Crime'], line['Time'], line['District'])\n",
    "# Murder 10:03 1\n",
    "# Shop-lifting 21:24 2\n",
    "# Murder 13:15 2\n",
    "# ...\n",
    "````\n",
    "\n",
    "````python\n",
    "with open(\"criminals.csv\", \"w\", encoding='utf-8') as w_file:\n",
    "    names = [\"Name\", \"Age\", \"Height\"]\n",
    "    file_writer = csv.DictWriter(w_file, delimiter=\",\", lineterminator=\"\\n\", fieldnames=names)\n",
    "    file_writer.writeheader()\n",
    "    file_writer.writerows([{\"Name\": \"Alex\", \"Age\": \"23\", \"Height\": \"184\"},\n",
    "                          {\"Name\": \"Tom\", \"Age\": \"35\", \"Height\": \"170\"},\n",
    "                          {\"Name\": \"Tim\", \"Age\": \"21\", \"Height\": \"178\"}])\n",
    "````"
   ],
   "metadata": {
    "collapsed": false
   }
  },
  {
   "cell_type": "code",
   "execution_count": 1,
   "metadata": {
    "collapsed": true
   },
   "outputs": [],
   "source": [
    "import csv"
   ]
  },
  {
   "cell_type": "markdown",
   "source": [],
   "metadata": {
    "collapsed": false
   }
  }
 ],
 "metadata": {
  "kernelspec": {
   "display_name": "Python 3",
   "language": "python",
   "name": "python3"
  },
  "language_info": {
   "codemirror_mode": {
    "name": "ipython",
    "version": 2
   },
   "file_extension": ".py",
   "mimetype": "text/x-python",
   "name": "python",
   "nbconvert_exporter": "python",
   "pygments_lexer": "ipython2",
   "version": "2.7.6"
  }
 },
 "nbformat": 4,
 "nbformat_minor": 0
}
