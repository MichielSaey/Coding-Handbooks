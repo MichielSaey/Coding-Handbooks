{
 "cells": [
  {
   "cell_type": "markdown",
   "source": [
    "\n",
    "# Exercises\n",
    "All of the exercises are focused on practicing the code in the sections above.\n",
    "\n",
    "You should be able to complete them by referencing each section or by following the resource(s) linked.\n",
    "\n",
    "All exercises should be completed using device-agonistic code.\n",
    "\n",
    "Resources:\n",
    "\n",
    "Exercise template notebook for 02\n",
    "Example solutions notebook for 02 (try the exercises before looking at this)\n",
    "Make a binary classification dataset with Scikit-Learn's make_moons() function.\n",
    "For consistency, the dataset should have 1000 samples and a random_state=42.\n",
    "Turn the data into PyTorch tensors. Split the data into training and test sets using train_test_split with 80% training and 20% testing.\n",
    "Build a model by subclassing nn.Module that incorporates non-linear activation functions and is capable of fitting the data you created in 1.\n",
    "Feel free to use any combination of PyTorch layers (linear and non-linear) you want.\n",
    "Setup a binary classification compatible loss function and optimizer to use when training the model.\n",
    "Create a training and testing loop to fit the model you created in 2 to the data you created in 1.\n",
    "To measure model accuray, you can create your own accuracy function or use the accuracy function in TorchMetrics.\n",
    "Train the model for long enough for it to reach over 96% accuracy.\n",
    "The training loop should output progress every 10 epochs of the model's training and test set loss and accuracy.\n",
    "Make predictions with your trained model and plot them using the plot_decision_boundary() function created in this notebook.\n",
    "Replicate the Tanh (hyperbolic tangent) activation function in pure PyTorch.\n",
    "Feel free to reference the ML cheatsheet website for the formula.\n",
    "Create a multi-class dataset using the spirals data creation function from CS231n (see below for the code).\n",
    "Construct a model capable of fitting the data (you may need a combination of linear and non-linear layers).\n",
    "Build a loss function and optimizer capable of handling multi-class data (optional extension: use the Adam optimizer instead of SGD, you may have to experiment with different values of the learning rate to get it working).\n",
    "Make a training and testing loop for the multi-class data and train a model on it to reach over 95% testing accuracy (you can use any accuracy measuring function here that you like).\n",
    "Plot the decision boundaries on the spirals dataset from your model predictions, the plot_decision_boundary() function should work for this dataset too."
   ],
   "metadata": {
    "collapsed": false
   }
  },
  {
   "cell_type": "code",
   "execution_count": null,
   "metadata": {
    "collapsed": true
   },
   "outputs": [],
   "source": [
    "# TODO: Make exercise"
   ]
  }
 ],
 "metadata": {
  "kernelspec": {
   "display_name": "Python 3",
   "language": "python",
   "name": "python3"
  },
  "language_info": {
   "codemirror_mode": {
    "name": "ipython",
    "version": 2
   },
   "file_extension": ".py",
   "mimetype": "text/x-python",
   "name": "python",
   "nbconvert_exporter": "python",
   "pygments_lexer": "ipython2",
   "version": "2.7.6"
  }
 },
 "nbformat": 4,
 "nbformat_minor": 0
}
