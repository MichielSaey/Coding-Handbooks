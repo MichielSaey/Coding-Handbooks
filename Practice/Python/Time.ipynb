{
 "cells": [
  {
   "cell_type": "markdown",
   "source": [
    "# Time\n",
    "\n",
    "The time module can be used for time related functionality. we can create a time object you can use the `.gmtime()` to get the UTC, or `.localtime()` to get the current time. if we print this object we get the struct object. Which is a structured object to represent a moment in time. each part of this can be called seperatly."
   ],
   "metadata": {
    "collapsed": false
   }
  },
  {
   "cell_type": "code",
   "execution_count": 1,
   "outputs": [
    {
     "data": {
      "text/plain": "time.struct_time(tm_year=2023, tm_mon=3, tm_mday=9, tm_hour=20, tm_min=15, tm_sec=33, tm_wday=3, tm_yday=68, tm_isdst=0)"
     },
     "execution_count": 1,
     "metadata": {},
     "output_type": "execute_result"
    }
   ],
   "source": [
    "import time\n",
    "\n",
    "current_time = time.gmtime()\n",
    "current_time"
   ],
   "metadata": {
    "collapsed": false
   }
  },
  {
   "cell_type": "markdown",
   "source": [
    "To represent the time as a string we have two options:\n",
    "* `asctime()`\n",
    "* `strftime()`"
   ],
   "metadata": {
    "collapsed": false
   }
  },
  {
   "cell_type": "code",
   "execution_count": 2,
   "outputs": [
    {
     "data": {
      "text/plain": "'Thu Mar  9 20:32:35 2023'"
     },
     "execution_count": 2,
     "metadata": {},
     "output_type": "execute_result"
    }
   ],
   "source": [
    "current_time = time.asctime(time.gmtime())\n",
    "current_time"
   ],
   "metadata": {
    "collapsed": false
   }
  },
  {
   "cell_type": "code",
   "execution_count": 4,
   "outputs": [
    {
     "data": {
      "text/plain": "'21:37'"
     },
     "execution_count": 4,
     "metadata": {},
     "output_type": "execute_result"
    }
   ],
   "source": [
    "current_time = time.strftime(\"%H:%M\", time.localtime())\n",
    "current_time"
   ],
   "metadata": {
    "collapsed": false
   }
  },
  {
   "cell_type": "markdown",
   "source": [
    "## Measure time\n",
    "\n",
    "to make a programe wait a certain amout time use the `sleep()` function."
   ],
   "metadata": {
    "collapsed": false
   }
  },
  {
   "cell_type": "code",
   "execution_count": 7,
   "outputs": [
    {
     "name": "stdout",
     "output_type": "stream",
     "text": [
      "21:48:51\n",
      "21:48:56\n"
     ]
    }
   ],
   "source": [
    "current_time = time.strftime(\"%H:%M:%S\", time.localtime())\n",
    "print(current_time)\n",
    "\n",
    "time.sleep(5)\n",
    "\n",
    "current_time = time.strftime(\"%H:%M:%S\", time.localtime())\n",
    "print(current_time)"
   ],
   "metadata": {
    "collapsed": false
   }
  },
  {
   "cell_type": "markdown",
   "source": [
    "## Calculate time diffrence\n",
    "\n",
    "It is possible to just substract two time struct objects. if you want to count the time between two point i can also use the `.perf_counter()`"
   ],
   "metadata": {
    "collapsed": false
   }
  },
  {
   "cell_type": "code",
   "execution_count": 18,
   "outputs": [
    {
     "name": "stdout",
     "output_type": "stream",
     "text": [
      "5 seconds\n"
     ]
    }
   ],
   "source": [
    "last_time = time.time()\n",
    "\n",
    "time.sleep(5)\n",
    "\n",
    "new_cur_time = time.time()\n",
    "time_passed = int(new_cur_time - last_time)\n",
    "print(time_passed, 'seconds')"
   ],
   "metadata": {
    "collapsed": false
   }
  },
  {
   "cell_type": "code",
   "execution_count": 19,
   "outputs": [
    {
     "data": {
      "text/plain": "6.007187899999735"
     },
     "execution_count": 19,
     "metadata": {},
     "output_type": "execute_result"
    }
   ],
   "source": [
    "start = time.perf_counter()\n",
    "\n",
    "time.sleep(6)\n",
    "\n",
    "end = time.perf_counter()\n",
    "\n",
    "end - start"
   ],
   "metadata": {
    "collapsed": false
   }
  },
  {
   "cell_type": "markdown",
   "source": [
    "## Timezones\n",
    "\n",
    "When handleing time it can sometimes happy you need to know the timezone"
   ],
   "metadata": {
    "collapsed": false
   }
  },
  {
   "cell_type": "code",
   "execution_count": 21,
   "outputs": [
    {
     "data": {
      "text/plain": "-1.0"
     },
     "execution_count": 21,
     "metadata": {},
     "output_type": "execute_result"
    }
   ],
   "source": [
    "time.timezone / 3600 # let's print the result in hours for readability"
   ],
   "metadata": {
    "collapsed": false
   }
  },
  {
   "cell_type": "code",
   "execution_count": 22,
   "outputs": [
    {
     "data": {
      "text/plain": "('Romance Standard Time', 'Romance Summer Time')"
     },
     "execution_count": 22,
     "metadata": {},
     "output_type": "execute_result"
    }
   ],
   "source": [
    "time.tzname"
   ],
   "metadata": {
    "collapsed": false
   }
  },
  {
   "cell_type": "code",
   "execution_count": 23,
   "outputs": [
    {
     "data": {
      "text/plain": "1"
     },
     "execution_count": 23,
     "metadata": {},
     "output_type": "execute_result"
    }
   ],
   "source": [
    "time.daylight"
   ],
   "metadata": {
    "collapsed": false
   }
  }
 ],
 "metadata": {
  "kernelspec": {
   "display_name": "Python 3",
   "language": "python",
   "name": "python3"
  },
  "language_info": {
   "codemirror_mode": {
    "name": "ipython",
    "version": 2
   },
   "file_extension": ".py",
   "mimetype": "text/x-python",
   "name": "python",
   "nbconvert_exporter": "python",
   "pygments_lexer": "ipython2",
   "version": "2.7.6"
  }
 },
 "nbformat": 4,
 "nbformat_minor": 0
}
