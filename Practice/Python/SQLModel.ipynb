{
 "cells": [
  {
   "cell_type": "markdown",
   "source": [
    "# SQLModel\n",
    "\n",
    "SQLModel is a library for interacting with SQL databases from Python code, with Python objects. Below is the code necessary for connecting to a database and reading the contents."
   ],
   "metadata": {
    "collapsed": false
   }
  },
  {
   "cell_type": "code",
   "execution_count": 1,
   "metadata": {
    "collapsed": true,
    "ExecuteTime": {
     "end_time": "2023-05-17T20:07:51.400047436Z",
     "start_time": "2023-05-17T20:07:51.358052486Z"
    }
   },
   "outputs": [],
   "source": [
    "from sqlmodel import create_engine, select, Session, SQLModel"
   ]
  },
  {
   "cell_type": "code",
   "execution_count": null,
   "outputs": [],
   "source": [
    "mysql_url = \"jdbc:mysql://172.17.0.2:3306\"\n",
    "engine = create_engine(mysql_url, echo=True)\n",
    "SQLModel.metadata.create_all(engine)\n"
   ],
   "metadata": {
    "collapsed": false
   }
  }
 ],
 "metadata": {
  "kernelspec": {
   "display_name": "Python 3",
   "language": "python",
   "name": "python3"
  },
  "language_info": {
   "codemirror_mode": {
    "name": "ipython",
    "version": 2
   },
   "file_extension": ".py",
   "mimetype": "text/x-python",
   "name": "python",
   "nbconvert_exporter": "python",
   "pygments_lexer": "ipython2",
   "version": "2.7.6"
  }
 },
 "nbformat": 4,
 "nbformat_minor": 0
}
