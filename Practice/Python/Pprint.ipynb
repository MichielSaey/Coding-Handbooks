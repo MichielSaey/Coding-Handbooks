{
 "cells": [
  {
   "cell_type": "markdown",
   "source": [
    "# pprint\n",
    "\n",
    "`pprint` or Pretty printer is a module to format the output to the console. It for example allows you to print a `list` without using a loop. For a normal string you will not see any difference, but lets declare a dict and lets see the diffence between `print` and `pprint`. When using `pprint` on a dictionalry it will automaticaly sort on key. this is because `sort_dics` is default set to `true`.\n"
   ],
   "metadata": {
    "collapsed": false
   }
  },
  {
   "cell_type": "code",
   "execution_count": 1,
   "metadata": {
    "collapsed": true
   },
   "outputs": [],
   "source": [
    "from pprint import pprint"
   ]
  },
  {
   "cell_type": "code",
   "execution_count": 2,
   "outputs": [
    {
     "name": "stdout",
     "output_type": "stream",
     "text": [
      "'Hello world'\n"
     ]
    }
   ],
   "source": [
    "pprint('Hello world')"
   ],
   "metadata": {
    "collapsed": false
   }
  },
  {
   "cell_type": "code",
   "execution_count": 3,
   "outputs": [],
   "source": [
    "dogs = [\n",
    "    {\n",
    "        \"name\": \"Max\",\n",
    "        \"breed\": \"Yorkshire\",\n",
    "        \"age\": 1,\n",
    "        \"owners\": [\"Susan, Camila, Paul\"]\n",
    "    },\n",
    "    {\n",
    "        \"name\": \"Duke\",\n",
    "        \"breed\": \"Bulldog\",\n",
    "        \"age\": 4,\n",
    "        \"owners\": [\"Thomas, David, Lucia\"]\n",
    "    },\n",
    "    {\n",
    "        \"name\": \"Bella\",\n",
    "        \"breed\": \"Poodle\",\n",
    "        \"age\": 2,\n",
    "        \"owners\": [\"Katharina, Arthur\"]\n",
    "    }\n",
    "]"
   ],
   "metadata": {
    "collapsed": false
   }
  },
  {
   "cell_type": "code",
   "execution_count": 4,
   "outputs": [
    {
     "name": "stdout",
     "output_type": "stream",
     "text": [
      "[{'name': 'Max', 'breed': 'Yorkshire', 'age': 1, 'owners': ['Susan, Camila, Paul']}, {'name': 'Duke', 'breed': 'Bulldog', 'age': 4, 'owners': ['Thomas, David, Lucia']}, {'name': 'Bella', 'breed': 'Poodle', 'age': 2, 'owners': ['Katharina, Arthur']}]\n"
     ]
    }
   ],
   "source": [
    "print(dogs)"
   ],
   "metadata": {
    "collapsed": false
   }
  },
  {
   "cell_type": "code",
   "execution_count": 18,
   "outputs": [
    {
     "name": "stdout",
     "output_type": "stream",
     "text": [
      "[{'age': 1,\n",
      "  'breed': 'Yorkshire',\n",
      "  'name': 'Max',\n",
      "  'owners': ['Susan, Camila, Paul']},\n",
      " {'age': 4,\n",
      "  'breed': 'Bulldog',\n",
      "  'name': 'Duke',\n",
      "  'owners': ['Thomas, David, Lucia']},\n",
      " {'age': 2,\n",
      "  'breed': 'Poodle',\n",
      "  'name': 'Bella',\n",
      "  'owners': ['Katharina, Arthur']}]\n",
      "\n",
      "Usage:   \n",
      "  pip <command> [options]\n",
      "\n",
      "Commands:\n",
      "  install                     Install packages.\n",
      "  download                    Download packages.\n",
      "  uninstall                   Uninstall packages.\n",
      "  freeze                      Output installed packages in requirements format.\n",
      "  inspect                     Inspect the python environment.\n",
      "  list                        List installed packages.\n",
      "  show                        Show information about installed packages.\n",
      "  check                       Verify installed packages have compatible dependencies.\n",
      "  config                      Manage local and global configuration.\n",
      "  search                      Search PyPI for packages.\n",
      "  cache                       Inspect and manage pip's wheel cache.\n",
      "  index                       Inspect information available from package indexes.\n",
      "  wheel                       Build wheels from your requirements.\n",
      "  hash                        Compute hashes of package archives.\n",
      "  completion                  A helper command used for command completion.\n",
      "  debug                       Show information useful for debugging.\n",
      "  help                        Show help for commands.\n",
      "\n",
      "General Options:\n",
      "  -h, --help                  Show help.\n",
      "  --debug                     Let unhandled exceptions propagate outside the\n",
      "                              main subroutine, instead of logging them to\n",
      "                              stderr.\n",
      "  --isolated                  Run pip in an isolated mode, ignoring\n",
      "                              environment variables and user configuration.\n",
      "  --require-virtualenv        Allow pip to only run in a virtual environment;\n",
      "                              exit with an error otherwise.\n",
      "  -v, --verbose               Give more output. Option is additive, and can be\n",
      "                              used up to 3 times.\n",
      "  -V, --version               Show version and exit.\n",
      "  -q, --quiet                 Give less output. Option is additive, and can be\n",
      "                              used up to 3 times (corresponding to WARNING,\n",
      "                              ERROR, and CRITICAL logging levels).\n",
      "  --log <path>                Path to a verbose appending log.\n",
      "  --no-input                  Disable prompting for input.\n",
      "  --proxy <proxy>             Specify a proxy in the form\n",
      "                              scheme://[user:passwd@]proxy.server:port.\n",
      "  --retries <retries>         Maximum number of retries each connection should\n",
      "                              attempt (default 5 times).\n",
      "  --timeout <sec>             Set the socket timeout (default 15 seconds).\n",
      "  --exists-action <action>    Default action when a path already exists:\n",
      "                              (s)witch, (i)gnore, (w)ipe, (b)ackup, (a)bort.\n",
      "  --trusted-host <hostname>   Mark this host or host:port pair as trusted,\n",
      "                              even though it does not have valid or any HTTPS.\n",
      "  --cert <path>               Path to PEM-encoded CA certificate bundle. If\n",
      "                              provided, overrides the default. See 'SSL\n",
      "                              Certificate Verification' in pip documentation\n",
      "                              for more information.\n",
      "  --client-cert <path>        Path to SSL client certificate, a single file\n",
      "                              containing the private key and the certificate\n",
      "                              in PEM format.\n",
      "  --cache-dir <dir>           Store the cache data in <dir>.\n",
      "  --no-cache-dir              Disable the cache.\n",
      "  --disable-pip-version-check\n",
      "                              Don't periodically check PyPI to determine\n",
      "                              whether a new version of pip is available for\n",
      "                              download. Implied with --no-index.\n",
      "  --no-color                  Suppress colored output.\n",
      "  --no-python-version-warning\n",
      "                              Silence deprecation warnings for upcoming\n",
      "                              unsupported Pythons.\n",
      "  --use-feature <feature>     Enable new functionality, that may be backward\n",
      "                              incompatible.\n",
      "  --use-deprecated <feature>  Enable deprecated functionality, that will be\n",
      "                              removed in the future.\n"
     ]
    }
   ],
   "source": [
    "pprint(dogs)"
   ],
   "metadata": {
    "collapsed": false
   }
  },
  {
   "cell_type": "markdown",
   "source": [
    "## Properties\n",
    "\n",
    "Let take a look at some settings and their default values.\n",
    "\n",
    "1. **`stream=None`** - used to print the contents of a file\n",
    "2. **`indent=1`** - number of spaces on each line\n",
    "3. **`width=80`** - maximum number of charachters to be printed on each line\n",
    "4. **`depth=None`** - maximum of nested data types\n",
    "5. **`compact=False`** - used to comres data struyctes into one line\n",
    "6. **`sort_dicts=True`** - sort keys in dicts"
   ],
   "metadata": {
    "collapsed": false
   }
  },
  {
   "cell_type": "code",
   "execution_count": 6,
   "outputs": [
    {
     "name": "stdout",
     "output_type": "stream",
     "text": [
      "[ { 'age': 1,\n",
      "    'breed': 'Yorkshire',\n",
      "    'name': 'Max',\n",
      "    'owners': ['Susan, Camila, Paul']},\n",
      "  { 'age': 4,\n",
      "    'breed': 'Bulldog',\n",
      "    'name': 'Duke',\n",
      "    'owners': ['Thomas, David, Lucia']},\n",
      "  { 'age': 2,\n",
      "    'breed': 'Poodle',\n",
      "    'name': 'Bella',\n",
      "    'owners': ['Katharina, Arthur']}]\n"
     ]
    }
   ],
   "source": [
    "pprint(dogs, indent=2)"
   ],
   "metadata": {
    "collapsed": false
   }
  },
  {
   "cell_type": "code",
   "execution_count": 7,
   "outputs": [
    {
     "name": "stdout",
     "output_type": "stream",
     "text": [
      "[ { 'age': 1,\n",
      "    'breed': 'Yorkshire',\n",
      "    'name': 'Max',\n",
      "    'owners': [ 'Susan, '\n",
      "                'Camila, '\n",
      "                'Paul']},\n",
      "  { 'age': 4,\n",
      "    'breed': 'Bulldog',\n",
      "    'name': 'Duke',\n",
      "    'owners': [ 'Thomas, '\n",
      "                'David, '\n",
      "                'Lucia']},\n",
      "  { 'age': 2,\n",
      "    'breed': 'Poodle',\n",
      "    'name': 'Bella',\n",
      "    'owners': [ 'Katharina, '\n",
      "                'Arthur']}]\n"
     ]
    }
   ],
   "source": [
    "pprint(dogs, width=20, indent=2)"
   ],
   "metadata": {
    "collapsed": false
   }
  },
  {
   "cell_type": "code",
   "execution_count": 8,
   "outputs": [
    {
     "name": "stdout",
     "output_type": "stream",
     "text": [
      "[{'age': 1, 'breed': 'Yorkshire', 'name': 'Max', 'owners': [...]},\n",
      " {'age': 4, 'breed': 'Bulldog', 'name': 'Duke', 'owners': [...]},\n",
      " {'age': 2, 'breed': 'Poodle', 'name': 'Bella', 'owners': [...]}]\n"
     ]
    }
   ],
   "source": [
    "pprint(dogs, depth=2)"
   ],
   "metadata": {
    "collapsed": false
   }
  },
  {
   "cell_type": "code",
   "execution_count": 9,
   "outputs": [
    {
     "name": "stdout",
     "output_type": "stream",
     "text": [
      "[{'name': 'Max', 'breed': 'Yorkshire', 'age': 1, 'owners': [...]},\n",
      " {'name': 'Duke', 'breed': 'Bulldog', 'age': 4, 'owners': [...]},\n",
      " {'name': 'Bella', 'breed': 'Poodle', 'age': 2, 'owners': [...]}]\n"
     ]
    }
   ],
   "source": [
    "pprint(dogs, depth=2, sort_dicts=False)"
   ],
   "metadata": {
    "collapsed": false
   }
  },
  {
   "cell_type": "code",
   "execution_count": 10,
   "outputs": [],
   "source": [
    "phones = [\n",
    "    [\"iPhone 7\", \"iPhone X\"], [\"Samsung Galaxy S4\", \"Samsung Galaxy S7\"], [\"Huawei Mate 10 Pro\", \"Huawei Mate 9\"]\n",
    "]"
   ],
   "metadata": {
    "collapsed": false
   }
  },
  {
   "cell_type": "code",
   "execution_count": 11,
   "outputs": [
    {
     "name": "stdout",
     "output_type": "stream",
     "text": [
      "[['iPhone 7', 'iPhone X'],\n",
      " ['Samsung Galaxy S4', 'Samsung Galaxy S7'],\n",
      " ['Huawei Mate 10 Pro', 'Huawei Mate 9']]\n"
     ]
    }
   ],
   "source": [
    "pprint(phones)"
   ],
   "metadata": {
    "collapsed": false
   }
  },
  {
   "cell_type": "code",
   "execution_count": 12,
   "outputs": [
    {
     "name": "stdout",
     "output_type": "stream",
     "text": [
      "[['iPhone 7', 'iPhone X'], ['Samsung Galaxy S4', 'Samsung Galaxy S7'],\n",
      " ['Huawei Mate 10 Pro', 'Huawei Mate 9']]\n"
     ]
    }
   ],
   "source": [
    "pprint(phones, compact=True)"
   ],
   "metadata": {
    "collapsed": false
   }
  },
  {
   "cell_type": "markdown",
   "source": [
    "## Global configulration\n",
    "\n",
    "When you need to print multiple complex data structures you can use a global configulration you creating a `PrettyPrinter` class."
   ],
   "metadata": {
    "collapsed": false
   }
  },
  {
   "cell_type": "code",
   "execution_count": 15,
   "outputs": [],
   "source": [
    "from pprint import PrettyPrinter"
   ],
   "metadata": {
    "collapsed": false
   }
  },
  {
   "cell_type": "code",
   "execution_count": 16,
   "outputs": [],
   "source": [
    "pp = PrettyPrinter(indent=4, depth=2, sort_dicts=False)"
   ],
   "metadata": {
    "collapsed": false
   }
  },
  {
   "cell_type": "code",
   "execution_count": 17,
   "outputs": [
    {
     "name": "stdout",
     "output_type": "stream",
     "text": [
      "[   {'name': 'Max', 'breed': 'Yorkshire', 'age': 1, 'owners': [...]},\n",
      "    {'name': 'Duke', 'breed': 'Bulldog', 'age': 4, 'owners': [...]},\n",
      "    {'name': 'Bella', 'breed': 'Poodle', 'age': 2, 'owners': [...]}]\n"
     ]
    }
   ],
   "source": [
    "pp.pprint(dogs)"
   ],
   "metadata": {
    "collapsed": false
   }
  },
  {
   "cell_type": "code",
   "execution_count": null,
   "outputs": [],
   "source": [],
   "metadata": {
    "collapsed": false
   }
  },
  {
   "cell_type": "code",
   "execution_count": 19,
   "outputs": [
    {
     "ename": "TypeError",
     "evalue": "function missing required argument 'year' (pos 1)",
     "output_type": "error",
     "traceback": [
      "\u001B[1;31m---------------------------------------------------------------------------\u001B[0m",
      "\u001B[1;31mTypeError\u001B[0m                                 Traceback (most recent call last)",
      "\u001B[1;32m~\\AppData\\Local\\Temp\\ipykernel_22520\\3907621172.py\u001B[0m in \u001B[0;36m<module>\u001B[1;34m\u001B[0m\n\u001B[0;32m      2\u001B[0m \u001B[1;33m\u001B[0m\u001B[0m\n\u001B[0;32m      3\u001B[0m \u001B[1;31m# a\u001B[0m\u001B[1;33m\u001B[0m\u001B[1;33m\u001B[0m\u001B[0m\n\u001B[1;32m----> 4\u001B[1;33m \u001B[0mdatetime\u001B[0m\u001B[1;33m.\u001B[0m\u001B[0mdatetime\u001B[0m\u001B[1;33m(\u001B[0m\u001B[1;33m)\u001B[0m\u001B[1;33m\u001B[0m\u001B[1;33m\u001B[0m\u001B[0m\n\u001B[0m\u001B[0;32m      5\u001B[0m \u001B[1;33m\u001B[0m\u001B[0m\n\u001B[0;32m      6\u001B[0m \u001B[1;31m# b\u001B[0m\u001B[1;33m\u001B[0m\u001B[1;33m\u001B[0m\u001B[0m\n",
      "\u001B[1;31mTypeError\u001B[0m: function missing required argument 'year' (pos 1)"
     ]
    }
   ],
   "source": [],
   "metadata": {
    "collapsed": false
   }
  }
 ],
 "metadata": {
  "kernelspec": {
   "display_name": "Python 3",
   "language": "python",
   "name": "python3"
  },
  "language_info": {
   "codemirror_mode": {
    "name": "ipython",
    "version": 2
   },
   "file_extension": ".py",
   "mimetype": "text/x-python",
   "name": "python",
   "nbconvert_exporter": "python",
   "pygments_lexer": "ipython2",
   "version": "2.7.6"
  }
 },
 "nbformat": 4,
 "nbformat_minor": 0
}
