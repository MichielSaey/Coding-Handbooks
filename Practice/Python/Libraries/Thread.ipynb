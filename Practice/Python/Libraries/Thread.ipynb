{
 "cells": [
  {
   "cell_type": "markdown",
   "source": [
    "# Multithreading using `Thread`\n",
    "\n",
    "For our example lets create the function greet:"
   ],
   "metadata": {
    "collapsed": false
   }
  },
  {
   "cell_type": "code",
   "execution_count": 2,
   "outputs": [],
   "source": [
    "import time\n",
    "\n",
    "locks = []\n",
    "\n",
    "def greet(lockobject):\n",
    "    time.sleep(3)\n",
    "    print('Hello, ')\n",
    "    lockobject.release()"
   ],
   "metadata": {
    "collapsed": false
   }
  },
  {
   "cell_type": "markdown",
   "source": [
    "Then we need to create a thread, where we can execute our function."
   ],
   "metadata": {
    "collapsed": false
   }
  },
  {
   "cell_type": "code",
   "execution_count": 3,
   "metadata": {
    "collapsed": true
   },
   "outputs": [],
   "source": [
    "import _thread\n",
    "\n",
    "def create_thread():\n",
    "    lockobject = _thread.allocate_lock()\n",
    "    lockobject.acquire()\n",
    "\n",
    "    locks.append(lockobject)\n",
    "    _thread.start_new_thread(greet, (lockobject,))"
   ]
  },
  {
   "cell_type": "markdown",
   "source": [
    "A lock can be eather locked or unlocked. It has only two basic methodes, `acquire()` and `release()`. When the state is unlocked, `acquire()` changes the state to locked. This can be unlocked using `release()`."
   ],
   "metadata": {
    "collapsed": false
   }
  },
  {
   "cell_type": "code",
   "execution_count": null,
   "outputs": [
    {
     "name": "stdout",
     "output_type": "stream",
     "text": [
      "world!\n",
      "Hello, \n"
     ]
    }
   ],
   "source": [
    "create_thread()\n",
    "print('world!')\n",
    "# Acquire all locks = release all threads\n",
    "all(lock.acquire() for lock in locks)"
   ],
   "metadata": {
    "collapsed": false,
    "pycharm": {
     "is_executing": true
    }
   }
  },
  {
   "cell_type": "code",
   "execution_count": null,
   "outputs": [],
   "source": [],
   "metadata": {
    "collapsed": false,
    "pycharm": {
     "is_executing": true
    }
   }
  }
 ],
 "metadata": {
  "kernelspec": {
   "display_name": "Python 3",
   "language": "python",
   "name": "python3"
  },
  "language_info": {
   "codemirror_mode": {
    "name": "ipython",
    "version": 2
   },
   "file_extension": ".py",
   "mimetype": "text/x-python",
   "name": "python",
   "nbconvert_exporter": "python",
   "pygments_lexer": "ipython2",
   "version": "2.7.6"
  }
 },
 "nbformat": 4,
 "nbformat_minor": 0
}
