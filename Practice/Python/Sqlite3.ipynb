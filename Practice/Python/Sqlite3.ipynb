{
 "cells": [
  {
   "cell_type": "markdown",
   "source": [
    "# SQLite\n",
    "\n",
    "SQLite is a c-languege library that implemetns a serverless SQL database engine. To module to implement this is called `Sqlite3`. it can be used to create database or connect to existing ones where it can be used to execute commands."
   ],
   "metadata": {
    "collapsed": false
   }
  },
  {
   "cell_type": "markdown",
   "source": [
    "## Supported data types\n",
    "\n",
    "| Python type | SQLite type |\n",
    "|-------------|-------------|\n",
    "| none        | NULL        |\n",
    "| int\t        | INTEGER     |\n",
    "| float\t      | REAL        |\n",
    "| str\t        | TEXT        |\n",
    "| bytes\t      | BLOB        |"
   ],
   "metadata": {
    "collapsed": false
   }
  },
  {
   "cell_type": "markdown",
   "source": [
    "## Creating the database"
   ],
   "metadata": {
    "collapsed": false
   }
  },
  {
   "cell_type": "code",
   "execution_count": 1,
   "metadata": {
    "collapsed": true
   },
   "outputs": [],
   "source": [
    "import sqlite3\n",
    "\n",
    "connection = sqlite3.connect('database.db')"
   ]
  },
  {
   "cell_type": "markdown",
   "source": [
    "If the database does not exist, the database.db file will be created automatically in the current directory. If you want to specify a directory, do the following thing:"
   ],
   "metadata": {
    "collapsed": false
   }
  },
  {
   "cell_type": "code",
   "execution_count": 24,
   "outputs": [],
   "source": [
    "connection = sqlite3.connect(r'Artifacts/database.db')"
   ],
   "metadata": {
    "collapsed": false
   }
  },
  {
   "cell_type": "markdown",
   "source": [
    "you can also add the parameter `:memory` to create the database in ram.\n",
    "\n",
    "The data model from the [topic](https://hyperskill.org/learn/step/17163) will be recreated through out.\n",
    "\n",
    "Once you have a connection, you can create a cursor object and call its execute() method, which allows us to execute SQL statements:"
   ],
   "metadata": {
    "collapsed": false
   }
  },
  {
   "cell_type": "code",
   "execution_count": 25,
   "outputs": [],
   "source": [
    "cursor = connection.cursor()"
   ],
   "metadata": {
    "collapsed": false
   }
  },
  {
   "cell_type": "code",
   "execution_count": 9,
   "outputs": [
    {
     "data": {
      "text/plain": "<sqlite3.Cursor at 0x7f3ce067d2c0>"
     },
     "execution_count": 9,
     "metadata": {},
     "output_type": "execute_result"
    }
   ],
   "source": [
    "try:\n",
    "    cursor.execute(\"\"\"\n",
    "        CREATE TABLE IF NOT EXISTS Department(\n",
    "            id INTEGER PRIMARY KEY,\n",
    "            name TEXT\n",
    "        );\n",
    "    \"\"\")\n",
    "except Exception as e:\n",
    "    print(\"Error: \", e)"
   ],
   "metadata": {
    "collapsed": false
   }
  },
  {
   "cell_type": "code",
   "execution_count": 10,
   "outputs": [
    {
     "data": {
      "text/plain": "<sqlite3.Cursor at 0x7f3ce067d2c0>"
     },
     "execution_count": 10,
     "metadata": {},
     "output_type": "execute_result"
    }
   ],
   "source": [
    "try:\n",
    "    cursor.execute(\"\"\"\n",
    "        CREATE TABLE IF NOT EXISTS Student(\n",
    "            id INTEGER PRIMARY KEY,\n",
    "            full_name TEXT,\n",
    "            email TEXT,\n",
    "            gpa REAL,\n",
    "            department INTEGER,\n",
    "            FOREIGN KEY (department) REFERENCES Department(id)\n",
    "        );\n",
    "    \"\"\")\n",
    "except Exception as e:\n",
    "    print(\"Error: \", e)"
   ],
   "metadata": {
    "collapsed": false
   }
  },
  {
   "cell_type": "markdown",
   "source": [
    "## Adding data\n",
    "\n",
    "if execute multiple times the departments will be added several times"
   ],
   "metadata": {
    "collapsed": false
   }
  },
  {
   "cell_type": "code",
   "execution_count": 18,
   "outputs": [],
   "source": [
    "cursor.execute(\"\"\"INSERT INTO Department(name) VALUES ('Engineering')\"\"\")\n",
    "cursor.execute(\"\"\"INSERT INTO Department(name) VALUES ('Mathematics')\"\"\")\n",
    "connection.commit()  # saves the changes"
   ],
   "metadata": {
    "collapsed": false
   }
  },
  {
   "cell_type": "code",
   "execution_count": 20,
   "outputs": [
    {
     "name": "stdout",
     "output_type": "stream",
     "text": [
      "Error:  UNIQUE constraint failed: Department.id\n"
     ]
    }
   ],
   "source": [
    "try:\n",
    "    new_department = (45, 'Physics')\n",
    "    cursor.execute(\"INSERT INTO Department(id, name) VALUES (?, ?)\", new_department)\n",
    "    connection.commit()  # saves the changes\n",
    "except Exception as e:\n",
    "    print(\"Error: \", e)"
   ],
   "metadata": {
    "collapsed": false
   }
  },
  {
   "cell_type": "code",
   "execution_count": 21,
   "outputs": [
    {
     "data": {
      "text/plain": "<sqlite3.Cursor at 0x7f3ce067c3c0>"
     },
     "execution_count": 21,
     "metadata": {},
     "output_type": "execute_result"
    }
   ],
   "source": [
    "students_list = [\n",
    "    (1, 'Alan Turing', 'alan@mail.com', 9.5, 1),\n",
    "    (2, 'Katherine Johnson', 'katherine@mail.com', 10.0, 2),\n",
    "    (3, 'Helen Quinn', 'helen@mail.com', 8.7, 45),\n",
    "]\n",
    "\n",
    "# Use executemany() to insert multiple records at the same time\n",
    "cursor.executemany('INSERT INTO Student VALUES (?, ?, ?, ?, ?)', students_list)\n"
   ],
   "metadata": {
    "collapsed": false
   }
  },
  {
   "cell_type": "markdown",
   "source": [
    "## Reading data"
   ],
   "metadata": {
    "collapsed": false
   }
  },
  {
   "cell_type": "code",
   "execution_count": 26,
   "outputs": [
    {
     "data": {
      "text/plain": "(1, 'Alan Turing', 'alan@mail.com', 9.5, 1)"
     },
     "execution_count": 26,
     "metadata": {},
     "output_type": "execute_result"
    }
   ],
   "source": [
    "cursor.execute(\"SELECT * FROM Student;\")\n",
    "one_row = cursor.fetchone()\n",
    "one_row"
   ],
   "metadata": {
    "collapsed": false
   }
  },
  {
   "cell_type": "code",
   "execution_count": 27,
   "outputs": [
    {
     "name": "stdout",
     "output_type": "stream",
     "text": [
      "[(1, 'Alan Turing', 'alan@mail.com', 9.5, 1), (2, 'Katherine Johnson', 'katherine@mail.com', 10.0, 2)]\n"
     ]
    }
   ],
   "source": [
    "cursor.execute(\"SELECT * FROM student;\")\n",
    "two_rows = cursor.fetchmany(2)\n",
    "print(two_rows)"
   ],
   "metadata": {
    "collapsed": false
   }
  },
  {
   "cell_type": "code",
   "execution_count": 28,
   "outputs": [
    {
     "name": "stdout",
     "output_type": "stream",
     "text": [
      "[(1, 'Alan Turing', 'alan@mail.com', 9.5, 1), (2, 'Katherine Johnson', 'katherine@mail.com', 10.0, 2), (3, 'Helen Quinn', 'helen@mail.com', 8.7, 45)]\n"
     ]
    }
   ],
   "source": [
    "cursor.execute(\"SELECT * FROM student;\")\n",
    "all_rows = cursor.fetchall()\n",
    "print(all_rows)"
   ],
   "metadata": {
    "collapsed": false
   }
  },
  {
   "cell_type": "code",
   "execution_count": 29,
   "outputs": [
    {
     "name": "stdout",
     "output_type": "stream",
     "text": [
      "Alan Turing\n",
      "Katherine Johnson\n"
     ]
    }
   ],
   "source": [
    "average_gpa = (9.5 + 10 + 8.7) / 3\n",
    "cursor.execute(\"SELECT * FROM student WHERE gpa >= ?\", (average_gpa,))\n",
    "all_rows = cursor.fetchall()\n",
    "\n",
    "for student in all_rows:\n",
    "    print(student[1])"
   ],
   "metadata": {
    "collapsed": false
   }
  },
  {
   "cell_type": "markdown",
   "source": [
    "## Clossing the connection"
   ],
   "metadata": {
    "collapsed": false
   }
  },
  {
   "cell_type": "code",
   "execution_count": null,
   "outputs": [],
   "source": [
    "connection.commit()"
   ],
   "metadata": {
    "collapsed": false
   }
  },
  {
   "cell_type": "code",
   "execution_count": 23,
   "outputs": [],
   "source": [
    "cursor.close()\n",
    "connection.close()"
   ],
   "metadata": {
    "collapsed": false
   }
  },
  {
   "cell_type": "markdown",
   "source": [],
   "metadata": {
    "collapsed": false
   }
  }
 ],
 "metadata": {
  "kernelspec": {
   "display_name": "Python 3",
   "language": "python",
   "name": "python3"
  },
  "language_info": {
   "codemirror_mode": {
    "name": "ipython",
    "version": 2
   },
   "file_extension": ".py",
   "mimetype": "text/x-python",
   "name": "python",
   "nbconvert_exporter": "python",
   "pygments_lexer": "ipython2",
   "version": "2.7.6"
  }
 },
 "nbformat": 4,
 "nbformat_minor": 0
}
