{
 "cells": [
  {
   "cell_type": "markdown",
   "source": [
    "# Pandas\n",
    "\n",
    "## Reading data"
   ],
   "metadata": {
    "collapsed": false
   }
  },
  {
   "cell_type": "code",
   "execution_count": null,
   "metadata": {
    "collapsed": true
   },
   "outputs": [],
   "source": [
    "import pandas as pd\n",
    "\n",
    "# EXCEL\n",
    "df = pd.read_excel('file_path.xlsx')\n",
    "\n",
    "# CSV\n",
    "df = pd.read_csv('file_path.csv')\n",
    "\n",
    "# JSON\n",
    "df = pd.read_json('file_path.json')"
   ]
  },
  {
   "cell_type": "code",
   "execution_count": null,
   "outputs": [],
   "source": [
    "import pandas as pd\n",
    "from sqlalchemy import create_engine\n",
    "\n",
    "engine = create_engine('database_connection_string')\n",
    "query = \"SELECT * FROM table_name\"\n",
    "df = pd.read_sql(query, engine)"
   ],
   "metadata": {
    "collapsed": false
   }
  },
  {
   "cell_type": "markdown",
   "source": [
    "## Exploring data"
   ],
   "metadata": {
    "collapsed": false
   }
  },
  {
   "cell_type": "code",
   "execution_count": 2,
   "outputs": [
    {
     "data": {
      "text/plain": "           Car Name  Price  Is Broken\n0    Toyota Corolla  25000      False\n1       Honda Civic  22000       True\n2      Ford Mustang  35000       True\n3  Chevrolet Camaro  40000      False\n4     Tesla Model 3  50000       True\n5            BMW X5  60000      False\n6           Audi A4  30000      False",
      "text/html": "<div>\n<style scoped>\n    .dataframe tbody tr th:only-of-type {\n        vertical-align: middle;\n    }\n\n    .dataframe tbody tr th {\n        vertical-align: top;\n    }\n\n    .dataframe thead th {\n        text-align: right;\n    }\n</style>\n<table border=\"1\" class=\"dataframe\">\n  <thead>\n    <tr style=\"text-align: right;\">\n      <th></th>\n      <th>Car Name</th>\n      <th>Price</th>\n      <th>Is Broken</th>\n    </tr>\n  </thead>\n  <tbody>\n    <tr>\n      <th>0</th>\n      <td>Toyota Corolla</td>\n      <td>25000</td>\n      <td>False</td>\n    </tr>\n    <tr>\n      <th>1</th>\n      <td>Honda Civic</td>\n      <td>22000</td>\n      <td>True</td>\n    </tr>\n    <tr>\n      <th>2</th>\n      <td>Ford Mustang</td>\n      <td>35000</td>\n      <td>True</td>\n    </tr>\n    <tr>\n      <th>3</th>\n      <td>Chevrolet Camaro</td>\n      <td>40000</td>\n      <td>False</td>\n    </tr>\n    <tr>\n      <th>4</th>\n      <td>Tesla Model 3</td>\n      <td>50000</td>\n      <td>True</td>\n    </tr>\n    <tr>\n      <th>5</th>\n      <td>BMW X5</td>\n      <td>60000</td>\n      <td>False</td>\n    </tr>\n    <tr>\n      <th>6</th>\n      <td>Audi A4</td>\n      <td>30000</td>\n      <td>False</td>\n    </tr>\n  </tbody>\n</table>\n</div>"
     },
     "execution_count": 2,
     "metadata": {},
     "output_type": "execute_result"
    }
   ],
   "source": [
    "import pandas as pd\n",
    "\n",
    "data = {\n",
    "    'Car Name': ['Toyota Corolla', 'Honda Civic', 'Ford Mustang', 'Chevrolet Camaro', 'Tesla Model 3', 'BMW X5', 'Audi A4'],\n",
    "    'Price': [25000, 22000, 35000, 40000, 50000, 60000, 30000],\n",
    "    'Is Broken': [False, True, True, False, True, False, False]\n",
    "}\n",
    "\n",
    "df_cars = pd.DataFrame(data)\n",
    "df_cars"
   ],
   "metadata": {
    "collapsed": false,
    "ExecuteTime": {
     "end_time": "2023-09-30T09:13:06.827951400Z",
     "start_time": "2023-09-30T09:13:06.750127500Z"
    }
   }
  },
  {
   "cell_type": "code",
   "execution_count": 3,
   "outputs": [
    {
     "data": {
      "text/plain": "         Car Name  Price  Is Broken\n0  Toyota Corolla  25000      False\n1     Honda Civic  22000       True\n2    Ford Mustang  35000       True",
      "text/html": "<div>\n<style scoped>\n    .dataframe tbody tr th:only-of-type {\n        vertical-align: middle;\n    }\n\n    .dataframe tbody tr th {\n        vertical-align: top;\n    }\n\n    .dataframe thead th {\n        text-align: right;\n    }\n</style>\n<table border=\"1\" class=\"dataframe\">\n  <thead>\n    <tr style=\"text-align: right;\">\n      <th></th>\n      <th>Car Name</th>\n      <th>Price</th>\n      <th>Is Broken</th>\n    </tr>\n  </thead>\n  <tbody>\n    <tr>\n      <th>0</th>\n      <td>Toyota Corolla</td>\n      <td>25000</td>\n      <td>False</td>\n    </tr>\n    <tr>\n      <th>1</th>\n      <td>Honda Civic</td>\n      <td>22000</td>\n      <td>True</td>\n    </tr>\n    <tr>\n      <th>2</th>\n      <td>Ford Mustang</td>\n      <td>35000</td>\n      <td>True</td>\n    </tr>\n  </tbody>\n</table>\n</div>"
     },
     "execution_count": 3,
     "metadata": {},
     "output_type": "execute_result"
    }
   ],
   "source": [
    "df_cars.head(n=3) # display the 3 rows"
   ],
   "metadata": {
    "collapsed": false,
    "ExecuteTime": {
     "end_time": "2023-09-30T09:13:21.684152800Z",
     "start_time": "2023-09-30T09:13:21.669148200Z"
    }
   }
  },
  {
   "cell_type": "code",
   "execution_count": 4,
   "outputs": [
    {
     "name": "stdout",
     "output_type": "stream",
     "text": [
      "<class 'pandas.core.frame.DataFrame'>\n",
      "RangeIndex: 7 entries, 0 to 6\n",
      "Data columns (total 3 columns):\n",
      " #   Column     Non-Null Count  Dtype \n",
      "---  ------     --------------  ----- \n",
      " 0   Car Name   7 non-null      object\n",
      " 1   Price      7 non-null      int64 \n",
      " 2   Is Broken  7 non-null      bool  \n",
      "dtypes: bool(1), int64(1), object(1)\n",
      "memory usage: 247.0+ bytes\n"
     ]
    }
   ],
   "source": [
    "df_cars.info()"
   ],
   "metadata": {
    "collapsed": false,
    "ExecuteTime": {
     "end_time": "2023-09-30T09:13:33.420252600Z",
     "start_time": "2023-09-30T09:13:33.369265100Z"
    }
   }
  },
  {
   "cell_type": "code",
   "execution_count": 5,
   "outputs": [
    {
     "data": {
      "text/plain": "              Price\ncount      7.000000\nmean   37428.571429\nstd    13709.572603\nmin    22000.000000\n25%    27500.000000\n50%    35000.000000\n75%    45000.000000\nmax    60000.000000",
      "text/html": "<div>\n<style scoped>\n    .dataframe tbody tr th:only-of-type {\n        vertical-align: middle;\n    }\n\n    .dataframe tbody tr th {\n        vertical-align: top;\n    }\n\n    .dataframe thead th {\n        text-align: right;\n    }\n</style>\n<table border=\"1\" class=\"dataframe\">\n  <thead>\n    <tr style=\"text-align: right;\">\n      <th></th>\n      <th>Price</th>\n    </tr>\n  </thead>\n  <tbody>\n    <tr>\n      <th>count</th>\n      <td>7.000000</td>\n    </tr>\n    <tr>\n      <th>mean</th>\n      <td>37428.571429</td>\n    </tr>\n    <tr>\n      <th>std</th>\n      <td>13709.572603</td>\n    </tr>\n    <tr>\n      <th>min</th>\n      <td>22000.000000</td>\n    </tr>\n    <tr>\n      <th>25%</th>\n      <td>27500.000000</td>\n    </tr>\n    <tr>\n      <th>50%</th>\n      <td>35000.000000</td>\n    </tr>\n    <tr>\n      <th>75%</th>\n      <td>45000.000000</td>\n    </tr>\n    <tr>\n      <th>max</th>\n      <td>60000.000000</td>\n    </tr>\n  </tbody>\n</table>\n</div>"
     },
     "execution_count": 5,
     "metadata": {},
     "output_type": "execute_result"
    }
   ],
   "source": [
    "df_cars.describe()"
   ],
   "metadata": {
    "collapsed": false,
    "ExecuteTime": {
     "end_time": "2023-09-30T09:13:50.328873200Z",
     "start_time": "2023-09-30T09:13:50.299440100Z"
    }
   }
  },
  {
   "cell_type": "code",
   "execution_count": null,
   "outputs": [],
   "source": [
    "# CSV read settings\n",
    "df_cars = pd.read_csv('/content/cars.csv', sep=',')\n",
    "df_cars = pd.read_csv('./cars.csv', delimiter=';')\n",
    "df_cars = pd.read_csv('./cars.csv', header=3)\n",
    "df_cars = pd.read_csv('./cars.csv', index_col='Car Name')"
   ],
   "metadata": {
    "collapsed": false
   }
  },
  {
   "cell_type": "markdown",
   "source": [
    "## Series\n",
    "\n",
    "A series is a basic one-dimensional data structure in pandas."
   ],
   "metadata": {
    "collapsed": false
   }
  },
  {
   "cell_type": "code",
   "execution_count": 6,
   "outputs": [
    {
     "name": "stdout",
     "output_type": "stream",
     "text": [
      "Anna     21\n",
      "Bob      20\n",
      "Maria    25\n",
      "Jack     22\n",
      "Name: Age, dtype: int64\n"
     ]
    }
   ],
   "source": [
    "ages_list = [21, 20, 25, 22]\n",
    "names_list = ['Anna', 'Bob', 'Maria', 'Jack']\n",
    "\n",
    "ages_series = pd.Series(ages_list, index=names_list, name='Age')\n",
    "print(ages_series)"
   ],
   "metadata": {
    "collapsed": false,
    "ExecuteTime": {
     "end_time": "2023-09-30T10:16:08.097703300Z",
     "start_time": "2023-09-30T10:16:08.066017300Z"
    }
   }
  },
  {
   "cell_type": "code",
   "execution_count": 10,
   "outputs": [
    {
     "name": "stdout",
     "output_type": "stream",
     "text": [
      "Anna     21\n",
      "Bob      20\n",
      "Maria    25\n",
      "Jack     22\n",
      "Name: Ages, dtype: int64\n"
     ]
    }
   ],
   "source": [
    "student_ages_dict = {'Anna': 21, 'Bob': 20, 'Maria': 25, 'Jack': 22}\n",
    "\n",
    "ages_series = pd.Series(student_ages_dict, name='Ages')\n",
    "print(ages_series)"
   ],
   "metadata": {
    "collapsed": false,
    "ExecuteTime": {
     "end_time": "2023-09-30T10:17:33.112306300Z",
     "start_time": "2023-09-30T10:17:33.091317500Z"
    }
   }
  },
  {
   "cell_type": "code",
   "execution_count": 8,
   "outputs": [
    {
     "name": "stdout",
     "output_type": "stream",
     "text": [
      "A    21\n",
      "B    20\n",
      "M    25\n",
      "J    22\n",
      "Name: Ages, dtype: int64\n"
     ]
    }
   ],
   "source": [
    "ages_series.index = ['A', 'B', 'M', 'J']\n",
    "print(ages_series)"
   ],
   "metadata": {
    "collapsed": false,
    "ExecuteTime": {
     "end_time": "2023-09-30T10:16:39.967061300Z",
     "start_time": "2023-09-30T10:16:39.955069200Z"
    }
   }
  },
  {
   "cell_type": "markdown",
   "source": [
    "### Modifying a series object"
   ],
   "metadata": {
    "collapsed": false
   }
  },
  {
   "cell_type": "code",
   "execution_count": 11,
   "outputs": [
    {
     "name": "stdout",
     "output_type": "stream",
     "text": [
      "Anna     21\n",
      "Bob      20\n",
      "Maria    25\n",
      "Jack     23\n",
      "Name: Ages, dtype: int64\n"
     ]
    }
   ],
   "source": [
    "ages_series['Jack'] = 23\n",
    "print(ages_series)"
   ],
   "metadata": {
    "collapsed": false,
    "ExecuteTime": {
     "end_time": "2023-09-30T10:17:34.296285400Z",
     "start_time": "2023-09-30T10:17:34.267006500Z"
    }
   }
  },
  {
   "cell_type": "code",
   "execution_count": 12,
   "outputs": [
    {
     "name": "stdout",
     "output_type": "stream",
     "text": [
      "Anna    21\n",
      "Bob     20\n",
      "Jack    23\n",
      "Name: Ages, dtype: int64\n"
     ]
    }
   ],
   "source": [
    "new_ages_series = ages_series.drop(index='Maria')\n",
    "print(new_ages_series)"
   ],
   "metadata": {
    "collapsed": false,
    "ExecuteTime": {
     "end_time": "2023-09-30T10:17:45.607870600Z",
     "start_time": "2023-09-30T10:17:45.589870700Z"
    }
   }
  },
  {
   "cell_type": "code",
   "execution_count": 13,
   "outputs": [
    {
     "name": "stdout",
     "output_type": "stream",
     "text": [
      "Anna     21\n",
      "Bob      20\n",
      "Maria    25\n",
      "Jack     23\n",
      "Name: Ages, dtype: int64\n"
     ]
    }
   ],
   "source": [
    "ages_series['Maria'] = 25\n",
    "print(ages_series)"
   ],
   "metadata": {
    "collapsed": false,
    "ExecuteTime": {
     "end_time": "2023-09-30T10:17:56.779367100Z",
     "start_time": "2023-09-30T10:17:56.776367600Z"
    }
   }
  },
  {
   "cell_type": "code",
   "execution_count": 14,
   "outputs": [
    {
     "name": "stdout",
     "output_type": "stream",
     "text": [
      "Anna     21\n",
      "Bob      20\n",
      "Maria    25\n",
      "Jack     23\n",
      "Jon      34\n",
      "Peter    23\n",
      "Karo     45\n",
      "Abby     25\n",
      "dtype: int64\n"
     ]
    }
   ],
   "source": [
    "new_recs = pd.Series({'Jon': 34, 'Peter': 23, 'Karo': 45, 'Abby': 25})\n",
    "ages_series = pd.concat([ages_series, new_recs])\n",
    "print(ages_series)"
   ],
   "metadata": {
    "collapsed": false,
    "ExecuteTime": {
     "end_time": "2023-09-30T10:18:09.162602700Z",
     "start_time": "2023-09-30T10:18:09.154604200Z"
    }
   }
  },
  {
   "cell_type": "markdown",
   "source": [
    "## Dataframes"
   ],
   "metadata": {
    "collapsed": false
   }
  },
  {
   "cell_type": "code",
   "execution_count": 15,
   "outputs": [
    {
     "data": {
      "text/plain": "  First Name Family Name  Age\n0       Anna       Smith   21\n1        Bob       Jones   20\n2      Maria    Williams   25\n3       Jack       Brown   22",
      "text/html": "<div>\n<style scoped>\n    .dataframe tbody tr th:only-of-type {\n        vertical-align: middle;\n    }\n\n    .dataframe tbody tr th {\n        vertical-align: top;\n    }\n\n    .dataframe thead th {\n        text-align: right;\n    }\n</style>\n<table border=\"1\" class=\"dataframe\">\n  <thead>\n    <tr style=\"text-align: right;\">\n      <th></th>\n      <th>First Name</th>\n      <th>Family Name</th>\n      <th>Age</th>\n    </tr>\n  </thead>\n  <tbody>\n    <tr>\n      <th>0</th>\n      <td>Anna</td>\n      <td>Smith</td>\n      <td>21</td>\n    </tr>\n    <tr>\n      <th>1</th>\n      <td>Bob</td>\n      <td>Jones</td>\n      <td>20</td>\n    </tr>\n    <tr>\n      <th>2</th>\n      <td>Maria</td>\n      <td>Williams</td>\n      <td>25</td>\n    </tr>\n    <tr>\n      <th>3</th>\n      <td>Jack</td>\n      <td>Brown</td>\n      <td>22</td>\n    </tr>\n  </tbody>\n</table>\n</div>"
     },
     "execution_count": 15,
     "metadata": {},
     "output_type": "execute_result"
    }
   ],
   "source": [
    "students_list = [['Anna', 'Smith', 21],\n",
    "                 ['Bob', 'Jones', 20],\n",
    "                 ['Maria', 'Williams', 25],\n",
    "                 ['Jack', 'Brown', 22]]\n",
    "\n",
    "students = pd.DataFrame(students_list, columns = ['First Name', 'Family Name', 'Age'])\n",
    "students"
   ],
   "metadata": {
    "collapsed": false,
    "ExecuteTime": {
     "end_time": "2023-09-30T10:20:53.853492300Z",
     "start_time": "2023-09-30T10:20:53.835129700Z"
    }
   }
  },
  {
   "cell_type": "code",
   "execution_count": 16,
   "outputs": [
    {
     "data": {
      "text/plain": "    First Name Family Name  Age\n100       Anna       Smith   21\n200        Bob       Jones   20\n300      Maria    Williams   25\n400       Jack       Brown   22",
      "text/html": "<div>\n<style scoped>\n    .dataframe tbody tr th:only-of-type {\n        vertical-align: middle;\n    }\n\n    .dataframe tbody tr th {\n        vertical-align: top;\n    }\n\n    .dataframe thead th {\n        text-align: right;\n    }\n</style>\n<table border=\"1\" class=\"dataframe\">\n  <thead>\n    <tr style=\"text-align: right;\">\n      <th></th>\n      <th>First Name</th>\n      <th>Family Name</th>\n      <th>Age</th>\n    </tr>\n  </thead>\n  <tbody>\n    <tr>\n      <th>100</th>\n      <td>Anna</td>\n      <td>Smith</td>\n      <td>21</td>\n    </tr>\n    <tr>\n      <th>200</th>\n      <td>Bob</td>\n      <td>Jones</td>\n      <td>20</td>\n    </tr>\n    <tr>\n      <th>300</th>\n      <td>Maria</td>\n      <td>Williams</td>\n      <td>25</td>\n    </tr>\n    <tr>\n      <th>400</th>\n      <td>Jack</td>\n      <td>Brown</td>\n      <td>22</td>\n    </tr>\n  </tbody>\n</table>\n</div>"
     },
     "execution_count": 16,
     "metadata": {},
     "output_type": "execute_result"
    }
   ],
   "source": [
    "students_number = [100, 200, 300, 400]\n",
    "students = pd.DataFrame(students_list,\n",
    "                        columns = ['First Name', 'Family Name', 'Age'],\n",
    "                        index = students_number)\n",
    "students"
   ],
   "metadata": {
    "collapsed": false,
    "ExecuteTime": {
     "end_time": "2023-09-30T10:21:03.180544400Z",
     "start_time": "2023-09-30T10:21:03.148547400Z"
    }
   }
  },
  {
   "cell_type": "code",
   "execution_count": 17,
   "outputs": [
    {
     "data": {
      "text/plain": "    First Name Family Name  Age\n100       Anna       Smith   21\n200        Bob       Jones   20\n300      Maria    Williams   25\n400       Jack       Brown   22",
      "text/html": "<div>\n<style scoped>\n    .dataframe tbody tr th:only-of-type {\n        vertical-align: middle;\n    }\n\n    .dataframe tbody tr th {\n        vertical-align: top;\n    }\n\n    .dataframe thead th {\n        text-align: right;\n    }\n</style>\n<table border=\"1\" class=\"dataframe\">\n  <thead>\n    <tr style=\"text-align: right;\">\n      <th></th>\n      <th>First Name</th>\n      <th>Family Name</th>\n      <th>Age</th>\n    </tr>\n  </thead>\n  <tbody>\n    <tr>\n      <th>100</th>\n      <td>Anna</td>\n      <td>Smith</td>\n      <td>21</td>\n    </tr>\n    <tr>\n      <th>200</th>\n      <td>Bob</td>\n      <td>Jones</td>\n      <td>20</td>\n    </tr>\n    <tr>\n      <th>300</th>\n      <td>Maria</td>\n      <td>Williams</td>\n      <td>25</td>\n    </tr>\n    <tr>\n      <th>400</th>\n      <td>Jack</td>\n      <td>Brown</td>\n      <td>22</td>\n    </tr>\n  </tbody>\n</table>\n</div>"
     },
     "execution_count": 17,
     "metadata": {},
     "output_type": "execute_result"
    }
   ],
   "source": [
    "# This is a nested dictionary representing the students table\n",
    "students_dict = {'First Name': {100: 'Anna',\n",
    "                                200: 'Bob',\n",
    "                                300: 'Maria',\n",
    "                                400: 'Jack'},\n",
    "\n",
    "                 'Family Name': {100: 'Smith',\n",
    "                                 200: 'Jones',\n",
    "                                 300: 'Williams',\n",
    "                                 400: 'Brown'},\n",
    "                 'Age': {100: 21,\n",
    "                         200: 20,\n",
    "                         300: 25,\n",
    "                         400: 22}}\n",
    "\n",
    "students = pd.DataFrame(students_dict)\n",
    "students"
   ],
   "metadata": {
    "collapsed": false,
    "ExecuteTime": {
     "end_time": "2023-09-30T10:21:17.308518200Z",
     "start_time": "2023-09-30T10:21:17.301519400Z"
    }
   }
  },
  {
   "cell_type": "code",
   "execution_count": 18,
   "outputs": [
    {
     "data": {
      "text/plain": "(4, 3)"
     },
     "execution_count": 18,
     "metadata": {},
     "output_type": "execute_result"
    }
   ],
   "source": [
    "students.shape"
   ],
   "metadata": {
    "collapsed": false,
    "ExecuteTime": {
     "end_time": "2023-09-30T10:21:27.908704100Z",
     "start_time": "2023-09-30T10:21:27.901700400Z"
    }
   }
  },
  {
   "cell_type": "code",
   "execution_count": 19,
   "outputs": [
    {
     "data": {
      "text/plain": "    First Name Family Name  Age\n100       Anna       Smith   21\n200        Bob       Jones   20",
      "text/html": "<div>\n<style scoped>\n    .dataframe tbody tr th:only-of-type {\n        vertical-align: middle;\n    }\n\n    .dataframe tbody tr th {\n        vertical-align: top;\n    }\n\n    .dataframe thead th {\n        text-align: right;\n    }\n</style>\n<table border=\"1\" class=\"dataframe\">\n  <thead>\n    <tr style=\"text-align: right;\">\n      <th></th>\n      <th>First Name</th>\n      <th>Family Name</th>\n      <th>Age</th>\n    </tr>\n  </thead>\n  <tbody>\n    <tr>\n      <th>100</th>\n      <td>Anna</td>\n      <td>Smith</td>\n      <td>21</td>\n    </tr>\n    <tr>\n      <th>200</th>\n      <td>Bob</td>\n      <td>Jones</td>\n      <td>20</td>\n    </tr>\n  </tbody>\n</table>\n</div>"
     },
     "execution_count": 19,
     "metadata": {},
     "output_type": "execute_result"
    }
   ],
   "source": [
    "students.head(2)"
   ],
   "metadata": {
    "collapsed": false,
    "ExecuteTime": {
     "end_time": "2023-09-30T10:21:33.812411300Z",
     "start_time": "2023-09-30T10:21:33.759181300Z"
    }
   }
  },
  {
   "cell_type": "code",
   "execution_count": 22,
   "outputs": [
    {
     "data": {
      "text/plain": "    First Name Family Name  Age\n300      Maria    Williams   25\n400       Jack       Brown   22",
      "text/html": "<div>\n<style scoped>\n    .dataframe tbody tr th:only-of-type {\n        vertical-align: middle;\n    }\n\n    .dataframe tbody tr th {\n        vertical-align: top;\n    }\n\n    .dataframe thead th {\n        text-align: right;\n    }\n</style>\n<table border=\"1\" class=\"dataframe\">\n  <thead>\n    <tr style=\"text-align: right;\">\n      <th></th>\n      <th>First Name</th>\n      <th>Family Name</th>\n      <th>Age</th>\n    </tr>\n  </thead>\n  <tbody>\n    <tr>\n      <th>300</th>\n      <td>Maria</td>\n      <td>Williams</td>\n      <td>25</td>\n    </tr>\n    <tr>\n      <th>400</th>\n      <td>Jack</td>\n      <td>Brown</td>\n      <td>22</td>\n    </tr>\n  </tbody>\n</table>\n</div>"
     },
     "execution_count": 22,
     "metadata": {},
     "output_type": "execute_result"
    }
   ],
   "source": [
    "students.tail(2)"
   ],
   "metadata": {
    "collapsed": false,
    "ExecuteTime": {
     "end_time": "2023-09-30T11:13:12.372148200Z",
     "start_time": "2023-09-30T11:13:12.342137200Z"
    }
   }
  },
  {
   "cell_type": "code",
   "execution_count": 20,
   "outputs": [
    {
     "data": {
      "text/plain": "100    21\n200    20\n300    25\n400    22\nName: Age, dtype: int64"
     },
     "execution_count": 20,
     "metadata": {},
     "output_type": "execute_result"
    }
   ],
   "source": [
    "students['Age']"
   ],
   "metadata": {
    "collapsed": false,
    "ExecuteTime": {
     "end_time": "2023-09-30T10:21:43.704092100Z",
     "start_time": "2023-09-30T10:21:43.685101400Z"
    }
   }
  },
  {
   "cell_type": "markdown",
   "source": [
    "### Saving a dataframe to file"
   ],
   "metadata": {
    "collapsed": false
   }
  },
  {
   "cell_type": "code",
   "execution_count": null,
   "outputs": [],
   "source": [
    "students.to_csv('student_names.csv', sep='\\t', columns = ['First Name', 'Family Name'], index=False)"
   ],
   "metadata": {
    "collapsed": false
   }
  },
  {
   "cell_type": "markdown",
   "source": [
    "### Exercises"
   ],
   "metadata": {
    "collapsed": false
   }
  },
  {
   "cell_type": "code",
   "execution_count": 21,
   "outputs": [
    {
     "data": {
      "text/plain": "1     3\n2    11\n3    16\nName: C, dtype: int64"
     },
     "execution_count": 21,
     "metadata": {},
     "output_type": "execute_result"
    }
   ],
   "source": [
    "import pandas as pd\n",
    "\n",
    "\n",
    "my_dict = {'A': {1: 1,\n",
    "                 2: 4,\n",
    "                 3: 6},\n",
    "           'B': {1: 2,\n",
    "                 2: 7,\n",
    "                 3: 10},\n",
    "           'C': {1: 3,\n",
    "                 2: 11,\n",
    "                 3: 16}}\n",
    "\n",
    "my_df = pd.DataFrame(my_dict)\n",
    "\n",
    "# print column C of my_df\n",
    "my_df['C']"
   ],
   "metadata": {
    "collapsed": false,
    "ExecuteTime": {
     "end_time": "2023-09-30T11:09:48.227317300Z",
     "start_time": "2023-09-30T11:09:48.185115200Z"
    }
   }
  }
 ],
 "metadata": {
  "kernelspec": {
   "display_name": "Python 3",
   "language": "python",
   "name": "python3"
  },
  "language_info": {
   "codemirror_mode": {
    "name": "ipython",
    "version": 2
   },
   "file_extension": ".py",
   "mimetype": "text/x-python",
   "name": "python",
   "nbconvert_exporter": "python",
   "pygments_lexer": "ipython2",
   "version": "2.7.6"
  }
 },
 "nbformat": 4,
 "nbformat_minor": 0
}
