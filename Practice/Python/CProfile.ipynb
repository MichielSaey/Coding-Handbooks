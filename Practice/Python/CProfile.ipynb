{
 "cells": [
  {
   "cell_type": "markdown",
   "source": [
    "# cProfile\n",
    "\n",
    "`cProfiler` is a deterministic profiler for Python. It creates a set of statistics that displays the total spent time in certain parts of the code. `cProfiler` is writen in C as build in python extension. It supplies a simple `run()` function that is sufficient for most cases."
   ],
   "metadata": {
    "collapsed": false
   }
  },
  {
   "cell_type": "code",
   "execution_count": 1,
   "metadata": {
    "collapsed": true
   },
   "outputs": [
    {
     "name": "stdout",
     "output_type": "stream",
     "text": [
      "         2692540 function calls (4 primitive calls) in 0.657 seconds\n",
      "\n",
      "   Ordered by: standard name\n",
      "\n",
      "   ncalls  tottime  percall  cumtime  percall filename:lineno(function)\n",
      "2692537/1    0.657    0.000    0.657    0.657 1904342133.py:3(fib_recursive)\n",
      "        1    0.000    0.000    0.657    0.657 <string>:1(<module>)\n",
      "        1    0.000    0.000    0.657    0.657 {built-in method builtins.exec}\n",
      "        1    0.000    0.000    0.000    0.000 {method 'disable' of '_lsprof.Profiler' objects}\n",
      "\n",
      "\n"
     ]
    }
   ],
   "source": [
    "import cProfile\n",
    "\n",
    "def fib_recursive(n):\n",
    "    if n < 2:\n",
    "        return n\n",
    "\n",
    "    return fib_recursive(n - 1) + fib_recursive(n - 2)\n",
    "\n",
    "cProfile.run(\"fib_recursive(30)\")"
   ]
  },
  {
   "cell_type": "markdown",
   "source": [
    "Lets see how we can interpret the previous statement\n",
    "1. **`ncalls`** - The number of calls\n",
    "2. **`tottime`** - The total time spent in the function\n",
    "3. **`cumtime`** - The total time spent in the function, plus the the time spent in sub functions\n",
    "4. **`percall`** - The total time per call, and the cumulative time per call\n",
    "5. **`filename: lineno (function)`** - Provides data about the filename, and the line number of each function\n"
   ],
   "metadata": {
    "collapsed": false
   }
  },
  {
   "cell_type": "code",
   "execution_count": 2,
   "outputs": [
    {
     "name": "stdout",
     "output_type": "stream",
     "text": [
      "         33 function calls in 0.000 seconds\n",
      "\n",
      "   Ordered by: standard name\n",
      "\n",
      "   ncalls  tottime  percall  cumtime  percall filename:lineno(function)\n",
      "        1    0.000    0.000    0.000    0.000 2591328310.py:1(fib_list)\n",
      "        1    0.000    0.000    0.000    0.000 <string>:1(<module>)\n",
      "        1    0.000    0.000    0.000    0.000 {built-in method builtins.exec}\n",
      "       29    0.000    0.000    0.000    0.000 {method 'append' of 'list' objects}\n",
      "        1    0.000    0.000    0.000    0.000 {method 'disable' of '_lsprof.Profiler' objects}\n",
      "\n",
      "\n"
     ]
    }
   ],
   "source": [
    "def fib_list(n):\n",
    "    if n < 2:\n",
    "        return n\n",
    "\n",
    "    sequence = [0, 1]\n",
    "\n",
    "    for i in range(2, n + 1):\n",
    "        sequence.append(sequence[i - 1] + sequence[i - 2])\n",
    "\n",
    "    return sequence[n]\n",
    "\n",
    "cProfile.run(\"fib_list(30)\")"
   ],
   "metadata": {
    "collapsed": false
   }
  },
  {
   "cell_type": "markdown",
   "source": [
    "For the moments where you need more control you can use the `Profile` class."
   ],
   "metadata": {
    "collapsed": false
   }
  },
  {
   "cell_type": "code",
   "execution_count": 3,
   "outputs": [
    {
     "name": "stdout",
     "output_type": "stream",
     "text": [
      "         300 function calls in 0.000 seconds\n",
      "\n",
      "   Ordered by: standard name\n",
      "\n",
      "   ncalls  tottime  percall  cumtime  percall filename:lineno(function)\n",
      "      299    0.000    0.000    0.000    0.000 {method 'append' of 'list' objects}\n",
      "        1    0.000    0.000    0.000    0.000 {method 'disable' of '_lsprof.Profiler' objects}\n",
      "\n",
      "\n"
     ]
    }
   ],
   "source": [
    "import cProfile\n",
    "\n",
    "profiler = cProfile.Profile()\n",
    "\n",
    "def fib_list(n):\n",
    "    if n < 2:\n",
    "        return n\n",
    "    sequence = [0, 1]\n",
    "    profiler.enable()\n",
    "    for i in range(2, n + 1):\n",
    "        sequence.append(sequence[i - 1] + sequence[i - 2])\n",
    "    profiler.disable()\n",
    "    return sequence[n]\n",
    "\n",
    "fib_list(300)\n",
    "\n",
    "profiler.print_stats()"
   ],
   "metadata": {
    "collapsed": false
   }
  },
  {
   "cell_type": "code",
   "execution_count": 4,
   "outputs": [
    {
     "name": "stdout",
     "output_type": "stream",
     "text": [
      "         300 function calls in 0.000 seconds\n",
      "\n",
      "   Ordered by: cumulative time\n",
      "\n",
      "   ncalls  tottime  percall  cumtime  percall filename:lineno(function)\n",
      "      299    0.000    0.000    0.000    0.000 {method 'append' of 'list' objects}\n",
      "        1    0.000    0.000    0.000    0.000 {method 'disable' of '_lsprof.Profiler' objects}\n",
      "\n",
      "\n",
      "\n"
     ]
    }
   ],
   "source": [
    "import cProfile, pstats, io\n",
    "from pstats import SortKey\n",
    "\n",
    "profiler = cProfile.Profile()\n",
    "\n",
    "def fib_list(n):\n",
    "    if n < 2:\n",
    "        return n\n",
    "    sequence = [0, 1]\n",
    "    profiler.enable()\n",
    "    for i in range(2, n + 1):\n",
    "        sequence.append(sequence[i - 1] + sequence[i - 2])\n",
    "    profiler.disable()\n",
    "    return sequence[n]\n",
    "\n",
    "fib_list(300)\n",
    "\n",
    "stream = io.StringIO()\n",
    "stats = pstats.Stats(profiler, stream=stream)\n",
    "stats = stats.sort_stats(SortKey.CUMULATIVE)\n",
    "stats.print_stats()\n",
    "print(stream.getvalue())"
   ],
   "metadata": {
    "collapsed": false
   }
  },
  {
   "cell_type": "markdown",
   "source": [],
   "metadata": {
    "collapsed": false
   }
  }
 ],
 "metadata": {
  "kernelspec": {
   "display_name": "Python 3",
   "language": "python",
   "name": "python3"
  },
  "language_info": {
   "codemirror_mode": {
    "name": "ipython",
    "version": 2
   },
   "file_extension": ".py",
   "mimetype": "text/x-python",
   "name": "python",
   "nbconvert_exporter": "python",
   "pygments_lexer": "ipython2",
   "version": "2.7.6"
  }
 },
 "nbformat": 4,
 "nbformat_minor": 0
}
