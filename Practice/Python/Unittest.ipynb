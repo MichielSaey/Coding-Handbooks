{
 "cells": [
  {
   "cell_type": "markdown",
   "source": [],
   "metadata": {
    "collapsed": false
   }
  },
  {
   "cell_type": "markdown",
   "source": [
    "# Unittest\n",
    "\n",
    "To test a section of code create a new file: test_code.py, where you import both the code you want to test and unittest module."
   ],
   "metadata": {
    "collapsed": false
   }
  },
  {
   "cell_type": "code",
   "execution_count": 3,
   "outputs": [
    {
     "ename": "ModuleNotFoundError",
     "evalue": "No module named 'calculator'",
     "output_type": "error",
     "traceback": [
      "\u001B[1;31m---------------------------------------------------------------------------\u001B[0m",
      "\u001B[1;31mModuleNotFoundError\u001B[0m                       Traceback (most recent call last)",
      "\u001B[1;32m~\\AppData\\Local\\Temp\\ipykernel_21628\\8632614.py\u001B[0m in \u001B[0;36m<module>\u001B[1;34m\u001B[0m\n\u001B[0;32m      2\u001B[0m \u001B[1;33m\u001B[0m\u001B[0m\n\u001B[0;32m      3\u001B[0m \u001B[1;32mimport\u001B[0m \u001B[0munittest\u001B[0m\u001B[1;33m\u001B[0m\u001B[1;33m\u001B[0m\u001B[0m\n\u001B[1;32m----> 4\u001B[1;33m \u001B[1;32mimport\u001B[0m \u001B[0mcalculator\u001B[0m\u001B[1;33m\u001B[0m\u001B[1;33m\u001B[0m\u001B[0m\n\u001B[0m\u001B[0;32m      5\u001B[0m \u001B[1;33m\u001B[0m\u001B[0m\n",
      "\u001B[1;31mModuleNotFoundError\u001B[0m: No module named 'calculator'"
     ]
    }
   ],
   "source": [
    "# this code is in the beginning of the test_calculator.py file\n",
    "\n",
    "import unittest\n",
    "import calculator\n"
   ],
   "metadata": {
    "collapsed": false
   }
  },
  {
   "cell_type": "markdown",
   "source": [
    "To test your programe you will write one of several test cases (basic unit of testing). This test case checks if the tested unit gives back te right output. We can create a test case by subclassing the general unittest.TestCase. Important test case unit can be a class, A method or function. We could write a test case for the entire module or write separate test cases for each function. The names of these test methodes must start withtest. Otherwise it is not giong to work.\n",
    "\n",
    "All test will now be defined as method inside this class. Let's write the simplest test case to cheque the result of our add function."
   ],
   "metadata": {
    "collapsed": false
   }
  },
  {
   "cell_type": "code",
   "execution_count": null,
   "outputs": [],
   "source": [
    "class TestCalculator(unittest.TestCase):  # a test case for the calculator.py module\n",
    "\tdef test_add(self):\n",
    "\t\t# tests for the add() function\n",
    "\t\tself.assertEqual(calculator.add(6, 4), 10)\n",
    "\t\tself.assertEqual(calculator.add(6, -4), 2)\n",
    "\t\tself.assertEqual(calculator.add(-6, 4), -2)\n",
    "\t\tself.assertEqual(calculator.add(-6, -4), -10)"
   ],
   "metadata": {
    "collapsed": false
   }
  },
  {
   "cell_type": "markdown",
   "source": [
    "In this example we use the assertEqual() method from the unittest.TestCase. It checks if two given arguments are equal. If they are not we will get an assertionerror. Inside pycharm it is possible to creates test in a simpler way: [link](https://www.jetbrains.com/help/pycharm/testing-your-first-python-application.html#debug-test). To write a test to see if an error is raised you can use the assertRaises methode. There are two ways to do this.\n",
    "\n",
    "1. We can pass several arguments to the methode: the exeption  we are expecting, the function that we want to test, and then the arguments that we want to provide to the function:"
   ],
   "metadata": {
    "collapsed": false
   }
  },
  {
   "cell_type": "code",
   "execution_count": null,
   "outputs": [],
   "source": [
    "\tdef test_divide(self):\n",
    "\t\t# tests for the divide() function\n",
    "\t\t# ...\n",
    "\t\tself.assertRaises(ValueError, calculator.divide, 5, 0)"
   ],
   "metadata": {
    "collapsed": false
   }
  },
  {
   "cell_type": "markdown",
   "source": [
    "2. This can also be done with the context manager. From with we call the function we want to test."
   ],
   "metadata": {
    "collapsed": false
   }
  },
  {
   "cell_type": "code",
   "execution_count": null,
   "outputs": [],
   "source": [
    "\tdef test_divide(self):\n",
    "\t\t# tests for the divide() function\n",
    "\t\t# ...\n",
    "\t\twith self.assertRaises(ValueError):\n",
    "\t\t\tcalculator.divide(5, 0)"
   ],
   "metadata": {
    "collapsed": false
   }
  },
  {
   "cell_type": "markdown",
   "source": [
    "All ather asseert functions are simmelair to the asseertEqual() method:\n",
    "\n",
    "| Method                                       | What it checks                                              |\n",
    "|----------------------------------------------|-------------------------------------------------------------|\n",
    "| assertEqual(a, b)                            | \ta == b                                                     |\n",
    "| assertNotEqual(a, b)                         | \ta != b                                                     |\n",
    "| assertTrue(x)                                | \tbool(x) is True                                            |\n",
    "| assertFalse(x)                               | \tbool(x) is False                                           |\n",
    "| assertIsNone(x)                              | \tx is None                                                  |\n",
    "| assertIsNotNone(x)                           | \tx is not None                                              |\n",
    "| assertGreater(a, b)                          | \ta > b                                                      |\n",
    "| assertLess(a, b)                             | \ta < b                                                      |\n",
    "| assertIsInstance(a, b)                       | \tisinstance(a, b)                                           |\n",
    "| assertRaises(exception, function, arguments) | \tThe function raises the exception when given the Arguments |\n",
    "\n",
    "To run the test when you are ready use the following command:\n"
   ],
   "metadata": {
    "collapsed": false
   }
  },
  {
   "cell_type": "code",
   "execution_count": null,
   "outputs": [],
   "source": [
    "!python -m unittest test_calculator"
   ],
   "metadata": {
    "collapsed": false
   }
  },
  {
   "cell_type": "markdown",
   "source": [
    "If we do not give a test file to test It will run all files that start with test. We can also run this from the editor by using the following lines of code:"
   ],
   "metadata": {
    "collapsed": false
   }
  },
  {
   "cell_type": "code",
   "execution_count": null,
   "outputs": [],
   "source": [
    "if __name__ == \"__main__\":\n",
    "\tunittest.main()"
   ],
   "metadata": {
    "collapsed": false
   }
  },
  {
   "cell_type": "markdown",
   "source": [
    "These test can return tree different ways:\n",
    "\t1. Success\n",
    "\t2. Failure\n",
    "\n",
    "## Fixtures\n",
    "\n",
    "Sometimes, for a test, you will need to create classes, access files, or go on the web. These resources are called *fixtures*. Suppose that for a set of test you need to create a class, you dont have to repeat this for every test. The `unittest.TestCase` class (containing the methods `setUp()` and `tearDown()`) provides an easy mechanism to configure and clean up any fixtures.\n",
    "\n",
    "As an example we will test the `Calculator` class declared below."
   ],
   "metadata": {
    "collapsed": false
   }
  },
  {
   "cell_type": "code",
   "execution_count": null,
   "outputs": [],
   "source": [
    "class Calculator:\n",
    "\n",
    "\tdef __init__(self, first, second):\n",
    "\t\tself.first = first\n",
    "\t\tself.second = second\n",
    "\n",
    "\tdef add(self):\n",
    "\t\t\"\"\" Addition \"\"\"\n",
    "\t\treturn self.first + self.second\n",
    "\n",
    "\tdef subtract(self):\n",
    "\t\t\"\"\" Subtraction \"\"\"\n",
    "\t\treturn self.first - self.second"
   ],
   "metadata": {
    "collapsed": false
   }
  },
  {
   "cell_type": "markdown",
   "source": [
    "Now let's write a test for this class, using the `setUp()` and `tearDown()` methods."
   ],
   "metadata": {
    "collapsed": false
   }
  },
  {
   "cell_type": "code",
   "execution_count": 4,
   "outputs": [],
   "source": [
    "import unittest\n",
    "\n",
    "class TestCalculator(unittest.TestCase):\n",
    "\n",
    "\tdef setUp(self):\n",
    "\t\tself.calc = Calculator(5, 1)\n",
    "\t\tprint('setUp')\n",
    "\n",
    "\tdef tearDown(self):\n",
    "\t\tprint('tearDown')\n",
    "\n",
    "\tdef test_add(self):\n",
    "\t\tself.assertEqual(self.calc.add(), 6)\n",
    "\t\tself.calc.first = 8\n",
    "\t\tself.calc.second = 2\n",
    "\t\tself.assertEqual(self.calc.add(), 10)\n",
    "\t\tprint('test_add')\n",
    "\n",
    "\tdef test_subtract(self):\n",
    "\t\tself.assertEqual(self.calc.subtract(), 4)\n",
    "\t\tself.calc.first = 8\n",
    "\t\tself.calc.second = 2\n",
    "\t\tself.assertEqual(self.calc.subtract(), 6)\n",
    "\t\tprint('test_subtract')"
   ],
   "metadata": {
    "collapsed": false
   }
  },
  {
   "cell_type": "markdown",
   "source": [
    "Now we will run the test using a command line"
   ],
   "metadata": {
    "collapsed": false
   }
  },
  {
   "cell_type": "code",
   "execution_count": 5,
   "outputs": [
    {
     "name": "stderr",
     "output_type": "stream",
     "text": [
      "E\n",
      "======================================================================\n",
      "ERROR: TestCalculator (unittest.loader._FailedTest)\n",
      "----------------------------------------------------------------------\n",
      "ImportError: Failed to import test module: TestCalculator\n",
      "Traceback (most recent call last):\n",
      "  File \"C:\\Users\\michi\\anaconda3\\lib\\unittest\\loader.py\", line 154, in loadTestsFromName\n",
      "    module = __import__(module_name)\n",
      "ModuleNotFoundError: No module named 'TestCalculator'\n",
      "\n",
      "\n",
      "----------------------------------------------------------------------\n",
      "Ran 1 test in 0.000s\n",
      "\n",
      "FAILED (errors=1)\n"
     ]
    }
   ],
   "source": [
    "!python -m unittest TestCalculator"
   ],
   "metadata": {
    "collapsed": false
   }
  }
 ],
 "metadata": {
  "kernelspec": {
   "display_name": "Python 3",
   "language": "python",
   "name": "python3"
  },
  "language_info": {
   "codemirror_mode": {
    "name": "ipython",
    "version": 2
   },
   "file_extension": ".py",
   "mimetype": "text/x-python",
   "name": "python",
   "nbconvert_exporter": "python",
   "pygments_lexer": "ipython2",
   "version": "2.7.6"
  }
 },
 "nbformat": 4,
 "nbformat_minor": 0
}
