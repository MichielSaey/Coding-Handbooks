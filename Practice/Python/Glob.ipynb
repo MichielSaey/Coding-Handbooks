{
 "cells": [
  {
   "cell_type": "markdown",
   "source": [
    "# Glob\n",
    "\n",
    "Is a module used to find to files, and folders that match certain naming paterns .\n",
    "\n",
    "## Patterns\n",
    "\n",
    "The glob module lets you use wildcards to search for files and directories. The rules are the same as on the Unix shell. A simpliefied version regular expresion.\n",
    "\n",
    "| Wildcard | Meaning                                    |\n",
    "|----------|--------------------------------------------|\n",
    "| `*`      | Matches 0 or more characters               |\n",
    "| `?`      | Matches a single charachter                |\n",
    "| `[0-9]`  | Sepecify range of numbers                  |\n",
    "| `[abc]`  | Match one charachter from list             |\n",
    "| `[!abc]` | Match any char that is not in the sequence |\n",
    "\n",
    "Lets use the in an example"
   ],
   "metadata": {
    "collapsed": false
   }
  },
  {
   "cell_type": "code",
   "execution_count": 1,
   "outputs": [
    {
     "data": {
      "text/plain": "['Collections.ipynb',\n 'CProfile.ipynb',\n 'Glob.ipynb',\n 'Logging.ipynb',\n 'Pprint.ipynb',\n 'Thread.ipynb',\n 'Threading.ipynb',\n 'Time.ipynb',\n 'Timeit.ipynb',\n 'Unittest.ipynb']"
     },
     "execution_count": 1,
     "metadata": {},
     "output_type": "execute_result"
    }
   ],
   "source": [
    "import glob\n",
    "\n",
    "glob.glob('*.ipynb')"
   ],
   "metadata": {
    "collapsed": false
   }
  },
  {
   "cell_type": "code",
   "execution_count": 8,
   "metadata": {
    "collapsed": true
   },
   "outputs": [
    {
     "data": {
      "text/plain": "['..\\\\..\\\\Coding Handbooks', '..\\\\..\\\\Learning', '..\\\\..\\\\MAS']"
     },
     "execution_count": 8,
     "metadata": {},
     "output_type": "execute_result"
    }
   ],
   "source": [
    "glob.glob('..\\\\..\\\\*')"
   ]
  },
  {
   "cell_type": "markdown",
   "source": [
    "Globs can also be iterated over."
   ],
   "metadata": {
    "collapsed": false
   }
  },
  {
   "cell_type": "code",
   "execution_count": 10,
   "outputs": [],
   "source": [
    "generator = glob.iglob('my_dir\\\\[0-9][0-9][!0].*')\n",
    "\n",
    "for item in generator:\n",
    "    print(item)"
   ],
   "metadata": {
    "collapsed": false
   }
  },
  {
   "cell_type": "markdown",
   "source": [
    "## Escaping\n",
    "\n",
    "The `glob.escape()` method can escape given charachters. For example `*` would stop becoming a wildcard and would just be an astarisk. In this way it can be used to aid the glob function when finding files."
   ],
   "metadata": {
    "collapsed": false
   }
  },
  {
   "cell_type": "code",
   "execution_count": null,
   "outputs": [],
   "source": [
    "glob.escape('my_dir\\\\[dir]')  # returns: 'my_dir\\\\[[]dir]'\n",
    "# now we pass the result to the glob() method:\n",
    "glob.glob('my_dir\\\\[[]dir]')  # returns: ['my_dir\\\\[dir]']"
   ],
   "metadata": {
    "collapsed": false
   }
  }
 ],
 "metadata": {
  "kernelspec": {
   "display_name": "Python 3",
   "language": "python",
   "name": "python3"
  },
  "language_info": {
   "codemirror_mode": {
    "name": "ipython",
    "version": 2
   },
   "file_extension": ".py",
   "mimetype": "text/x-python",
   "name": "python",
   "nbconvert_exporter": "python",
   "pygments_lexer": "ipython2",
   "version": "2.7.6"
  }
 },
 "nbformat": 4,
 "nbformat_minor": 0
}
