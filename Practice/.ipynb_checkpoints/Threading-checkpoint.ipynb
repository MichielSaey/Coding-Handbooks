{
 "cells": [
  {
   "cell_type": "markdown",
   "metadata": {},
   "source": [
    "# Threading\n",
    "\n",
    "alternative to multithreading using the threading module. World should come before dont know why"
   ]
  },
  {
   "cell_type": "code",
   "execution_count": 2,
   "metadata": {},
   "outputs": [
    {
     "name": "stdout",
     "output_type": "stream",
     "text": [
      "Hello, \n",
      "world!\n"
     ]
    }
   ],
   "source": [
    "import time\n",
    "from threading import Thread\n",
    "\n",
    "\n",
    "def greet():\n",
    "    time.sleep(3)\n",
    "    print('Hello, ')\n",
    "\n",
    "\n",
    "t = Thread(target=greet())\n",
    "t.start()\n",
    "\n",
    "print('world!')"
   ]
  },
  {
   "cell_type": "markdown",
   "metadata": {},
   "source": [
    "An example with multipke threads:"
   ]
  },
  {
   "cell_type": "code",
   "execution_count": 3,
   "metadata": {},
   "outputs": [
    {
     "name": "stdout",
     "output_type": "stream",
     "text": [
      "t1 ---> Area of a cube with an edge length of 2 is: \t24\n",
      "t2 ---> Area of a circle with a radius length of 3 is: \t28.26\n",
      "t3 ---> Area of a cube with an edge length of 4 is: \t96\n",
      "t4 ---> Area of a circle with a radius length of 6 is: \t113.04\n",
      "t5 ---> Area of a cube with an edge length of 9 is: \t486\n",
      "t6 ---> Area of a circle with a radius length of 8 is: \t200.96\n"
     ]
    }
   ],
   "source": [
    "import time\n",
    "from threading import Thread\n",
    "\n",
    "\n",
    "def cube_area(thread, length, delay=0):\n",
    "    time.sleep(delay)\n",
    "    print(f\"{thread} ---> Area of a cube with an edge length of {length} is: \\t{6 * (length ** 2)}\")\n",
    "\n",
    "\n",
    "def circle_area(thread, length, delay=0):\n",
    "    time.sleep(delay)\n",
    "    print(f\"{thread} ---> Area of a circle with a radius length of {length} is: \\t{3.14 * (length ** 2)}\")\n",
    "\n",
    "# instantiate multiple threads with functions as targets and thread name, length as arguments\n",
    "\n",
    "t1 = Thread(target=cube_area, args=(\"t1\", 2))\n",
    "t2 = Thread(target=circle_area, args=(\"t2\", 3))\n",
    "\n",
    "t3 = Thread(target=cube_area, args=(\"t3\", 4))\n",
    "t4 = Thread(target=circle_area, args=(\"t4\", 6))\n",
    "\n",
    "t5 = Thread(target=cube_area, args=(\"t5\", 9))\n",
    "t6 = Thread(target=circle_area, args=(\"t6\", 8))\n",
    "\n",
    "t1.start()\n",
    "t2.start()\n",
    "t3.start()\n",
    "t4.start()\n",
    "t5.start()\n",
    "t6.start()"
   ]
  },
  {
   "cell_type": "code",
   "execution_count": 5,
   "metadata": {},
   "outputs": [],
   "source": [
    "import time\n",
    "from threading import Thread\n",
    "\n",
    "\n",
    "def cube_area(thread, length, delay=0):\n",
    "    time.sleep(delay)\n",
    "    print(f\"{thread} ---> Area of a cube with an edge length of {length} is: \\t{6 * (length ** 2)}\")\n",
    "\n",
    "\n",
    "def circle_area(thread, length, delay=0):\n",
    "    time.sleep(delay)\n",
    "    print(f\"{thread} ---> Area of a circle with a radius length of {length} is: \\t{3.14 * (length ** 2)}\")\n",
    "\n",
    "# instantiate multiple threads with functions as targets and thread name, length as arguments\n",
    "t1 = Thread(target=cube_area, args=(\"t1\", 2, 3))\n",
    "t2 = Thread(target=circle_area, args=(\"t2\", 2, 2))\n",
    "\n",
    "t3 = Thread(target=cube_area, args=(\"t3\", 4, 1))\n",
    "t4 = Thread(target=circle_area, args=(\"t4\", 6, 2))\n",
    "\n",
    "t5 = Thread(target=cube_area, args=(\"t5\", 9, 4))\n",
    "t6 = Thread(target=circle_area, args=(\"t6\", 8, 3))\n",
    "\n",
    "t1.start()\n",
    "t2.start()\n",
    "t3.start()\n",
    "t4.start()\n",
    "t5.start()\n",
    "t6.start()"
   ]
  },
  {
   "cell_type": "markdown",
   "metadata": {},
   "source": [
    "## Race condition\n",
    "\n",
    "Lets first see an example of why we need race condition. in the below application, each dread print the items name and price. The output shows us which thread was running. Each time we are running the application, the result depends on which thread is running first."
   ]
  },
  {
   "cell_type": "code",
   "execution_count": 2,
   "metadata": {},
   "outputs": [
    {
     "name": "stdout",
     "output_type": "stream",
     "text": [
      "Item:  Shirt\n",
      "Item:  Jeans\n",
      "Price: Price:  10\n",
      "Item:  Jeans\n",
      " 5\n",
      "Item:  Shirt\n",
      "Price:  10\n",
      "Item:  Jeans\n",
      "Price:  5\n",
      "Item:  Shirt\n",
      "Price:  10\n",
      "Price:  5\n"
     ]
    }
   ],
   "source": [
    "import time\n",
    "from threading import Thread\n",
    "\n",
    "total = 0\n",
    "\n",
    "\n",
    "def calc_price(name, item_price):\n",
    "    for i in range(3):\n",
    "        print(\"Item: \", name)\n",
    "        time.sleep(2)\n",
    "        total = item_price\n",
    "        print(\"Price: \", total)\n",
    "\n",
    "\n",
    "t1 = Thread(target=calc_price, args=(\"Shirt\", 5))\n",
    "t2 = Thread(target=calc_price, args=(\"Jeans\", 10))\n",
    "\n",
    "t1.start()\n",
    "t2.start()"
   ]
  },
  {
   "cell_type": "markdown",
   "metadata": {},
   "source": [
    "To solve this problem we need to sync the threads."
   ]
  }
 ],
 "metadata": {
  "kernelspec": {
   "display_name": "Python 3 (ipykernel)",
   "language": "python",
   "name": "python3"
  },
  "language_info": {
   "codemirror_mode": {
    "name": "ipython",
    "version": 3
   },
   "file_extension": ".py",
   "mimetype": "text/x-python",
   "name": "python",
   "nbconvert_exporter": "python",
   "pygments_lexer": "ipython3",
   "version": "3.9.13"
  }
 },
 "nbformat": 4,
 "nbformat_minor": 1
}
