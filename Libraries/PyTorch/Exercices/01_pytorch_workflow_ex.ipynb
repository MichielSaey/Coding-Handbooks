{
 "cells": [
  {
   "cell_type": "markdown",
   "source": [
    "# PyTorch Workflow Fundamental Exercises\n",
    "\n",
    "Exercise can be found on the [learnpytorch](https://www.learnpytorch.io/01_pytorch_workflow/#exercises) site."
   ],
   "metadata": {
    "collapsed": false
   }
  },
  {
   "cell_type": "markdown",
   "source": [
    "## Set Up"
   ],
   "metadata": {
    "collapsed": false
   }
  },
  {
   "cell_type": "code",
   "execution_count": 35,
   "outputs": [
    {
     "data": {
      "text/plain": "'1.12.1'"
     },
     "execution_count": 35,
     "metadata": {},
     "output_type": "execute_result"
    }
   ],
   "source": [
    "import torch\n",
    "import torch.nn as nn\n",
    "import torch.optim as optim\n",
    "\n",
    "import matplotlib.pyplot as plt\n",
    "\n",
    "torch.__version__"
   ],
   "metadata": {
    "collapsed": false
   }
  },
  {
   "cell_type": "code",
   "execution_count": 7,
   "outputs": [],
   "source": [
    "def device():\n",
    "    device = 'cuda' if torch.cuda.is_available() else 'cpu'\n",
    "    print(f'Selected device: {device}')\n",
    "    return device"
   ],
   "metadata": {
    "collapsed": false
   }
  },
  {
   "cell_type": "code",
   "execution_count": 9,
   "outputs": [
    {
     "name": "stdout",
     "output_type": "stream",
     "text": [
      "Selected device: cpu\n"
     ]
    },
    {
     "data": {
      "text/plain": "'cpu'"
     },
     "execution_count": 9,
     "metadata": {},
     "output_type": "execute_result"
    }
   ],
   "source": [
    "device()"
   ],
   "metadata": {
    "collapsed": false
   }
  },
  {
   "cell_type": "markdown",
   "source": [
    "## Create a straight line dataset using the linear regression formula"
   ],
   "metadata": {
    "collapsed": false
   }
  },
  {
   "cell_type": "code",
   "execution_count": 44,
   "metadata": {
    "collapsed": true
   },
   "outputs": [],
   "source": [
    "# ofc these are never used, it is the goal\n",
    "weight = 0.3\n",
    "bias = 0.9\n",
    "\n",
    "set_size = 100\n",
    "training_size = 0.8\n",
    "test_size = 0.2\n",
    "\n",
    "training_split = int(training_size * set_size)\n",
    "\n",
    "start = 0\n",
    "end = 1\n",
    "step = (end - start) / set_size # 0.01\n",
    "\n",
    "learning_rate = 0.001\n",
    "num_epochs = 1000"
   ]
  },
  {
   "cell_type": "code",
   "execution_count": 13,
   "outputs": [
    {
     "data": {
      "text/plain": "(tensor([[0.0000],\n         [0.0100],\n         [0.0200],\n         [0.0300],\n         [0.0400],\n         [0.0500],\n         [0.0600],\n         [0.0700],\n         [0.0800],\n         [0.0900]]),\n tensor([[0.0000],\n         [0.0027],\n         [0.0054],\n         [0.0081],\n         [0.0108],\n         [0.0135],\n         [0.0162],\n         [0.0189],\n         [0.0216],\n         [0.0243]]))"
     },
     "execution_count": 13,
     "metadata": {},
     "output_type": "execute_result"
    }
   ],
   "source": [
    "x = torch.arange(start, end, step).unsqueeze(dim=1)\n",
    "y = weight * x * bias\n",
    "\n",
    "x[:10], y[:10]"
   ],
   "metadata": {
    "collapsed": false
   }
  },
  {
   "cell_type": "code",
   "execution_count": 24,
   "outputs": [
    {
     "data": {
      "text/plain": "(80, 80, 20, 20)"
     },
     "execution_count": 24,
     "metadata": {},
     "output_type": "execute_result"
    }
   ],
   "source": [
    "x_train, y_train = x[:training_split], y[:training_split]\n",
    "x_test, y_test = x[training_split:], y[training_split:]\n",
    "\n",
    "len(x_train), len(y_train), len(x_test), len(y_test)"
   ],
   "metadata": {
    "collapsed": false
   }
  },
  {
   "cell_type": "code",
   "execution_count": 27,
   "outputs": [],
   "source": [
    "def plot_predictions(train_data=x_train, train_labels=y_train, test_data=x_test, test_labels=y_test, predictions=None):\n",
    "    \"\"\"\n",
    "    Plots training data, test data, and compares predictions.\n",
    "    :param train_data:\n",
    "    :param train_labels:\n",
    "    :param test_data:\n",
    "    :param test_labels:\n",
    "    :param predictions:\n",
    "    :return:\n",
    "    \"\"\"\n",
    "\n",
    "    plt.figure(figsize=(10,7))\n",
    "    plt.scatter(train_data, train_labels, c='b', s=4, label=\"Training data\")\n",
    "\n",
    "    plt.scatter(test_data, test_labels, c='g', s=4, label=\"Testing data\")\n",
    "\n",
    "    if predictions is not None:\n",
    "        plt.scatter(test_data, predictions, c='r', s=4, label='Predictions')\n",
    "\n",
    "    plt.legend(prop={'size': 14})"
   ],
   "metadata": {
    "collapsed": false
   }
  },
  {
   "cell_type": "code",
   "execution_count": 28,
   "outputs": [
    {
     "data": {
      "text/plain": "<Figure size 1000x700 with 1 Axes>",
      "image/png": "[encoded data removed]"
     },
     "metadata": {},
     "output_type": "display_data"
    }
   ],
   "source": [
    "plot_predictions()"
   ],
   "metadata": {
    "collapsed": false
   }
  },
  {
   "cell_type": "markdown",
   "source": [
    "## Build a PyTorch model by subclassing nn.Module"
   ],
   "metadata": {
    "collapsed": false
   }
  },
  {
   "cell_type": "code",
   "execution_count": 51,
   "outputs": [],
   "source": [
    "class LinearRegressionModelV3(nn.Module):\n",
    "        def __init__(self):\n",
    "            super().__init__()\n",
    "            self.layer = nn.Linear(1, 1)\n",
    "\n",
    "        def forward(self, input: torch.Tensor) -> torch.Tensor:\n",
    "            return self.layer(input)"
   ],
   "metadata": {
    "collapsed": false
   }
  },
  {
   "cell_type": "code",
   "execution_count": 52,
   "outputs": [
    {
     "data": {
      "text/plain": "OrderedDict([('layer.weight', tensor([[0.7382]])),\n             ('layer.bias', tensor([-0.9339]))])"
     },
     "execution_count": 52,
     "metadata": {},
     "output_type": "execute_result"
    }
   ],
   "source": [
    "linear_model = LinearRegressionModelV3()\n",
    "\n",
    "linear_model.state_dict()"
   ],
   "metadata": {
    "collapsed": false
   }
  },
  {
   "cell_type": "code",
   "execution_count": 34,
   "outputs": [
    {
     "name": "stdout",
     "output_type": "stream",
     "text": [
      "Selected device: cpu\n"
     ]
    },
    {
     "data": {
      "text/plain": "device(type='cpu')"
     },
     "execution_count": 34,
     "metadata": {},
     "output_type": "execute_result"
    }
   ],
   "source": [
    "linear_model.to(device())\n",
    "next(linear_model.parameters()).device\n",
    "\n",
    "x_train = x_train.to(device)\n",
    "y_train = y_train.to(device)\n",
    "y_test = y_test.to(device)\n",
    "x_test = x_test.to(device)"
   ],
   "metadata": {
    "collapsed": false
   }
  },
  {
   "cell_type": "markdown",
   "source": [
    "## Create a loss function and optimizer"
   ],
   "metadata": {
    "collapsed": false
   }
  },
  {
   "cell_type": "code",
   "execution_count": 59,
   "outputs": [
    {
     "name": "stdout",
     "output_type": "stream",
     "text": [
      "Epoch: 0 | Loss: 0.007259660866111517 | Test loss: 0.0029375150334089994\n",
      "Epoch: 20 | Loss: 0.007259660866111517 | Test loss: 0.0029375150334089994\n",
      "Epoch: 40 | Loss: 0.007259660866111517 | Test loss: 0.0029375150334089994\n",
      "Epoch: 60 | Loss: 0.007259660866111517 | Test loss: 0.0029375150334089994\n",
      "Epoch: 80 | Loss: 0.007259660866111517 | Test loss: 0.0029375150334089994\n",
      "Epoch: 100 | Loss: 0.007259660866111517 | Test loss: 0.0029375150334089994\n",
      "Epoch: 120 | Loss: 0.007259660866111517 | Test loss: 0.0029375150334089994\n",
      "Epoch: 140 | Loss: 0.007259660866111517 | Test loss: 0.0029375150334089994\n",
      "Epoch: 160 | Loss: 0.007259660866111517 | Test loss: 0.0029375150334089994\n",
      "Epoch: 180 | Loss: 0.007259660866111517 | Test loss: 0.0029375150334089994\n",
      "Epoch: 200 | Loss: 0.007259660866111517 | Test loss: 0.0029375150334089994\n",
      "Epoch: 220 | Loss: 0.007259660866111517 | Test loss: 0.0029375150334089994\n",
      "Epoch: 240 | Loss: 0.007259660866111517 | Test loss: 0.0029375150334089994\n",
      "Epoch: 260 | Loss: 0.007259660866111517 | Test loss: 0.0029375150334089994\n",
      "Epoch: 280 | Loss: 0.007259660866111517 | Test loss: 0.0029375150334089994\n",
      "Epoch: 300 | Loss: 0.007259660866111517 | Test loss: 0.0029375150334089994\n",
      "Epoch: 320 | Loss: 0.007259660866111517 | Test loss: 0.0029375150334089994\n",
      "Epoch: 340 | Loss: 0.007259660866111517 | Test loss: 0.0029375150334089994\n",
      "Epoch: 360 | Loss: 0.007259660866111517 | Test loss: 0.0029375150334089994\n",
      "Epoch: 380 | Loss: 0.007259660866111517 | Test loss: 0.0029375150334089994\n",
      "Epoch: 400 | Loss: 0.007259660866111517 | Test loss: 0.0029375150334089994\n",
      "Epoch: 420 | Loss: 0.007259660866111517 | Test loss: 0.0029375150334089994\n",
      "Epoch: 440 | Loss: 0.007259660866111517 | Test loss: 0.0029375150334089994\n",
      "Epoch: 460 | Loss: 0.007259660866111517 | Test loss: 0.0029375150334089994\n",
      "Epoch: 480 | Loss: 0.007259660866111517 | Test loss: 0.0029375150334089994\n",
      "Epoch: 500 | Loss: 0.007259660866111517 | Test loss: 0.0029375150334089994\n",
      "Epoch: 520 | Loss: 0.007259660866111517 | Test loss: 0.0029375150334089994\n",
      "Epoch: 540 | Loss: 0.007259660866111517 | Test loss: 0.0029375150334089994\n",
      "Epoch: 560 | Loss: 0.007259660866111517 | Test loss: 0.0029375150334089994\n",
      "Epoch: 580 | Loss: 0.007259660866111517 | Test loss: 0.0029375150334089994\n",
      "Epoch: 600 | Loss: 0.007259660866111517 | Test loss: 0.0029375150334089994\n",
      "Epoch: 620 | Loss: 0.007259660866111517 | Test loss: 0.0029375150334089994\n",
      "Epoch: 640 | Loss: 0.007259660866111517 | Test loss: 0.0029375150334089994\n",
      "Epoch: 660 | Loss: 0.007259660866111517 | Test loss: 0.0029375150334089994\n",
      "Epoch: 680 | Loss: 0.007259660866111517 | Test loss: 0.0029375150334089994\n",
      "Epoch: 700 | Loss: 0.007259660866111517 | Test loss: 0.0029375150334089994\n",
      "Epoch: 720 | Loss: 0.007259660866111517 | Test loss: 0.0029375150334089994\n",
      "Epoch: 740 | Loss: 0.007259660866111517 | Test loss: 0.0029375150334089994\n",
      "Epoch: 760 | Loss: 0.007259660866111517 | Test loss: 0.0029375150334089994\n",
      "Epoch: 780 | Loss: 0.007259660866111517 | Test loss: 0.0029375150334089994\n",
      "Epoch: 800 | Loss: 0.007259660866111517 | Test loss: 0.0029375150334089994\n",
      "Epoch: 820 | Loss: 0.007259660866111517 | Test loss: 0.0029375150334089994\n",
      "Epoch: 840 | Loss: 0.007259660866111517 | Test loss: 0.0029375150334089994\n",
      "Epoch: 860 | Loss: 0.007259660866111517 | Test loss: 0.0029375150334089994\n",
      "Epoch: 880 | Loss: 0.007259660866111517 | Test loss: 0.0029375150334089994\n",
      "Epoch: 900 | Loss: 0.007259660866111517 | Test loss: 0.0029375150334089994\n",
      "Epoch: 920 | Loss: 0.007259660866111517 | Test loss: 0.0029375150334089994\n",
      "Epoch: 940 | Loss: 0.007259660866111517 | Test loss: 0.0029375150334089994\n",
      "Epoch: 960 | Loss: 0.007259660866111517 | Test loss: 0.0029375150334089994\n",
      "Epoch: 980 | Loss: 0.007259660866111517 | Test loss: 0.0029375150334089994\n"
     ]
    }
   ],
   "source": [
    "loss_fn = nn.L1Loss()\n",
    "optimizer = optim.SGD(params=linear_model.parameters(), lr=learning_rate)\n",
    "\n",
    "for epoch in range(num_epochs):\n",
    "    linear_model.train()\n",
    "\n",
    "    output = linear_model(x_train)\n",
    "    loss = loss_fn(output, y_train)\n",
    "\n",
    "    # Backward and optim\n",
    "    optimizer.zero_grad()\n",
    "    loss.backward()\n",
    "    optimizer.step()\n",
    "\n",
    "    if epoch % 20 == 0:\n",
    "        linear_model.eval()\n",
    "        with torch.inference_mode():\n",
    "            validation_output = linear_model(x_test)\n",
    "            validation_loss = loss_fn(validation_output, y_test)\n",
    "\n",
    "            print(f\"Epoch: {epoch} | Loss: {loss} | Test loss: {validation_loss}\")"
   ],
   "metadata": {
    "collapsed": false
   }
  },
  {
   "cell_type": "markdown",
   "source": [
    "## Make predictions with the trained model on the test data"
   ],
   "metadata": {
    "collapsed": false
   }
  },
  {
   "cell_type": "code",
   "execution_count": 60,
   "outputs": [
    {
     "data": {
      "text/plain": "<Figure size 1000x700 with 1 Axes>",
      "image/png": "[encoded data removed]"
     },
     "metadata": {},
     "output_type": "display_data"
    }
   ],
   "source": [
    "with torch.inference_mode():\n",
    "    model_output = linear_model(x_test)\n",
    "\n",
    "plot_predictions(predictions=model_output)"
   ],
   "metadata": {
    "collapsed": false
   }
  },
  {
   "cell_type": "markdown",
   "source": [
    "## Save your trained model's `state_dict()` to file"
   ],
   "metadata": {
    "collapsed": false
   }
  },
  {
   "cell_type": "code",
   "execution_count": 64,
   "outputs": [
    {
     "name": "stdout",
     "output_type": "stream",
     "text": [
      "Saving model to: models\\01_pytorch_workflow_EX_model_1.pth\n"
     ]
    }
   ],
   "source": [
    "from pathlib import Path\n",
    "\n",
    "MODEL_PATH = Path(\"models\")\n",
    "MODEL_PATH.mkdir(parents=True, exist_ok=True)\n",
    "\n",
    "MODEL_NAME = \"01_pytorch_workflow_EX_model_1.pth\"\n",
    "MODEL_SAVE_PATH = MODEL_PATH / MODEL_NAME\n",
    "\n",
    "print(f'Saving model to: {MODEL_SAVE_PATH}')\n",
    "torch.save(obj=linear_model.state_dict(), f=MODEL_SAVE_PATH)"
   ],
   "metadata": {
    "collapsed": false
   }
  },
  {
   "cell_type": "code",
   "execution_count": 65,
   "outputs": [
    {
     "name": "stdout",
     "output_type": "stream",
     "text": [
      " Volume in drive C is OSDisk\n",
      " Volume Serial Number is 4818-509D\n",
      "\n",
      " Directory of C:\\Users\\msaey\\DataspellProjects\\Python_handbooks\\Libraries\\PyTorch\\Exercices\n",
      "\n",
      "\n",
      " Directory of C:\\Users\\msaey\\DataspellProjects\\Python_handbooks\\Libraries\\PyTorch\\Exercices\\models\n",
      "\n",
      "06/04/2023  12:16    <DIR>          .\n",
      "06/04/2023  12:16    <DIR>          ..\n",
      "06/04/2023  12:16             1.127 01_pytorch_workflow_EX_model_1.pth\n",
      "06/04/2023  12:16             1.127 01_pytorch_workflow_model_1.pth\n",
      "               2 File(s)          2.254 bytes\n",
      "               2 Dir(s)  129.756.475.392 bytes free\n"
     ]
    },
    {
     "name": "stderr",
     "output_type": "stream",
     "text": [
      "File Not Found\n"
     ]
    }
   ],
   "source": [
    "!dir -l models"
   ],
   "metadata": {
    "collapsed": false
   }
  }
 ],
 "metadata": {
  "kernelspec": {
   "display_name": "Python 3",
   "language": "python",
   "name": "python3"
  },
  "language_info": {
   "codemirror_mode": {
    "name": "ipython",
    "version": 2
   },
   "file_extension": ".py",
   "mimetype": "text/x-python",
   "name": "python",
   "nbconvert_exporter": "python",
   "pygments_lexer": "ipython2",
   "version": "2.7.6"
  }
 },
 "nbformat": 4,
 "nbformat_minor": 0
}
