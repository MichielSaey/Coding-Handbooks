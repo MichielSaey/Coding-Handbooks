{
 "cells": [
  {
   "cell_type": "markdown",
   "source": [
    "# PyTorch Workflow\n",
    "\n",
    "Here we while explore an example of an end-to-end workflow.\n",
    "\n",
    "1. Data (prepare and load)\n",
    "2. Build model\n",
    "3. Fitting the model to the data (training)\n",
    "4. Making prediction and evaluating a model\n",
    "5. Saving and loading a model\n",
    "6. Putting it all together\n",
    "\n",
    "To start we are going to need the nn module. This contains all the necesry parts for neural networks."
   ],
   "metadata": {
    "collapsed": false
   }
  },
  {
   "cell_type": "code",
   "execution_count": 93,
   "outputs": [
    {
     "data": {
      "text/plain": "'1.12.1'"
     },
     "execution_count": 93,
     "metadata": {},
     "output_type": "execute_result"
    }
   ],
   "source": [
    "import torch\n",
    "from torch import nn\n",
    "import matplotlib.pyplot as plt\n",
    "\n",
    "torch.__version__"
   ],
   "metadata": {
    "collapsed": false
   }
  },
  {
   "cell_type": "markdown",
   "source": [
    "## 1. Data (Prepare and load)\n",
    "\n",
    "The data used in machine learning can come in almost any shape (spreadsheet, images, videos, text,...).\n",
    "\n",
    "To use this data we have two steps\n",
    "1. get data into a numerical representation (tensors)\n",
    "2. Build or train model to see patern in the data\n",
    "\n",
    "Lets create some * known * data to show case this using the liniear regresion formula. We will use this formula to make a straight line with known paramaters."
   ],
   "metadata": {
    "collapsed": false
   }
  },
  {
   "cell_type": "code",
   "execution_count": 94,
   "outputs": [
    {
     "data": {
      "text/plain": "(tensor([[0.0000],\n         [0.0200],\n         [0.0400],\n         [0.0600],\n         [0.0800],\n         [0.1000],\n         [0.1200],\n         [0.1400],\n         [0.1600],\n         [0.1800]]),\n tensor([[0.3000],\n         [0.3140],\n         [0.3280],\n         [0.3420],\n         [0.3560],\n         [0.3700],\n         [0.3840],\n         [0.3980],\n         [0.4120],\n         [0.4260]]))"
     },
     "execution_count": 94,
     "metadata": {},
     "output_type": "execute_result"
    }
   ],
   "source": [
    "weight = 0.7    # b\n",
    "bias = 0.3      # a\n",
    "\n",
    "start  = 0\n",
    "end = 1\n",
    "step = 0.02\n",
    "X = torch.arange(start, end, step).unsqueeze(dim=1) # creates a tesor with one dimesion with values starting from 0 to 1\n",
    "y = weight * X + bias\n",
    "\n",
    "X[:10], y[:10]"
   ],
   "metadata": {
    "collapsed": false
   }
  },
  {
   "cell_type": "code",
   "execution_count": 95,
   "outputs": [
    {
     "data": {
      "text/plain": "(50, 50)"
     },
     "execution_count": 95,
     "metadata": {},
     "output_type": "execute_result"
    }
   ],
   "source": [
    "len(X), len(y)"
   ],
   "metadata": {
    "collapsed": false
   }
  },
  {
   "cell_type": "markdown",
   "source": [
    "### Splitting data\n",
    "\n",
    "when training a model you want to split your data in:\n",
    "* a training set (60%-80%)\n",
    "* a validation set (10%-20%)\n",
    "* a test set (10%-20%)\n",
    "\n",
    "if it is succesfull on each set, the model should be cappable of predicting data it has never seen before. an other way of  doind this is using sklearn train set split."
   ],
   "metadata": {
    "collapsed": false
   }
  },
  {
   "cell_type": "code",
   "execution_count": 96,
   "outputs": [
    {
     "data": {
      "text/plain": "(40, 40, 10, 10)"
     },
     "execution_count": 96,
     "metadata": {},
     "output_type": "execute_result"
    }
   ],
   "source": [
    "train_split = int(0.8 * len(X))\n",
    "x_train, y_train = X[:train_split], y[:train_split]\n",
    "x_test, y_test = X[train_split:], y[train_split:]\n",
    "\n",
    "len(x_train), len(y_train), len(x_test), len(y_test)"
   ],
   "metadata": {
    "collapsed": false
   }
  },
  {
   "cell_type": "markdown",
   "source": [
    "to visuelize these sets we can use Mathplot."
   ],
   "metadata": {
    "collapsed": false
   }
  },
  {
   "cell_type": "markdown",
   "source": [
    "### Visualizing data"
   ],
   "metadata": {
    "collapsed": false
   }
  },
  {
   "cell_type": "code",
   "execution_count": 97,
   "outputs": [],
   "source": [
    "def plot_predictions(train_data=x_train, train_labels=y_train, test_data=x_test, test_labels=y_test, predictions=None):\n",
    "    \"\"\"\n",
    "    Plots training data, test data, and compares predictions.\n",
    "    :param train_data:\n",
    "    :param train_labels:\n",
    "    :param test_data:\n",
    "    :param test_labels:\n",
    "    :param predictions:\n",
    "    :return:\n",
    "    \"\"\"\n",
    "\n",
    "    plt.figure(figsize=(10,7))\n",
    "    plt.scatter(train_data, train_labels, c='b', s=4, label=\"Training data\")\n",
    "\n",
    "    plt.scatter(test_data, test_labels, c='g', s=4, label=\"Testing data\")\n",
    "\n",
    "    if predictions is not None:\n",
    "        plt.scatter(test_data, predictions, c='r', s=4, label='Predictions')\n",
    "\n",
    "    plt.legend(prop={'size': 14})"
   ],
   "metadata": {
    "collapsed": false
   }
  },
  {
   "cell_type": "code",
   "execution_count": 98,
   "outputs": [
    {
     "data": {
      "text/plain": "<Figure size 1000x700 with 1 Axes>",
      "image/png": "[encoded data removed]"
     },
     "metadata": {},
     "output_type": "display_data"
    }
   ],
   "source": [
    "plot_predictions()"
   ],
   "metadata": {
    "collapsed": false
   }
  },
  {
   "cell_type": "markdown",
   "source": [
    "## 2. Builing model\n",
    "\n",
    "We will now be building a linear regresion model, to form prediction based on the data set. To build this module we need to inheirit the `nn.Module`.\n",
    "\n",
    "Our model will take the following steps:\n",
    "1. Start with random values (weight & bias)\n",
    "2. Look at training data and adjust the random values to match closer with the training data\n",
    "\n",
    "This is done through two main algoritmnes:\n",
    "1. Gradient descent (`requires_grad=True`)\n",
    "2. Backpropagation"
   ],
   "metadata": {
    "collapsed": false
   }
  },
  {
   "cell_type": "code",
   "execution_count": 99,
   "outputs": [],
   "source": [
    "class LinearRegressionModel(nn.Module):  # inheirit nn.Module\n",
    "    def __init__(self):\n",
    "        super().__init__()\n",
    "        self.weights = nn.Parameter(torch.randn(1, requires_grad=True, dtype=torch.float)) # Build a random tensor on a gradiant curve of the type float\n",
    "        self.bias = nn.Parameter(torch.randn(1, requires_grad=True, dtype=torch.float))\n",
    "\n",
    "    # Forward method to define the computation in the model\n",
    "    def forward(self, x: torch.Tensor) -> torch.Tensor:\n",
    "        return self.weights * x + self.bias # liniear regresion formula"
   ],
   "metadata": {
    "collapsed": false
   }
  },
  {
   "cell_type": "markdown",
   "source": [
    "### PyTorch model building essentials\n",
    "\n",
    "* torch.nn - contains all the building for coputational graph\n",
    "* torch.nn.Parameters - what models should our parameters try and learn\n",
    "* torch.nn.Module - the base clase for all nrural network models\n",
    "* torch.optim - optimizers that will help with gradient descent\n",
    "* def forward - All nn.Module subclasses require you to overide forward. this method is what happens in the forward computation."
   ],
   "metadata": {
    "collapsed": false
   }
  },
  {
   "cell_type": "markdown",
   "source": [
    "### Checking the contents of our PyTorch model\n",
    "\n",
    "Now we have created a model, lets take a look at what is inside. We can do this by using `.parameters()`"
   ],
   "metadata": {
    "collapsed": false
   }
  },
  {
   "cell_type": "code",
   "execution_count": 100,
   "outputs": [
    {
     "data": {
      "text/plain": "[Parameter containing:\n tensor([0.1654], requires_grad=True),\n Parameter containing:\n tensor([0.4144], requires_grad=True)]"
     },
     "execution_count": 100,
     "metadata": {},
     "output_type": "execute_result"
    }
   ],
   "source": [
    "# Create a random seed\n",
    "torch.manual_seed(75)\n",
    "\n",
    "# Create a model based on predefined class\n",
    "model_0 = LinearRegressionModel()\n",
    "\n",
    "# List paramaters\n",
    "list(model_0.parameters())"
   ],
   "metadata": {
    "collapsed": false
   }
  },
  {
   "cell_type": "code",
   "execution_count": 101,
   "outputs": [
    {
     "data": {
      "text/plain": "OrderedDict([('weights', tensor([0.1654])), ('bias', tensor([0.4144]))])"
     },
     "execution_count": 101,
     "metadata": {},
     "output_type": "execute_result"
    }
   ],
   "source": [
    "# Check parameters\n",
    "model_0.state_dict()"
   ],
   "metadata": {
    "collapsed": false
   }
  },
  {
   "cell_type": "markdown",
   "source": [
    "### Maing predictions\n",
    "\n",
    "to check our models predictive power, lets see well it predicts `y_test` based on `x_test`. To do this we will use `torch.interference_mode()`. When we pass data through model, it will run it  through the forward model. `Inference_mode()` disables all tracker available when training a model, so it can be done faster."
   ],
   "metadata": {
    "collapsed": false
   }
  },
  {
   "cell_type": "code",
   "execution_count": 102,
   "outputs": [
    {
     "data": {
      "text/plain": "tensor([[0.5467],\n        [0.5500],\n        [0.5533],\n        [0.5566],\n        [0.5599],\n        [0.5632],\n        [0.5665],\n        [0.5698],\n        [0.5731],\n        [0.5764]])"
     },
     "execution_count": 102,
     "metadata": {},
     "output_type": "execute_result"
    }
   ],
   "source": [
    "with torch.inference_mode():\n",
    "    y_preds = model_0(x_test)\n",
    "\n",
    "y_preds"
   ],
   "metadata": {
    "collapsed": false
   }
  },
  {
   "cell_type": "code",
   "execution_count": 103,
   "outputs": [
    {
     "data": {
      "text/plain": "<Figure size 1000x700 with 1 Axes>",
      "image/png": "[encoded data removed]"
     },
     "metadata": {},
     "output_type": "display_data"
    }
   ],
   "source": [
    "plot_predictions(predictions=y_preds)"
   ],
   "metadata": {
    "collapsed": false
   }
  },
  {
   "cell_type": "markdown",
   "source": [
    "## 3. Train model\n",
    "\n",
    "The whole idea od training is for a model to moe from some *unknown* paramaters (these may be random) to some *known* paramaters. or iun other words from a poor to a better representation of the data.\n",
    "\n",
    "\n",
    "One way to measure the quality of a model is to use a loss functions. There are some pre-build function included in the `nn` class. some of the most common ones are:\n",
    "\n",
    "* `nn.L1Loss`: Measure the mean absolute error.\n",
    "* `nn.MSELoss`\n",
    "\n",
    "The same goes for optemizers, fjor which there are also several algoritmes. One of these is made for gradient decent\n",
    "\n",
    "These two respand to each others changes to get closser to the right model.\n",
    "\n",
    "### Setting up loss function and optimizer\n",
    "\n",
    "learning rate is posibly the most important hyper paramater (paramater inside a model that we set ourselves). it sets the learning steps of our model."
   ],
   "metadata": {
    "collapsed": false
   }
  },
  {
   "cell_type": "code",
   "execution_count": 113,
   "outputs": [],
   "source": [
    "loss_fn = nn.L1Loss()\n",
    "\n",
    "# Stocastic gradient descent\n",
    "optemizer = torch.optim.SGD(params=model_0.parameters(), lr=0.001)"
   ],
   "metadata": {
    "collapsed": false
   }
  },
  {
   "cell_type": "markdown",
   "source": [
    "### Building a training and testing loop\n",
    "\n",
    "Remeber this order you will need it a lot.\n",
    "\n",
    "A couple of things we need in a training loop:\n",
    "\n",
    "1. Loop through the data\n",
    "2. Forward pass to make predictions on data (data moving through our models forward function) - or forward propogation\n",
    "3. Calcultae the loss (compare predictions to ground truth)\n",
    "4. Optimizer zero grad\n",
    "5. Loss backward - moves backwards throught the network to calculate the gradients of each of the parameters of out model with respect to loss (**Backpropagation**)\n",
    "6. Optmize stepp - Chnage parameters (**Gradient decent**)\n"
   ],
   "metadata": {
    "collapsed": false
   }
  },
  {
   "cell_type": "code",
   "execution_count": 114,
   "outputs": [
    {
     "name": "stdout",
     "output_type": "stream",
     "text": [
      "Epoch: 0 | Test: 0.00786089338362217 | Test loss: 0.004558271262794733\n",
      "OrderedDict([('weights', tensor([0.6957])), ('bias', tensor([0.3084]))])\n",
      "Epoch: 10 | Test: 0.0011749736731871963 | Test loss: 0.002657335950061679\n",
      "OrderedDict([('weights', tensor([0.6943])), ('bias', tensor([0.3024]))])\n",
      "Epoch: 20 | Test: 0.0008304446819238365 | Test loss: 0.0018986522918567061\n",
      "OrderedDict([('weights', tensor([0.6960])), ('bias', tensor([0.3016]))])\n",
      "Epoch: 30 | Test: 0.0004875846207141876 | Test loss: 0.0010712742805480957\n",
      "OrderedDict([('weights', tensor([0.6977])), ('bias', tensor([0.3009]))])\n",
      "Epoch: 40 | Test: 0.0003018103598151356 | Test loss: 0.000465649354737252\n",
      "OrderedDict([('weights', tensor([0.6995])), ('bias', tensor([0.3009]))])\n",
      "Epoch: 50 | Test: 0.0004500970244407654 | Test loss: 0.000465649354737252\n",
      "OrderedDict([('weights', tensor([0.6995])), ('bias', tensor([0.3009]))])\n",
      "Epoch: 60 | Test: 0.0004500970244407654 | Test loss: 0.000465649354737252\n",
      "OrderedDict([('weights', tensor([0.6995])), ('bias', tensor([0.3009]))])\n",
      "Epoch: 70 | Test: 0.0004500970244407654 | Test loss: 0.000465649354737252\n",
      "OrderedDict([('weights', tensor([0.6995])), ('bias', tensor([0.3009]))])\n",
      "Epoch: 80 | Test: 0.0004500970244407654 | Test loss: 0.000465649354737252\n",
      "OrderedDict([('weights', tensor([0.6995])), ('bias', tensor([0.3009]))])\n",
      "Epoch: 90 | Test: 0.0004500970244407654 | Test loss: 0.000465649354737252\n",
      "OrderedDict([('weights', tensor([0.6995])), ('bias', tensor([0.3009]))])\n",
      "Epoch: 100 | Test: 0.0004500970244407654 | Test loss: 0.000465649354737252\n",
      "OrderedDict([('weights', tensor([0.6995])), ('bias', tensor([0.3009]))])\n",
      "Epoch: 110 | Test: 0.0004500970244407654 | Test loss: 0.000465649354737252\n",
      "OrderedDict([('weights', tensor([0.6995])), ('bias', tensor([0.3009]))])\n",
      "Epoch: 120 | Test: 0.0004500970244407654 | Test loss: 0.000465649354737252\n",
      "OrderedDict([('weights', tensor([0.6995])), ('bias', tensor([0.3009]))])\n",
      "Epoch: 130 | Test: 0.0004500970244407654 | Test loss: 0.000465649354737252\n",
      "OrderedDict([('weights', tensor([0.6995])), ('bias', tensor([0.3009]))])\n",
      "Epoch: 140 | Test: 0.0004500970244407654 | Test loss: 0.000465649354737252\n",
      "OrderedDict([('weights', tensor([0.6995])), ('bias', tensor([0.3009]))])\n",
      "Epoch: 150 | Test: 0.0004500970244407654 | Test loss: 0.000465649354737252\n",
      "OrderedDict([('weights', tensor([0.6995])), ('bias', tensor([0.3009]))])\n",
      "Epoch: 160 | Test: 0.0004500970244407654 | Test loss: 0.000465649354737252\n",
      "OrderedDict([('weights', tensor([0.6995])), ('bias', tensor([0.3009]))])\n",
      "Epoch: 170 | Test: 0.0004500970244407654 | Test loss: 0.000465649354737252\n",
      "OrderedDict([('weights', tensor([0.6995])), ('bias', tensor([0.3009]))])\n",
      "Epoch: 180 | Test: 0.0004500970244407654 | Test loss: 0.000465649354737252\n",
      "OrderedDict([('weights', tensor([0.6995])), ('bias', tensor([0.3009]))])\n",
      "Epoch: 190 | Test: 0.0004500970244407654 | Test loss: 0.000465649354737252\n",
      "OrderedDict([('weights', tensor([0.6995])), ('bias', tensor([0.3009]))])\n",
      "Epoch: 200 | Test: 0.0004500970244407654 | Test loss: 0.000465649354737252\n",
      "OrderedDict([('weights', tensor([0.6995])), ('bias', tensor([0.3009]))])\n",
      "Epoch: 210 | Test: 0.0004500970244407654 | Test loss: 0.000465649354737252\n",
      "OrderedDict([('weights', tensor([0.6995])), ('bias', tensor([0.3009]))])\n",
      "Epoch: 220 | Test: 0.0004500970244407654 | Test loss: 0.000465649354737252\n",
      "OrderedDict([('weights', tensor([0.6995])), ('bias', tensor([0.3009]))])\n",
      "Epoch: 230 | Test: 0.0004500970244407654 | Test loss: 0.000465649354737252\n",
      "OrderedDict([('weights', tensor([0.6995])), ('bias', tensor([0.3009]))])\n",
      "Epoch: 240 | Test: 0.0004500970244407654 | Test loss: 0.000465649354737252\n",
      "OrderedDict([('weights', tensor([0.6995])), ('bias', tensor([0.3009]))])\n",
      "Epoch: 250 | Test: 0.0004500970244407654 | Test loss: 0.000465649354737252\n",
      "OrderedDict([('weights', tensor([0.6995])), ('bias', tensor([0.3009]))])\n",
      "Epoch: 260 | Test: 0.0004500970244407654 | Test loss: 0.000465649354737252\n",
      "OrderedDict([('weights', tensor([0.6995])), ('bias', tensor([0.3009]))])\n",
      "Epoch: 270 | Test: 0.0004500970244407654 | Test loss: 0.000465649354737252\n",
      "OrderedDict([('weights', tensor([0.6995])), ('bias', tensor([0.3009]))])\n",
      "Epoch: 280 | Test: 0.0004500970244407654 | Test loss: 0.000465649354737252\n",
      "OrderedDict([('weights', tensor([0.6995])), ('bias', tensor([0.3009]))])\n",
      "Epoch: 290 | Test: 0.0004500970244407654 | Test loss: 0.000465649354737252\n",
      "OrderedDict([('weights', tensor([0.6995])), ('bias', tensor([0.3009]))])\n",
      "Epoch: 300 | Test: 0.0004500970244407654 | Test loss: 0.000465649354737252\n",
      "OrderedDict([('weights', tensor([0.6995])), ('bias', tensor([0.3009]))])\n",
      "Epoch: 310 | Test: 0.0004500970244407654 | Test loss: 0.000465649354737252\n",
      "OrderedDict([('weights', tensor([0.6995])), ('bias', tensor([0.3009]))])\n",
      "Epoch: 320 | Test: 0.0004500970244407654 | Test loss: 0.000465649354737252\n",
      "OrderedDict([('weights', tensor([0.6995])), ('bias', tensor([0.3009]))])\n",
      "Epoch: 330 | Test: 0.0004500970244407654 | Test loss: 0.000465649354737252\n",
      "OrderedDict([('weights', tensor([0.6995])), ('bias', tensor([0.3009]))])\n",
      "Epoch: 340 | Test: 0.0004500970244407654 | Test loss: 0.000465649354737252\n",
      "OrderedDict([('weights', tensor([0.6995])), ('bias', tensor([0.3009]))])\n",
      "Epoch: 350 | Test: 0.0004500970244407654 | Test loss: 0.000465649354737252\n",
      "OrderedDict([('weights', tensor([0.6995])), ('bias', tensor([0.3009]))])\n",
      "Epoch: 360 | Test: 0.0004500970244407654 | Test loss: 0.000465649354737252\n",
      "OrderedDict([('weights', tensor([0.6995])), ('bias', tensor([0.3009]))])\n",
      "Epoch: 370 | Test: 0.0004500970244407654 | Test loss: 0.000465649354737252\n",
      "OrderedDict([('weights', tensor([0.6995])), ('bias', tensor([0.3009]))])\n",
      "Epoch: 380 | Test: 0.0004500970244407654 | Test loss: 0.000465649354737252\n",
      "OrderedDict([('weights', tensor([0.6995])), ('bias', tensor([0.3009]))])\n",
      "Epoch: 390 | Test: 0.0004500970244407654 | Test loss: 0.000465649354737252\n",
      "OrderedDict([('weights', tensor([0.6995])), ('bias', tensor([0.3009]))])\n",
      "Epoch: 400 | Test: 0.0004500970244407654 | Test loss: 0.000465649354737252\n",
      "OrderedDict([('weights', tensor([0.6995])), ('bias', tensor([0.3009]))])\n",
      "Epoch: 410 | Test: 0.0004500970244407654 | Test loss: 0.000465649354737252\n",
      "OrderedDict([('weights', tensor([0.6995])), ('bias', tensor([0.3009]))])\n",
      "Epoch: 420 | Test: 0.0004500970244407654 | Test loss: 0.000465649354737252\n",
      "OrderedDict([('weights', tensor([0.6995])), ('bias', tensor([0.3009]))])\n",
      "Epoch: 430 | Test: 0.0004500970244407654 | Test loss: 0.000465649354737252\n",
      "OrderedDict([('weights', tensor([0.6995])), ('bias', tensor([0.3009]))])\n",
      "Epoch: 440 | Test: 0.0004500970244407654 | Test loss: 0.000465649354737252\n",
      "OrderedDict([('weights', tensor([0.6995])), ('bias', tensor([0.3009]))])\n",
      "Epoch: 450 | Test: 0.0004500970244407654 | Test loss: 0.000465649354737252\n",
      "OrderedDict([('weights', tensor([0.6995])), ('bias', tensor([0.3009]))])\n",
      "Epoch: 460 | Test: 0.0004500970244407654 | Test loss: 0.000465649354737252\n",
      "OrderedDict([('weights', tensor([0.6995])), ('bias', tensor([0.3009]))])\n",
      "Epoch: 470 | Test: 0.0004500970244407654 | Test loss: 0.000465649354737252\n",
      "OrderedDict([('weights', tensor([0.6995])), ('bias', tensor([0.3009]))])\n",
      "Epoch: 480 | Test: 0.0004500970244407654 | Test loss: 0.000465649354737252\n",
      "OrderedDict([('weights', tensor([0.6995])), ('bias', tensor([0.3009]))])\n",
      "Epoch: 490 | Test: 0.0004500970244407654 | Test loss: 0.000465649354737252\n",
      "OrderedDict([('weights', tensor([0.6995])), ('bias', tensor([0.3009]))])\n",
      "Epoch: 500 | Test: 0.0004500970244407654 | Test loss: 0.000465649354737252\n",
      "OrderedDict([('weights', tensor([0.6995])), ('bias', tensor([0.3009]))])\n",
      "Epoch: 510 | Test: 0.0004500970244407654 | Test loss: 0.000465649354737252\n",
      "OrderedDict([('weights', tensor([0.6995])), ('bias', tensor([0.3009]))])\n",
      "Epoch: 520 | Test: 0.0004500970244407654 | Test loss: 0.000465649354737252\n",
      "OrderedDict([('weights', tensor([0.6995])), ('bias', tensor([0.3009]))])\n",
      "Epoch: 530 | Test: 0.0004500970244407654 | Test loss: 0.000465649354737252\n",
      "OrderedDict([('weights', tensor([0.6995])), ('bias', tensor([0.3009]))])\n",
      "Epoch: 540 | Test: 0.0004500970244407654 | Test loss: 0.000465649354737252\n",
      "OrderedDict([('weights', tensor([0.6995])), ('bias', tensor([0.3009]))])\n",
      "Epoch: 550 | Test: 0.0004500970244407654 | Test loss: 0.000465649354737252\n",
      "OrderedDict([('weights', tensor([0.6995])), ('bias', tensor([0.3009]))])\n",
      "Epoch: 560 | Test: 0.0004500970244407654 | Test loss: 0.000465649354737252\n",
      "OrderedDict([('weights', tensor([0.6995])), ('bias', tensor([0.3009]))])\n",
      "Epoch: 570 | Test: 0.0004500970244407654 | Test loss: 0.000465649354737252\n",
      "OrderedDict([('weights', tensor([0.6995])), ('bias', tensor([0.3009]))])\n",
      "Epoch: 580 | Test: 0.0004500970244407654 | Test loss: 0.000465649354737252\n",
      "OrderedDict([('weights', tensor([0.6995])), ('bias', tensor([0.3009]))])\n",
      "Epoch: 590 | Test: 0.0004500970244407654 | Test loss: 0.000465649354737252\n",
      "OrderedDict([('weights', tensor([0.6995])), ('bias', tensor([0.3009]))])\n",
      "Epoch: 600 | Test: 0.0004500970244407654 | Test loss: 0.000465649354737252\n",
      "OrderedDict([('weights', tensor([0.6995])), ('bias', tensor([0.3009]))])\n",
      "Epoch: 610 | Test: 0.0004500970244407654 | Test loss: 0.000465649354737252\n",
      "OrderedDict([('weights', tensor([0.6995])), ('bias', tensor([0.3009]))])\n",
      "Epoch: 620 | Test: 0.0004500970244407654 | Test loss: 0.000465649354737252\n",
      "OrderedDict([('weights', tensor([0.6995])), ('bias', tensor([0.3009]))])\n",
      "Epoch: 630 | Test: 0.0004500970244407654 | Test loss: 0.000465649354737252\n",
      "OrderedDict([('weights', tensor([0.6995])), ('bias', tensor([0.3009]))])\n",
      "Epoch: 640 | Test: 0.0004500970244407654 | Test loss: 0.000465649354737252\n",
      "OrderedDict([('weights', tensor([0.6995])), ('bias', tensor([0.3009]))])\n",
      "Epoch: 650 | Test: 0.0004500970244407654 | Test loss: 0.000465649354737252\n",
      "OrderedDict([('weights', tensor([0.6995])), ('bias', tensor([0.3009]))])\n",
      "Epoch: 660 | Test: 0.0004500970244407654 | Test loss: 0.000465649354737252\n",
      "OrderedDict([('weights', tensor([0.6995])), ('bias', tensor([0.3009]))])\n",
      "Epoch: 670 | Test: 0.0004500970244407654 | Test loss: 0.000465649354737252\n",
      "OrderedDict([('weights', tensor([0.6995])), ('bias', tensor([0.3009]))])\n",
      "Epoch: 680 | Test: 0.0004500970244407654 | Test loss: 0.000465649354737252\n",
      "OrderedDict([('weights', tensor([0.6995])), ('bias', tensor([0.3009]))])\n",
      "Epoch: 690 | Test: 0.0004500970244407654 | Test loss: 0.000465649354737252\n",
      "OrderedDict([('weights', tensor([0.6995])), ('bias', tensor([0.3009]))])\n",
      "Epoch: 700 | Test: 0.0004500970244407654 | Test loss: 0.000465649354737252\n",
      "OrderedDict([('weights', tensor([0.6995])), ('bias', tensor([0.3009]))])\n",
      "Epoch: 710 | Test: 0.0004500970244407654 | Test loss: 0.000465649354737252\n",
      "OrderedDict([('weights', tensor([0.6995])), ('bias', tensor([0.3009]))])\n",
      "Epoch: 720 | Test: 0.0004500970244407654 | Test loss: 0.000465649354737252\n",
      "OrderedDict([('weights', tensor([0.6995])), ('bias', tensor([0.3009]))])\n",
      "Epoch: 730 | Test: 0.0004500970244407654 | Test loss: 0.000465649354737252\n",
      "OrderedDict([('weights', tensor([0.6995])), ('bias', tensor([0.3009]))])\n",
      "Epoch: 740 | Test: 0.0004500970244407654 | Test loss: 0.000465649354737252\n",
      "OrderedDict([('weights', tensor([0.6995])), ('bias', tensor([0.3009]))])\n",
      "Epoch: 750 | Test: 0.0004500970244407654 | Test loss: 0.000465649354737252\n",
      "OrderedDict([('weights', tensor([0.6995])), ('bias', tensor([0.3009]))])\n",
      "Epoch: 760 | Test: 0.0004500970244407654 | Test loss: 0.000465649354737252\n",
      "OrderedDict([('weights', tensor([0.6995])), ('bias', tensor([0.3009]))])\n",
      "Epoch: 770 | Test: 0.0004500970244407654 | Test loss: 0.000465649354737252\n",
      "OrderedDict([('weights', tensor([0.6995])), ('bias', tensor([0.3009]))])\n",
      "Epoch: 780 | Test: 0.0004500970244407654 | Test loss: 0.000465649354737252\n",
      "OrderedDict([('weights', tensor([0.6995])), ('bias', tensor([0.3009]))])\n",
      "Epoch: 790 | Test: 0.0004500970244407654 | Test loss: 0.000465649354737252\n",
      "OrderedDict([('weights', tensor([0.6995])), ('bias', tensor([0.3009]))])\n",
      "Epoch: 800 | Test: 0.0004500970244407654 | Test loss: 0.000465649354737252\n",
      "OrderedDict([('weights', tensor([0.6995])), ('bias', tensor([0.3009]))])\n",
      "Epoch: 810 | Test: 0.0004500970244407654 | Test loss: 0.000465649354737252\n",
      "OrderedDict([('weights', tensor([0.6995])), ('bias', tensor([0.3009]))])\n",
      "Epoch: 820 | Test: 0.0004500970244407654 | Test loss: 0.000465649354737252\n",
      "OrderedDict([('weights', tensor([0.6995])), ('bias', tensor([0.3009]))])\n",
      "Epoch: 830 | Test: 0.0004500970244407654 | Test loss: 0.000465649354737252\n",
      "OrderedDict([('weights', tensor([0.6995])), ('bias', tensor([0.3009]))])\n",
      "Epoch: 840 | Test: 0.0004500970244407654 | Test loss: 0.000465649354737252\n",
      "OrderedDict([('weights', tensor([0.6995])), ('bias', tensor([0.3009]))])\n",
      "Epoch: 850 | Test: 0.0004500970244407654 | Test loss: 0.000465649354737252\n",
      "OrderedDict([('weights', tensor([0.6995])), ('bias', tensor([0.3009]))])\n",
      "Epoch: 860 | Test: 0.0004500970244407654 | Test loss: 0.000465649354737252\n",
      "OrderedDict([('weights', tensor([0.6995])), ('bias', tensor([0.3009]))])\n",
      "Epoch: 870 | Test: 0.0004500970244407654 | Test loss: 0.000465649354737252\n",
      "OrderedDict([('weights', tensor([0.6995])), ('bias', tensor([0.3009]))])\n",
      "Epoch: 880 | Test: 0.0004500970244407654 | Test loss: 0.000465649354737252\n",
      "OrderedDict([('weights', tensor([0.6995])), ('bias', tensor([0.3009]))])\n",
      "Epoch: 890 | Test: 0.0004500970244407654 | Test loss: 0.000465649354737252\n",
      "OrderedDict([('weights', tensor([0.6995])), ('bias', tensor([0.3009]))])\n",
      "Epoch: 900 | Test: 0.0004500970244407654 | Test loss: 0.000465649354737252\n",
      "OrderedDict([('weights', tensor([0.6995])), ('bias', tensor([0.3009]))])\n",
      "Epoch: 910 | Test: 0.0004500970244407654 | Test loss: 0.000465649354737252\n",
      "OrderedDict([('weights', tensor([0.6995])), ('bias', tensor([0.3009]))])\n",
      "Epoch: 920 | Test: 0.0004500970244407654 | Test loss: 0.000465649354737252\n",
      "OrderedDict([('weights', tensor([0.6995])), ('bias', tensor([0.3009]))])\n",
      "Epoch: 930 | Test: 0.0004500970244407654 | Test loss: 0.000465649354737252\n",
      "OrderedDict([('weights', tensor([0.6995])), ('bias', tensor([0.3009]))])\n",
      "Epoch: 940 | Test: 0.0004500970244407654 | Test loss: 0.000465649354737252\n",
      "OrderedDict([('weights', tensor([0.6995])), ('bias', tensor([0.3009]))])\n",
      "Epoch: 950 | Test: 0.0004500970244407654 | Test loss: 0.000465649354737252\n",
      "OrderedDict([('weights', tensor([0.6995])), ('bias', tensor([0.3009]))])\n",
      "Epoch: 960 | Test: 0.0004500970244407654 | Test loss: 0.000465649354737252\n",
      "OrderedDict([('weights', tensor([0.6995])), ('bias', tensor([0.3009]))])\n",
      "Epoch: 970 | Test: 0.0004500970244407654 | Test loss: 0.000465649354737252\n",
      "OrderedDict([('weights', tensor([0.6995])), ('bias', tensor([0.3009]))])\n",
      "Epoch: 980 | Test: 0.0004500970244407654 | Test loss: 0.000465649354737252\n",
      "OrderedDict([('weights', tensor([0.6995])), ('bias', tensor([0.3009]))])\n",
      "Epoch: 990 | Test: 0.0004500970244407654 | Test loss: 0.000465649354737252\n",
      "OrderedDict([('weights', tensor([0.6995])), ('bias', tensor([0.3009]))])\n"
     ]
    }
   ],
   "source": [
    "torch.manual_seed(75)\n",
    "\n",
    "# epoch is the amount of loops through the data\n",
    "epochs = 1000\n",
    "\n",
    "# 0. Loop through the data\n",
    "for epoch in range(epochs):\n",
    "    # Set the model to training mode, this sets all parameters that require gradients to True\n",
    "    model_0.train()\n",
    "\n",
    "    # 1. Forward pass\n",
    "    y_pred = model_0(x_train)\n",
    "\n",
    "    # 2. Calculate loss\n",
    "    loss = loss_fn(y_pred, y_train)\n",
    "\n",
    "    # 3. Optimizer zero grad\n",
    "    optemizer.zero_grad()\n",
    "\n",
    "    # 4. Loss backward\n",
    "    loss.backward()\n",
    "\n",
    "    # 5. Step the optimizer\n",
    "    optemizer.step()\n",
    "\n",
    "    ### Testing\n",
    "    # turns off gsettings not needed for testing\n",
    "    model_0.eval()\n",
    "\n",
    "    # turns off gradient tracking\n",
    "    with torch.inference_mode():\n",
    "        # 1. Do forward pass\n",
    "        test_pred = model_0(x_test)\n",
    "\n",
    "        # 2. Calculate the loss\n",
    "        test_loss = loss_fn(test_pred, y_test)\n",
    "\n",
    "        # 3.\n",
    "\n",
    "    if epoch % 10 == 0:\n",
    "        print(f\"Epoch: {epoch} | Test: {loss} | Test loss: {test_loss}\")\n",
    "        print(model_0.state_dict())"
   ],
   "metadata": {
    "collapsed": false
   }
  },
  {
   "cell_type": "code",
   "execution_count": 106,
   "outputs": [
    {
     "data": {
      "text/plain": "<Figure size 1000x700 with 1 Axes>",
      "image/png": "[encoded data removed]"
     },
     "metadata": {},
     "output_type": "display_data"
    }
   ],
   "source": [
    "plot_predictions(predictions=y_preds)"
   ],
   "metadata": {
    "collapsed": false
   }
  },
  {
   "cell_type": "code",
   "execution_count": 115,
   "outputs": [
    {
     "data": {
      "text/plain": "<Figure size 1000x700 with 1 Axes>",
      "image/png": "[encoded data removed]"
     },
     "metadata": {},
     "output_type": "display_data"
    }
   ],
   "source": [
    "with torch.inference_mode():\n",
    "    y_preds_news = model_0(x_test)\n",
    "\n",
    " \n",
    "plot_predictions(predictions=y_preds_news)"
   ],
   "metadata": {
    "collapsed": false
   }
  }
 ],
 "metadata": {
  "kernelspec": {
   "display_name": "Python 3",
   "language": "python",
   "name": "python3"
  },
  "language_info": {
   "codemirror_mode": {
    "name": "ipython",
    "version": 2
   },
   "file_extension": ".py",
   "mimetype": "text/x-python",
   "name": "python",
   "nbconvert_exporter": "python",
   "pygments_lexer": "ipython2",
   "version": "2.7.6"
  }
 },
 "nbformat": 4,
 "nbformat_minor": 0
}
