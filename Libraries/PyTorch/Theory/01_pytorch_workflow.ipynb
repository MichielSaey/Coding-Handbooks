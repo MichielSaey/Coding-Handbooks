{
 "cells": [
  {
   "cell_type": "markdown",
   "source": [
    "# PyTorch Workflow\n",
    "\n",
    "Here we while explore an example of an end-to-end workflow.\n",
    "\n",
    "1. Data (prepare and load)\n",
    "2. Build model\n",
    "3. Fitting the model to the data (training)\n",
    "4. Making prediction and evaluating a model\n",
    "5. Saving and loading a model\n",
    "6. Putting it all together\n",
    "\n",
    "To start we are going to need the nn module. This contains all the necesry parts for neural networks."
   ],
   "metadata": {
    "collapsed": false
   }
  },
  {
   "cell_type": "code",
   "execution_count": 34,
   "outputs": [
    {
     "data": {
      "text/plain": "'1.12.1'"
     },
     "execution_count": 34,
     "metadata": {},
     "output_type": "execute_result"
    }
   ],
   "source": [
    "import torch\n",
    "from torch import nn\n",
    "import numpy as np\n",
    "import matplotlib.pyplot as plt\n",
    "\n",
    "torch.__version__"
   ],
   "metadata": {
    "collapsed": false
   }
  },
  {
   "cell_type": "markdown",
   "source": [
    "## 1. Data (Prepare and load)\n",
    "\n",
    "The data used in machine learning can come in almost any shape (spreadsheet, images, videos, text,...).\n",
    "\n",
    "To use this data we have two steps\n",
    "1. get data into a numerical representation (tensors)\n",
    "2. Build or train model to see patern in the data\n",
    "\n",
    "Lets create some * known * data to show case this using the liniear regresion formula. We will use this formula to make a straight line with known paramaters."
   ],
   "metadata": {
    "collapsed": false
   }
  },
  {
   "cell_type": "code",
   "execution_count": 35,
   "outputs": [
    {
     "data": {
      "text/plain": "(tensor([[0.0000],\n         [0.0200],\n         [0.0400],\n         [0.0600],\n         [0.0800],\n         [0.1000],\n         [0.1200],\n         [0.1400],\n         [0.1600],\n         [0.1800]]),\n tensor([[0.3000],\n         [0.3140],\n         [0.3280],\n         [0.3420],\n         [0.3560],\n         [0.3700],\n         [0.3840],\n         [0.3980],\n         [0.4120],\n         [0.4260]]))"
     },
     "execution_count": 35,
     "metadata": {},
     "output_type": "execute_result"
    }
   ],
   "source": [
    "weight = 0.7    # b\n",
    "bias = 0.3      # a\n",
    "\n",
    "start  = 0\n",
    "end = 1\n",
    "step = 0.02\n",
    "X = torch.arange(start, end, step).unsqueeze(dim=1) # creates a tesor with one dimesion with values starting from 0 to 1\n",
    "y = weight * X + bias\n",
    "\n",
    "X[:10], y[:10]"
   ],
   "metadata": {
    "collapsed": false
   }
  },
  {
   "cell_type": "code",
   "execution_count": 36,
   "outputs": [
    {
     "data": {
      "text/plain": "(50, 50)"
     },
     "execution_count": 36,
     "metadata": {},
     "output_type": "execute_result"
    }
   ],
   "source": [
    "len(X), len(y)"
   ],
   "metadata": {
    "collapsed": false
   }
  },
  {
   "cell_type": "markdown",
   "source": [
    "### Splitting data\n",
    "\n",
    "when training a model you want to split your data in:\n",
    "* a training set (60%-80%)\n",
    "* a validation set (10%-20%)\n",
    "* a test set (10%-20%)\n",
    "\n",
    "if it is succesfull on each set, the model should be cappable of predicting data it has never seen before. an other way of  doind this is using sklearn train set split."
   ],
   "metadata": {
    "collapsed": false
   }
  },
  {
   "cell_type": "code",
   "execution_count": 37,
   "outputs": [
    {
     "data": {
      "text/plain": "(40, 40, 10, 10)"
     },
     "execution_count": 37,
     "metadata": {},
     "output_type": "execute_result"
    }
   ],
   "source": [
    "train_split = int(0.8 * len(X))\n",
    "x_train, y_train = X[:train_split], y[:train_split]\n",
    "x_test, y_test = X[train_split:], y[train_split:]\n",
    "\n",
    "len(x_train), len(y_train), len(x_test), len(y_test)"
   ],
   "metadata": {
    "collapsed": false
   }
  },
  {
   "cell_type": "markdown",
   "source": [
    "to visuelize these sets we can use Mathplot."
   ],
   "metadata": {
    "collapsed": false
   }
  },
  {
   "cell_type": "markdown",
   "source": [
    "### Visualizing data"
   ],
   "metadata": {
    "collapsed": false
   }
  },
  {
   "cell_type": "code",
   "execution_count": 38,
   "outputs": [],
   "source": [
    "def plot_predictions(train_data=x_train, train_labels=y_train, test_data=x_test, test_labels=y_test, predictions=None):\n",
    "    \"\"\"\n",
    "    Plots training data, test data, and compares predictions.\n",
    "    :param train_data:\n",
    "    :param train_labels:\n",
    "    :param test_data:\n",
    "    :param test_labels:\n",
    "    :param predictions:\n",
    "    :return:\n",
    "    \"\"\"\n",
    "\n",
    "    plt.figure(figsize=(10,7))\n",
    "    plt.scatter(train_data, train_labels, c='b', s=4, label=\"Training data\")\n",
    "\n",
    "    plt.scatter(test_data, test_labels, c='g', s=4, label=\"Testing data\")\n",
    "\n",
    "    if predictions is not None:\n",
    "        plt.scatter(test_data, predictions, c='r', s=4, label='Predictions')\n",
    "\n",
    "    plt.legend(prop={'size': 14})"
   ],
   "metadata": {
    "collapsed": false
   }
  },
  {
   "cell_type": "code",
   "execution_count": 39,
   "outputs": [
    {
     "data": {
      "text/plain": "<Figure size 1000x700 with 1 Axes>",
      "image/png": "[encoded data removed]"
     },
     "metadata": {},
     "output_type": "display_data"
    }
   ],
   "source": [
    "plot_predictions()"
   ],
   "metadata": {
    "collapsed": false
   }
  },
  {
   "cell_type": "markdown",
   "source": [
    "## 2. Builing model\n",
    "\n",
    "We will now be building a linear regresion model, to form prediction based on the data set. To build this module we need to inheirit the `nn.Module`.\n",
    "\n",
    "Our model will take the following steps:\n",
    "1. Start with random values (weight & bias)\n",
    "2. Look at training data and adjust the random values to match closer with the training data\n",
    "\n",
    "This is done through two main algoritmnes:\n",
    "1. Gradient descent (`requires_grad=True`)\n",
    "2. Backpropagation"
   ],
   "metadata": {
    "collapsed": false
   }
  },
  {
   "cell_type": "code",
   "execution_count": 40,
   "outputs": [],
   "source": [
    "class LinearRegressionModel(nn.Module):  # inheirit nn.Module\n",
    "    def __init__(self):\n",
    "        super().__init__()\n",
    "        self.weights = nn.Parameter(torch.randn(1, requires_grad=True, dtype=torch.float)) # Build a random tensor on a gradiant curve of the type float\n",
    "        self.bias = nn.Parameter(torch.randn(1, requires_grad=True, dtype=torch.float))\n",
    "\n",
    "    # Forward method to define the computation in the model\n",
    "    def forward(self, x: torch.Tensor) -> torch.Tensor:\n",
    "        return self.weights * x + self.bias # liniear regresion formula"
   ],
   "metadata": {
    "collapsed": false
   }
  },
  {
   "cell_type": "markdown",
   "source": [
    "### PyTorch model building essentials\n",
    "\n",
    "* torch.nn - contains all the building for coputational graph\n",
    "* torch.nn.Parameters - what models should our parameters try and learn\n",
    "* torch.nn.Module - the base clase for all nrural network models\n",
    "* torch.optim - optimizers that will help with gradient descent\n",
    "* def forward - All nn.Module subclasses require you to overide forward. this method is what happens in the forward computation."
   ],
   "metadata": {
    "collapsed": false
   }
  },
  {
   "cell_type": "markdown",
   "source": [
    "### Checking the contents of our PyTorch model\n",
    "\n",
    "Now we have created a model, lets take a look at what is inside. We can do this by using `.parameters()`"
   ],
   "metadata": {
    "collapsed": false
   }
  },
  {
   "cell_type": "code",
   "execution_count": 41,
   "outputs": [
    {
     "data": {
      "text/plain": "[Parameter containing:\n tensor([0.1654], requires_grad=True),\n Parameter containing:\n tensor([0.4144], requires_grad=True)]"
     },
     "execution_count": 41,
     "metadata": {},
     "output_type": "execute_result"
    }
   ],
   "source": [
    "# Create a random seed\n",
    "torch.manual_seed(75)\n",
    "\n",
    "# Create a model based on predefined class\n",
    "model_0 = LinearRegressionModel()\n",
    "\n",
    "# List paramaters\n",
    "list(model_0.parameters())"
   ],
   "metadata": {
    "collapsed": false
   }
  },
  {
   "cell_type": "code",
   "execution_count": 42,
   "outputs": [
    {
     "data": {
      "text/plain": "OrderedDict([('weights', tensor([0.1654])), ('bias', tensor([0.4144]))])"
     },
     "execution_count": 42,
     "metadata": {},
     "output_type": "execute_result"
    }
   ],
   "source": [
    "# Check parameters\n",
    "model_0.state_dict()"
   ],
   "metadata": {
    "collapsed": false
   }
  },
  {
   "cell_type": "markdown",
   "source": [
    "### Maing predictions\n",
    "\n",
    "to check our models predictive power, lets see well it predicts `y_test` based on `x_test`. To do this we will use `torch.interference_mode()`. When we pass data through model, it will run it  through the forward model. `Inference_mode()` disables all tracker available when training a model, so it can be done faster."
   ],
   "metadata": {
    "collapsed": false
   }
  },
  {
   "cell_type": "code",
   "execution_count": 43,
   "outputs": [
    {
     "data": {
      "text/plain": "tensor([[0.5467],\n        [0.5500],\n        [0.5533],\n        [0.5566],\n        [0.5599],\n        [0.5632],\n        [0.5665],\n        [0.5698],\n        [0.5731],\n        [0.5764]])"
     },
     "execution_count": 43,
     "metadata": {},
     "output_type": "execute_result"
    }
   ],
   "source": [
    "with torch.inference_mode():\n",
    "    y_preds = model_0(x_test)\n",
    "\n",
    "y_preds"
   ],
   "metadata": {
    "collapsed": false
   }
  },
  {
   "cell_type": "code",
   "execution_count": 44,
   "outputs": [
    {
     "data": {
      "text/plain": "<Figure size 1000x700 with 1 Axes>",
      "image/png": "[encoded data removed]"
     },
     "metadata": {},
     "output_type": "display_data"
    }
   ],
   "source": [
    "plot_predictions(predictions=y_preds)"
   ],
   "metadata": {
    "collapsed": false
   }
  },
  {
   "cell_type": "markdown",
   "source": [
    "## 3. Train model\n",
    "\n",
    "The whole idea od training is for a model to moe from some *unknown* paramaters (these may be random) to some *known* paramaters. or iun other words from a poor to a better representation of the data.\n",
    "\n",
    "\n",
    "One way to measure the quality of a model is to use a loss functions. There are some pre-build function included in the `nn` class. some of the most common ones are:\n",
    "\n",
    "* `nn.L1Loss`: Measure the mean absolute error.\n",
    "* `nn.MSELoss`\n",
    "\n",
    "The same goes for optemizers, fjor which there are also several algoritmes. One of these is made for gradient decent\n",
    "\n",
    "These two respand to each others changes to get closser to the right model.\n",
    "\n",
    "### Setting up loss function and optimizer\n",
    "\n",
    "learning rate is posibly the most important hyper paramater (paramater inside a model that we set ourselves). it sets the learning steps of our model."
   ],
   "metadata": {
    "collapsed": false
   }
  },
  {
   "cell_type": "code",
   "execution_count": 45,
   "outputs": [],
   "source": [
    "loss_fn = nn.L1Loss()\n",
    "\n",
    "# Stocastic gradient descent\n",
    "optemizer = torch.optim.SGD(params=model_0.parameters(), lr=0.001)"
   ],
   "metadata": {
    "collapsed": false
   }
  },
  {
   "cell_type": "markdown",
   "source": [
    "### Building a training and testing loop\n",
    "\n",
    "Remeber this order you will need it a lot.\n",
    "\n",
    "A couple of things we need in a training loop:\n",
    "\n",
    "1. Loop through the data\n",
    "2. Forward pass to make predictions on data (data moving through our models forward function) - or forward propogation\n",
    "3. Calcultae the loss (compare predictions to ground truth)\n",
    "4. Optimizer zero grad\n",
    "5. Loss backward - moves backwards throught the network to calculate the gradients of each of the parameters of out model with respect to loss (**Backpropagation**)\n",
    "6. Optmize stepp - Chnage parameters (**Gradient decent**)\n"
   ],
   "metadata": {
    "collapsed": false
   }
  },
  {
   "cell_type": "code",
   "execution_count": 46,
   "outputs": [
    {
     "name": "stdout",
     "output_type": "stream",
     "text": [
      "Epoch: 0 | Test: 0.12763239443302155 | Test loss: 0.36069953441619873\n",
      "OrderedDict([('weights', tensor([0.1657])), ('bias', tensor([0.4148]))])\n",
      "Epoch: 10 | Test: 0.12465585768222809 | Test loss: 0.35345733165740967\n",
      "OrderedDict([('weights', tensor([0.1690])), ('bias', tensor([0.4191]))])\n",
      "Epoch: 20 | Test: 0.12200608104467392 | Test loss: 0.34657371044158936\n",
      "OrderedDict([('weights', tensor([0.1722])), ('bias', tensor([0.4231]))])\n",
      "Epoch: 30 | Test: 0.11941611766815186 | Test loss: 0.3398114740848541\n",
      "OrderedDict([('weights', tensor([0.1755])), ('bias', tensor([0.4270]))])\n",
      "Epoch: 40 | Test: 0.11721768230199814 | Test loss: 0.3335346579551697\n",
      "OrderedDict([('weights', tensor([0.1786])), ('bias', tensor([0.4305]))])\n",
      "Epoch: 50 | Test: 0.11501924693584442 | Test loss: 0.3272578716278076\n",
      "OrderedDict([('weights', tensor([0.1817])), ('bias', tensor([0.4340]))])\n",
      "Epoch: 60 | Test: 0.11311075836420059 | Test loss: 0.3214736580848694\n",
      "OrderedDict([('weights', tensor([0.1847])), ('bias', tensor([0.4371]))])\n",
      "Epoch: 70 | Test: 0.1113167554140091 | Test loss: 0.3158126175403595\n",
      "OrderedDict([('weights', tensor([0.1877])), ('bias', tensor([0.4401]))])\n",
      "Epoch: 80 | Test: 0.10952993482351303 | Test loss: 0.31021395325660706\n",
      "OrderedDict([('weights', tensor([0.1907])), ('bias', tensor([0.4431]))])\n",
      "Epoch: 90 | Test: 0.10809264332056046 | Test loss: 0.30517739057540894\n",
      "OrderedDict([('weights', tensor([0.1935])), ('bias', tensor([0.4456]))])\n",
      "Epoch: 100 | Test: 0.10665537416934967 | Test loss: 0.30014073848724365\n",
      "OrderedDict([('weights', tensor([0.1964])), ('bias', tensor([0.4481]))])\n",
      "Epoch: 110 | Test: 0.10521892458200455 | Test loss: 0.2951675057411194\n",
      "OrderedDict([('weights', tensor([0.1992])), ('bias', tensor([0.4505]))])\n",
      "Epoch: 120 | Test: 0.10408993810415268 | Test loss: 0.2907645106315613\n",
      "OrderedDict([('weights', tensor([0.2019])), ('bias', tensor([0.4525]))])\n",
      "Epoch: 130 | Test: 0.10296094417572021 | Test loss: 0.28636154532432556\n",
      "OrderedDict([('weights', tensor([0.2046])), ('bias', tensor([0.4545]))])\n",
      "Epoch: 140 | Test: 0.10183195769786835 | Test loss: 0.28195858001708984\n",
      "OrderedDict([('weights', tensor([0.2073])), ('bias', tensor([0.4565]))])\n",
      "Epoch: 150 | Test: 0.10083334147930145 | Test loss: 0.2779410183429718\n",
      "OrderedDict([('weights', tensor([0.2099])), ('bias', tensor([0.4582]))])\n",
      "Epoch: 160 | Test: 0.09996319562196732 | Test loss: 0.27418041229248047\n",
      "OrderedDict([('weights', tensor([0.2125])), ('bias', tensor([0.4597]))])\n",
      "Epoch: 170 | Test: 0.09909301996231079 | Test loss: 0.2704198360443115\n",
      "OrderedDict([('weights', tensor([0.2150])), ('bias', tensor([0.4612]))])\n",
      "Epoch: 180 | Test: 0.09822286665439606 | Test loss: 0.2666592299938202\n",
      "OrderedDict([('weights', tensor([0.2175])), ('bias', tensor([0.4627]))])\n",
      "Epoch: 190 | Test: 0.09742095321416855 | Test loss: 0.2631591558456421\n",
      "OrderedDict([('weights', tensor([0.2200])), ('bias', tensor([0.4640]))])\n",
      "Epoch: 200 | Test: 0.09675925970077515 | Test loss: 0.2600499987602234\n",
      "OrderedDict([('weights', tensor([0.2224])), ('bias', tensor([0.4650]))])\n",
      "Epoch: 210 | Test: 0.09609758853912354 | Test loss: 0.2569407820701599\n",
      "OrderedDict([('weights', tensor([0.2247])), ('bias', tensor([0.4660]))])\n",
      "Epoch: 220 | Test: 0.09543590247631073 | Test loss: 0.25383156538009644\n",
      "OrderedDict([('weights', tensor([0.2271])), ('bias', tensor([0.4670]))])\n",
      "Epoch: 230 | Test: 0.09477422386407852 | Test loss: 0.25072240829467773\n",
      "OrderedDict([('weights', tensor([0.2295])), ('bias', tensor([0.4680]))])\n",
      "Epoch: 240 | Test: 0.09413482248783112 | Test loss: 0.24774520099163055\n",
      "OrderedDict([('weights', tensor([0.2318])), ('bias', tensor([0.4689]))])\n",
      "Epoch: 250 | Test: 0.09363020956516266 | Test loss: 0.24529603123664856\n",
      "OrderedDict([('weights', tensor([0.2340])), ('bias', tensor([0.4694]))])\n",
      "Epoch: 260 | Test: 0.0931255891919136 | Test loss: 0.2428468018770218\n",
      "OrderedDict([('weights', tensor([0.2362])), ('bias', tensor([0.4699]))])\n",
      "Epoch: 270 | Test: 0.09262096881866455 | Test loss: 0.2403976023197174\n",
      "OrderedDict([('weights', tensor([0.2384])), ('bias', tensor([0.4704]))])\n",
      "Epoch: 280 | Test: 0.0921163409948349 | Test loss: 0.23794838786125183\n",
      "OrderedDict([('weights', tensor([0.2406])), ('bias', tensor([0.4709]))])\n",
      "Epoch: 290 | Test: 0.09161172807216644 | Test loss: 0.23549918830394745\n",
      "OrderedDict([('weights', tensor([0.2428])), ('bias', tensor([0.4714]))])\n",
      "Epoch: 300 | Test: 0.09110710769891739 | Test loss: 0.23304998874664307\n",
      "OrderedDict([('weights', tensor([0.2450])), ('bias', tensor([0.4719]))])\n",
      "Epoch: 310 | Test: 0.09061721712350845 | Test loss: 0.23073461651802063\n",
      "OrderedDict([('weights', tensor([0.2471])), ('bias', tensor([0.4723]))])\n",
      "Epoch: 320 | Test: 0.0902172178030014 | Test loss: 0.22895459830760956\n",
      "OrderedDict([('weights', tensor([0.2491])), ('bias', tensor([0.4723]))])\n",
      "Epoch: 330 | Test: 0.08981720358133316 | Test loss: 0.2271745502948761\n",
      "OrderedDict([('weights', tensor([0.2511])), ('bias', tensor([0.4723]))])\n",
      "Epoch: 340 | Test: 0.08941720426082611 | Test loss: 0.22539453208446503\n",
      "OrderedDict([('weights', tensor([0.2531])), ('bias', tensor([0.4723]))])\n",
      "Epoch: 350 | Test: 0.08901719003915787 | Test loss: 0.22361449897289276\n",
      "OrderedDict([('weights', tensor([0.2551])), ('bias', tensor([0.4723]))])\n",
      "Epoch: 360 | Test: 0.08861718326807022 | Test loss: 0.2218344509601593\n",
      "OrderedDict([('weights', tensor([0.2571])), ('bias', tensor([0.4723]))])\n",
      "Epoch: 370 | Test: 0.08821718394756317 | Test loss: 0.22005443274974823\n",
      "OrderedDict([('weights', tensor([0.2591])), ('bias', tensor([0.4723]))])\n",
      "Epoch: 380 | Test: 0.08781717717647552 | Test loss: 0.21827442944049835\n",
      "OrderedDict([('weights', tensor([0.2611])), ('bias', tensor([0.4723]))])\n",
      "Epoch: 390 | Test: 0.08741715550422668 | Test loss: 0.2164943963289261\n",
      "OrderedDict([('weights', tensor([0.2631])), ('bias', tensor([0.4723]))])\n",
      "Epoch: 400 | Test: 0.08701716363430023 | Test loss: 0.21471436321735382\n",
      "OrderedDict([('weights', tensor([0.2651])), ('bias', tensor([0.4723]))])\n",
      "Epoch: 410 | Test: 0.08661715686321259 | Test loss: 0.21293434500694275\n",
      "OrderedDict([('weights', tensor([0.2671])), ('bias', tensor([0.4723]))])\n",
      "Epoch: 420 | Test: 0.08621715009212494 | Test loss: 0.21115431189537048\n",
      "OrderedDict([('weights', tensor([0.2691])), ('bias', tensor([0.4723]))])\n",
      "Epoch: 430 | Test: 0.08586091548204422 | Test loss: 0.20998454093933105\n",
      "OrderedDict([('weights', tensor([0.2709])), ('bias', tensor([0.4719]))])\n",
      "Epoch: 440 | Test: 0.08551190048456192 | Test loss: 0.20888252556324005\n",
      "OrderedDict([('weights', tensor([0.2727])), ('bias', tensor([0.4714]))])\n",
      "Epoch: 450 | Test: 0.08516288548707962 | Test loss: 0.2077805995941162\n",
      "OrderedDict([('weights', tensor([0.2745])), ('bias', tensor([0.4709]))])\n",
      "Epoch: 460 | Test: 0.08481387048959732 | Test loss: 0.2066785842180252\n",
      "OrderedDict([('weights', tensor([0.2763])), ('bias', tensor([0.4704]))])\n",
      "Epoch: 470 | Test: 0.08446485549211502 | Test loss: 0.20557665824890137\n",
      "OrderedDict([('weights', tensor([0.2781])), ('bias', tensor([0.4699]))])\n",
      "Epoch: 480 | Test: 0.08411584049463272 | Test loss: 0.20447464287281036\n",
      "OrderedDict([('weights', tensor([0.2799])), ('bias', tensor([0.4694]))])\n",
      "Epoch: 490 | Test: 0.08376682549715042 | Test loss: 0.20337271690368652\n",
      "OrderedDict([('weights', tensor([0.2817])), ('bias', tensor([0.4689]))])\n",
      "Epoch: 500 | Test: 0.08341781049966812 | Test loss: 0.2022707462310791\n",
      "OrderedDict([('weights', tensor([0.2835])), ('bias', tensor([0.4684]))])\n",
      "Epoch: 510 | Test: 0.08306879550218582 | Test loss: 0.20116877555847168\n",
      "OrderedDict([('weights', tensor([0.2853])), ('bias', tensor([0.4679]))])\n",
      "Epoch: 520 | Test: 0.08271978050470352 | Test loss: 0.20006680488586426\n",
      "OrderedDict([('weights', tensor([0.2871])), ('bias', tensor([0.4674]))])\n",
      "Epoch: 530 | Test: 0.08237076550722122 | Test loss: 0.19896481931209564\n",
      "OrderedDict([('weights', tensor([0.2889])), ('bias', tensor([0.4669]))])\n",
      "Epoch: 540 | Test: 0.08202175050973892 | Test loss: 0.19786284863948822\n",
      "OrderedDict([('weights', tensor([0.2907])), ('bias', tensor([0.4664]))])\n",
      "Epoch: 550 | Test: 0.08167273551225662 | Test loss: 0.1967608779668808\n",
      "OrderedDict([('weights', tensor([0.2925])), ('bias', tensor([0.4659]))])\n",
      "Epoch: 560 | Test: 0.08132372051477432 | Test loss: 0.19565890729427338\n",
      "OrderedDict([('weights', tensor([0.2943])), ('bias', tensor([0.4654]))])\n",
      "Epoch: 570 | Test: 0.08097470551729202 | Test loss: 0.19455693662166595\n",
      "OrderedDict([('weights', tensor([0.2961])), ('bias', tensor([0.4649]))])\n",
      "Epoch: 580 | Test: 0.08062569051980972 | Test loss: 0.19345496594905853\n",
      "OrderedDict([('weights', tensor([0.2979])), ('bias', tensor([0.4644]))])\n",
      "Epoch: 590 | Test: 0.08027667552232742 | Test loss: 0.1923529952764511\n",
      "OrderedDict([('weights', tensor([0.2997])), ('bias', tensor([0.4639]))])\n",
      "Epoch: 600 | Test: 0.07992766052484512 | Test loss: 0.1912510246038437\n",
      "OrderedDict([('weights', tensor([0.3015])), ('bias', tensor([0.4634]))])\n",
      "Epoch: 610 | Test: 0.07957864552736282 | Test loss: 0.19014905393123627\n",
      "OrderedDict([('weights', tensor([0.3033])), ('bias', tensor([0.4629]))])\n",
      "Epoch: 620 | Test: 0.07922963052988052 | Test loss: 0.18904708325862885\n",
      "OrderedDict([('weights', tensor([0.3051])), ('bias', tensor([0.4624]))])\n",
      "Epoch: 630 | Test: 0.07888061553239822 | Test loss: 0.18794511258602142\n",
      "OrderedDict([('weights', tensor([0.3069])), ('bias', tensor([0.4619]))])\n",
      "Epoch: 640 | Test: 0.07853160053491592 | Test loss: 0.186843141913414\n",
      "OrderedDict([('weights', tensor([0.3087])), ('bias', tensor([0.4614]))])\n",
      "Epoch: 650 | Test: 0.07818258553743362 | Test loss: 0.18574117124080658\n",
      "OrderedDict([('weights', tensor([0.3105])), ('bias', tensor([0.4609]))])\n",
      "Epoch: 660 | Test: 0.07783357053995132 | Test loss: 0.18463920056819916\n",
      "OrderedDict([('weights', tensor([0.3123])), ('bias', tensor([0.4604]))])\n",
      "Epoch: 670 | Test: 0.07748455554246902 | Test loss: 0.18353722989559174\n",
      "OrderedDict([('weights', tensor([0.3141])), ('bias', tensor([0.4599]))])\n",
      "Epoch: 680 | Test: 0.07713554054498672 | Test loss: 0.18243525922298431\n",
      "OrderedDict([('weights', tensor([0.3159])), ('bias', tensor([0.4594]))])\n",
      "Epoch: 690 | Test: 0.07678652554750443 | Test loss: 0.1813332885503769\n",
      "OrderedDict([('weights', tensor([0.3177])), ('bias', tensor([0.4589]))])\n",
      "Epoch: 700 | Test: 0.07643751055002213 | Test loss: 0.18023131787776947\n",
      "OrderedDict([('weights', tensor([0.3195])), ('bias', tensor([0.4584]))])\n",
      "Epoch: 710 | Test: 0.07608849555253983 | Test loss: 0.17912934720516205\n",
      "OrderedDict([('weights', tensor([0.3213])), ('bias', tensor([0.4579]))])\n",
      "Epoch: 720 | Test: 0.07573948055505753 | Test loss: 0.17802737653255463\n",
      "OrderedDict([('weights', tensor([0.3231])), ('bias', tensor([0.4574]))])\n",
      "Epoch: 730 | Test: 0.07539046555757523 | Test loss: 0.1769254058599472\n",
      "OrderedDict([('weights', tensor([0.3249])), ('bias', tensor([0.4569]))])\n",
      "Epoch: 740 | Test: 0.07504145056009293 | Test loss: 0.17582343518733978\n",
      "OrderedDict([('weights', tensor([0.3267])), ('bias', tensor([0.4564]))])\n",
      "Epoch: 750 | Test: 0.07469243556261063 | Test loss: 0.17472146451473236\n",
      "OrderedDict([('weights', tensor([0.3285])), ('bias', tensor([0.4559]))])\n",
      "Epoch: 760 | Test: 0.07434598356485367 | Test loss: 0.17375683784484863\n",
      "OrderedDict([('weights', tensor([0.3303])), ('bias', tensor([0.4553]))])\n",
      "Epoch: 770 | Test: 0.07400209456682205 | Test loss: 0.172963947057724\n",
      "OrderedDict([('weights', tensor([0.3320])), ('bias', tensor([0.4546]))])\n",
      "Epoch: 780 | Test: 0.07365886867046356 | Test loss: 0.17213669419288635\n",
      "OrderedDict([('weights', tensor([0.3337])), ('bias', tensor([0.4539]))])\n",
      "Epoch: 790 | Test: 0.0733155757188797 | Test loss: 0.17137813568115234\n",
      "OrderedDict([('weights', tensor([0.3354])), ('bias', tensor([0.4531]))])\n",
      "Epoch: 800 | Test: 0.072972372174263 | Test loss: 0.1705508530139923\n",
      "OrderedDict([('weights', tensor([0.3371])), ('bias', tensor([0.4524]))])\n",
      "Epoch: 810 | Test: 0.07262849807739258 | Test loss: 0.16972358524799347\n",
      "OrderedDict([('weights', tensor([0.3388])), ('bias', tensor([0.4517]))])\n",
      "Epoch: 820 | Test: 0.07228538393974304 | Test loss: 0.16896501183509827\n",
      "OrderedDict([('weights', tensor([0.3405])), ('bias', tensor([0.4510]))])\n",
      "Epoch: 830 | Test: 0.07194200903177261 | Test loss: 0.16813775897026062\n",
      "OrderedDict([('weights', tensor([0.3423])), ('bias', tensor([0.4503]))])\n",
      "Epoch: 840 | Test: 0.0715981274843216 | Test loss: 0.16731049120426178\n",
      "OrderedDict([('weights', tensor([0.3440])), ('bias', tensor([0.4496]))])\n",
      "Epoch: 850 | Test: 0.07125519216060638 | Test loss: 0.16655191779136658\n",
      "OrderedDict([('weights', tensor([0.3457])), ('bias', tensor([0.4488]))])\n",
      "Epoch: 860 | Test: 0.07091164588928223 | Test loss: 0.16572466492652893\n",
      "OrderedDict([('weights', tensor([0.3474])), ('bias', tensor([0.4481]))])\n",
      "Epoch: 870 | Test: 0.07056783139705658 | Test loss: 0.16496606171131134\n",
      "OrderedDict([('weights', tensor([0.3491])), ('bias', tensor([0.4474]))])\n",
      "Epoch: 880 | Test: 0.07022498548030853 | Test loss: 0.1641388237476349\n",
      "OrderedDict([('weights', tensor([0.3508])), ('bias', tensor([0.4467]))])\n",
      "Epoch: 890 | Test: 0.06988127529621124 | Test loss: 0.16331157088279724\n",
      "OrderedDict([('weights', tensor([0.3525])), ('bias', tensor([0.4460]))])\n",
      "Epoch: 900 | Test: 0.06953763961791992 | Test loss: 0.16255296766757965\n",
      "OrderedDict([('weights', tensor([0.3542])), ('bias', tensor([0.4452]))])\n",
      "Epoch: 910 | Test: 0.06919415295124054 | Test loss: 0.16169139742851257\n",
      "OrderedDict([('weights', tensor([0.3559])), ('bias', tensor([0.4445]))])\n",
      "Epoch: 920 | Test: 0.06885112076997757 | Test loss: 0.16093280911445618\n",
      "OrderedDict([('weights', tensor([0.3576])), ('bias', tensor([0.4438]))])\n",
      "Epoch: 930 | Test: 0.06850767880678177 | Test loss: 0.16010555624961853\n",
      "OrderedDict([('weights', tensor([0.3593])), ('bias', tensor([0.4431]))])\n",
      "Epoch: 940 | Test: 0.06816379725933075 | Test loss: 0.15927831828594208\n",
      "OrderedDict([('weights', tensor([0.3611])), ('bias', tensor([0.4424]))])\n",
      "Epoch: 950 | Test: 0.06782092154026031 | Test loss: 0.1585197150707245\n",
      "OrderedDict([('weights', tensor([0.3628])), ('bias', tensor([0.4416]))])\n",
      "Epoch: 960 | Test: 0.06747730821371078 | Test loss: 0.15769246220588684\n",
      "OrderedDict([('weights', tensor([0.3645])), ('bias', tensor([0.4409]))])\n",
      "Epoch: 970 | Test: 0.0671335756778717 | Test loss: 0.15693387389183044\n",
      "OrderedDict([('weights', tensor([0.3662])), ('bias', tensor([0.4402]))])\n",
      "Epoch: 980 | Test: 0.06679072231054306 | Test loss: 0.1561066210269928\n",
      "OrderedDict([('weights', tensor([0.3679])), ('bias', tensor([0.4395]))])\n",
      "Epoch: 990 | Test: 0.0664469450712204 | Test loss: 0.15527936816215515\n",
      "OrderedDict([('weights', tensor([0.3696])), ('bias', tensor([0.4388]))])\n",
      "Epoch: 1000 | Test: 0.06610337644815445 | Test loss: 0.15452077984809875\n",
      "OrderedDict([('weights', tensor([0.3713])), ('bias', tensor([0.4380]))])\n",
      "Epoch: 1010 | Test: 0.06576045602560043 | Test loss: 0.1536935269832611\n",
      "OrderedDict([('weights', tensor([0.3730])), ('bias', tensor([0.4373]))])\n",
      "Epoch: 1020 | Test: 0.06541657447814941 | Test loss: 0.15286627411842346\n",
      "OrderedDict([('weights', tensor([0.3747])), ('bias', tensor([0.4366]))])\n",
      "Epoch: 1030 | Test: 0.0650731772184372 | Test loss: 0.15210768580436707\n",
      "OrderedDict([('weights', tensor([0.3764])), ('bias', tensor([0.4359]))])\n",
      "Epoch: 1040 | Test: 0.06473009288311005 | Test loss: 0.15128043293952942\n",
      "OrderedDict([('weights', tensor([0.3781])), ('bias', tensor([0.4352]))])\n",
      "Epoch: 1050 | Test: 0.06438666582107544 | Test loss: 0.15048754215240479\n",
      "OrderedDict([('weights', tensor([0.3798])), ('bias', tensor([0.4345]))])\n",
      "Epoch: 1060 | Test: 0.06404296308755875 | Test loss: 0.14966027438640594\n",
      "OrderedDict([('weights', tensor([0.3816])), ('bias', tensor([0.4338]))])\n",
      "Epoch: 1070 | Test: 0.06369930505752563 | Test loss: 0.14890170097351074\n",
      "OrderedDict([('weights', tensor([0.3832])), ('bias', tensor([0.4330]))])\n",
      "Epoch: 1080 | Test: 0.06335646659135818 | Test loss: 0.1480744630098343\n",
      "OrderedDict([('weights', tensor([0.3850])), ('bias', tensor([0.4323]))])\n",
      "Epoch: 1090 | Test: 0.06301260739564896 | Test loss: 0.14724716544151306\n",
      "OrderedDict([('weights', tensor([0.3867])), ('bias', tensor([0.4316]))])\n",
      "Epoch: 1100 | Test: 0.06266911327838898 | Test loss: 0.14648860692977905\n",
      "OrderedDict([('weights', tensor([0.3884])), ('bias', tensor([0.4309]))])\n",
      "Epoch: 1110 | Test: 0.06232612207531929 | Test loss: 0.1456613540649414\n",
      "OrderedDict([('weights', tensor([0.3901])), ('bias', tensor([0.4302]))])\n",
      "Epoch: 1120 | Test: 0.06198223680257797 | Test loss: 0.14483408629894257\n",
      "OrderedDict([('weights', tensor([0.3918])), ('bias', tensor([0.4295]))])\n",
      "Epoch: 1130 | Test: 0.06163891404867172 | Test loss: 0.14407549798488617\n",
      "OrderedDict([('weights', tensor([0.3935])), ('bias', tensor([0.4287]))])\n",
      "Epoch: 1140 | Test: 0.0612957589328289 | Test loss: 0.14324824512004852\n",
      "OrderedDict([('weights', tensor([0.3952])), ('bias', tensor([0.4280]))])\n",
      "Epoch: 1150 | Test: 0.060951877385377884 | Test loss: 0.14242097735404968\n",
      "OrderedDict([('weights', tensor([0.3969])), ('bias', tensor([0.4273]))])\n",
      "Epoch: 1160 | Test: 0.060608722269535065 | Test loss: 0.14166240394115448\n",
      "OrderedDict([('weights', tensor([0.3986])), ('bias', tensor([0.4266]))])\n",
      "Epoch: 1170 | Test: 0.06026539206504822 | Test loss: 0.14083513617515564\n",
      "OrderedDict([('weights', tensor([0.4003])), ('bias', tensor([0.4259]))])\n",
      "Epoch: 1180 | Test: 0.0599215030670166 | Test loss: 0.140007883310318\n",
      "OrderedDict([('weights', tensor([0.4021])), ('bias', tensor([0.4252]))])\n",
      "Epoch: 1190 | Test: 0.05957826226949692 | Test loss: 0.13921496272087097\n",
      "OrderedDict([('weights', tensor([0.4038])), ('bias', tensor([0.4244]))])\n",
      "Epoch: 1200 | Test: 0.059234850108623505 | Test loss: 0.13845641911029816\n",
      "OrderedDict([('weights', tensor([0.4055])), ('bias', tensor([0.4237]))])\n",
      "Epoch: 1210 | Test: 0.05889178067445755 | Test loss: 0.1376291662454605\n",
      "OrderedDict([('weights', tensor([0.4072])), ('bias', tensor([0.4230]))])\n",
      "Epoch: 1220 | Test: 0.05854790657758713 | Test loss: 0.13680188357830048\n",
      "OrderedDict([('weights', tensor([0.4089])), ('bias', tensor([0.4223]))])\n",
      "Epoch: 1230 | Test: 0.05820465087890625 | Test loss: 0.13604331016540527\n",
      "OrderedDict([('weights', tensor([0.4106])), ('bias', tensor([0.4215]))])\n",
      "Epoch: 1240 | Test: 0.05786142498254776 | Test loss: 0.13521605730056763\n",
      "OrderedDict([('weights', tensor([0.4123])), ('bias', tensor([0.4208]))])\n",
      "Epoch: 1250 | Test: 0.05751752853393555 | Test loss: 0.13438880443572998\n",
      "OrderedDict([('weights', tensor([0.4140])), ('bias', tensor([0.4201]))])\n",
      "Epoch: 1260 | Test: 0.057174451649188995 | Test loss: 0.1336302012205124\n",
      "OrderedDict([('weights', tensor([0.4157])), ('bias', tensor([0.4194]))])\n",
      "Epoch: 1270 | Test: 0.056831054389476776 | Test loss: 0.13280296325683594\n",
      "OrderedDict([('weights', tensor([0.4174])), ('bias', tensor([0.4187]))])\n",
      "Epoch: 1280 | Test: 0.05648716539144516 | Test loss: 0.1319756954908371\n",
      "OrderedDict([('weights', tensor([0.4191])), ('bias', tensor([0.4180]))])\n",
      "Epoch: 1290 | Test: 0.05614425614476204 | Test loss: 0.1312171220779419\n",
      "OrderedDict([('weights', tensor([0.4208])), ('bias', tensor([0.4172]))])\n",
      "Epoch: 1300 | Test: 0.05580068379640579 | Test loss: 0.13038985431194305\n",
      "OrderedDict([('weights', tensor([0.4226])), ('bias', tensor([0.4165]))])\n",
      "Epoch: 1310 | Test: 0.05545690655708313 | Test loss: 0.12963128089904785\n",
      "OrderedDict([('weights', tensor([0.4243])), ('bias', tensor([0.4158]))])\n",
      "Epoch: 1320 | Test: 0.05511406809091568 | Test loss: 0.128804013133049\n",
      "OrderedDict([('weights', tensor([0.4260])), ('bias', tensor([0.4151]))])\n",
      "Epoch: 1330 | Test: 0.05477038770914078 | Test loss: 0.12801113724708557\n",
      "OrderedDict([('weights', tensor([0.4277])), ('bias', tensor([0.4144]))])\n",
      "Epoch: 1340 | Test: 0.05442708730697632 | Test loss: 0.12718386948108673\n",
      "OrderedDict([('weights', tensor([0.4294])), ('bias', tensor([0.4137]))])\n",
      "Epoch: 1350 | Test: 0.0540832057595253 | Test loss: 0.12635663151741028\n",
      "OrderedDict([('weights', tensor([0.4311])), ('bias', tensor([0.4130]))])\n",
      "Epoch: 1360 | Test: 0.05374019220471382 | Test loss: 0.1255980283021927\n",
      "OrderedDict([('weights', tensor([0.4328])), ('bias', tensor([0.4122]))])\n",
      "Epoch: 1370 | Test: 0.05339672043919563 | Test loss: 0.12477076053619385\n",
      "OrderedDict([('weights', tensor([0.4345])), ('bias', tensor([0.4115]))])\n",
      "Epoch: 1380 | Test: 0.05305284261703491 | Test loss: 0.12401218712329865\n",
      "OrderedDict([('weights', tensor([0.4362])), ('bias', tensor([0.4108]))])\n",
      "Epoch: 1390 | Test: 0.052709996700286865 | Test loss: 0.1231849193572998\n",
      "OrderedDict([('weights', tensor([0.4379])), ('bias', tensor([0.4101]))])\n",
      "Epoch: 1400 | Test: 0.05236634612083435 | Test loss: 0.12235765159130096\n",
      "OrderedDict([('weights', tensor([0.4396])), ('bias', tensor([0.4094]))])\n",
      "Epoch: 1410 | Test: 0.05202264338731766 | Test loss: 0.12159907817840576\n",
      "OrderedDict([('weights', tensor([0.4413])), ('bias', tensor([0.4086]))])\n",
      "Epoch: 1420 | Test: 0.05167980119585991 | Test loss: 0.12077184021472931\n",
      "OrderedDict([('weights', tensor([0.4431])), ('bias', tensor([0.4079]))])\n",
      "Epoch: 1430 | Test: 0.051335982978343964 | Test loss: 0.11994457244873047\n",
      "OrderedDict([('weights', tensor([0.4448])), ('bias', tensor([0.4072]))])\n",
      "Epoch: 1440 | Test: 0.0509924478828907 | Test loss: 0.11918602138757706\n",
      "OrderedDict([('weights', tensor([0.4465])), ('bias', tensor([0.4065]))])\n",
      "Epoch: 1450 | Test: 0.050649501383304596 | Test loss: 0.11835873126983643\n",
      "OrderedDict([('weights', tensor([0.4482])), ('bias', tensor([0.4058]))])\n",
      "Epoch: 1460 | Test: 0.05030561611056328 | Test loss: 0.11753146350383759\n",
      "OrderedDict([('weights', tensor([0.4499])), ('bias', tensor([0.4051]))])\n",
      "Epoch: 1470 | Test: 0.04996237903833389 | Test loss: 0.11673857271671295\n",
      "OrderedDict([('weights', tensor([0.4516])), ('bias', tensor([0.4043]))])\n",
      "Epoch: 1480 | Test: 0.04961857572197914 | Test loss: 0.11598000675439835\n",
      "OrderedDict([('weights', tensor([0.4533])), ('bias', tensor([0.4036]))])\n",
      "Epoch: 1490 | Test: 0.049275726079940796 | Test loss: 0.1151527389883995\n",
      "OrderedDict([('weights', tensor([0.4550])), ('bias', tensor([0.4029]))])\n",
      "Epoch: 1500 | Test: 0.04893200844526291 | Test loss: 0.11432550102472305\n",
      "OrderedDict([('weights', tensor([0.4567])), ('bias', tensor([0.4022]))])\n",
      "Epoch: 1510 | Test: 0.048588380217552185 | Test loss: 0.11356689780950546\n",
      "OrderedDict([('weights', tensor([0.4584])), ('bias', tensor([0.4014]))])\n",
      "Epoch: 1520 | Test: 0.04824552685022354 | Test loss: 0.11273965984582901\n",
      "OrderedDict([('weights', tensor([0.4601])), ('bias', tensor([0.4007]))])\n",
      "Epoch: 1530 | Test: 0.04790165275335312 | Test loss: 0.11191239207983017\n",
      "OrderedDict([('weights', tensor([0.4619])), ('bias', tensor([0.4000]))])\n",
      "Epoch: 1540 | Test: 0.04755818098783493 | Test loss: 0.11115379631519318\n",
      "OrderedDict([('weights', tensor([0.4636])), ('bias', tensor([0.3993]))])\n",
      "Epoch: 1550 | Test: 0.047215163707733154 | Test loss: 0.11032655090093613\n",
      "OrderedDict([('weights', tensor([0.4653])), ('bias', tensor([0.3986]))])\n",
      "Epoch: 1560 | Test: 0.046871282160282135 | Test loss: 0.10949929058551788\n",
      "OrderedDict([('weights', tensor([0.4670])), ('bias', tensor([0.3979]))])\n",
      "Epoch: 1570 | Test: 0.04652798920869827 | Test loss: 0.10874070972204208\n",
      "OrderedDict([('weights', tensor([0.4687])), ('bias', tensor([0.3971]))])\n",
      "Epoch: 1580 | Test: 0.04618478938937187 | Test loss: 0.10791343450546265\n",
      "OrderedDict([('weights', tensor([0.4704])), ('bias', tensor([0.3964]))])\n",
      "Epoch: 1590 | Test: 0.04584091529250145 | Test loss: 0.107086181640625\n",
      "OrderedDict([('weights', tensor([0.4721])), ('bias', tensor([0.3957]))])\n",
      "Epoch: 1600 | Test: 0.045497793704271317 | Test loss: 0.10632757842540741\n",
      "OrderedDict([('weights', tensor([0.4738])), ('bias', tensor([0.3950]))])\n",
      "Epoch: 1610 | Test: 0.04515412077307701 | Test loss: 0.10553471744060516\n",
      "OrderedDict([('weights', tensor([0.4755])), ('bias', tensor([0.3943]))])\n",
      "Epoch: 1620 | Test: 0.0448111854493618 | Test loss: 0.10470745712518692\n",
      "OrderedDict([('weights', tensor([0.4772])), ('bias', tensor([0.3936]))])\n",
      "Epoch: 1630 | Test: 0.04446730762720108 | Test loss: 0.10388018935918808\n",
      "OrderedDict([('weights', tensor([0.4789])), ('bias', tensor([0.3929]))])\n",
      "Epoch: 1640 | Test: 0.04412391781806946 | Test loss: 0.10312161594629288\n",
      "OrderedDict([('weights', tensor([0.4806])), ('bias', tensor([0.3921]))])\n",
      "Epoch: 1650 | Test: 0.04378082603216171 | Test loss: 0.10229434818029404\n",
      "OrderedDict([('weights', tensor([0.4824])), ('bias', tensor([0.3914]))])\n",
      "Epoch: 1660 | Test: 0.043436940759420395 | Test loss: 0.10146709531545639\n",
      "OrderedDict([('weights', tensor([0.4841])), ('bias', tensor([0.3907]))])\n",
      "Epoch: 1670 | Test: 0.0430937185883522 | Test loss: 0.1007085070014\n",
      "OrderedDict([('weights', tensor([0.4858])), ('bias', tensor([0.3900]))])\n",
      "Epoch: 1680 | Test: 0.04275045916438103 | Test loss: 0.09988125413656235\n",
      "OrderedDict([('weights', tensor([0.4875])), ('bias', tensor([0.3893]))])\n",
      "Epoch: 1690 | Test: 0.04240657389163971 | Test loss: 0.0990539938211441\n",
      "OrderedDict([('weights', tensor([0.4892])), ('bias', tensor([0.3886]))])\n",
      "Epoch: 1700 | Test: 0.042063526809215546 | Test loss: 0.0982954129576683\n",
      "OrderedDict([('weights', tensor([0.4909])), ('bias', tensor([0.3878]))])\n",
      "Epoch: 1710 | Test: 0.04172008857131004 | Test loss: 0.09746815264225006\n",
      "OrderedDict([('weights', tensor([0.4926])), ('bias', tensor([0.3871]))])\n",
      "Epoch: 1720 | Test: 0.04137621074914932 | Test loss: 0.09664089977741241\n",
      "OrderedDict([('weights', tensor([0.4943])), ('bias', tensor([0.3864]))])\n",
      "Epoch: 1730 | Test: 0.04103333130478859 | Test loss: 0.09588231891393661\n",
      "OrderedDict([('weights', tensor([0.4960])), ('bias', tensor([0.3857]))])\n",
      "Epoch: 1740 | Test: 0.040689729154109955 | Test loss: 0.09505505859851837\n",
      "OrderedDict([('weights', tensor([0.4977])), ('bias', tensor([0.3850]))])\n",
      "Epoch: 1750 | Test: 0.04034648463129997 | Test loss: 0.09426216781139374\n",
      "OrderedDict([('weights', tensor([0.4994])), ('bias', tensor([0.3842]))])\n",
      "Epoch: 1760 | Test: 0.04000258818268776 | Test loss: 0.09343483299016953\n",
      "OrderedDict([('weights', tensor([0.5012])), ('bias', tensor([0.3835]))])\n",
      "Epoch: 1770 | Test: 0.03965942934155464 | Test loss: 0.09267611801624298\n",
      "OrderedDict([('weights', tensor([0.5029])), ('bias', tensor([0.3828]))])\n",
      "Epoch: 1780 | Test: 0.03931605443358421 | Test loss: 0.09184874594211578\n",
      "OrderedDict([('weights', tensor([0.5046])), ('bias', tensor([0.3821]))])\n",
      "Epoch: 1790 | Test: 0.0389721542596817 | Test loss: 0.09102138876914978\n",
      "OrderedDict([('weights', tensor([0.5063])), ('bias', tensor([0.3814]))])\n",
      "Epoch: 1800 | Test: 0.03862916678190231 | Test loss: 0.09026266634464264\n",
      "OrderedDict([('weights', tensor([0.5080])), ('bias', tensor([0.3806]))])\n",
      "Epoch: 1810 | Test: 0.038285620510578156 | Test loss: 0.08943530917167664\n",
      "OrderedDict([('weights', tensor([0.5097])), ('bias', tensor([0.3799]))])\n",
      "Epoch: 1820 | Test: 0.03794177249073982 | Test loss: 0.0886765867471695\n",
      "OrderedDict([('weights', tensor([0.5114])), ('bias', tensor([0.3792]))])\n",
      "Epoch: 1830 | Test: 0.03759891167283058 | Test loss: 0.08784923702478409\n",
      "OrderedDict([('weights', tensor([0.5131])), ('bias', tensor([0.3785]))])\n",
      "Epoch: 1840 | Test: 0.0372551865875721 | Test loss: 0.08702186495065689\n",
      "OrderedDict([('weights', tensor([0.5148])), ('bias', tensor([0.3778]))])\n",
      "Epoch: 1850 | Test: 0.03691151738166809 | Test loss: 0.08626314997673035\n",
      "OrderedDict([('weights', tensor([0.5165])), ('bias', tensor([0.3770]))])\n",
      "Epoch: 1860 | Test: 0.03656865283846855 | Test loss: 0.08543579280376434\n",
      "OrderedDict([('weights', tensor([0.5182])), ('bias', tensor([0.3763]))])\n",
      "Epoch: 1870 | Test: 0.036224741488695145 | Test loss: 0.08460842072963715\n",
      "OrderedDict([('weights', tensor([0.5200])), ('bias', tensor([0.3756]))])\n",
      "Epoch: 1880 | Test: 0.03588125854730606 | Test loss: 0.0838497057557106\n",
      "OrderedDict([('weights', tensor([0.5216])), ('bias', tensor([0.3749]))])\n",
      "Epoch: 1890 | Test: 0.03553822636604309 | Test loss: 0.083022341132164\n",
      "OrderedDict([('weights', tensor([0.5234])), ('bias', tensor([0.3742]))])\n",
      "Epoch: 1900 | Test: 0.035194315016269684 | Test loss: 0.0821949690580368\n",
      "OrderedDict([('weights', tensor([0.5251])), ('bias', tensor([0.3735]))])\n",
      "Epoch: 1910 | Test: 0.034850992262363434 | Test loss: 0.08143626153469086\n",
      "OrderedDict([('weights', tensor([0.5268])), ('bias', tensor([0.3727]))])\n",
      "Epoch: 1920 | Test: 0.03450777754187584 | Test loss: 0.08060890436172485\n",
      "OrderedDict([('weights', tensor([0.5285])), ('bias', tensor([0.3720]))])\n",
      "Epoch: 1930 | Test: 0.03416387364268303 | Test loss: 0.07978152483701706\n",
      "OrderedDict([('weights', tensor([0.5302])), ('bias', tensor([0.3713]))])\n",
      "Epoch: 1940 | Test: 0.033820740878582 | Test loss: 0.0790228322148323\n",
      "OrderedDict([('weights', tensor([0.5319])), ('bias', tensor([0.3706]))])\n",
      "Epoch: 1950 | Test: 0.03347734734416008 | Test loss: 0.07819546014070511\n",
      "OrderedDict([('weights', tensor([0.5336])), ('bias', tensor([0.3699]))])\n",
      "Epoch: 1960 | Test: 0.03313343599438667 | Test loss: 0.07736809551715851\n",
      "OrderedDict([('weights', tensor([0.5353])), ('bias', tensor([0.3692]))])\n",
      "Epoch: 1970 | Test: 0.03279048204421997 | Test loss: 0.07660935819149017\n",
      "OrderedDict([('weights', tensor([0.5370])), ('bias', tensor([0.3684]))])\n",
      "Epoch: 1980 | Test: 0.03244691342115402 | Test loss: 0.07578201591968536\n",
      "OrderedDict([('weights', tensor([0.5387])), ('bias', tensor([0.3677]))])\n",
      "Epoch: 1990 | Test: 0.03210308775305748 | Test loss: 0.07502330839633942\n",
      "OrderedDict([('weights', tensor([0.5404])), ('bias', tensor([0.3670]))])\n",
      "Epoch: 2000 | Test: 0.03176022320985794 | Test loss: 0.07419593632221222\n",
      "OrderedDict([('weights', tensor([0.5422])), ('bias', tensor([0.3663]))])\n",
      "Epoch: 2010 | Test: 0.03141647204756737 | Test loss: 0.07336856424808502\n",
      "OrderedDict([('weights', tensor([0.5439])), ('bias', tensor([0.3656]))])\n",
      "Epoch: 2020 | Test: 0.031072834506630898 | Test loss: 0.07260985672473907\n",
      "OrderedDict([('weights', tensor([0.5456])), ('bias', tensor([0.3648]))])\n",
      "Epoch: 2030 | Test: 0.03072994016110897 | Test loss: 0.07178249210119247\n",
      "OrderedDict([('weights', tensor([0.5473])), ('bias', tensor([0.3641]))])\n",
      "Epoch: 2040 | Test: 0.03038603998720646 | Test loss: 0.07095513492822647\n",
      "OrderedDict([('weights', tensor([0.5490])), ('bias', tensor([0.3634]))])\n",
      "Epoch: 2050 | Test: 0.030042577534914017 | Test loss: 0.07019641250371933\n",
      "OrderedDict([('weights', tensor([0.5507])), ('bias', tensor([0.3627]))])\n",
      "Epoch: 2060 | Test: 0.029699504375457764 | Test loss: 0.06936904788017273\n",
      "OrderedDict([('weights', tensor([0.5524])), ('bias', tensor([0.3620]))])\n",
      "Epoch: 2070 | Test: 0.029355604201555252 | Test loss: 0.06854169070720673\n",
      "OrderedDict([('weights', tensor([0.5541])), ('bias', tensor([0.3613]))])\n",
      "Epoch: 2080 | Test: 0.029012318700551987 | Test loss: 0.06778296828269958\n",
      "OrderedDict([('weights', tensor([0.5558])), ('bias', tensor([0.3605]))])\n",
      "Epoch: 2090 | Test: 0.028669070452451706 | Test loss: 0.06695561110973358\n",
      "OrderedDict([('weights', tensor([0.5575])), ('bias', tensor([0.3598]))])\n",
      "Epoch: 2100 | Test: 0.028325164690613747 | Test loss: 0.06612823903560638\n",
      "OrderedDict([('weights', tensor([0.5593])), ('bias', tensor([0.3591]))])\n",
      "Epoch: 2110 | Test: 0.02798205241560936 | Test loss: 0.06536953151226044\n",
      "OrderedDict([('weights', tensor([0.5610])), ('bias', tensor([0.3584]))])\n",
      "Epoch: 2120 | Test: 0.027638643980026245 | Test loss: 0.06454215198755264\n",
      "OrderedDict([('weights', tensor([0.5627])), ('bias', tensor([0.3577]))])\n",
      "Epoch: 2130 | Test: 0.02729473076760769 | Test loss: 0.06371478736400604\n",
      "OrderedDict([('weights', tensor([0.5644])), ('bias', tensor([0.3570]))])\n",
      "Epoch: 2140 | Test: 0.02695179544389248 | Test loss: 0.06295608729124069\n",
      "OrderedDict([('weights', tensor([0.5661])), ('bias', tensor([0.3562]))])\n",
      "Epoch: 2150 | Test: 0.026608198881149292 | Test loss: 0.06212872266769409\n",
      "OrderedDict([('weights', tensor([0.5678])), ('bias', tensor([0.3555]))])\n",
      "Epoch: 2160 | Test: 0.026264403015375137 | Test loss: 0.06136999651789665\n",
      "OrderedDict([('weights', tensor([0.5695])), ('bias', tensor([0.3548]))])\n",
      "Epoch: 2170 | Test: 0.025921542197465897 | Test loss: 0.06054264307022095\n",
      "OrderedDict([('weights', tensor([0.5712])), ('bias', tensor([0.3541]))])\n",
      "Epoch: 2180 | Test: 0.025577763095498085 | Test loss: 0.05971527844667435\n",
      "OrderedDict([('weights', tensor([0.5729])), ('bias', tensor([0.3534]))])\n",
      "Epoch: 2190 | Test: 0.025234147906303406 | Test loss: 0.0589565634727478\n",
      "OrderedDict([('weights', tensor([0.5746])), ('bias', tensor([0.3526]))])\n",
      "Epoch: 2200 | Test: 0.02489122562110424 | Test loss: 0.058129191398620605\n",
      "OrderedDict([('weights', tensor([0.5763])), ('bias', tensor([0.3519]))])\n",
      "Epoch: 2210 | Test: 0.024547327309846878 | Test loss: 0.0573018379509449\n",
      "OrderedDict([('weights', tensor([0.5781])), ('bias', tensor([0.3512]))])\n",
      "Epoch: 2220 | Test: 0.024203887209296227 | Test loss: 0.05654313042759895\n",
      "OrderedDict([('weights', tensor([0.5797])), ('bias', tensor([0.3505]))])\n",
      "Epoch: 2230 | Test: 0.02386079728603363 | Test loss: 0.055715758353471756\n",
      "OrderedDict([('weights', tensor([0.5815])), ('bias', tensor([0.3498]))])\n",
      "Epoch: 2240 | Test: 0.023516887798905373 | Test loss: 0.054888397455215454\n",
      "OrderedDict([('weights', tensor([0.5832])), ('bias', tensor([0.3491]))])\n",
      "Epoch: 2250 | Test: 0.023173630237579346 | Test loss: 0.054129667580127716\n",
      "OrderedDict([('weights', tensor([0.5849])), ('bias', tensor([0.3483]))])\n",
      "Epoch: 2260 | Test: 0.022830357775092125 | Test loss: 0.053302306681871414\n",
      "OrderedDict([('weights', tensor([0.5866])), ('bias', tensor([0.3476]))])\n",
      "Epoch: 2270 | Test: 0.022486457601189613 | Test loss: 0.05247494578361511\n",
      "OrderedDict([('weights', tensor([0.5883])), ('bias', tensor([0.3469]))])\n",
      "Epoch: 2280 | Test: 0.022143373265862465 | Test loss: 0.051716238260269165\n",
      "OrderedDict([('weights', tensor([0.5900])), ('bias', tensor([0.3462]))])\n",
      "Epoch: 2290 | Test: 0.02179991826415062 | Test loss: 0.05088886618614197\n",
      "OrderedDict([('weights', tensor([0.5917])), ('bias', tensor([0.3455]))])\n",
      "Epoch: 2300 | Test: 0.021456021815538406 | Test loss: 0.050061505287885666\n",
      "OrderedDict([('weights', tensor([0.5934])), ('bias', tensor([0.3448]))])\n",
      "Epoch: 2310 | Test: 0.021113118156790733 | Test loss: 0.04930279403924942\n",
      "OrderedDict([('weights', tensor([0.5951])), ('bias', tensor([0.3440]))])\n",
      "Epoch: 2320 | Test: 0.02076949179172516 | Test loss: 0.04847543314099312\n",
      "OrderedDict([('weights', tensor([0.5968])), ('bias', tensor([0.3433]))])\n",
      "Epoch: 2330 | Test: 0.020426224917173386 | Test loss: 0.047682423144578934\n",
      "OrderedDict([('weights', tensor([0.5986])), ('bias', tensor([0.3426]))])\n",
      "Epoch: 2340 | Test: 0.020082315430045128 | Test loss: 0.04685501009225845\n",
      "OrderedDict([('weights', tensor([0.6003])), ('bias', tensor([0.3419]))])\n",
      "Epoch: 2350 | Test: 0.01973915658891201 | Test loss: 0.0460963174700737\n",
      "OrderedDict([('weights', tensor([0.6020])), ('bias', tensor([0.3412]))])\n",
      "Epoch: 2360 | Test: 0.019395790994167328 | Test loss: 0.0452689528465271\n",
      "OrderedDict([('weights', tensor([0.6037])), ('bias', tensor([0.3405]))])\n",
      "Epoch: 2370 | Test: 0.01905188150703907 | Test loss: 0.0444415919482708\n",
      "OrderedDict([('weights', tensor([0.6054])), ('bias', tensor([0.3398]))])\n",
      "Epoch: 2380 | Test: 0.01870889961719513 | Test loss: 0.04368288069963455\n",
      "OrderedDict([('weights', tensor([0.6071])), ('bias', tensor([0.3390]))])\n",
      "Epoch: 2390 | Test: 0.018365347757935524 | Test loss: 0.04285550117492676\n",
      "OrderedDict([('weights', tensor([0.6088])), ('bias', tensor([0.3383]))])\n",
      "Epoch: 2400 | Test: 0.01802150532603264 | Test loss: 0.042096804827451706\n",
      "OrderedDict([('weights', tensor([0.6105])), ('bias', tensor([0.3376]))])\n",
      "Epoch: 2410 | Test: 0.01767864264547825 | Test loss: 0.041269440203905106\n",
      "OrderedDict([('weights', tensor([0.6122])), ('bias', tensor([0.3369]))])\n",
      "Epoch: 2420 | Test: 0.017334913834929466 | Test loss: 0.04044206812977791\n",
      "OrderedDict([('weights', tensor([0.6139])), ('bias', tensor([0.3362]))])\n",
      "Epoch: 2430 | Test: 0.016991248354315758 | Test loss: 0.03968336060643196\n",
      "OrderedDict([('weights', tensor([0.6156])), ('bias', tensor([0.3354]))])\n",
      "Epoch: 2440 | Test: 0.016647739335894585 | Test loss: 0.038821686059236526\n",
      "OrderedDict([('weights', tensor([0.6174])), ('bias', tensor([0.3347]))])\n",
      "Epoch: 2450 | Test: 0.016304684802889824 | Test loss: 0.038062967360019684\n",
      "OrderedDict([('weights', tensor([0.6190])), ('bias', tensor([0.3340]))])\n",
      "Epoch: 2460 | Test: 0.015961216762661934 | Test loss: 0.03723560646176338\n",
      "OrderedDict([('weights', tensor([0.6208])), ('bias', tensor([0.3333]))])\n",
      "Epoch: 2470 | Test: 0.015617306344211102 | Test loss: 0.03640823811292648\n",
      "OrderedDict([('weights', tensor([0.6225])), ('bias', tensor([0.3326]))])\n",
      "Epoch: 2480 | Test: 0.015274425968527794 | Test loss: 0.03564951568841934\n",
      "OrderedDict([('weights', tensor([0.6242])), ('bias', tensor([0.3318]))])\n",
      "Epoch: 2490 | Test: 0.014930779114365578 | Test loss: 0.03482215851545334\n",
      "OrderedDict([('weights', tensor([0.6259])), ('bias', tensor([0.3311]))])\n",
      "Epoch: 2500 | Test: 0.014587031677365303 | Test loss: 0.034063439816236496\n",
      "OrderedDict([('weights', tensor([0.6276])), ('bias', tensor([0.3304]))])\n",
      "Epoch: 2510 | Test: 0.01424416620284319 | Test loss: 0.033236075192689896\n",
      "OrderedDict([('weights', tensor([0.6293])), ('bias', tensor([0.3297]))])\n",
      "Epoch: 2520 | Test: 0.013900342397391796 | Test loss: 0.032408714294433594\n",
      "OrderedDict([('weights', tensor([0.6310])), ('bias', tensor([0.3290]))])\n",
      "Epoch: 2530 | Test: 0.013556776568293571 | Test loss: 0.03164999932050705\n",
      "OrderedDict([('weights', tensor([0.6327])), ('bias', tensor([0.3282]))])\n",
      "Epoch: 2540 | Test: 0.013213805854320526 | Test loss: 0.030822664499282837\n",
      "OrderedDict([('weights', tensor([0.6344])), ('bias', tensor([0.3275]))])\n",
      "Epoch: 2550 | Test: 0.01286990474909544 | Test loss: 0.0299952682107687\n",
      "OrderedDict([('weights', tensor([0.6361])), ('bias', tensor([0.3268]))])\n",
      "Epoch: 2560 | Test: 0.01252664066851139 | Test loss: 0.029202258214354515\n",
      "OrderedDict([('weights', tensor([0.6379])), ('bias', tensor([0.3261]))])\n",
      "Epoch: 2570 | Test: 0.012182822450995445 | Test loss: 0.028443533927202225\n",
      "OrderedDict([('weights', tensor([0.6395])), ('bias', tensor([0.3254]))])\n",
      "Epoch: 2580 | Test: 0.011839957907795906 | Test loss: 0.027616173028945923\n",
      "OrderedDict([('weights', tensor([0.6413])), ('bias', tensor([0.3247]))])\n",
      "Epoch: 2590 | Test: 0.011496204882860184 | Test loss: 0.02678881213068962\n",
      "OrderedDict([('weights', tensor([0.6430])), ('bias', tensor([0.3240]))])\n",
      "Epoch: 2600 | Test: 0.011152558028697968 | Test loss: 0.026030082255601883\n",
      "OrderedDict([('weights', tensor([0.6447])), ('bias', tensor([0.3232]))])\n",
      "Epoch: 2610 | Test: 0.010809668339788914 | Test loss: 0.02520272694528103\n",
      "OrderedDict([('weights', tensor([0.6464])), ('bias', tensor([0.3225]))])\n",
      "Epoch: 2620 | Test: 0.01046576164662838 | Test loss: 0.02437535487115383\n",
      "OrderedDict([('weights', tensor([0.6481])), ('bias', tensor([0.3218]))])\n",
      "Epoch: 2630 | Test: 0.01012230571359396 | Test loss: 0.023616641759872437\n",
      "OrderedDict([('weights', tensor([0.6498])), ('bias', tensor([0.3211]))])\n",
      "Epoch: 2640 | Test: 0.00977923721075058 | Test loss: 0.022789280861616135\n",
      "OrderedDict([('weights', tensor([0.6515])), ('bias', tensor([0.3204]))])\n",
      "Epoch: 2650 | Test: 0.00943533144891262 | Test loss: 0.021961921826004982\n",
      "OrderedDict([('weights', tensor([0.6532])), ('bias', tensor([0.3197]))])\n",
      "Epoch: 2660 | Test: 0.009092042222619057 | Test loss: 0.02120320126414299\n",
      "OrderedDict([('weights', tensor([0.6549])), ('bias', tensor([0.3189]))])\n",
      "Epoch: 2670 | Test: 0.008748797699809074 | Test loss: 0.020375842228531837\n",
      "OrderedDict([('weights', tensor([0.6566])), ('bias', tensor([0.3182]))])\n",
      "Epoch: 2680 | Test: 0.008405483327805996 | Test loss: 0.019582802429795265\n",
      "OrderedDict([('weights', tensor([0.6584])), ('bias', tensor([0.3175]))])\n",
      "Epoch: 2690 | Test: 0.008061629720032215 | Test loss: 0.018755454570055008\n",
      "OrderedDict([('weights', tensor([0.6601])), ('bias', tensor([0.3168]))])\n",
      "Epoch: 2700 | Test: 0.007718087639659643 | Test loss: 0.017996734008193016\n",
      "OrderedDict([('weights', tensor([0.6618])), ('bias', tensor([0.3160]))])\n",
      "Epoch: 2710 | Test: 0.007375098764896393 | Test loss: 0.01716936193406582\n",
      "OrderedDict([('weights', tensor([0.6635])), ('bias', tensor([0.3153]))])\n",
      "Epoch: 2720 | Test: 0.007031191140413284 | Test loss: 0.016342002898454666\n",
      "OrderedDict([('weights', tensor([0.6652])), ('bias', tensor([0.3146]))])\n",
      "Epoch: 2730 | Test: 0.006687832064926624 | Test loss: 0.015583282336592674\n",
      "OrderedDict([('weights', tensor([0.6669])), ('bias', tensor([0.3139]))])\n",
      "Epoch: 2740 | Test: 0.006344660185277462 | Test loss: 0.014755910262465477\n",
      "OrderedDict([('weights', tensor([0.6686])), ('bias', tensor([0.3132]))])\n",
      "Epoch: 2750 | Test: 0.006000754423439503 | Test loss: 0.01392855029553175\n",
      "OrderedDict([('weights', tensor([0.6703])), ('bias', tensor([0.3125]))])\n",
      "Epoch: 2760 | Test: 0.005657573696225882 | Test loss: 0.013169854879379272\n",
      "OrderedDict([('weights', tensor([0.6720])), ('bias', tensor([0.3117]))])\n",
      "Epoch: 2770 | Test: 0.005314224399626255 | Test loss: 0.012342482805252075\n",
      "OrderedDict([('weights', tensor([0.6737])), ('bias', tensor([0.3110]))])\n",
      "Epoch: 2780 | Test: 0.004970322363078594 | Test loss: 0.011515122838318348\n",
      "OrderedDict([('weights', tensor([0.6755])), ('bias', tensor([0.3103]))])\n",
      "Epoch: 2790 | Test: 0.004627054091542959 | Test loss: 0.010722095146775246\n",
      "OrderedDict([('weights', tensor([0.6772])), ('bias', tensor([0.3096]))])\n",
      "Epoch: 2800 | Test: 0.004283611662685871 | Test loss: 0.009963381104171276\n",
      "OrderedDict([('weights', tensor([0.6789])), ('bias', tensor([0.3089]))])\n",
      "Epoch: 2810 | Test: 0.003940523602068424 | Test loss: 0.009136015549302101\n",
      "OrderedDict([('weights', tensor([0.6806])), ('bias', tensor([0.3082]))])\n",
      "Epoch: 2820 | Test: 0.003596616443246603 | Test loss: 0.008308643475174904\n",
      "OrderedDict([('weights', tensor([0.6823])), ('bias', tensor([0.3075]))])\n",
      "Epoch: 2830 | Test: 0.0032533607445657253 | Test loss: 0.007549935486167669\n",
      "OrderedDict([('weights', tensor([0.6840])), ('bias', tensor([0.3067]))])\n",
      "Epoch: 2840 | Test: 0.00291008735075593 | Test loss: 0.006722575519233942\n",
      "OrderedDict([('weights', tensor([0.6857])), ('bias', tensor([0.3060]))])\n",
      "Epoch: 2850 | Test: 0.0025661818217486143 | Test loss: 0.0058952150866389275\n",
      "OrderedDict([('weights', tensor([0.6874])), ('bias', tensor([0.3053]))])\n",
      "Epoch: 2860 | Test: 0.002223098184913397 | Test loss: 0.0051364959217607975\n",
      "OrderedDict([('weights', tensor([0.6891])), ('bias', tensor([0.3046]))])\n",
      "Epoch: 2870 | Test: 0.0018796510994434357 | Test loss: 0.004309129901230335\n",
      "OrderedDict([('weights', tensor([0.6908])), ('bias', tensor([0.3039]))])\n",
      "Epoch: 2880 | Test: 0.0015357487136498094 | Test loss: 0.0034817636478692293\n",
      "OrderedDict([('weights', tensor([0.6925])), ('bias', tensor([0.3032]))])\n",
      "Epoch: 2890 | Test: 0.0011928447056561708 | Test loss: 0.0027230442501604557\n",
      "OrderedDict([('weights', tensor([0.6942])), ('bias', tensor([0.3024]))])\n",
      "Epoch: 2900 | Test: 0.0008492119377478957 | Test loss: 0.0018956959247589111\n",
      "OrderedDict([('weights', tensor([0.6960])), ('bias', tensor([0.3017]))])\n",
      "Epoch: 2910 | Test: 0.0005059480899944901 | Test loss: 0.0011026561260223389\n",
      "OrderedDict([('weights', tensor([0.6977])), ('bias', tensor([0.3010]))])\n",
      "Epoch: 2920 | Test: 0.00016672089986968786 | Test loss: 0.00048761963262222707\n",
      "OrderedDict([('weights', tensor([0.6993])), ('bias', tensor([0.3001]))])\n",
      "Epoch: 2930 | Test: 0.0004957623896189034 | Test loss: 0.0010276675457134843\n",
      "OrderedDict([('weights', tensor([0.6993])), ('bias', tensor([0.2996]))])\n",
      "Epoch: 2940 | Test: 0.0004957623896189034 | Test loss: 0.0010276675457134843\n",
      "OrderedDict([('weights', tensor([0.6993])), ('bias', tensor([0.2996]))])\n",
      "Epoch: 2950 | Test: 0.0004957623896189034 | Test loss: 0.0010276675457134843\n",
      "OrderedDict([('weights', tensor([0.6993])), ('bias', tensor([0.2996]))])\n",
      "Epoch: 2960 | Test: 0.0004957623896189034 | Test loss: 0.0010276675457134843\n",
      "OrderedDict([('weights', tensor([0.6993])), ('bias', tensor([0.2996]))])\n",
      "Epoch: 2970 | Test: 0.0004957623896189034 | Test loss: 0.0010276675457134843\n",
      "OrderedDict([('weights', tensor([0.6993])), ('bias', tensor([0.2996]))])\n",
      "Epoch: 2980 | Test: 0.0004957623896189034 | Test loss: 0.0010276675457134843\n",
      "OrderedDict([('weights', tensor([0.6993])), ('bias', tensor([0.2996]))])\n",
      "Epoch: 2990 | Test: 0.0004957623896189034 | Test loss: 0.0010276675457134843\n",
      "OrderedDict([('weights', tensor([0.6993])), ('bias', tensor([0.2996]))])\n"
     ]
    }
   ],
   "source": [
    "torch.manual_seed(75)\n",
    "\n",
    "# epoch is the amount of loops through the data\n",
    "epochs = 3000\n",
    "\n",
    "# Tracking diffrent vallues to compare diffrent experements\n",
    "epoch_count = []\n",
    "loss_values = []\n",
    "test_loss_values = []\n",
    "\n",
    "# 0. Loop through the data\n",
    "for epoch in range(epochs):\n",
    "    # Set the model to training mode, this sets all parameters that require gradients to True\n",
    "    model_0.train()\n",
    "\n",
    "    # 1. Forward pass\n",
    "    y_pred = model_0(x_train)\n",
    "\n",
    "    # 2. Calculate loss\n",
    "    loss = loss_fn(y_pred, y_train)\n",
    "\n",
    "    # 3. Optimizer zero grad\n",
    "    optemizer.zero_grad()\n",
    "\n",
    "    # 4. Loss backward\n",
    "    loss.backward()\n",
    "\n",
    "    # 5. Step the optimizer\n",
    "    optemizer.step()\n",
    "\n",
    "    ### Testing\n",
    "    # turns off gsettings not needed for testing\n",
    "    model_0.eval()\n",
    "\n",
    "    # turns off gradient tracking\n",
    "    with torch.inference_mode():\n",
    "        # 1. Do forward pass\n",
    "        test_pred = model_0(x_test)\n",
    "\n",
    "        # 2. Calculate the loss\n",
    "        test_loss = loss_fn(test_pred, y_test)\n",
    "\n",
    "        # 3.\n",
    "\n",
    "    if epoch % 10 == 0:\n",
    "        # Loading meta data\n",
    "        epoch_count.append(epoch)\n",
    "        loss_values.append(loss)\n",
    "        test_loss_values.append(test_loss)\n",
    "\n",
    "        print(f\"Epoch: {epoch} | Test: {loss} | Test loss: {test_loss}\")\n",
    "        print(model_0.state_dict())"
   ],
   "metadata": {
    "collapsed": false
   }
  },
  {
   "cell_type": "code",
   "execution_count": 47,
   "outputs": [
    {
     "data": {
      "text/plain": "<Figure size 1000x700 with 1 Axes>",
      "image/png": "[encoded data removed]"
     },
     "metadata": {},
     "output_type": "display_data"
    }
   ],
   "source": [
    "plot_predictions(predictions=y_preds)"
   ],
   "metadata": {
    "collapsed": false
   }
  },
  {
   "cell_type": "code",
   "execution_count": 48,
   "outputs": [
    {
     "data": {
      "text/plain": "<Figure size 1000x700 with 1 Axes>",
      "image/png": "[encoded data removed]"
     },
     "metadata": {},
     "output_type": "display_data"
    }
   ],
   "source": [
    "with torch.inference_mode():\n",
    "    y_preds_news = model_0(x_test)\n",
    "\n",
    " \n",
    "plot_predictions(predictions=y_preds_news)"
   ],
   "metadata": {
    "collapsed": false
   }
  },
  {
   "cell_type": "markdown",
   "source": [
    "### Plotting meta data from training loop"
   ],
   "metadata": {
    "collapsed": false
   }
  },
  {
   "cell_type": "code",
   "execution_count": 49,
   "outputs": [
    {
     "data": {
      "text/plain": "<matplotlib.legend.Legend at 0x1a440340b50>"
     },
     "execution_count": 49,
     "metadata": {},
     "output_type": "execute_result"
    },
    {
     "data": {
      "text/plain": "<Figure size 640x480 with 1 Axes>",
      "image/png": "[encoded data removed]"
     },
     "metadata": {},
     "output_type": "display_data"
    }
   ],
   "source": [
    "# Plot the loss curves\n",
    "loss_values = np.array(torch.tensor(loss_values).numpy())\n",
    "\n",
    "plt.plot(epoch_count, loss_values, label=\"Train loss\")\n",
    "plt.plot(epoch_count, test_loss_values, label=\"Test loss\")\n",
    "plt.title(\"Training and test loss curves\")\n",
    "plt.ylabel(\"Loss\")\n",
    "plt.xlabel(\"Epochs\")\n",
    "plt.legend()"
   ],
   "metadata": {
    "collapsed": false
   }
  },
  {
   "cell_type": "markdown",
   "source": [
    "## 4. Saving a model in PyTorch\n",
    "\n",
    "There are three main methodes used when saving and loading models in PyTorch\n",
    "\n",
    "1. **`torch.save()`** - Save a PyTorch object in Pickle format\n",
    "2. **`torch.load()`** - Load a saved PyTorch model\n",
    "3. **`torch.nn.Module.load_state_dict()`** - This allows to load a model's saved state dictionary\n",
    "\n",
    "The previously crated model will be saved in the example below\n",
    "\n",
    "### 1. Create models directory"
   ],
   "metadata": {
    "collapsed": false
   }
  },
  {
   "cell_type": "code",
   "execution_count": 50,
   "outputs": [],
   "source": [
    "from pathlib import Path\n",
    "\n",
    "MODEL_PATH = Path(\"models\")\n",
    "MODEL_PATH.mkdir(parents=True, exist_ok=True)"
   ],
   "metadata": {
    "collapsed": false
   }
  },
  {
   "cell_type": "markdown",
   "source": [
    "### 2. Create a model save path"
   ],
   "metadata": {
    "collapsed": false
   }
  },
  {
   "cell_type": "code",
   "execution_count": 51,
   "outputs": [],
   "source": [
    "MODEL_NAME = \"01_pytorch_workflow_model_0.pth\"\n",
    "MODEL_SAVE_PATH = MODEL_PATH / MODEL_NAME"
   ],
   "metadata": {
    "collapsed": false
   }
  },
  {
   "cell_type": "markdown",
   "source": [
    "### 3. Save the model state-dict"
   ],
   "metadata": {
    "collapsed": false
   }
  },
  {
   "cell_type": "code",
   "execution_count": 52,
   "outputs": [
    {
     "name": "stdout",
     "output_type": "stream",
     "text": [
      "Saving model to: models\\01_pytorch_workflow_model_0.pth\n"
     ]
    }
   ],
   "source": [
    "print(f'Saving model to: {MODEL_SAVE_PATH}')\n",
    "torch.save(obj=model_0.state_dict(), f=MODEL_SAVE_PATH)"
   ],
   "metadata": {
    "collapsed": false
   }
  },
  {
   "cell_type": "code",
   "execution_count": 53,
   "outputs": [
    {
     "name": "stdout",
     "output_type": "stream",
     "text": [
      " Volume in drive C is OSDisk\n",
      " Volume Serial Number is 4818-509D\n",
      "\n",
      " Directory of C:\\Users\\msaey\\DataspellProjects\\Python_handbooks\\Libraries\\PyTorch\n",
      "\n",
      "\n",
      " Directory of C:\\Users\\msaey\\DataspellProjects\\Python_handbooks\\Libraries\\PyTorch\\models\n",
      "\n",
      "03/04/2023  20:05    <DIR>          .\n",
      "03/04/2023  20:05    <DIR>          ..\n",
      "04/04/2023  10:25             1.063 01_pytorch_workflow_model_0.pth\n",
      "               1 File(s)          1.063 bytes\n",
      "               2 Dir(s)  130.582.855.680 bytes free\n"
     ]
    },
    {
     "name": "stderr",
     "output_type": "stream",
     "text": [
      "File Not Found\n"
     ]
    }
   ],
   "source": [
    "!dir -l models"
   ],
   "metadata": {
    "collapsed": false
   }
  },
  {
   "cell_type": "markdown",
   "source": [
    "## 5. Load a  PyTorch model\n",
    "\n",
    "In the previous part we loaded the `state_dict()` of our model as a file. now we will create a new instance of our model class and load the saved `state_dict()` into it"
   ],
   "metadata": {
    "collapsed": false
   }
  },
  {
   "cell_type": "code",
   "execution_count": 54,
   "outputs": [
    {
     "data": {
      "text/plain": "OrderedDict([('weights', tensor([0.6996])), ('bias', tensor([0.3006]))])"
     },
     "execution_count": 54,
     "metadata": {},
     "output_type": "execute_result"
    }
   ],
   "source": [
    "model_0.state_dict()"
   ],
   "metadata": {
    "collapsed": false
   }
  },
  {
   "cell_type": "code",
   "execution_count": 56,
   "outputs": [
    {
     "data": {
      "text/plain": "OrderedDict([('weights', tensor([0.6996])), ('bias', tensor([0.3006]))])"
     },
     "execution_count": 56,
     "metadata": {},
     "output_type": "execute_result"
    }
   ],
   "source": [
    "loaded_model_0 = LinearRegressionModel()\n",
    "\n",
    "loaded_model_0.load_state_dict(torch.load(MODEL_SAVE_PATH))\n",
    "\n",
    "loaded_model_0.state_dict()"
   ],
   "metadata": {
    "collapsed": false
   }
  },
  {
   "cell_type": "markdown",
   "source": [
    "### Use the loaded model\n",
    "\n",
    "Now we have loaded in the `state_dict` we can use it to generate some predictions, and lets compare these predictions to the original"
   ],
   "metadata": {
    "collapsed": false
   }
  },
  {
   "cell_type": "code",
   "execution_count": 57,
   "outputs": [
    {
     "data": {
      "text/plain": "tensor([[True],\n        [True],\n        [True],\n        [True],\n        [True],\n        [True],\n        [True],\n        [True],\n        [True],\n        [True]])"
     },
     "execution_count": 57,
     "metadata": {},
     "output_type": "execute_result"
    }
   ],
   "source": [
    "loaded_model_0.eval()\n",
    "with torch.inference_mode():\n",
    "    loaded_model_preds = loaded_model_0(x_test)\n",
    "\n",
    "    y_preds = model_0(x_test)\n",
    "\n",
    "y_preds == loaded_model_preds"
   ],
   "metadata": {
    "collapsed": false
   }
  },
  {
   "cell_type": "markdown",
   "source": [
    "## 6. Putting it all together\n",
    "\n",
    "Let's go through all the above defined steps in one place. The first steps are to prepare are enviroment.\n",
    "\n",
    "### 6.1 Set-up\n",
    "\n",
    "1. imports\n",
    "2. device-agnostic code (use GPU when available)"
   ],
   "metadata": {
    "collapsed": false
   }
  },
  {
   "cell_type": "code",
   "execution_count": 2,
   "outputs": [
    {
     "data": {
      "text/plain": "'2.0.0+cu117'"
     },
     "execution_count": 2,
     "metadata": {},
     "output_type": "execute_result"
    }
   ],
   "source": [
    "import torch\n",
    "from torch import nn\n",
    "import matplotlib.pyplot as plt\n",
    "\n",
    "torch.__version__"
   ],
   "metadata": {
    "collapsed": false
   }
  },
  {
   "cell_type": "code",
   "execution_count": 3,
   "outputs": [
    {
     "name": "stdout",
     "output_type": "stream",
     "text": [
      "Using device: cuda\n"
     ]
    }
   ],
   "source": [
    "device = 'cuda' if torch.cuda.is_available() else 'cpu'\n",
    "print(f'Using device: {device}')"
   ],
   "metadata": {
    "collapsed": false
   }
  },
  {
   "cell_type": "markdown",
   "source": [
    "### 6.2 Data\n",
    "\n",
    "lets recreate the previus test data, using the linear regression formula of y = wheight * x + bias"
   ],
   "metadata": {
    "collapsed": false
   }
  },
  {
   "cell_type": "code",
   "execution_count": 60,
   "outputs": [
    {
     "data": {
      "text/plain": "(tensor([[0.0000],\n         [0.0200],\n         [0.0400],\n         [0.0600],\n         [0.0800],\n         [0.1000],\n         [0.1200],\n         [0.1400],\n         [0.1600],\n         [0.1800]]),\n tensor([[0.3000],\n         [0.3140],\n         [0.3280],\n         [0.3420],\n         [0.3560],\n         [0.3700],\n         [0.3840],\n         [0.3980],\n         [0.4120],\n         [0.4260]]))"
     },
     "execution_count": 60,
     "metadata": {},
     "output_type": "execute_result"
    }
   ],
   "source": [
    "weight = 0.7\n",
    "bias = 0.3\n",
    "\n",
    "start = 0\n",
    "end = 1\n",
    "step = 0.02\n",
    "\n",
    "x = torch.arange(start, end, step).unsqueeze(dim=1)\n",
    "y = weight * x + bias\n",
    "\n",
    "x[:10], y[:10]"
   ],
   "metadata": {
    "collapsed": false
   }
  },
  {
   "cell_type": "markdown",
   "source": [
    "### 6.3 Split data"
   ],
   "metadata": {
    "collapsed": false
   }
  },
  {
   "cell_type": "code",
   "execution_count": 4,
   "outputs": [
    {
     "ename": "NameError",
     "evalue": "name 'x' is not defined",
     "output_type": "error",
     "traceback": [
      "\u001B[0;31m---------------------------------------------------------------------------\u001B[0m",
      "\u001B[0;31mNameError\u001B[0m                                 Traceback (most recent call last)",
      "Cell \u001B[0;32mIn[4], line 1\u001B[0m\n\u001B[0;32m----> 1\u001B[0m train_split \u001B[38;5;241m=\u001B[39m \u001B[38;5;28mint\u001B[39m(\u001B[38;5;241m0.8\u001B[39m \u001B[38;5;241m*\u001B[39m \u001B[38;5;28mlen\u001B[39m(\u001B[43mx\u001B[49m))\n\u001B[1;32m      2\u001B[0m x_train, y_train \u001B[38;5;241m=\u001B[39m x[:train_split], y[:train_split]\n\u001B[1;32m      3\u001B[0m x_test, y_test \u001B[38;5;241m=\u001B[39m x[train_split:], y[train_split:]\n",
      "\u001B[0;31mNameError\u001B[0m: name 'x' is not defined"
     ]
    }
   ],
   "source": [
    "train_split = int(0.8 * len(x))\n",
    "x_train, y_train = x[:train_split], y[:train_split]\n",
    "x_test, y_test = x[train_split:], y[train_split:]\n",
    "\n",
    "len(x_train), len(y_train), len(x_test), len(y_test)"
   ],
   "metadata": {
    "collapsed": false
   }
  },
  {
   "cell_type": "markdown",
   "source": [
    "### 6.4 Plot data"
   ],
   "metadata": {
    "collapsed": false
   }
  },
  {
   "cell_type": "code",
   "execution_count": 62,
   "outputs": [
    {
     "data": {
      "text/plain": "<Figure size 1000x700 with 1 Axes>",
      "image/png": "[encoded data removed]"
     },
     "metadata": {},
     "output_type": "display_data"
    }
   ],
   "source": [
    "plot_predictions(x_train, y_train, x_test, y_test)"
   ],
   "metadata": {
    "collapsed": false
   }
  }
 ],
 "metadata": {
  "kernelspec": {
   "display_name": "Python 3",
   "language": "python",
   "name": "python3"
  },
  "language_info": {
   "codemirror_mode": {
    "name": "ipython",
    "version": 2
   },
   "file_extension": ".py",
   "mimetype": "text/x-python",
   "name": "python",
   "nbconvert_exporter": "python",
   "pygments_lexer": "ipython2",
   "version": "2.7.6"
  }
 },
 "nbformat": 4,
 "nbformat_minor": 0
}
